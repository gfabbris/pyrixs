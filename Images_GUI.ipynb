{
 "cells": [
  {
   "cell_type": "code",
   "execution_count": 1,
   "metadata": {
    "collapsed": false
   },
   "outputs": [],
   "source": [
    "import numpy as np\n",
    "import pandas as pd\n",
    "\n",
    "import os, glob\n",
    "\n",
    "from collections import OrderedDict\n",
    "\n",
    "import matplotlib\n",
    "import matplotlib.pyplot as plt\n",
    "\n",
    "import ipywidgets as widgets\n",
    "from traitlets import dlink\n",
    "from IPython.display import display\n",
    "\n",
    "from RIXS_functions import *\n",
    "\n",
    "%matplotlib nbagg"
   ]
  },
  {
   "cell_type": "code",
   "execution_count": 2,
   "metadata": {
    "collapsed": false
   },
   "outputs": [
    {
     "data": {
      "text/html": [
       "<script>\n",
       "code_show=true; \n",
       "function code_toggle() {\n",
       " if (code_show){\n",
       " $('div.input').hide();\n",
       " } else {\n",
       " $('div.input').show();\n",
       " }\n",
       " code_show = !code_show\n",
       "} \n",
       "$( document ).ready(code_toggle);\n",
       "</script>\n",
       "<form action=\"javascript:code_toggle()\"><input type=\"submit\" value=\"Click here to show/hide code.\"></form>"
      ],
      "text/plain": [
       "<IPython.core.display.HTML object>"
      ]
     },
     "execution_count": 2,
     "metadata": {},
     "output_type": "execute_result"
    }
   ],
   "source": [
    "from IPython.display import HTML\n",
    "\n",
    "HTML('''<script>\n",
    "code_show=true; \n",
    "function code_toggle() {\n",
    " if (code_show){\n",
    " $('div.input').hide();\n",
    " } else {\n",
    " $('div.input').show();\n",
    " }\n",
    " code_show = !code_show\n",
    "} \n",
    "$( document ).ready(code_toggle);\n",
    "</script>\n",
    "<form action=\"javascript:code_toggle()\"><input type=\"submit\" value=\"Click here to show/hide code.\"></form>''')\n"
   ]
  },
  {
   "cell_type": "code",
   "execution_count": 3,
   "metadata": {
    "collapsed": false
   },
   "outputs": [],
   "source": [
    "######################################\n",
    "# Widgets\n",
    "######################################\n",
    "\n",
    "# Folder to search images for\n",
    "images_folder_widget = widgets.Text(\n",
    "    value='test_images/*.h5',  \n",
    "    description='Search path',\n",
    "    width='500px',\n",
    ")\n",
    "\n",
    "# Display and pick which spectra to plot\n",
    "select_images_widget = widgets.Select(\n",
    "            options=get_all_file_names(images_folder_widget.value),\n",
    "            description='Select images'\n",
    "            )\n",
    "\n",
    "display_image_button = widgets.Button(\n",
    "    description='Plot',\n",
    ")\n",
    "\n",
    "curvature_widget = widgets.Text(\n",
    "    value=curvature_to_string(Image['curvature']),  \n",
    "    width='500px',\n",
    ")"
   ]
  },
  {
   "cell_type": "code",
   "execution_count": 4,
   "metadata": {
    "collapsed": false
   },
   "outputs": [],
   "source": [
    "###########################\n",
    "## Widget logic\n",
    "###########################\n",
    "def update_select_images_widget(change):\n",
    "    \"\"\"Refresh images for selection\"\"\"\n",
    "    select_images_widget.options = get_all_file_names(images_folder_widget.value)\n",
    "    \n",
    "images_folder_widget.on_submit(update_select_images_widget)\n",
    "\n",
    "def wrap_display_image(change):\n",
    "    load_image(images_folder_widget.value,\n",
    "               select_images_widget.value)\n",
    "    plot_image(ax1, alpha=0.5, s=1)\n",
    "    plot_curvature(ax1)\n",
    "\n",
    "display_image_button.on_click(wrap_display_image)\n",
    "\n",
    "def wrap_curvature(change):\n",
    "    Image['curvature'] = string_to_curvature(curvature_widget.value)\n",
    "\n",
    "curvature_widget.on_submit(wrap_curvature)"
   ]
  },
  {
   "cell_type": "markdown",
   "metadata": {},
   "source": [
    "## List and choose image"
   ]
  },
  {
   "cell_type": "code",
   "execution_count": 5,
   "metadata": {
    "collapsed": false
   },
   "outputs": [],
   "source": [
    "display(images_folder_widget, select_images_widget)"
   ]
  },
  {
   "cell_type": "markdown",
   "metadata": {},
   "source": [
    "## Plot image"
   ]
  },
  {
   "cell_type": "code",
   "execution_count": 6,
   "metadata": {
    "collapsed": false,
    "scrolled": true
   },
   "outputs": [
    {
     "data": {
      "application/javascript": [
       "/* Put everything inside the global mpl namespace */\n",
       "window.mpl = {};\n",
       "\n",
       "mpl.get_websocket_type = function() {\n",
       "    if (typeof(WebSocket) !== 'undefined') {\n",
       "        return WebSocket;\n",
       "    } else if (typeof(MozWebSocket) !== 'undefined') {\n",
       "        return MozWebSocket;\n",
       "    } else {\n",
       "        alert('Your browser does not have WebSocket support.' +\n",
       "              'Please try Chrome, Safari or Firefox ≥ 6. ' +\n",
       "              'Firefox 4 and 5 are also supported but you ' +\n",
       "              'have to enable WebSockets in about:config.');\n",
       "    };\n",
       "}\n",
       "\n",
       "mpl.figure = function(figure_id, websocket, ondownload, parent_element) {\n",
       "    this.id = figure_id;\n",
       "\n",
       "    this.ws = websocket;\n",
       "\n",
       "    this.supports_binary = (this.ws.binaryType != undefined);\n",
       "\n",
       "    if (!this.supports_binary) {\n",
       "        var warnings = document.getElementById(\"mpl-warnings\");\n",
       "        if (warnings) {\n",
       "            warnings.style.display = 'block';\n",
       "            warnings.textContent = (\n",
       "                \"This browser does not support binary websocket messages. \" +\n",
       "                    \"Performance may be slow.\");\n",
       "        }\n",
       "    }\n",
       "\n",
       "    this.imageObj = new Image();\n",
       "\n",
       "    this.context = undefined;\n",
       "    this.message = undefined;\n",
       "    this.canvas = undefined;\n",
       "    this.rubberband_canvas = undefined;\n",
       "    this.rubberband_context = undefined;\n",
       "    this.format_dropdown = undefined;\n",
       "\n",
       "    this.image_mode = 'full';\n",
       "\n",
       "    this.root = $('<div/>');\n",
       "    this._root_extra_style(this.root)\n",
       "    this.root.attr('style', 'display: inline-block');\n",
       "\n",
       "    $(parent_element).append(this.root);\n",
       "\n",
       "    this._init_header(this);\n",
       "    this._init_canvas(this);\n",
       "    this._init_toolbar(this);\n",
       "\n",
       "    var fig = this;\n",
       "\n",
       "    this.waiting = false;\n",
       "\n",
       "    this.ws.onopen =  function () {\n",
       "            fig.send_message(\"supports_binary\", {value: fig.supports_binary});\n",
       "            fig.send_message(\"send_image_mode\", {});\n",
       "            fig.send_message(\"refresh\", {});\n",
       "        }\n",
       "\n",
       "    this.imageObj.onload = function() {\n",
       "            if (fig.image_mode == 'full') {\n",
       "                // Full images could contain transparency (where diff images\n",
       "                // almost always do), so we need to clear the canvas so that\n",
       "                // there is no ghosting.\n",
       "                fig.context.clearRect(0, 0, fig.canvas.width, fig.canvas.height);\n",
       "            }\n",
       "            fig.context.drawImage(fig.imageObj, 0, 0);\n",
       "        };\n",
       "\n",
       "    this.imageObj.onunload = function() {\n",
       "        this.ws.close();\n",
       "    }\n",
       "\n",
       "    this.ws.onmessage = this._make_on_message_function(this);\n",
       "\n",
       "    this.ondownload = ondownload;\n",
       "}\n",
       "\n",
       "mpl.figure.prototype._init_header = function() {\n",
       "    var titlebar = $(\n",
       "        '<div class=\"ui-dialog-titlebar ui-widget-header ui-corner-all ' +\n",
       "        'ui-helper-clearfix\"/>');\n",
       "    var titletext = $(\n",
       "        '<div class=\"ui-dialog-title\" style=\"width: 100%; ' +\n",
       "        'text-align: center; padding: 3px;\"/>');\n",
       "    titlebar.append(titletext)\n",
       "    this.root.append(titlebar);\n",
       "    this.header = titletext[0];\n",
       "}\n",
       "\n",
       "\n",
       "\n",
       "mpl.figure.prototype._canvas_extra_style = function(canvas_div) {\n",
       "\n",
       "}\n",
       "\n",
       "\n",
       "mpl.figure.prototype._root_extra_style = function(canvas_div) {\n",
       "\n",
       "}\n",
       "\n",
       "mpl.figure.prototype._init_canvas = function() {\n",
       "    var fig = this;\n",
       "\n",
       "    var canvas_div = $('<div/>');\n",
       "\n",
       "    canvas_div.attr('style', 'position: relative; clear: both; outline: 0');\n",
       "\n",
       "    function canvas_keyboard_event(event) {\n",
       "        return fig.key_event(event, event['data']);\n",
       "    }\n",
       "\n",
       "    canvas_div.keydown('key_press', canvas_keyboard_event);\n",
       "    canvas_div.keyup('key_release', canvas_keyboard_event);\n",
       "    this.canvas_div = canvas_div\n",
       "    this._canvas_extra_style(canvas_div)\n",
       "    this.root.append(canvas_div);\n",
       "\n",
       "    var canvas = $('<canvas/>');\n",
       "    canvas.addClass('mpl-canvas');\n",
       "    canvas.attr('style', \"left: 0; top: 0; z-index: 0; outline: 0\")\n",
       "\n",
       "    this.canvas = canvas[0];\n",
       "    this.context = canvas[0].getContext(\"2d\");\n",
       "\n",
       "    var rubberband = $('<canvas/>');\n",
       "    rubberband.attr('style', \"position: absolute; left: 0; top: 0; z-index: 1;\")\n",
       "\n",
       "    var pass_mouse_events = true;\n",
       "\n",
       "    canvas_div.resizable({\n",
       "        start: function(event, ui) {\n",
       "            pass_mouse_events = false;\n",
       "        },\n",
       "        resize: function(event, ui) {\n",
       "            fig.request_resize(ui.size.width, ui.size.height);\n",
       "        },\n",
       "        stop: function(event, ui) {\n",
       "            pass_mouse_events = true;\n",
       "            fig.request_resize(ui.size.width, ui.size.height);\n",
       "        },\n",
       "    });\n",
       "\n",
       "    function mouse_event_fn(event) {\n",
       "        if (pass_mouse_events)\n",
       "            return fig.mouse_event(event, event['data']);\n",
       "    }\n",
       "\n",
       "    rubberband.mousedown('button_press', mouse_event_fn);\n",
       "    rubberband.mouseup('button_release', mouse_event_fn);\n",
       "    // Throttle sequential mouse events to 1 every 20ms.\n",
       "    rubberband.mousemove('motion_notify', mouse_event_fn);\n",
       "\n",
       "    rubberband.mouseenter('figure_enter', mouse_event_fn);\n",
       "    rubberband.mouseleave('figure_leave', mouse_event_fn);\n",
       "\n",
       "    canvas_div.on(\"wheel\", function (event) {\n",
       "        event = event.originalEvent;\n",
       "        event['data'] = 'scroll'\n",
       "        if (event.deltaY < 0) {\n",
       "            event.step = 1;\n",
       "        } else {\n",
       "            event.step = -1;\n",
       "        }\n",
       "        mouse_event_fn(event);\n",
       "    });\n",
       "\n",
       "    canvas_div.append(canvas);\n",
       "    canvas_div.append(rubberband);\n",
       "\n",
       "    this.rubberband = rubberband;\n",
       "    this.rubberband_canvas = rubberband[0];\n",
       "    this.rubberband_context = rubberband[0].getContext(\"2d\");\n",
       "    this.rubberband_context.strokeStyle = \"#000000\";\n",
       "\n",
       "    this._resize_canvas = function(width, height) {\n",
       "        // Keep the size of the canvas, canvas container, and rubber band\n",
       "        // canvas in synch.\n",
       "        canvas_div.css('width', width)\n",
       "        canvas_div.css('height', height)\n",
       "\n",
       "        canvas.attr('width', width);\n",
       "        canvas.attr('height', height);\n",
       "\n",
       "        rubberband.attr('width', width);\n",
       "        rubberband.attr('height', height);\n",
       "    }\n",
       "\n",
       "    // Set the figure to an initial 600x600px, this will subsequently be updated\n",
       "    // upon first draw.\n",
       "    this._resize_canvas(600, 600);\n",
       "\n",
       "    // Disable right mouse context menu.\n",
       "    $(this.rubberband_canvas).bind(\"contextmenu\",function(e){\n",
       "        return false;\n",
       "    });\n",
       "\n",
       "    function set_focus () {\n",
       "        canvas.focus();\n",
       "        canvas_div.focus();\n",
       "    }\n",
       "\n",
       "    window.setTimeout(set_focus, 100);\n",
       "}\n",
       "\n",
       "mpl.figure.prototype._init_toolbar = function() {\n",
       "    var fig = this;\n",
       "\n",
       "    var nav_element = $('<div/>')\n",
       "    nav_element.attr('style', 'width: 100%');\n",
       "    this.root.append(nav_element);\n",
       "\n",
       "    // Define a callback function for later on.\n",
       "    function toolbar_event(event) {\n",
       "        return fig.toolbar_button_onclick(event['data']);\n",
       "    }\n",
       "    function toolbar_mouse_event(event) {\n",
       "        return fig.toolbar_button_onmouseover(event['data']);\n",
       "    }\n",
       "\n",
       "    for(var toolbar_ind in mpl.toolbar_items) {\n",
       "        var name = mpl.toolbar_items[toolbar_ind][0];\n",
       "        var tooltip = mpl.toolbar_items[toolbar_ind][1];\n",
       "        var image = mpl.toolbar_items[toolbar_ind][2];\n",
       "        var method_name = mpl.toolbar_items[toolbar_ind][3];\n",
       "\n",
       "        if (!name) {\n",
       "            // put a spacer in here.\n",
       "            continue;\n",
       "        }\n",
       "        var button = $('<button/>');\n",
       "        button.addClass('ui-button ui-widget ui-state-default ui-corner-all ' +\n",
       "                        'ui-button-icon-only');\n",
       "        button.attr('role', 'button');\n",
       "        button.attr('aria-disabled', 'false');\n",
       "        button.click(method_name, toolbar_event);\n",
       "        button.mouseover(tooltip, toolbar_mouse_event);\n",
       "\n",
       "        var icon_img = $('<span/>');\n",
       "        icon_img.addClass('ui-button-icon-primary ui-icon');\n",
       "        icon_img.addClass(image);\n",
       "        icon_img.addClass('ui-corner-all');\n",
       "\n",
       "        var tooltip_span = $('<span/>');\n",
       "        tooltip_span.addClass('ui-button-text');\n",
       "        tooltip_span.html(tooltip);\n",
       "\n",
       "        button.append(icon_img);\n",
       "        button.append(tooltip_span);\n",
       "\n",
       "        nav_element.append(button);\n",
       "    }\n",
       "\n",
       "    var fmt_picker_span = $('<span/>');\n",
       "\n",
       "    var fmt_picker = $('<select/>');\n",
       "    fmt_picker.addClass('mpl-toolbar-option ui-widget ui-widget-content');\n",
       "    fmt_picker_span.append(fmt_picker);\n",
       "    nav_element.append(fmt_picker_span);\n",
       "    this.format_dropdown = fmt_picker[0];\n",
       "\n",
       "    for (var ind in mpl.extensions) {\n",
       "        var fmt = mpl.extensions[ind];\n",
       "        var option = $(\n",
       "            '<option/>', {selected: fmt === mpl.default_extension}).html(fmt);\n",
       "        fmt_picker.append(option)\n",
       "    }\n",
       "\n",
       "    // Add hover states to the ui-buttons\n",
       "    $( \".ui-button\" ).hover(\n",
       "        function() { $(this).addClass(\"ui-state-hover\");},\n",
       "        function() { $(this).removeClass(\"ui-state-hover\");}\n",
       "    );\n",
       "\n",
       "    var status_bar = $('<span class=\"mpl-message\"/>');\n",
       "    nav_element.append(status_bar);\n",
       "    this.message = status_bar[0];\n",
       "}\n",
       "\n",
       "mpl.figure.prototype.request_resize = function(x_pixels, y_pixels) {\n",
       "    // Request matplotlib to resize the figure. Matplotlib will then trigger a resize in the client,\n",
       "    // which will in turn request a refresh of the image.\n",
       "    this.send_message('resize', {'width': x_pixels, 'height': y_pixels});\n",
       "}\n",
       "\n",
       "mpl.figure.prototype.send_message = function(type, properties) {\n",
       "    properties['type'] = type;\n",
       "    properties['figure_id'] = this.id;\n",
       "    this.ws.send(JSON.stringify(properties));\n",
       "}\n",
       "\n",
       "mpl.figure.prototype.send_draw_message = function() {\n",
       "    if (!this.waiting) {\n",
       "        this.waiting = true;\n",
       "        this.ws.send(JSON.stringify({type: \"draw\", figure_id: this.id}));\n",
       "    }\n",
       "}\n",
       "\n",
       "\n",
       "mpl.figure.prototype.handle_save = function(fig, msg) {\n",
       "    var format_dropdown = fig.format_dropdown;\n",
       "    var format = format_dropdown.options[format_dropdown.selectedIndex].value;\n",
       "    fig.ondownload(fig, format);\n",
       "}\n",
       "\n",
       "\n",
       "mpl.figure.prototype.handle_resize = function(fig, msg) {\n",
       "    var size = msg['size'];\n",
       "    if (size[0] != fig.canvas.width || size[1] != fig.canvas.height) {\n",
       "        fig._resize_canvas(size[0], size[1]);\n",
       "        fig.send_message(\"refresh\", {});\n",
       "    };\n",
       "}\n",
       "\n",
       "mpl.figure.prototype.handle_rubberband = function(fig, msg) {\n",
       "    var x0 = msg['x0'];\n",
       "    var y0 = fig.canvas.height - msg['y0'];\n",
       "    var x1 = msg['x1'];\n",
       "    var y1 = fig.canvas.height - msg['y1'];\n",
       "    x0 = Math.floor(x0) + 0.5;\n",
       "    y0 = Math.floor(y0) + 0.5;\n",
       "    x1 = Math.floor(x1) + 0.5;\n",
       "    y1 = Math.floor(y1) + 0.5;\n",
       "    var min_x = Math.min(x0, x1);\n",
       "    var min_y = Math.min(y0, y1);\n",
       "    var width = Math.abs(x1 - x0);\n",
       "    var height = Math.abs(y1 - y0);\n",
       "\n",
       "    fig.rubberband_context.clearRect(\n",
       "        0, 0, fig.canvas.width, fig.canvas.height);\n",
       "\n",
       "    fig.rubberband_context.strokeRect(min_x, min_y, width, height);\n",
       "}\n",
       "\n",
       "mpl.figure.prototype.handle_figure_label = function(fig, msg) {\n",
       "    // Updates the figure title.\n",
       "    fig.header.textContent = msg['label'];\n",
       "}\n",
       "\n",
       "mpl.figure.prototype.handle_cursor = function(fig, msg) {\n",
       "    var cursor = msg['cursor'];\n",
       "    switch(cursor)\n",
       "    {\n",
       "    case 0:\n",
       "        cursor = 'pointer';\n",
       "        break;\n",
       "    case 1:\n",
       "        cursor = 'default';\n",
       "        break;\n",
       "    case 2:\n",
       "        cursor = 'crosshair';\n",
       "        break;\n",
       "    case 3:\n",
       "        cursor = 'move';\n",
       "        break;\n",
       "    }\n",
       "    fig.rubberband_canvas.style.cursor = cursor;\n",
       "}\n",
       "\n",
       "mpl.figure.prototype.handle_message = function(fig, msg) {\n",
       "    fig.message.textContent = msg['message'];\n",
       "}\n",
       "\n",
       "mpl.figure.prototype.handle_draw = function(fig, msg) {\n",
       "    // Request the server to send over a new figure.\n",
       "    fig.send_draw_message();\n",
       "}\n",
       "\n",
       "mpl.figure.prototype.handle_image_mode = function(fig, msg) {\n",
       "    fig.image_mode = msg['mode'];\n",
       "}\n",
       "\n",
       "mpl.figure.prototype.updated_canvas_event = function() {\n",
       "    // Called whenever the canvas gets updated.\n",
       "    this.send_message(\"ack\", {});\n",
       "}\n",
       "\n",
       "// A function to construct a web socket function for onmessage handling.\n",
       "// Called in the figure constructor.\n",
       "mpl.figure.prototype._make_on_message_function = function(fig) {\n",
       "    return function socket_on_message(evt) {\n",
       "        if (evt.data instanceof Blob) {\n",
       "            /* FIXME: We get \"Resource interpreted as Image but\n",
       "             * transferred with MIME type text/plain:\" errors on\n",
       "             * Chrome.  But how to set the MIME type?  It doesn't seem\n",
       "             * to be part of the websocket stream */\n",
       "            evt.data.type = \"image/png\";\n",
       "\n",
       "            /* Free the memory for the previous frames */\n",
       "            if (fig.imageObj.src) {\n",
       "                (window.URL || window.webkitURL).revokeObjectURL(\n",
       "                    fig.imageObj.src);\n",
       "            }\n",
       "\n",
       "            fig.imageObj.src = (window.URL || window.webkitURL).createObjectURL(\n",
       "                evt.data);\n",
       "            fig.updated_canvas_event();\n",
       "            fig.waiting = false;\n",
       "            return;\n",
       "        }\n",
       "        else if (typeof evt.data === 'string' && evt.data.slice(0, 21) == \"data:image/png;base64\") {\n",
       "            fig.imageObj.src = evt.data;\n",
       "            fig.updated_canvas_event();\n",
       "            fig.waiting = false;\n",
       "            return;\n",
       "        }\n",
       "\n",
       "        var msg = JSON.parse(evt.data);\n",
       "        var msg_type = msg['type'];\n",
       "\n",
       "        // Call the  \"handle_{type}\" callback, which takes\n",
       "        // the figure and JSON message as its only arguments.\n",
       "        try {\n",
       "            var callback = fig[\"handle_\" + msg_type];\n",
       "        } catch (e) {\n",
       "            console.log(\"No handler for the '\" + msg_type + \"' message type: \", msg);\n",
       "            return;\n",
       "        }\n",
       "\n",
       "        if (callback) {\n",
       "            try {\n",
       "                // console.log(\"Handling '\" + msg_type + \"' message: \", msg);\n",
       "                callback(fig, msg);\n",
       "            } catch (e) {\n",
       "                console.log(\"Exception inside the 'handler_\" + msg_type + \"' callback:\", e, e.stack, msg);\n",
       "            }\n",
       "        }\n",
       "    };\n",
       "}\n",
       "\n",
       "// from http://stackoverflow.com/questions/1114465/getting-mouse-location-in-canvas\n",
       "mpl.findpos = function(e) {\n",
       "    //this section is from http://www.quirksmode.org/js/events_properties.html\n",
       "    var targ;\n",
       "    if (!e)\n",
       "        e = window.event;\n",
       "    if (e.target)\n",
       "        targ = e.target;\n",
       "    else if (e.srcElement)\n",
       "        targ = e.srcElement;\n",
       "    if (targ.nodeType == 3) // defeat Safari bug\n",
       "        targ = targ.parentNode;\n",
       "\n",
       "    // jQuery normalizes the pageX and pageY\n",
       "    // pageX,Y are the mouse positions relative to the document\n",
       "    // offset() returns the position of the element relative to the document\n",
       "    var x = e.pageX - $(targ).offset().left;\n",
       "    var y = e.pageY - $(targ).offset().top;\n",
       "\n",
       "    return {\"x\": x, \"y\": y};\n",
       "};\n",
       "\n",
       "/*\n",
       " * return a copy of an object with only non-object keys\n",
       " * we need this to avoid circular references\n",
       " * http://stackoverflow.com/a/24161582/3208463\n",
       " */\n",
       "function simpleKeys (original) {\n",
       "  return Object.keys(original).reduce(function (obj, key) {\n",
       "    if (typeof original[key] !== 'object')\n",
       "        obj[key] = original[key]\n",
       "    return obj;\n",
       "  }, {});\n",
       "}\n",
       "\n",
       "mpl.figure.prototype.mouse_event = function(event, name) {\n",
       "    var canvas_pos = mpl.findpos(event)\n",
       "\n",
       "    if (name === 'button_press')\n",
       "    {\n",
       "        this.canvas.focus();\n",
       "        this.canvas_div.focus();\n",
       "    }\n",
       "\n",
       "    var x = canvas_pos.x;\n",
       "    var y = canvas_pos.y;\n",
       "\n",
       "    this.send_message(name, {x: x, y: y, button: event.button,\n",
       "                             step: event.step,\n",
       "                             guiEvent: simpleKeys(event)});\n",
       "\n",
       "    /* This prevents the web browser from automatically changing to\n",
       "     * the text insertion cursor when the button is pressed.  We want\n",
       "     * to control all of the cursor setting manually through the\n",
       "     * 'cursor' event from matplotlib */\n",
       "    event.preventDefault();\n",
       "    return false;\n",
       "}\n",
       "\n",
       "mpl.figure.prototype._key_event_extra = function(event, name) {\n",
       "    // Handle any extra behaviour associated with a key event\n",
       "}\n",
       "\n",
       "mpl.figure.prototype.key_event = function(event, name) {\n",
       "\n",
       "    // Prevent repeat events\n",
       "    if (name == 'key_press')\n",
       "    {\n",
       "        if (event.which === this._key)\n",
       "            return;\n",
       "        else\n",
       "            this._key = event.which;\n",
       "    }\n",
       "    if (name == 'key_release')\n",
       "        this._key = null;\n",
       "\n",
       "    var value = '';\n",
       "    if (event.ctrlKey && event.which != 17)\n",
       "        value += \"ctrl+\";\n",
       "    if (event.altKey && event.which != 18)\n",
       "        value += \"alt+\";\n",
       "    if (event.shiftKey && event.which != 16)\n",
       "        value += \"shift+\";\n",
       "\n",
       "    value += 'k';\n",
       "    value += event.which.toString();\n",
       "\n",
       "    this._key_event_extra(event, name);\n",
       "\n",
       "    this.send_message(name, {key: value,\n",
       "                             guiEvent: simpleKeys(event)});\n",
       "    return false;\n",
       "}\n",
       "\n",
       "mpl.figure.prototype.toolbar_button_onclick = function(name) {\n",
       "    if (name == 'download') {\n",
       "        this.handle_save(this, null);\n",
       "    } else {\n",
       "        this.send_message(\"toolbar_button\", {name: name});\n",
       "    }\n",
       "};\n",
       "\n",
       "mpl.figure.prototype.toolbar_button_onmouseover = function(tooltip) {\n",
       "    this.message.textContent = tooltip;\n",
       "};\n",
       "mpl.toolbar_items = [[\"Home\", \"Reset original view\", \"fa fa-home icon-home\", \"home\"], [\"Back\", \"Back to  previous view\", \"fa fa-arrow-left icon-arrow-left\", \"back\"], [\"Forward\", \"Forward to next view\", \"fa fa-arrow-right icon-arrow-right\", \"forward\"], [\"\", \"\", \"\", \"\"], [\"Pan\", \"Pan axes with left mouse, zoom with right\", \"fa fa-arrows icon-move\", \"pan\"], [\"Zoom\", \"Zoom to rectangle\", \"fa fa-square-o icon-check-empty\", \"zoom\"], [\"\", \"\", \"\", \"\"], [\"Download\", \"Download plot\", \"fa fa-floppy-o icon-save\", \"download\"]];\n",
       "\n",
       "mpl.extensions = [\"eps\", \"jpeg\", \"pdf\", \"png\", \"ps\", \"raw\", \"svg\", \"tif\"];\n",
       "\n",
       "mpl.default_extension = \"png\";var comm_websocket_adapter = function(comm) {\n",
       "    // Create a \"websocket\"-like object which calls the given IPython comm\n",
       "    // object with the appropriate methods. Currently this is a non binary\n",
       "    // socket, so there is still some room for performance tuning.\n",
       "    var ws = {};\n",
       "\n",
       "    ws.close = function() {\n",
       "        comm.close()\n",
       "    };\n",
       "    ws.send = function(m) {\n",
       "        //console.log('sending', m);\n",
       "        comm.send(m);\n",
       "    };\n",
       "    // Register the callback with on_msg.\n",
       "    comm.on_msg(function(msg) {\n",
       "        //console.log('receiving', msg['content']['data'], msg);\n",
       "        // Pass the mpl event to the overriden (by mpl) onmessage function.\n",
       "        ws.onmessage(msg['content']['data'])\n",
       "    });\n",
       "    return ws;\n",
       "}\n",
       "\n",
       "mpl.mpl_figure_comm = function(comm, msg) {\n",
       "    // This is the function which gets called when the mpl process\n",
       "    // starts-up an IPython Comm through the \"matplotlib\" channel.\n",
       "\n",
       "    var id = msg.content.data.id;\n",
       "    // Get hold of the div created by the display call when the Comm\n",
       "    // socket was opened in Python.\n",
       "    var element = $(\"#\" + id);\n",
       "    var ws_proxy = comm_websocket_adapter(comm)\n",
       "\n",
       "    function ondownload(figure, format) {\n",
       "        window.open(figure.imageObj.src);\n",
       "    }\n",
       "\n",
       "    var fig = new mpl.figure(id, ws_proxy,\n",
       "                           ondownload,\n",
       "                           element.get(0));\n",
       "\n",
       "    // Call onopen now - mpl needs it, as it is assuming we've passed it a real\n",
       "    // web socket which is closed, not our websocket->open comm proxy.\n",
       "    ws_proxy.onopen();\n",
       "\n",
       "    fig.parent_element = element.get(0);\n",
       "    fig.cell_info = mpl.find_output_cell(\"<div id='\" + id + \"'></div>\");\n",
       "    if (!fig.cell_info) {\n",
       "        console.error(\"Failed to find cell for figure\", id, fig);\n",
       "        return;\n",
       "    }\n",
       "\n",
       "    var output_index = fig.cell_info[2]\n",
       "    var cell = fig.cell_info[0];\n",
       "\n",
       "};\n",
       "\n",
       "mpl.figure.prototype.handle_close = function(fig, msg) {\n",
       "    fig.root.unbind('remove')\n",
       "\n",
       "    // Update the output cell to use the data from the current canvas.\n",
       "    fig.push_to_output();\n",
       "    var dataURL = fig.canvas.toDataURL();\n",
       "    // Re-enable the keyboard manager in IPython - without this line, in FF,\n",
       "    // the notebook keyboard shortcuts fail.\n",
       "    IPython.keyboard_manager.enable()\n",
       "    $(fig.parent_element).html('<img src=\"' + dataURL + '\">');\n",
       "    fig.close_ws(fig, msg);\n",
       "}\n",
       "\n",
       "mpl.figure.prototype.close_ws = function(fig, msg){\n",
       "    fig.send_message('closing', msg);\n",
       "    // fig.ws.close()\n",
       "}\n",
       "\n",
       "mpl.figure.prototype.push_to_output = function(remove_interactive) {\n",
       "    // Turn the data on the canvas into data in the output cell.\n",
       "    var dataURL = this.canvas.toDataURL();\n",
       "    this.cell_info[1]['text/html'] = '<img src=\"' + dataURL + '\">';\n",
       "}\n",
       "\n",
       "mpl.figure.prototype.updated_canvas_event = function() {\n",
       "    // Tell IPython that the notebook contents must change.\n",
       "    IPython.notebook.set_dirty(true);\n",
       "    this.send_message(\"ack\", {});\n",
       "    var fig = this;\n",
       "    // Wait a second, then push the new image to the DOM so\n",
       "    // that it is saved nicely (might be nice to debounce this).\n",
       "    setTimeout(function () { fig.push_to_output() }, 1000);\n",
       "}\n",
       "\n",
       "mpl.figure.prototype._init_toolbar = function() {\n",
       "    var fig = this;\n",
       "\n",
       "    var nav_element = $('<div/>')\n",
       "    nav_element.attr('style', 'width: 100%');\n",
       "    this.root.append(nav_element);\n",
       "\n",
       "    // Define a callback function for later on.\n",
       "    function toolbar_event(event) {\n",
       "        return fig.toolbar_button_onclick(event['data']);\n",
       "    }\n",
       "    function toolbar_mouse_event(event) {\n",
       "        return fig.toolbar_button_onmouseover(event['data']);\n",
       "    }\n",
       "\n",
       "    for(var toolbar_ind in mpl.toolbar_items){\n",
       "        var name = mpl.toolbar_items[toolbar_ind][0];\n",
       "        var tooltip = mpl.toolbar_items[toolbar_ind][1];\n",
       "        var image = mpl.toolbar_items[toolbar_ind][2];\n",
       "        var method_name = mpl.toolbar_items[toolbar_ind][3];\n",
       "\n",
       "        if (!name) { continue; };\n",
       "\n",
       "        var button = $('<button class=\"btn btn-default\" href=\"#\" title=\"' + name + '\"><i class=\"fa ' + image + ' fa-lg\"></i></button>');\n",
       "        button.click(method_name, toolbar_event);\n",
       "        button.mouseover(tooltip, toolbar_mouse_event);\n",
       "        nav_element.append(button);\n",
       "    }\n",
       "\n",
       "    // Add the status bar.\n",
       "    var status_bar = $('<span class=\"mpl-message\" style=\"text-align:right; float: right;\"/>');\n",
       "    nav_element.append(status_bar);\n",
       "    this.message = status_bar[0];\n",
       "\n",
       "    // Add the close button to the window.\n",
       "    var buttongrp = $('<div class=\"btn-group inline pull-right\"></div>');\n",
       "    var button = $('<button class=\"btn btn-mini btn-primary\" href=\"#\" title=\"Stop Interaction\"><i class=\"fa fa-power-off icon-remove icon-large\"></i></button>');\n",
       "    button.click(function (evt) { fig.handle_close(fig, {}); } );\n",
       "    button.mouseover('Stop Interaction', toolbar_mouse_event);\n",
       "    buttongrp.append(button);\n",
       "    var titlebar = this.root.find($('.ui-dialog-titlebar'));\n",
       "    titlebar.prepend(buttongrp);\n",
       "}\n",
       "\n",
       "mpl.figure.prototype._root_extra_style = function(el){\n",
       "    var fig = this\n",
       "    el.on(\"remove\", function(){\n",
       "\tfig.close_ws(fig, {});\n",
       "    });\n",
       "}\n",
       "\n",
       "mpl.figure.prototype._canvas_extra_style = function(el){\n",
       "    // this is important to make the div 'focusable\n",
       "    el.attr('tabindex', 0)\n",
       "    // reach out to IPython and tell the keyboard manager to turn it's self\n",
       "    // off when our div gets focus\n",
       "\n",
       "    // location in version 3\n",
       "    if (IPython.notebook.keyboard_manager) {\n",
       "        IPython.notebook.keyboard_manager.register_events(el);\n",
       "    }\n",
       "    else {\n",
       "        // location in version 2\n",
       "        IPython.keyboard_manager.register_events(el);\n",
       "    }\n",
       "\n",
       "}\n",
       "\n",
       "mpl.figure.prototype._key_event_extra = function(event, name) {\n",
       "    var manager = IPython.notebook.keyboard_manager;\n",
       "    if (!manager)\n",
       "        manager = IPython.keyboard_manager;\n",
       "\n",
       "    // Check for shift+enter\n",
       "    if (event.shiftKey && event.which == 13) {\n",
       "        this.canvas_div.blur();\n",
       "        event.shiftKey = false;\n",
       "        // Send a \"J\" for go to next cell\n",
       "        event.which = 74;\n",
       "        event.keyCode = 74;\n",
       "        manager.command_mode();\n",
       "        manager.handle_keydown(event);\n",
       "    }\n",
       "}\n",
       "\n",
       "mpl.figure.prototype.handle_save = function(fig, msg) {\n",
       "    fig.ondownload(fig, null);\n",
       "}\n",
       "\n",
       "\n",
       "mpl.find_output_cell = function(html_output) {\n",
       "    // Return the cell and output element which can be found *uniquely* in the notebook.\n",
       "    // Note - this is a bit hacky, but it is done because the \"notebook_saving.Notebook\"\n",
       "    // IPython event is triggered only after the cells have been serialised, which for\n",
       "    // our purposes (turning an active figure into a static one), is too late.\n",
       "    var cells = IPython.notebook.get_cells();\n",
       "    var ncells = cells.length;\n",
       "    for (var i=0; i<ncells; i++) {\n",
       "        var cell = cells[i];\n",
       "        if (cell.cell_type === 'code'){\n",
       "            for (var j=0; j<cell.output_area.outputs.length; j++) {\n",
       "                var data = cell.output_area.outputs[j];\n",
       "                if (data.data) {\n",
       "                    // IPython >= 3 moved mimebundle to data attribute of output\n",
       "                    data = data.data;\n",
       "                }\n",
       "                if (data['text/html'] == html_output) {\n",
       "                    return [cell, data, j];\n",
       "                }\n",
       "            }\n",
       "        }\n",
       "    }\n",
       "}\n",
       "\n",
       "// Register the function which deals with the matplotlib target/channel.\n",
       "// The kernel may be null if the page has been refreshed.\n",
       "if (IPython.notebook.kernel != null) {\n",
       "    IPython.notebook.kernel.comm_manager.register_target('matplotlib', mpl.mpl_figure_comm);\n",
       "}\n"
      ],
      "text/plain": [
       "<IPython.core.display.Javascript object>"
      ]
     },
     "metadata": {},
     "output_type": "display_data"
    },
    {
     "data": {
      "text/html": [
       "<img src=\"data:image/png;base64,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\">"
      ],
      "text/plain": [
       "<IPython.core.display.HTML object>"
      ]
     },
     "metadata": {},
     "output_type": "display_data"
    }
   ],
   "source": [
    "plt.figure()\n",
    "ax1 = plt.subplot(111)\n",
    "ax1.hold(False)\n",
    "\n",
    "display(widgets.Label('Curvature. Return to modify'), curvature_widget, display_image_button)"
   ]
  },
  {
   "cell_type": "code",
   "execution_count": null,
   "metadata": {
    "collapsed": true
   },
   "outputs": [],
   "source": []
  }
 ],
 "metadata": {
  "anaconda-cloud": {},
  "kernelspec": {
   "display_name": "Python [conda env:rixs_analysis_py3]",
   "language": "python",
   "name": "conda-env-rixs_analysis_py3-py"
  },
  "language_info": {
   "codemirror_mode": {
    "name": "ipython",
    "version": 3
   },
   "file_extension": ".py",
   "mimetype": "text/x-python",
   "name": "python",
   "nbconvert_exporter": "python",
   "pygments_lexer": "ipython3",
   "version": "3.5.2"
  },
  "widgets": {
   "state": {
    "01f92c8509b14d62a4479a96ecf71c96": {
     "views": [
      {
       "cell_index": 7
      }
     ]
    },
    "02589660946f4a53aff944e569865c7d": {
     "views": [
      {
       "cell_index": 5
      },
      {
       "cell_index": 5
      }
     ]
    },
    "0930574d38f847b2999393b9b5e64d1d": {
     "views": [
      {
       "cell_index": 5
      }
     ]
    },
    "0a10a90954ca40ea90db1b5bde426cf5": {
     "views": [
      {
       "cell_index": 7
      },
      {
       "cell_index": 7
      }
     ]
    },
    "0adaca64382445f189261d8f0d5ee375": {
     "views": [
      {
       "cell_index": 5
      }
     ]
    },
    "117d9753462e47b4ad92bb6bce899433": {
     "views": [
      {
       "cell_index": 5
      }
     ]
    },
    "1c3129a50d414bf1b974c9393a65636d": {
     "views": [
      {
       "cell_index": 7
      }
     ]
    },
    "261e47acf6e440fdb807a7b8dc5ca317": {
     "views": [
      {
       "cell_index": 7
      },
      {
       "cell_index": 7
      },
      {
       "cell_index": 7
      }
     ]
    },
    "2bc662f80f09435d945fc84c089a265b": {
     "views": [
      {
       "cell_index": 7
      }
     ]
    },
    "404e5ae120014dcf80f1e72274771ba5": {
     "views": [
      {
       "cell_index": 5
      }
     ]
    },
    "53b57ee81b7945569448a858f9324f86": {
     "views": [
      {
       "cell_index": 5
      }
     ]
    },
    "575bd704e7d142c6bba0839658b41bdd": {
     "views": [
      {
       "cell_index": 5
      },
      {
       "cell_index": 5
      }
     ]
    },
    "5842da2b56bf4b8b8153f07c78e6c86f": {
     "views": [
      {
       "cell_index": 7
      },
      {
       "cell_index": 7
      }
     ]
    },
    "5b1081203de34641b386fc3e3b222000": {
     "views": [
      {
       "cell_index": 7
      },
      {
       "cell_index": 7
      }
     ]
    },
    "709eb1ec8b094efc975d8f5a317e1b0a": {
     "views": [
      {
       "cell_index": 5
      }
     ]
    },
    "7392de52c24e4c899ceeb7c24f532d00": {
     "views": [
      {
       "cell_index": 7
      }
     ]
    },
    "7a4bd8c7392549b29db567a3ea921de6": {
     "views": [
      {
       "cell_index": 7
      }
     ]
    },
    "7fcc3c8f959d4d72a5878aae59522ea2": {
     "views": [
      {
       "cell_index": 5
      },
      {
       "cell_index": 5
      }
     ]
    },
    "844d3b8210d04c00b6358aef00eaee4b": {
     "views": [
      {
       "cell_index": 5
      },
      {
       "cell_index": 5
      }
     ]
    },
    "846f2819be864afd836b2555d7ac81ee": {
     "views": [
      {
       "cell_index": 7
      }
     ]
    },
    "86d9414d10e04150bbe534fac1907473": {
     "views": [
      {
       "cell_index": 5
      }
     ]
    },
    "88dd7ca189344205b1dfa8ed7ef91aa6": {
     "views": [
      {
       "cell_index": 7
      }
     ]
    },
    "897d492ce3794189a961f3bb63417b3a": {
     "views": [
      {
       "cell_index": 5
      }
     ]
    },
    "8a0aa9d03d724034bc3fba2b28a08383": {
     "views": [
      {
       "cell_index": 7
      }
     ]
    },
    "8a5f55142c154c379dbbc862cde837e3": {
     "views": [
      {
       "cell_index": 5
      },
      {
       "cell_index": 5
      }
     ]
    },
    "91a0da32a8d5469ab7e72b1b2b76177f": {
     "views": [
      {
       "cell_index": 5
      },
      {
       "cell_index": 5
      },
      {
       "cell_index": 5
      }
     ]
    },
    "9be4a3cfa0584342a0837f8b4a107630": {
     "views": [
      {
       "cell_index": 7
      }
     ]
    },
    "b069a9fa5e364d668c09935047fdb1a4": {
     "views": [
      {
       "cell_index": 7
      }
     ]
    },
    "b5d9310864ee423ab1ac7a0b7f2a4610": {
     "views": [
      {
       "cell_index": 5
      }
     ]
    },
    "b6887b33d6844c8aa610eed8e705e09d": {
     "views": [
      {
       "cell_index": 5
      }
     ]
    },
    "cc4fafbbfb024f4db6731e04fc1ae45a": {
     "views": [
      {
       "cell_index": 5
      }
     ]
    },
    "d2e51a0ccbec43a9952c8ef49f823bf9": {
     "views": [
      {
       "cell_index": 5
      }
     ]
    },
    "e7bf4d699f13494893dcbe949f4c6195": {
     "views": [
      {
       "cell_index": 5
      }
     ]
    },
    "e854993135e74baba258cc94ed959875": {
     "views": [
      {
       "cell_index": 5
      }
     ]
    }
   },
   "version": "1.2.0"
  }
 },
 "nbformat": 4,
 "nbformat_minor": 1
}
