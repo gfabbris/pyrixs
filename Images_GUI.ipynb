{
 "cells": [
  {
   "cell_type": "code",
   "execution_count": 1,
   "metadata": {
    "collapsed": false,
    "scrolled": true
   },
   "outputs": [],
   "source": [
    "import numpy as np\n",
    "import pandas as pd\n",
    "\n",
    "import os, glob\n",
    "\n",
    "from collections import OrderedDict\n",
    "\n",
    "import matplotlib\n",
    "import matplotlib.pyplot as plt\n",
    "\n",
    "import ipywidgets as widgets\n",
    "from traitlets import dlink\n",
    "from IPython.display import display\n",
    "\n",
    "from RIXS_functions import *\n",
    "\n",
    "%matplotlib nbagg"
   ]
  },
  {
   "cell_type": "code",
   "execution_count": 2,
   "metadata": {
    "collapsed": false,
    "scrolled": true
   },
   "outputs": [
    {
     "data": {
      "text/html": [
       "<script>\n",
       "code_show=true; \n",
       "function code_toggle() {\n",
       " if (code_show){\n",
       " $('div.input').hide();\n",
       " } else {\n",
       " $('div.input').show();\n",
       " }\n",
       " code_show = !code_show\n",
       "} \n",
       "$( document ).ready(code_toggle);\n",
       "</script>\n",
       "<form action=\"javascript:code_toggle()\"><input type=\"submit\" value=\"Click here to show/hide code.\"></form>"
      ],
      "text/plain": [
       "<IPython.core.display.HTML object>"
      ]
     },
     "execution_count": 2,
     "metadata": {},
     "output_type": "execute_result"
    }
   ],
   "source": [
    "from IPython.display import HTML\n",
    "\n",
    "HTML('''<script>\n",
    "code_show=true; \n",
    "function code_toggle() {\n",
    " if (code_show){\n",
    " $('div.input').hide();\n",
    " } else {\n",
    " $('div.input').show();\n",
    " }\n",
    " code_show = !code_show\n",
    "} \n",
    "$( document ).ready(code_toggle);\n",
    "</script>\n",
    "<form action=\"javascript:code_toggle()\"><input type=\"submit\" value=\"Click here to show/hide code.\"></form>''')\n"
   ]
  },
  {
   "cell_type": "code",
   "execution_count": 3,
   "metadata": {
    "collapsed": false
   },
   "outputs": [
    {
     "data": {
      "application/javascript": [
       "IPython.OutputArea.auto_scroll_threshold = 9999;"
      ],
      "text/plain": [
       "<IPython.core.display.Javascript object>"
      ]
     },
     "metadata": {},
     "output_type": "display_data"
    }
   ],
   "source": [
    "%%javascript\n",
    "IPython.OutputArea.auto_scroll_threshold = 9999;"
   ]
  },
  {
   "cell_type": "code",
   "execution_count": 4,
   "metadata": {
    "collapsed": false,
    "scrolled": true
   },
   "outputs": [],
   "source": [
    "######################################\n",
    "# Widgets\n",
    "######################################\n",
    "\n",
    "# Folder to search images for\n",
    "images_folder_widget = widgets.Text(\n",
    "    value='test_images/*.h5',  \n",
    "    description='Search path',\n",
    "    width='500px',\n",
    ")\n",
    "\n",
    "# Display and pick which spectra to plot\n",
    "select_images_widget = widgets.Select(\n",
    "            options=get_all_file_names(images_folder_widget.value),\n",
    "            description='Select images'\n",
    "            )\n",
    "\n",
    "display_image_button = widgets.Button(\n",
    "    description='Plot',\n",
    ")\n",
    "\n",
    "x2_widget = widgets.FloatText(description='x^2', value=0.)\n",
    "x1_widget = widgets.FloatText(description='x^1', value=0.)\n",
    "x0_widget = widgets.FloatText(description='x^0', value=500.)\n",
    "\n",
    "fit_curvature_button = widgets.Button(\n",
    "    description='Fit',\n",
    ")"
   ]
  },
  {
   "cell_type": "code",
   "execution_count": 5,
   "metadata": {
    "collapsed": false,
    "scrolled": true
   },
   "outputs": [],
   "source": [
    "###########################\n",
    "## Widget logic\n",
    "###########################\n",
    "def update_select_images_widget(change):\n",
    "    \"\"\"Refresh images for selection\"\"\"\n",
    "    select_images_widget.options = get_all_file_names(images_folder_widget.value)\n",
    "    \n",
    "images_folder_widget.on_submit(update_select_images_widget)\n",
    "\n",
    "def wrap_display_image(change):\n",
    "    \"\"\"Load and plot images and curvature\"\"\"\n",
    "    load_image(images_folder_widget.value,\n",
    "               select_images_widget.value)\n",
    "    plot_image(ax1, alpha=0.5, s=1)\n",
    "    plot_curvature(ax1)\n",
    "\n",
    "display_image_button.on_click(wrap_display_image)\n",
    "\n",
    "def wrap_curvature(change):\n",
    "    \"\"\"Assign values in curvature widget to Images['curvature']\"\"\"\n",
    "    Image['curvature'] = np.array([x2_widget.value, x1_widget.value, x0_widget.value])\n",
    "\n",
    "x2_widget.observe(wrap_curvature)\n",
    "x1_widget.observe(wrap_curvature)\n",
    "x0_widget.observe(wrap_curvature)\n",
    "    \n",
    "def wrap_fit_curvature(change):\n",
    "    \"\"\"Fit the curvature and assign values into widgets\"\"\"\n",
    "    curvature_values = fit_curvature()\n",
    "    if curvature_values != None:\n",
    "        x2_widget.value = curvature_values[0]\n",
    "        x1_widget.value = curvature_values[1]\n",
    "        wrap_curvature(None)\n",
    "        plot_curvature(ax1)\n",
    "\n",
    "fit_curvature_button.on_click(wrap_fit_curvature)\n",
    "\n",
    "\n",
    "    "
   ]
  },
  {
   "cell_type": "markdown",
   "metadata": {},
   "source": [
    "## List and choose image"
   ]
  },
  {
   "cell_type": "code",
   "execution_count": 6,
   "metadata": {
    "collapsed": false,
    "scrolled": true
   },
   "outputs": [],
   "source": [
    "display(images_folder_widget, select_images_widget)"
   ]
  },
  {
   "cell_type": "markdown",
   "metadata": {},
   "source": [
    "## Plot image"
   ]
  },
  {
   "cell_type": "code",
   "execution_count": 9,
   "metadata": {
    "collapsed": false,
    "scrolled": false
   },
   "outputs": [
    {
     "data": {
      "application/javascript": [
       "/* Put everything inside the global mpl namespace */\n",
       "window.mpl = {};\n",
       "\n",
       "mpl.get_websocket_type = function() {\n",
       "    if (typeof(WebSocket) !== 'undefined') {\n",
       "        return WebSocket;\n",
       "    } else if (typeof(MozWebSocket) !== 'undefined') {\n",
       "        return MozWebSocket;\n",
       "    } else {\n",
       "        alert('Your browser does not have WebSocket support.' +\n",
       "              'Please try Chrome, Safari or Firefox ≥ 6. ' +\n",
       "              'Firefox 4 and 5 are also supported but you ' +\n",
       "              'have to enable WebSockets in about:config.');\n",
       "    };\n",
       "}\n",
       "\n",
       "mpl.figure = function(figure_id, websocket, ondownload, parent_element) {\n",
       "    this.id = figure_id;\n",
       "\n",
       "    this.ws = websocket;\n",
       "\n",
       "    this.supports_binary = (this.ws.binaryType != undefined);\n",
       "\n",
       "    if (!this.supports_binary) {\n",
       "        var warnings = document.getElementById(\"mpl-warnings\");\n",
       "        if (warnings) {\n",
       "            warnings.style.display = 'block';\n",
       "            warnings.textContent = (\n",
       "                \"This browser does not support binary websocket messages. \" +\n",
       "                    \"Performance may be slow.\");\n",
       "        }\n",
       "    }\n",
       "\n",
       "    this.imageObj = new Image();\n",
       "\n",
       "    this.context = undefined;\n",
       "    this.message = undefined;\n",
       "    this.canvas = undefined;\n",
       "    this.rubberband_canvas = undefined;\n",
       "    this.rubberband_context = undefined;\n",
       "    this.format_dropdown = undefined;\n",
       "\n",
       "    this.image_mode = 'full';\n",
       "\n",
       "    this.root = $('<div/>');\n",
       "    this._root_extra_style(this.root)\n",
       "    this.root.attr('style', 'display: inline-block');\n",
       "\n",
       "    $(parent_element).append(this.root);\n",
       "\n",
       "    this._init_header(this);\n",
       "    this._init_canvas(this);\n",
       "    this._init_toolbar(this);\n",
       "\n",
       "    var fig = this;\n",
       "\n",
       "    this.waiting = false;\n",
       "\n",
       "    this.ws.onopen =  function () {\n",
       "            fig.send_message(\"supports_binary\", {value: fig.supports_binary});\n",
       "            fig.send_message(\"send_image_mode\", {});\n",
       "            fig.send_message(\"refresh\", {});\n",
       "        }\n",
       "\n",
       "    this.imageObj.onload = function() {\n",
       "            if (fig.image_mode == 'full') {\n",
       "                // Full images could contain transparency (where diff images\n",
       "                // almost always do), so we need to clear the canvas so that\n",
       "                // there is no ghosting.\n",
       "                fig.context.clearRect(0, 0, fig.canvas.width, fig.canvas.height);\n",
       "            }\n",
       "            fig.context.drawImage(fig.imageObj, 0, 0);\n",
       "        };\n",
       "\n",
       "    this.imageObj.onunload = function() {\n",
       "        this.ws.close();\n",
       "    }\n",
       "\n",
       "    this.ws.onmessage = this._make_on_message_function(this);\n",
       "\n",
       "    this.ondownload = ondownload;\n",
       "}\n",
       "\n",
       "mpl.figure.prototype._init_header = function() {\n",
       "    var titlebar = $(\n",
       "        '<div class=\"ui-dialog-titlebar ui-widget-header ui-corner-all ' +\n",
       "        'ui-helper-clearfix\"/>');\n",
       "    var titletext = $(\n",
       "        '<div class=\"ui-dialog-title\" style=\"width: 100%; ' +\n",
       "        'text-align: center; padding: 3px;\"/>');\n",
       "    titlebar.append(titletext)\n",
       "    this.root.append(titlebar);\n",
       "    this.header = titletext[0];\n",
       "}\n",
       "\n",
       "\n",
       "\n",
       "mpl.figure.prototype._canvas_extra_style = function(canvas_div) {\n",
       "\n",
       "}\n",
       "\n",
       "\n",
       "mpl.figure.prototype._root_extra_style = function(canvas_div) {\n",
       "\n",
       "}\n",
       "\n",
       "mpl.figure.prototype._init_canvas = function() {\n",
       "    var fig = this;\n",
       "\n",
       "    var canvas_div = $('<div/>');\n",
       "\n",
       "    canvas_div.attr('style', 'position: relative; clear: both; outline: 0');\n",
       "\n",
       "    function canvas_keyboard_event(event) {\n",
       "        return fig.key_event(event, event['data']);\n",
       "    }\n",
       "\n",
       "    canvas_div.keydown('key_press', canvas_keyboard_event);\n",
       "    canvas_div.keyup('key_release', canvas_keyboard_event);\n",
       "    this.canvas_div = canvas_div\n",
       "    this._canvas_extra_style(canvas_div)\n",
       "    this.root.append(canvas_div);\n",
       "\n",
       "    var canvas = $('<canvas/>');\n",
       "    canvas.addClass('mpl-canvas');\n",
       "    canvas.attr('style', \"left: 0; top: 0; z-index: 0; outline: 0\")\n",
       "\n",
       "    this.canvas = canvas[0];\n",
       "    this.context = canvas[0].getContext(\"2d\");\n",
       "\n",
       "    var rubberband = $('<canvas/>');\n",
       "    rubberband.attr('style', \"position: absolute; left: 0; top: 0; z-index: 1;\")\n",
       "\n",
       "    var pass_mouse_events = true;\n",
       "\n",
       "    canvas_div.resizable({\n",
       "        start: function(event, ui) {\n",
       "            pass_mouse_events = false;\n",
       "        },\n",
       "        resize: function(event, ui) {\n",
       "            fig.request_resize(ui.size.width, ui.size.height);\n",
       "        },\n",
       "        stop: function(event, ui) {\n",
       "            pass_mouse_events = true;\n",
       "            fig.request_resize(ui.size.width, ui.size.height);\n",
       "        },\n",
       "    });\n",
       "\n",
       "    function mouse_event_fn(event) {\n",
       "        if (pass_mouse_events)\n",
       "            return fig.mouse_event(event, event['data']);\n",
       "    }\n",
       "\n",
       "    rubberband.mousedown('button_press', mouse_event_fn);\n",
       "    rubberband.mouseup('button_release', mouse_event_fn);\n",
       "    // Throttle sequential mouse events to 1 every 20ms.\n",
       "    rubberband.mousemove('motion_notify', mouse_event_fn);\n",
       "\n",
       "    rubberband.mouseenter('figure_enter', mouse_event_fn);\n",
       "    rubberband.mouseleave('figure_leave', mouse_event_fn);\n",
       "\n",
       "    canvas_div.on(\"wheel\", function (event) {\n",
       "        event = event.originalEvent;\n",
       "        event['data'] = 'scroll'\n",
       "        if (event.deltaY < 0) {\n",
       "            event.step = 1;\n",
       "        } else {\n",
       "            event.step = -1;\n",
       "        }\n",
       "        mouse_event_fn(event);\n",
       "    });\n",
       "\n",
       "    canvas_div.append(canvas);\n",
       "    canvas_div.append(rubberband);\n",
       "\n",
       "    this.rubberband = rubberband;\n",
       "    this.rubberband_canvas = rubberband[0];\n",
       "    this.rubberband_context = rubberband[0].getContext(\"2d\");\n",
       "    this.rubberband_context.strokeStyle = \"#000000\";\n",
       "\n",
       "    this._resize_canvas = function(width, height) {\n",
       "        // Keep the size of the canvas, canvas container, and rubber band\n",
       "        // canvas in synch.\n",
       "        canvas_div.css('width', width)\n",
       "        canvas_div.css('height', height)\n",
       "\n",
       "        canvas.attr('width', width);\n",
       "        canvas.attr('height', height);\n",
       "\n",
       "        rubberband.attr('width', width);\n",
       "        rubberband.attr('height', height);\n",
       "    }\n",
       "\n",
       "    // Set the figure to an initial 600x600px, this will subsequently be updated\n",
       "    // upon first draw.\n",
       "    this._resize_canvas(600, 600);\n",
       "\n",
       "    // Disable right mouse context menu.\n",
       "    $(this.rubberband_canvas).bind(\"contextmenu\",function(e){\n",
       "        return false;\n",
       "    });\n",
       "\n",
       "    function set_focus () {\n",
       "        canvas.focus();\n",
       "        canvas_div.focus();\n",
       "    }\n",
       "\n",
       "    window.setTimeout(set_focus, 100);\n",
       "}\n",
       "\n",
       "mpl.figure.prototype._init_toolbar = function() {\n",
       "    var fig = this;\n",
       "\n",
       "    var nav_element = $('<div/>')\n",
       "    nav_element.attr('style', 'width: 100%');\n",
       "    this.root.append(nav_element);\n",
       "\n",
       "    // Define a callback function for later on.\n",
       "    function toolbar_event(event) {\n",
       "        return fig.toolbar_button_onclick(event['data']);\n",
       "    }\n",
       "    function toolbar_mouse_event(event) {\n",
       "        return fig.toolbar_button_onmouseover(event['data']);\n",
       "    }\n",
       "\n",
       "    for(var toolbar_ind in mpl.toolbar_items) {\n",
       "        var name = mpl.toolbar_items[toolbar_ind][0];\n",
       "        var tooltip = mpl.toolbar_items[toolbar_ind][1];\n",
       "        var image = mpl.toolbar_items[toolbar_ind][2];\n",
       "        var method_name = mpl.toolbar_items[toolbar_ind][3];\n",
       "\n",
       "        if (!name) {\n",
       "            // put a spacer in here.\n",
       "            continue;\n",
       "        }\n",
       "        var button = $('<button/>');\n",
       "        button.addClass('ui-button ui-widget ui-state-default ui-corner-all ' +\n",
       "                        'ui-button-icon-only');\n",
       "        button.attr('role', 'button');\n",
       "        button.attr('aria-disabled', 'false');\n",
       "        button.click(method_name, toolbar_event);\n",
       "        button.mouseover(tooltip, toolbar_mouse_event);\n",
       "\n",
       "        var icon_img = $('<span/>');\n",
       "        icon_img.addClass('ui-button-icon-primary ui-icon');\n",
       "        icon_img.addClass(image);\n",
       "        icon_img.addClass('ui-corner-all');\n",
       "\n",
       "        var tooltip_span = $('<span/>');\n",
       "        tooltip_span.addClass('ui-button-text');\n",
       "        tooltip_span.html(tooltip);\n",
       "\n",
       "        button.append(icon_img);\n",
       "        button.append(tooltip_span);\n",
       "\n",
       "        nav_element.append(button);\n",
       "    }\n",
       "\n",
       "    var fmt_picker_span = $('<span/>');\n",
       "\n",
       "    var fmt_picker = $('<select/>');\n",
       "    fmt_picker.addClass('mpl-toolbar-option ui-widget ui-widget-content');\n",
       "    fmt_picker_span.append(fmt_picker);\n",
       "    nav_element.append(fmt_picker_span);\n",
       "    this.format_dropdown = fmt_picker[0];\n",
       "\n",
       "    for (var ind in mpl.extensions) {\n",
       "        var fmt = mpl.extensions[ind];\n",
       "        var option = $(\n",
       "            '<option/>', {selected: fmt === mpl.default_extension}).html(fmt);\n",
       "        fmt_picker.append(option)\n",
       "    }\n",
       "\n",
       "    // Add hover states to the ui-buttons\n",
       "    $( \".ui-button\" ).hover(\n",
       "        function() { $(this).addClass(\"ui-state-hover\");},\n",
       "        function() { $(this).removeClass(\"ui-state-hover\");}\n",
       "    );\n",
       "\n",
       "    var status_bar = $('<span class=\"mpl-message\"/>');\n",
       "    nav_element.append(status_bar);\n",
       "    this.message = status_bar[0];\n",
       "}\n",
       "\n",
       "mpl.figure.prototype.request_resize = function(x_pixels, y_pixels) {\n",
       "    // Request matplotlib to resize the figure. Matplotlib will then trigger a resize in the client,\n",
       "    // which will in turn request a refresh of the image.\n",
       "    this.send_message('resize', {'width': x_pixels, 'height': y_pixels});\n",
       "}\n",
       "\n",
       "mpl.figure.prototype.send_message = function(type, properties) {\n",
       "    properties['type'] = type;\n",
       "    properties['figure_id'] = this.id;\n",
       "    this.ws.send(JSON.stringify(properties));\n",
       "}\n",
       "\n",
       "mpl.figure.prototype.send_draw_message = function() {\n",
       "    if (!this.waiting) {\n",
       "        this.waiting = true;\n",
       "        this.ws.send(JSON.stringify({type: \"draw\", figure_id: this.id}));\n",
       "    }\n",
       "}\n",
       "\n",
       "\n",
       "mpl.figure.prototype.handle_save = function(fig, msg) {\n",
       "    var format_dropdown = fig.format_dropdown;\n",
       "    var format = format_dropdown.options[format_dropdown.selectedIndex].value;\n",
       "    fig.ondownload(fig, format);\n",
       "}\n",
       "\n",
       "\n",
       "mpl.figure.prototype.handle_resize = function(fig, msg) {\n",
       "    var size = msg['size'];\n",
       "    if (size[0] != fig.canvas.width || size[1] != fig.canvas.height) {\n",
       "        fig._resize_canvas(size[0], size[1]);\n",
       "        fig.send_message(\"refresh\", {});\n",
       "    };\n",
       "}\n",
       "\n",
       "mpl.figure.prototype.handle_rubberband = function(fig, msg) {\n",
       "    var x0 = msg['x0'];\n",
       "    var y0 = fig.canvas.height - msg['y0'];\n",
       "    var x1 = msg['x1'];\n",
       "    var y1 = fig.canvas.height - msg['y1'];\n",
       "    x0 = Math.floor(x0) + 0.5;\n",
       "    y0 = Math.floor(y0) + 0.5;\n",
       "    x1 = Math.floor(x1) + 0.5;\n",
       "    y1 = Math.floor(y1) + 0.5;\n",
       "    var min_x = Math.min(x0, x1);\n",
       "    var min_y = Math.min(y0, y1);\n",
       "    var width = Math.abs(x1 - x0);\n",
       "    var height = Math.abs(y1 - y0);\n",
       "\n",
       "    fig.rubberband_context.clearRect(\n",
       "        0, 0, fig.canvas.width, fig.canvas.height);\n",
       "\n",
       "    fig.rubberband_context.strokeRect(min_x, min_y, width, height);\n",
       "}\n",
       "\n",
       "mpl.figure.prototype.handle_figure_label = function(fig, msg) {\n",
       "    // Updates the figure title.\n",
       "    fig.header.textContent = msg['label'];\n",
       "}\n",
       "\n",
       "mpl.figure.prototype.handle_cursor = function(fig, msg) {\n",
       "    var cursor = msg['cursor'];\n",
       "    switch(cursor)\n",
       "    {\n",
       "    case 0:\n",
       "        cursor = 'pointer';\n",
       "        break;\n",
       "    case 1:\n",
       "        cursor = 'default';\n",
       "        break;\n",
       "    case 2:\n",
       "        cursor = 'crosshair';\n",
       "        break;\n",
       "    case 3:\n",
       "        cursor = 'move';\n",
       "        break;\n",
       "    }\n",
       "    fig.rubberband_canvas.style.cursor = cursor;\n",
       "}\n",
       "\n",
       "mpl.figure.prototype.handle_message = function(fig, msg) {\n",
       "    fig.message.textContent = msg['message'];\n",
       "}\n",
       "\n",
       "mpl.figure.prototype.handle_draw = function(fig, msg) {\n",
       "    // Request the server to send over a new figure.\n",
       "    fig.send_draw_message();\n",
       "}\n",
       "\n",
       "mpl.figure.prototype.handle_image_mode = function(fig, msg) {\n",
       "    fig.image_mode = msg['mode'];\n",
       "}\n",
       "\n",
       "mpl.figure.prototype.updated_canvas_event = function() {\n",
       "    // Called whenever the canvas gets updated.\n",
       "    this.send_message(\"ack\", {});\n",
       "}\n",
       "\n",
       "// A function to construct a web socket function for onmessage handling.\n",
       "// Called in the figure constructor.\n",
       "mpl.figure.prototype._make_on_message_function = function(fig) {\n",
       "    return function socket_on_message(evt) {\n",
       "        if (evt.data instanceof Blob) {\n",
       "            /* FIXME: We get \"Resource interpreted as Image but\n",
       "             * transferred with MIME type text/plain:\" errors on\n",
       "             * Chrome.  But how to set the MIME type?  It doesn't seem\n",
       "             * to be part of the websocket stream */\n",
       "            evt.data.type = \"image/png\";\n",
       "\n",
       "            /* Free the memory for the previous frames */\n",
       "            if (fig.imageObj.src) {\n",
       "                (window.URL || window.webkitURL).revokeObjectURL(\n",
       "                    fig.imageObj.src);\n",
       "            }\n",
       "\n",
       "            fig.imageObj.src = (window.URL || window.webkitURL).createObjectURL(\n",
       "                evt.data);\n",
       "            fig.updated_canvas_event();\n",
       "            fig.waiting = false;\n",
       "            return;\n",
       "        }\n",
       "        else if (typeof evt.data === 'string' && evt.data.slice(0, 21) == \"data:image/png;base64\") {\n",
       "            fig.imageObj.src = evt.data;\n",
       "            fig.updated_canvas_event();\n",
       "            fig.waiting = false;\n",
       "            return;\n",
       "        }\n",
       "\n",
       "        var msg = JSON.parse(evt.data);\n",
       "        var msg_type = msg['type'];\n",
       "\n",
       "        // Call the  \"handle_{type}\" callback, which takes\n",
       "        // the figure and JSON message as its only arguments.\n",
       "        try {\n",
       "            var callback = fig[\"handle_\" + msg_type];\n",
       "        } catch (e) {\n",
       "            console.log(\"No handler for the '\" + msg_type + \"' message type: \", msg);\n",
       "            return;\n",
       "        }\n",
       "\n",
       "        if (callback) {\n",
       "            try {\n",
       "                // console.log(\"Handling '\" + msg_type + \"' message: \", msg);\n",
       "                callback(fig, msg);\n",
       "            } catch (e) {\n",
       "                console.log(\"Exception inside the 'handler_\" + msg_type + \"' callback:\", e, e.stack, msg);\n",
       "            }\n",
       "        }\n",
       "    };\n",
       "}\n",
       "\n",
       "// from http://stackoverflow.com/questions/1114465/getting-mouse-location-in-canvas\n",
       "mpl.findpos = function(e) {\n",
       "    //this section is from http://www.quirksmode.org/js/events_properties.html\n",
       "    var targ;\n",
       "    if (!e)\n",
       "        e = window.event;\n",
       "    if (e.target)\n",
       "        targ = e.target;\n",
       "    else if (e.srcElement)\n",
       "        targ = e.srcElement;\n",
       "    if (targ.nodeType == 3) // defeat Safari bug\n",
       "        targ = targ.parentNode;\n",
       "\n",
       "    // jQuery normalizes the pageX and pageY\n",
       "    // pageX,Y are the mouse positions relative to the document\n",
       "    // offset() returns the position of the element relative to the document\n",
       "    var x = e.pageX - $(targ).offset().left;\n",
       "    var y = e.pageY - $(targ).offset().top;\n",
       "\n",
       "    return {\"x\": x, \"y\": y};\n",
       "};\n",
       "\n",
       "/*\n",
       " * return a copy of an object with only non-object keys\n",
       " * we need this to avoid circular references\n",
       " * http://stackoverflow.com/a/24161582/3208463\n",
       " */\n",
       "function simpleKeys (original) {\n",
       "  return Object.keys(original).reduce(function (obj, key) {\n",
       "    if (typeof original[key] !== 'object')\n",
       "        obj[key] = original[key]\n",
       "    return obj;\n",
       "  }, {});\n",
       "}\n",
       "\n",
       "mpl.figure.prototype.mouse_event = function(event, name) {\n",
       "    var canvas_pos = mpl.findpos(event)\n",
       "\n",
       "    if (name === 'button_press')\n",
       "    {\n",
       "        this.canvas.focus();\n",
       "        this.canvas_div.focus();\n",
       "    }\n",
       "\n",
       "    var x = canvas_pos.x;\n",
       "    var y = canvas_pos.y;\n",
       "\n",
       "    this.send_message(name, {x: x, y: y, button: event.button,\n",
       "                             step: event.step,\n",
       "                             guiEvent: simpleKeys(event)});\n",
       "\n",
       "    /* This prevents the web browser from automatically changing to\n",
       "     * the text insertion cursor when the button is pressed.  We want\n",
       "     * to control all of the cursor setting manually through the\n",
       "     * 'cursor' event from matplotlib */\n",
       "    event.preventDefault();\n",
       "    return false;\n",
       "}\n",
       "\n",
       "mpl.figure.prototype._key_event_extra = function(event, name) {\n",
       "    // Handle any extra behaviour associated with a key event\n",
       "}\n",
       "\n",
       "mpl.figure.prototype.key_event = function(event, name) {\n",
       "\n",
       "    // Prevent repeat events\n",
       "    if (name == 'key_press')\n",
       "    {\n",
       "        if (event.which === this._key)\n",
       "            return;\n",
       "        else\n",
       "            this._key = event.which;\n",
       "    }\n",
       "    if (name == 'key_release')\n",
       "        this._key = null;\n",
       "\n",
       "    var value = '';\n",
       "    if (event.ctrlKey && event.which != 17)\n",
       "        value += \"ctrl+\";\n",
       "    if (event.altKey && event.which != 18)\n",
       "        value += \"alt+\";\n",
       "    if (event.shiftKey && event.which != 16)\n",
       "        value += \"shift+\";\n",
       "\n",
       "    value += 'k';\n",
       "    value += event.which.toString();\n",
       "\n",
       "    this._key_event_extra(event, name);\n",
       "\n",
       "    this.send_message(name, {key: value,\n",
       "                             guiEvent: simpleKeys(event)});\n",
       "    return false;\n",
       "}\n",
       "\n",
       "mpl.figure.prototype.toolbar_button_onclick = function(name) {\n",
       "    if (name == 'download') {\n",
       "        this.handle_save(this, null);\n",
       "    } else {\n",
       "        this.send_message(\"toolbar_button\", {name: name});\n",
       "    }\n",
       "};\n",
       "\n",
       "mpl.figure.prototype.toolbar_button_onmouseover = function(tooltip) {\n",
       "    this.message.textContent = tooltip;\n",
       "};\n",
       "mpl.toolbar_items = [[\"Home\", \"Reset original view\", \"fa fa-home icon-home\", \"home\"], [\"Back\", \"Back to  previous view\", \"fa fa-arrow-left icon-arrow-left\", \"back\"], [\"Forward\", \"Forward to next view\", \"fa fa-arrow-right icon-arrow-right\", \"forward\"], [\"\", \"\", \"\", \"\"], [\"Pan\", \"Pan axes with left mouse, zoom with right\", \"fa fa-arrows icon-move\", \"pan\"], [\"Zoom\", \"Zoom to rectangle\", \"fa fa-square-o icon-check-empty\", \"zoom\"], [\"\", \"\", \"\", \"\"], [\"Download\", \"Download plot\", \"fa fa-floppy-o icon-save\", \"download\"]];\n",
       "\n",
       "mpl.extensions = [\"eps\", \"jpeg\", \"pdf\", \"png\", \"ps\", \"raw\", \"svg\", \"tif\"];\n",
       "\n",
       "mpl.default_extension = \"png\";var comm_websocket_adapter = function(comm) {\n",
       "    // Create a \"websocket\"-like object which calls the given IPython comm\n",
       "    // object with the appropriate methods. Currently this is a non binary\n",
       "    // socket, so there is still some room for performance tuning.\n",
       "    var ws = {};\n",
       "\n",
       "    ws.close = function() {\n",
       "        comm.close()\n",
       "    };\n",
       "    ws.send = function(m) {\n",
       "        //console.log('sending', m);\n",
       "        comm.send(m);\n",
       "    };\n",
       "    // Register the callback with on_msg.\n",
       "    comm.on_msg(function(msg) {\n",
       "        //console.log('receiving', msg['content']['data'], msg);\n",
       "        // Pass the mpl event to the overriden (by mpl) onmessage function.\n",
       "        ws.onmessage(msg['content']['data'])\n",
       "    });\n",
       "    return ws;\n",
       "}\n",
       "\n",
       "mpl.mpl_figure_comm = function(comm, msg) {\n",
       "    // This is the function which gets called when the mpl process\n",
       "    // starts-up an IPython Comm through the \"matplotlib\" channel.\n",
       "\n",
       "    var id = msg.content.data.id;\n",
       "    // Get hold of the div created by the display call when the Comm\n",
       "    // socket was opened in Python.\n",
       "    var element = $(\"#\" + id);\n",
       "    var ws_proxy = comm_websocket_adapter(comm)\n",
       "\n",
       "    function ondownload(figure, format) {\n",
       "        window.open(figure.imageObj.src);\n",
       "    }\n",
       "\n",
       "    var fig = new mpl.figure(id, ws_proxy,\n",
       "                           ondownload,\n",
       "                           element.get(0));\n",
       "\n",
       "    // Call onopen now - mpl needs it, as it is assuming we've passed it a real\n",
       "    // web socket which is closed, not our websocket->open comm proxy.\n",
       "    ws_proxy.onopen();\n",
       "\n",
       "    fig.parent_element = element.get(0);\n",
       "    fig.cell_info = mpl.find_output_cell(\"<div id='\" + id + \"'></div>\");\n",
       "    if (!fig.cell_info) {\n",
       "        console.error(\"Failed to find cell for figure\", id, fig);\n",
       "        return;\n",
       "    }\n",
       "\n",
       "    var output_index = fig.cell_info[2]\n",
       "    var cell = fig.cell_info[0];\n",
       "\n",
       "};\n",
       "\n",
       "mpl.figure.prototype.handle_close = function(fig, msg) {\n",
       "    fig.root.unbind('remove')\n",
       "\n",
       "    // Update the output cell to use the data from the current canvas.\n",
       "    fig.push_to_output();\n",
       "    var dataURL = fig.canvas.toDataURL();\n",
       "    // Re-enable the keyboard manager in IPython - without this line, in FF,\n",
       "    // the notebook keyboard shortcuts fail.\n",
       "    IPython.keyboard_manager.enable()\n",
       "    $(fig.parent_element).html('<img src=\"' + dataURL + '\">');\n",
       "    fig.close_ws(fig, msg);\n",
       "}\n",
       "\n",
       "mpl.figure.prototype.close_ws = function(fig, msg){\n",
       "    fig.send_message('closing', msg);\n",
       "    // fig.ws.close()\n",
       "}\n",
       "\n",
       "mpl.figure.prototype.push_to_output = function(remove_interactive) {\n",
       "    // Turn the data on the canvas into data in the output cell.\n",
       "    var dataURL = this.canvas.toDataURL();\n",
       "    this.cell_info[1]['text/html'] = '<img src=\"' + dataURL + '\">';\n",
       "}\n",
       "\n",
       "mpl.figure.prototype.updated_canvas_event = function() {\n",
       "    // Tell IPython that the notebook contents must change.\n",
       "    IPython.notebook.set_dirty(true);\n",
       "    this.send_message(\"ack\", {});\n",
       "    var fig = this;\n",
       "    // Wait a second, then push the new image to the DOM so\n",
       "    // that it is saved nicely (might be nice to debounce this).\n",
       "    setTimeout(function () { fig.push_to_output() }, 1000);\n",
       "}\n",
       "\n",
       "mpl.figure.prototype._init_toolbar = function() {\n",
       "    var fig = this;\n",
       "\n",
       "    var nav_element = $('<div/>')\n",
       "    nav_element.attr('style', 'width: 100%');\n",
       "    this.root.append(nav_element);\n",
       "\n",
       "    // Define a callback function for later on.\n",
       "    function toolbar_event(event) {\n",
       "        return fig.toolbar_button_onclick(event['data']);\n",
       "    }\n",
       "    function toolbar_mouse_event(event) {\n",
       "        return fig.toolbar_button_onmouseover(event['data']);\n",
       "    }\n",
       "\n",
       "    for(var toolbar_ind in mpl.toolbar_items){\n",
       "        var name = mpl.toolbar_items[toolbar_ind][0];\n",
       "        var tooltip = mpl.toolbar_items[toolbar_ind][1];\n",
       "        var image = mpl.toolbar_items[toolbar_ind][2];\n",
       "        var method_name = mpl.toolbar_items[toolbar_ind][3];\n",
       "\n",
       "        if (!name) { continue; };\n",
       "\n",
       "        var button = $('<button class=\"btn btn-default\" href=\"#\" title=\"' + name + '\"><i class=\"fa ' + image + ' fa-lg\"></i></button>');\n",
       "        button.click(method_name, toolbar_event);\n",
       "        button.mouseover(tooltip, toolbar_mouse_event);\n",
       "        nav_element.append(button);\n",
       "    }\n",
       "\n",
       "    // Add the status bar.\n",
       "    var status_bar = $('<span class=\"mpl-message\" style=\"text-align:right; float: right;\"/>');\n",
       "    nav_element.append(status_bar);\n",
       "    this.message = status_bar[0];\n",
       "\n",
       "    // Add the close button to the window.\n",
       "    var buttongrp = $('<div class=\"btn-group inline pull-right\"></div>');\n",
       "    var button = $('<button class=\"btn btn-mini btn-primary\" href=\"#\" title=\"Stop Interaction\"><i class=\"fa fa-power-off icon-remove icon-large\"></i></button>');\n",
       "    button.click(function (evt) { fig.handle_close(fig, {}); } );\n",
       "    button.mouseover('Stop Interaction', toolbar_mouse_event);\n",
       "    buttongrp.append(button);\n",
       "    var titlebar = this.root.find($('.ui-dialog-titlebar'));\n",
       "    titlebar.prepend(buttongrp);\n",
       "}\n",
       "\n",
       "mpl.figure.prototype._root_extra_style = function(el){\n",
       "    var fig = this\n",
       "    el.on(\"remove\", function(){\n",
       "\tfig.close_ws(fig, {});\n",
       "    });\n",
       "}\n",
       "\n",
       "mpl.figure.prototype._canvas_extra_style = function(el){\n",
       "    // this is important to make the div 'focusable\n",
       "    el.attr('tabindex', 0)\n",
       "    // reach out to IPython and tell the keyboard manager to turn it's self\n",
       "    // off when our div gets focus\n",
       "\n",
       "    // location in version 3\n",
       "    if (IPython.notebook.keyboard_manager) {\n",
       "        IPython.notebook.keyboard_manager.register_events(el);\n",
       "    }\n",
       "    else {\n",
       "        // location in version 2\n",
       "        IPython.keyboard_manager.register_events(el);\n",
       "    }\n",
       "\n",
       "}\n",
       "\n",
       "mpl.figure.prototype._key_event_extra = function(event, name) {\n",
       "    var manager = IPython.notebook.keyboard_manager;\n",
       "    if (!manager)\n",
       "        manager = IPython.keyboard_manager;\n",
       "\n",
       "    // Check for shift+enter\n",
       "    if (event.shiftKey && event.which == 13) {\n",
       "        this.canvas_div.blur();\n",
       "        event.shiftKey = false;\n",
       "        // Send a \"J\" for go to next cell\n",
       "        event.which = 74;\n",
       "        event.keyCode = 74;\n",
       "        manager.command_mode();\n",
       "        manager.handle_keydown(event);\n",
       "    }\n",
       "}\n",
       "\n",
       "mpl.figure.prototype.handle_save = function(fig, msg) {\n",
       "    fig.ondownload(fig, null);\n",
       "}\n",
       "\n",
       "\n",
       "mpl.find_output_cell = function(html_output) {\n",
       "    // Return the cell and output element which can be found *uniquely* in the notebook.\n",
       "    // Note - this is a bit hacky, but it is done because the \"notebook_saving.Notebook\"\n",
       "    // IPython event is triggered only after the cells have been serialised, which for\n",
       "    // our purposes (turning an active figure into a static one), is too late.\n",
       "    var cells = IPython.notebook.get_cells();\n",
       "    var ncells = cells.length;\n",
       "    for (var i=0; i<ncells; i++) {\n",
       "        var cell = cells[i];\n",
       "        if (cell.cell_type === 'code'){\n",
       "            for (var j=0; j<cell.output_area.outputs.length; j++) {\n",
       "                var data = cell.output_area.outputs[j];\n",
       "                if (data.data) {\n",
       "                    // IPython >= 3 moved mimebundle to data attribute of output\n",
       "                    data = data.data;\n",
       "                }\n",
       "                if (data['text/html'] == html_output) {\n",
       "                    return [cell, data, j];\n",
       "                }\n",
       "            }\n",
       "        }\n",
       "    }\n",
       "}\n",
       "\n",
       "// Register the function which deals with the matplotlib target/channel.\n",
       "// The kernel may be null if the page has been refreshed.\n",
       "if (IPython.notebook.kernel != null) {\n",
       "    IPython.notebook.kernel.comm_manager.register_target('matplotlib', mpl.mpl_figure_comm);\n",
       "}\n"
      ],
      "text/plain": [
       "<IPython.core.display.Javascript object>"
      ]
     },
     "metadata": {},
     "output_type": "display_data"
    },
    {
     "data": {
      "text/html": [
       "<img src=\"data:image/png;base64,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\">"
      ],
      "text/plain": [
       "<IPython.core.display.HTML object>"
      ]
     },
     "metadata": {},
     "output_type": "display_data"
    },
    {
     "data": {
      "text/plain": [
       "None"
      ]
     },
     "metadata": {},
     "output_type": "display_data"
    }
   ],
   "source": [
    "plt.figure()\n",
    "ax1 = plt.subplot(111)\n",
    "ax1.hold(False)\n",
    "\n",
    "display(display(widgets.HBox((x2_widget, x1_widget, x0_widget), width='50%')),\n",
    "        widgets.HBox((display_image_button, fit_curvature_button)))"
   ]
  },
  {
   "cell_type": "code",
   "execution_count": null,
   "metadata": {
    "collapsed": true,
    "scrolled": true
   },
   "outputs": [],
   "source": []
  }
 ],
 "metadata": {
  "anaconda-cloud": {},
  "kernelspec": {
   "display_name": "Python [conda env:rixs_analysis_py3]",
   "language": "python",
   "name": "conda-env-rixs_analysis_py3-py"
  },
  "language_info": {
   "codemirror_mode": {
    "name": "ipython",
    "version": 3
   },
   "file_extension": ".py",
   "mimetype": "text/x-python",
   "name": "python",
   "nbconvert_exporter": "python",
   "pygments_lexer": "ipython3",
   "version": "3.5.2"
  },
  "widgets": {
   "state": {
    "09c326e6b561452e89ca33b45bdd6df5": {
     "views": [
      {
       "cell_index": 7
      }
     ]
    },
    "0d4782c84f32464dbca6a3e1894553a8": {
     "views": [
      {
       "cell_index": 5
      }
     ]
    },
    "0ebe1db10ea7426e86d51c6ebcfe1ced": {
     "views": [
      {
       "cell_index": 5
      }
     ]
    },
    "184451e1382749ca9ba8d4349282a5cf": {
     "views": [
      {
       "cell_index": 9
      }
     ]
    },
    "1c125224962245878d7c6721adcb02a3": {
     "views": [
      {
       "cell_index": 7
      },
      {
       "cell_index": 7
      },
      {
       "cell_index": 7
      }
     ]
    },
    "22865a43a5e84a9ea37d8719a8f196b7": {
     "views": [
      {
       "cell_index": 5
      }
     ]
    },
    "234e3dab458c46ff91d5b9ede1c54c49": {
     "views": [
      {
       "cell_index": 5
      }
     ]
    },
    "2681461df39e4fd0b60309705c7eb947": {
     "views": [
      {
       "cell_index": 5
      },
      {
       "cell_index": 5
      }
     ]
    },
    "28f0bb093bcc4047a46e66e7a7d3b2fe": {
     "views": [
      {
       "cell_index": 7
      }
     ]
    },
    "2b91a597c594448387cd27603a0024fe": {
     "views": [
      {
       "cell_index": 5
      }
     ]
    },
    "2d4b46ba92e4499e999e032580341637": {
     "views": [
      {
       "cell_index": 7
      }
     ]
    },
    "2db92459f9674548976bd5f9c439d42f": {
     "views": [
      {
       "cell_index": 5
      }
     ]
    },
    "33d9c2f076b64599bfd114ca8019ee22": {
     "views": [
      {
       "cell_index": 7
      }
     ]
    },
    "38bb0d4a78684fb0a24e24d8f08fe4a8": {
     "views": [
      {
       "cell_index": 5
      }
     ]
    },
    "3c30b38ae8fc45b787e2f47a23b9e3e3": {
     "views": [
      {
       "cell_index": 5
      },
      {
       "cell_index": 5
      }
     ]
    },
    "4d5185ee0ec246ebac1fcd132b43c7a9": {
     "views": [
      {
       "cell_index": 7
      },
      {
       "cell_index": 7
      }
     ]
    },
    "4f84031b5fc549e59d8663f793f7711a": {
     "views": [
      {
       "cell_index": 7
      }
     ]
    },
    "5d191988963b49ea825a4b07f80c3329": {
     "views": [
      {
       "cell_index": 7
      }
     ]
    },
    "6b3a7f52085e48da879b006b777cdeb0": {
     "views": [
      {
       "cell_index": 7
      }
     ]
    },
    "6b9bfbf4b7334578a735f5289b0d271e": {
     "views": [
      {
       "cell_index": 8
      }
     ]
    },
    "6f7c3ac9221a4f669c5488b611397fbf": {
     "views": [
      {
       "cell_index": 6
      }
     ]
    },
    "740c88e1c32247199f3000ebcafc4193": {
     "views": [
      {
       "cell_index": 7
      }
     ]
    },
    "7a88fec5769f4d33b8cb9f6b91e5f032": {
     "views": [
      {
       "cell_index": 8
      }
     ]
    },
    "7f25fa7365c94ddc9c884d4df590ad22": {
     "views": [
      {
       "cell_index": 6
      }
     ]
    },
    "81db97f6d5f5484eb5a53f69cf6fe3c9": {
     "views": [
      {
       "cell_index": 7
      }
     ]
    },
    "84f77f5833bd4de4baad355cef928df9": {
     "views": [
      {
       "cell_index": 7
      }
     ]
    },
    "869cbe7dfc67430f9b45fa9572cc394a": {
     "views": [
      {
       "cell_index": 8
      }
     ]
    },
    "8ddb3d07b45a48a99c2e1f9d237f66ac": {
     "views": [
      {
       "cell_index": 5
      },
      {
       "cell_index": 5
      },
      {
       "cell_index": 5
      }
     ]
    },
    "9dfa68a280d8482a9eca64237504885a": {
     "views": [
      {
       "cell_index": 7
      }
     ]
    },
    "a0ef6f12383a4df1a76dc4e509687074": {
     "views": [
      {
       "cell_index": 5
      }
     ]
    },
    "a7d133b0159e4750b6e27b807974ea7c": {
     "views": [
      {
       "cell_index": 7
      },
      {
       "cell_index": 7
      },
      {
       "cell_index": 7
      }
     ]
    },
    "a856e74c5e8148c796bc5d7c28020ce3": {
     "views": [
      {
       "cell_index": 8
      }
     ]
    },
    "cea6d4fb5579459b836dffa68b7fb219": {
     "views": [
      {
       "cell_index": 7
      }
     ]
    },
    "cff0c8d636684e199c1a79941967ea3f": {
     "views": [
      {
       "cell_index": 7
      }
     ]
    },
    "df319715fba74af3bf78d08f9ba5d7a4": {
     "views": [
      {
       "cell_index": 5
      }
     ]
    },
    "dff95293fb114ad0ba37e4b91bd52217": {
     "views": [
      {
       "cell_index": 5
      }
     ]
    },
    "eb56f85958304e488f380bb1e8617dff": {
     "views": [
      {
       "cell_index": 5
      }
     ]
    },
    "f9ac2f50334e4399aaac778ae23e7c03": {
     "views": [
      {
       "cell_index": 7
      }
     ]
    },
    "faa4fd005d164b2b9fa906eea8c8bf23": {
     "views": [
      {
       "cell_index": 8
      }
     ]
    }
   },
   "version": "1.2.0"
  }
 },
 "nbformat": 4,
 "nbformat_minor": 1
}
