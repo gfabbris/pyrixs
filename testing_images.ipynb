{
 "cells": [
  {
   "cell_type": "code",
   "execution_count": 1,
   "metadata": {
    "collapsed": false
   },
   "outputs": [],
   "source": [
    "import numpy as np\n",
    "import pandas as pd\n",
    "\n",
    "import h5py, os, glob\n",
    "\n",
    "from collections import OrderedDict\n",
    "\n",
    "import matplotlib\n",
    "import matplotlib.pyplot as plt\n",
    "\n",
    "import ipywidgets as widgets\n",
    "from traitlets import dlink\n",
    "from IPython.display import display\n",
    "\n",
    "from RIXS_functions import *\n",
    "\n",
    "%matplotlib nbagg"
   ]
  },
  {
   "cell_type": "code",
   "execution_count": 2,
   "metadata": {
    "collapsed": false
   },
   "outputs": [],
   "source": [
    "search_path = '../../Iridates/Derek_SIO_STO/ADRESS_Dec_2016_STO-STO-LTNAO/SIO_STO/RIXS/*.h5'\n",
    "selected_image_name = get_all_image_names(search_path)[0]\n",
    "\n",
    "load_image(search_path, selected_image_name)"
   ]
  },
  {
   "cell_type": "code",
   "execution_count": 3,
   "metadata": {
    "collapsed": false
   },
   "outputs": [
    {
     "data": {
      "text/plain": [
       "array([[  248.31425476,   835.63897705],\n",
       "       [  251.3515625 ,   835.62774658],\n",
       "       [  256.28155518,   835.61395264],\n",
       "       ..., \n",
       "       [   84.96560669,   893.88110352],\n",
       "       [  349.4465332 ,   895.66729736],\n",
       "       [   89.19546509,  1067.23046875]])"
      ]
     },
     "execution_count": 3,
     "metadata": {},
     "output_type": "execute_result"
    }
   ],
   "source": [
    "Image['photon_events']"
   ]
  },
  {
   "cell_type": "code",
   "execution_count": null,
   "metadata": {
    "collapsed": true
   },
   "outputs": [],
   "source": []
  }
 ],
 "metadata": {
  "anaconda-cloud": {},
  "kernelspec": {
   "display_name": "Python [conda env:rixs_analysis_py3]",
   "language": "python",
   "name": "conda-env-rixs_analysis_py3-py"
  },
  "language_info": {
   "codemirror_mode": {
    "name": "ipython",
    "version": 3
   },
   "file_extension": ".py",
   "mimetype": "text/x-python",
   "name": "python",
   "nbconvert_exporter": "python",
   "pygments_lexer": "ipython3",
   "version": "3.5.2"
  },
  "widgets": {
   "state": {
    "2e49e29924b94649bc1454f5868c2c3b": {
     "views": [
      {
       "cell_index": 4
      }
     ]
    }
   },
   "version": "1.2.0"
  }
 },
 "nbformat": 4,
 "nbformat_minor": 1
}
