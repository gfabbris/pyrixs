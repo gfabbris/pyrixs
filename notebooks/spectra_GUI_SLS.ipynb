{
 "cells": [
  {
   "cell_type": "code",
   "execution_count": 1,
   "metadata": {
    "collapsed": true,
    "deletable": true,
    "editable": true,
    "extensions": {
     "jupyter_dashboards": {
      "version": 1,
      "views": {
       "grid_default": {
        "hidden": true
       },
       "report_default": {}
      }
     }
    },
    "scrolled": true
   },
   "outputs": [],
   "source": [
    "import numpy as np\n",
    "import pandas as pd\n",
    "\n",
    "import os, glob\n",
    "\n",
    "from collections import OrderedDict\n",
    "\n",
    "import matplotlib\n",
    "import matplotlib.pyplot as plt\n",
    "\n",
    "import ipywidgets as widgets\n",
    "from traitlets import dlink\n",
    "from IPython.display import display, clear_output\n",
    "\n",
    "import lmfit\n",
    "\n",
    "from pyrixs import process1d\n",
    "\n",
    "\n",
    "import h5py\n",
    "\n",
    "%matplotlib nbagg"
   ]
  },
  {
   "cell_type": "code",
   "execution_count": 2,
   "metadata": {
    "collapsed": true,
    "deletable": true,
    "editable": true,
    "extensions": {
     "jupyter_dashboards": {
      "version": 1,
      "views": {
       "grid_default": {
        "hidden": true
       },
       "report_default": {}
      }
     }
    },
    "scrolled": false
   },
   "outputs": [],
   "source": [
    "#global Data\n",
    "Data = OrderedDict({\n",
    "'raw_spectra' : pd.Series(np.array([])),\n",
    "'shifts' : pd.Series(np.array([])),\n",
    "'reference' : '',\n",
    "'aligned_spectra' : pd.Series(np.array([])),\n",
    "'raw_spectrum' : pd.Series(np.array([])),\n",
    "'calibrated_spectrum' : pd.Series(np.array([])),\n",
    "'meta': '',\n",
    "'save_filename': '',\n",
    "'fit_result' : None\n",
    "})\n",
    "\n",
    "AXES = OrderedDict(ax1=None, ax2=None, ax3=None, ax4=None)"
   ]
  },
  {
   "cell_type": "code",
   "execution_count": 3,
   "metadata": {
    "collapsed": true,
    "deletable": true,
    "editable": true,
    "extensions": {
     "jupyter_dashboards": {
      "version": 1,
      "views": {
       "grid_default": {
        "hidden": true
       },
       "report_default": {
        "hidden": true
       }
      }
     }
    },
    "scrolled": false
   },
   "outputs": [],
   "source": [
    "## SEPARATE FUNCTIONS DEFINED HERE ##\n",
    "def get_E_pol(search_path, filename):\n",
    "    \"\"\"Get Photon energy and polarization from SLS h5 file\"\"\"\n",
    "    with h5py.File(os.path.join(search_path, filename), mode='r') as h5file:\n",
    "        ein = np.mean(h5file['entry']['instrument']['NDAttributes']['PhotonEnergy'].value)\n",
    "        temp = np.mean(h5file['entry']['instrument']['NDAttributes']['SampleTemp'].value)\n",
    "        pol10 = np.mean(h5file['entry']['instrument']['NDAttributes']['PolarMode'].value)\n",
    "    if pol10 == 0:\n",
    "        pol = 'LH'\n",
    "    elif pol10 == 1:\n",
    "        pol = 'LV'\n",
    "    return ein, pol, temp\n",
    "\n",
    "\n",
    "def check_processed(search_path,filename):\n",
    "    \"\"\"Check if spectrum has been aligned before. If so load previously used parameters.\"\"\"\n",
    "    try:\n",
    "        processed_file = open(os.path.join(search_path, filename),'r').readlines()\n",
    "        message = 'It looks like these scans have been processed!\\n'\n",
    "        message += 'The parameters that were used will be loaded.\\n\\n'\n",
    "        message_widget.value += message\n",
    "        for line in processed_file:\n",
    "            if 'Align min' in line:\n",
    "                align_min_widget.value = float(line.split('=')[-1])\n",
    "            elif 'Align max' in line:\n",
    "                align_max_widget.value = float(line.split('=')[-1])\n",
    "            elif 'Zero energy pixel ' in line:\n",
    "                zero_energy_widget.value = float(line.split('=')[-1])\n",
    "                \n",
    "    except FileNotFoundError:\n",
    "        return\n",
    "    \n",
    "# unused, but keep for now. Delete later\n",
    "def test_files_exist(folder, filenames):\n",
    "    for filename in filenames:\n",
    "        filepath = os.path.join(folder, filename)\n",
    "        assert os.path.isfile(filepath), \"{} Does not exist\".format(filepath)"
   ]
  },
  {
   "cell_type": "code",
   "execution_count": 4,
   "metadata": {
    "collapsed": false,
    "deletable": true,
    "editable": true,
    "extensions": {
     "jupyter_dashboards": {
      "version": 1,
      "views": {
       "grid_default": {
        "hidden": true
       },
       "report_default": {}
      }
     }
    },
    "scrolled": false
   },
   "outputs": [],
   "source": [
    "## WIDGETS DEFINED HERE ##\n",
    "\n",
    "# Folder to search images for\n",
    "input_folder_widget = widgets.Text(\n",
    "    value='test_data/',  \n",
    "    description='Input folder',\n",
    "    width='500px',\n",
    ")\n",
    "\n",
    "# Folder to search background for\n",
    "output_folder_widget = widgets.Text(\n",
    "    value='TEST/',  \n",
    "    description='Output folder',\n",
    "    width='500px',\n",
    ")\n",
    "\n",
    "ee_pix_widget = widgets.FloatText(\n",
    "    value=0.00915,  \n",
    "    description='Energy per pixel',\n",
    "    width='500px',\n",
    ")\n",
    "\n",
    "\n",
    "display_shifts_widget =widgets.HTML(\n",
    "    value=\"\",\n",
    ")\n",
    "\n",
    "output_filename_widget = widgets.Text(\n",
    "    value='file_out_name',  \n",
    "    description='Output filename',\n",
    "    width='500px',\n",
    ")\n",
    "\n",
    "scan_number_widget = widgets.Text(\n",
    "    value='0609',  \n",
    "    description='Scan number',\n",
    "    width='500px',\n",
    ")\n",
    "\n",
    "output_header_widget = widgets.Text(\n",
    "    value='description of sample and conditions',\n",
    "    description='Output header',\n",
    "    width='500px',\n",
    ")\n",
    "\n",
    "load_plot_button = widgets.Button(\n",
    "    description='Load and plot data',\n",
    ")\n",
    "\n",
    "fit_button = widgets.Button(\n",
    "    description='Fit',\n",
    ")\n",
    "\n",
    "align_min_widget = widgets.FloatText(description='Align min', value=100)\n",
    "align_max_widget = widgets.FloatText(description='Align max', value=3000)\n",
    "zero_energy_widget = widgets.FloatText(description='Zero energy pixel',value=900)\n",
    "\n",
    "reset_shifts_button = widgets.Button(description = 'Reset shifts')\n",
    "\n",
    "plot_range_widget = widgets.IntRangeSlider(\n",
    "    value=[1, 3200],\n",
    "    min=0,\n",
    "    max=3500,\n",
    "    step=10,\n",
    "    description='Plot pixel limit',\n",
    "    disabled=False,\n",
    "    continuous_update=False,\n",
    "    orientation='horizontal',\n",
    "    readout=True,\n",
    "    readout_format='i',\n",
    "    slider_color='white',\n",
    "    color='black',\n",
    "    layout=widgets.Layout(width='50%')\n",
    ")\n",
    "\n",
    "message_widget = widgets.Textarea(description=\"Messages\", value = '', width='2000px', height='2000px')"
   ]
  },
  {
   "cell_type": "code",
   "execution_count": 5,
   "metadata": {
    "collapsed": false,
    "deletable": true,
    "editable": true,
    "extensions": {
     "jupyter_dashboards": {
      "version": 1,
      "views": {
       "grid_default": {
        "hidden": true
       },
       "report_default": {}
      }
     }
    },
    "scrolled": false
   },
   "outputs": [],
   "source": [
    "## FUNCTIONS BOUND TO WIDGETS ##\n",
    "def wrap_load_plot(change):\n",
    "\n",
    "    Data['meta'] = '# ' + output_header_widget.value + '\\n'\n",
    "    scans = scan_number_widget.value.split()\n",
    "    filenames = ['Co_' + '{:04d}_d{}.h5'.format(int(scan), det) for det in [1,2,3] for scan in scans]\n",
    "    ein, pol, temp = get_E_pol(input_folder_widget.value, filenames[0])\n",
    "    Data['save_filename'] = output_filename_widget.value + '_{:0.2f}eV_{}.dat'.format(ein,pol)\n",
    "    \n",
    "    check_processed(output_folder_widget.value,Data['save_filename'])\n",
    "    \n",
    "    Data['raw_spectra'] = process1d.load_spectra(input_folder_widget.value, filenames)\n",
    "    \n",
    "    if len(Data['raw_spectra'].columns) != len(Data['shifts']):\n",
    "        Data['shifts'] = pd.Series(data=np.zeros(len(Data['raw_spectra'].columns)), index=Data['raw_spectra'].columns)\n",
    "    else: \n",
    "        Data['shifts'].index = pd.Index(filenames)\n",
    "    \n",
    "    Data['reference'] = Data['raw_spectra'].columns[0]\n",
    "    display_shifts_widget.value = pd.DataFrame(Data['shifts'], columns=['shifts']).to_html()\n",
    "    process_plot(Data)\n",
    "    \n",
    "    message = 'Loaded \\n' + '\\n'.join(filenames) + '\\n\\n'\n",
    "    message_widget.value += message\n",
    "\n",
    "load_plot_button.on_click(wrap_load_plot)\n",
    "\n",
    "def process_plot(Data):\n",
    "    \n",
    "    #clear_output()\n",
    "\n",
    "    Data['aligned_spectra'] = process1d.apply_shifts(Data['raw_spectra'].copy(), Data['shifts'])\n",
    "\n",
    "    raw_spectrum, _ = process1d.sum_spectra(Data['aligned_spectra'], Data['shifts'])\n",
    "    Data['calibrated_spectrum'] = process1d.calibrate_spectrum(raw_spectrum.copy(), zero_energy_widget.value, \n",
    "                                                               -1*ee_pix_widget.value)\n",
    "    \n",
    "    fig = plt.figure(1, figsize=(9,9))\n",
    "    fig.clf()\n",
    "    \n",
    "    ax1 = fig.add_subplot(221)\n",
    "    art1 = process1d.plot_spectra(ax1, Data['raw_spectra'], align_min=align_min_widget.value, align_max=align_max_widget.value)\n",
    "    ax1.axvline(x=zero_energy_widget.value, linestyle=':', color='k')\n",
    "    ax1.set_xlim(plot_range_widget.value[0],plot_range_widget.value[1])\n",
    "    \n",
    "    ax2 = fig.add_subplot(222)\n",
    "    art2 = process1d.plot_shifts(ax2, Data['shifts'])\n",
    "    labels = [item.get_text() for item in ax2.get_xticklabels()]\n",
    "    ax2.set_xticklabels(labels, rotation=20)\n",
    "    \n",
    "    ax3 = fig.add_subplot(223)\n",
    "    art3 = process1d.plot_spectra(ax3, Data['aligned_spectra'])\n",
    "    ax3.set_xlim(plot_range_widget.value[0],plot_range_widget.value[1])\n",
    "    \n",
    "    ax4 = fig.add_subplot(224)\n",
    "    art4 = process1d.plot_sum(ax4, Data['calibrated_spectrum'])\n",
    "    ax4.axvline(0, linestyle=':', color='k')\n",
    "    ax4.set_xlim((plot_range_widget.value[1]-zero_energy_widget.value)*(-1)*ee_pix_widget.value,\n",
    "             (plot_range_widget.value[0]-zero_energy_widget.value)*(-1)*ee_pix_widget.value)\n",
    "    \n",
    "    ax1.legend_.remove()\n",
    "    ax3.legend_.remove()\n",
    "    \n",
    "    AXES.update(OrderedDict(ax1=ax1, ax2=ax2, ax3=ax3, ax4=ax4))\n",
    "\n",
    "def wrap_reset_shifts(change):\n",
    "    Data['shifts'] = pd.Series(data=np.zeros(len(Data['raw_spectra'].columns)), index=Data['raw_spectra'].columns)\n",
    "    display_shifts_widget.value = pd.DataFrame(Data['shifts'], columns=['shifts']).to_html()\n",
    "    process_plot(Data)\n",
    "    \n",
    "    message = \"Shifts are \\n\" + Data['shifts'].to_string() + \"\\n\\n\"\n",
    "    message_widget.value += message\n",
    "\n",
    "reset_shifts_button.on_click(wrap_reset_shifts)\n",
    "\n",
    "align_button = widgets.Button(description = 'Align')\n",
    "\n",
    "def wrap_align(change):\n",
    "\n",
    "    # Align spectra\n",
    "    Data['shifts'] = process1d.get_shifts(Data['raw_spectra'], Data['raw_spectra'][Data['reference']], \n",
    "                                  align_min=align_min_widget.value, align_max=align_max_widget.value, background=0.)\n",
    "    display_shifts_widget.value = pd.DataFrame(Data['shifts'], columns=['shifts']).to_html()\n",
    "    process_plot(Data)\n",
    "    \n",
    "    message = \"Shifts are \\n\" + Data['shifts'].to_string() + \"\\n\"\n",
    "    message_widget.value += message\n",
    "    \n",
    "\n",
    "align_button.on_click(wrap_align)\n",
    "\n",
    "save_data_button = widgets.Button(description = 'Save data')\n",
    "\n",
    "def wrap_fit(change):\n",
    "    \n",
    "    xmin, xmax, ymin, ymax = AXES['ax1'].axis()\n",
    "    spec = Data['raw_spectra'][Data['reference']]\n",
    "    cut_spec = spec[(spec.index >= xmin) & (spec.index <= xmax)]\n",
    "    \n",
    "    Data['fit_result'] = process1d.fit_elastic(cut_spec.index, cut_spec.values, xmin, xmax, ymin, ymax)\n",
    "    \n",
    "    zero_energy_widget.value = Data['fit_result'].best_values['center']\n",
    "    \n",
    "    process_plot(Data)\n",
    "    AXES['ax1'].plot(cut_spec.index, Data['fit_result'].best_fit, 'rx-')\n",
    "    \n",
    "    message = \"Fit result: \\n\"\n",
    "    message += \"\\n\".join([\"{} = {:.4f}\".format(var, val) for var, val in Data['fit_result'].best_values.items()])\n",
    "    message += \"\\n\"\n",
    "    message_widget.value += message\n",
    "\n",
    "fit_button.on_click(wrap_fit)\n",
    "\n",
    "def wrap_save_data(change):\n",
    "    \n",
    "    Data['meta'] += '# Energy per pixel = {:0.1f} meV\\n'.format(ee_pix_widget.value*1000.)\n",
    "    Data['meta'] += '# Zero energy pixel = {:0.2f}\\n'.format(zero_energy_widget.value)\n",
    "    Data['meta'] += '# Align min = {:0.2f}\\n'.format(align_min_widget.value)\n",
    "    Data['meta'] += '# Align max = {:0.2f}\\n'.format(align_max_widget.value)\n",
    "    \n",
    "    process_meta = ''.join('# {}\\t {} \\n'.format(name, shift) \n",
    "                           for name, shift in Data['shifts'].iteritems())\n",
    "\n",
    "        \n",
    "    Data['meta'] += process_meta + '# Energy (eV) Intensity\\n'\n",
    "    \n",
    "    save_filepath = os.path.join(output_folder_widget.value, Data['save_filename'])\n",
    "    process1d.save_spectrum(save_filepath, Data['calibrated_spectrum'], Data['meta'])\n",
    "    message = \"Wrote to {}\".format(save_filepath) + '\\n'\n",
    "    message_widget.value += message\n",
    "\n",
    "save_data_button.on_click(wrap_save_data)"
   ]
  },
  {
   "cell_type": "code",
   "execution_count": 6,
   "metadata": {
    "collapsed": false,
    "deletable": true,
    "editable": true,
    "extensions": {
     "jupyter_dashboards": {
      "version": 1,
      "views": {
       "grid_default": {
        "col": 0,
        "height": 40,
        "hidden": false,
        "row": 0,
        "width": 10
       },
       "report_default": {}
      }
     }
    },
    "scrolled": false
   },
   "outputs": [
    {
     "data": {
      "application/vnd.jupyter.widget-view+json": {
       "model_id": "40bc596002234eb9a7768691b636002a"
      }
     },
     "metadata": {},
     "output_type": "display_data"
    },
    {
     "data": {
      "application/vnd.jupyter.widget-view+json": {
       "model_id": "d133d6d0460346b98db09c1ad8962091"
      }
     },
     "metadata": {},
     "output_type": "display_data"
    },
    {
     "data": {
      "application/vnd.jupyter.widget-view+json": {
       "model_id": "8c1633ed17ba46969a6b8aef0aaecc68"
      }
     },
     "metadata": {},
     "output_type": "display_data"
    },
    {
     "data": {
      "application/vnd.jupyter.widget-view+json": {
       "model_id": "7ac0ee64cf554d88bf4c883a40c2d8c9"
      }
     },
     "metadata": {},
     "output_type": "display_data"
    },
    {
     "data": {
      "application/vnd.jupyter.widget-view+json": {
       "model_id": "5d513e0ef4094a9e97b6fd6ad6c0f43b"
      }
     },
     "metadata": {},
     "output_type": "display_data"
    },
    {
     "data": {
      "application/javascript": [
       "/* Put everything inside the global mpl namespace */\n",
       "window.mpl = {};\n",
       "\n",
       "\n",
       "mpl.get_websocket_type = function() {\n",
       "    if (typeof(WebSocket) !== 'undefined') {\n",
       "        return WebSocket;\n",
       "    } else if (typeof(MozWebSocket) !== 'undefined') {\n",
       "        return MozWebSocket;\n",
       "    } else {\n",
       "        alert('Your browser does not have WebSocket support.' +\n",
       "              'Please try Chrome, Safari or Firefox ≥ 6. ' +\n",
       "              'Firefox 4 and 5 are also supported but you ' +\n",
       "              'have to enable WebSockets in about:config.');\n",
       "    };\n",
       "}\n",
       "\n",
       "mpl.figure = function(figure_id, websocket, ondownload, parent_element) {\n",
       "    this.id = figure_id;\n",
       "\n",
       "    this.ws = websocket;\n",
       "\n",
       "    this.supports_binary = (this.ws.binaryType != undefined);\n",
       "\n",
       "    if (!this.supports_binary) {\n",
       "        var warnings = document.getElementById(\"mpl-warnings\");\n",
       "        if (warnings) {\n",
       "            warnings.style.display = 'block';\n",
       "            warnings.textContent = (\n",
       "                \"This browser does not support binary websocket messages. \" +\n",
       "                    \"Performance may be slow.\");\n",
       "        }\n",
       "    }\n",
       "\n",
       "    this.imageObj = new Image();\n",
       "\n",
       "    this.context = undefined;\n",
       "    this.message = undefined;\n",
       "    this.canvas = undefined;\n",
       "    this.rubberband_canvas = undefined;\n",
       "    this.rubberband_context = undefined;\n",
       "    this.format_dropdown = undefined;\n",
       "\n",
       "    this.image_mode = 'full';\n",
       "\n",
       "    this.root = $('<div/>');\n",
       "    this._root_extra_style(this.root)\n",
       "    this.root.attr('style', 'display: inline-block');\n",
       "\n",
       "    $(parent_element).append(this.root);\n",
       "\n",
       "    this._init_header(this);\n",
       "    this._init_canvas(this);\n",
       "    this._init_toolbar(this);\n",
       "\n",
       "    var fig = this;\n",
       "\n",
       "    this.waiting = false;\n",
       "\n",
       "    this.ws.onopen =  function () {\n",
       "            fig.send_message(\"supports_binary\", {value: fig.supports_binary});\n",
       "            fig.send_message(\"send_image_mode\", {});\n",
       "            if (mpl.ratio != 1) {\n",
       "                fig.send_message(\"set_dpi_ratio\", {'dpi_ratio': mpl.ratio});\n",
       "            }\n",
       "            fig.send_message(\"refresh\", {});\n",
       "        }\n",
       "\n",
       "    this.imageObj.onload = function() {\n",
       "            if (fig.image_mode == 'full') {\n",
       "                // Full images could contain transparency (where diff images\n",
       "                // almost always do), so we need to clear the canvas so that\n",
       "                // there is no ghosting.\n",
       "                fig.context.clearRect(0, 0, fig.canvas.width, fig.canvas.height);\n",
       "            }\n",
       "            fig.context.drawImage(fig.imageObj, 0, 0);\n",
       "        };\n",
       "\n",
       "    this.imageObj.onunload = function() {\n",
       "        this.ws.close();\n",
       "    }\n",
       "\n",
       "    this.ws.onmessage = this._make_on_message_function(this);\n",
       "\n",
       "    this.ondownload = ondownload;\n",
       "}\n",
       "\n",
       "mpl.figure.prototype._init_header = function() {\n",
       "    var titlebar = $(\n",
       "        '<div class=\"ui-dialog-titlebar ui-widget-header ui-corner-all ' +\n",
       "        'ui-helper-clearfix\"/>');\n",
       "    var titletext = $(\n",
       "        '<div class=\"ui-dialog-title\" style=\"width: 100%; ' +\n",
       "        'text-align: center; padding: 3px;\"/>');\n",
       "    titlebar.append(titletext)\n",
       "    this.root.append(titlebar);\n",
       "    this.header = titletext[0];\n",
       "}\n",
       "\n",
       "\n",
       "\n",
       "mpl.figure.prototype._canvas_extra_style = function(canvas_div) {\n",
       "\n",
       "}\n",
       "\n",
       "\n",
       "mpl.figure.prototype._root_extra_style = function(canvas_div) {\n",
       "\n",
       "}\n",
       "\n",
       "mpl.figure.prototype._init_canvas = function() {\n",
       "    var fig = this;\n",
       "\n",
       "    var canvas_div = $('<div/>');\n",
       "\n",
       "    canvas_div.attr('style', 'position: relative; clear: both; outline: 0');\n",
       "\n",
       "    function canvas_keyboard_event(event) {\n",
       "        return fig.key_event(event, event['data']);\n",
       "    }\n",
       "\n",
       "    canvas_div.keydown('key_press', canvas_keyboard_event);\n",
       "    canvas_div.keyup('key_release', canvas_keyboard_event);\n",
       "    this.canvas_div = canvas_div\n",
       "    this._canvas_extra_style(canvas_div)\n",
       "    this.root.append(canvas_div);\n",
       "\n",
       "    var canvas = $('<canvas/>');\n",
       "    canvas.addClass('mpl-canvas');\n",
       "    canvas.attr('style', \"left: 0; top: 0; z-index: 0; outline: 0\")\n",
       "\n",
       "    this.canvas = canvas[0];\n",
       "    this.context = canvas[0].getContext(\"2d\");\n",
       "\n",
       "    var backingStore = this.context.backingStorePixelRatio ||\n",
       "\tthis.context.webkitBackingStorePixelRatio ||\n",
       "\tthis.context.mozBackingStorePixelRatio ||\n",
       "\tthis.context.msBackingStorePixelRatio ||\n",
       "\tthis.context.oBackingStorePixelRatio ||\n",
       "\tthis.context.backingStorePixelRatio || 1;\n",
       "\n",
       "    mpl.ratio = (window.devicePixelRatio || 1) / backingStore;\n",
       "\n",
       "    var rubberband = $('<canvas/>');\n",
       "    rubberband.attr('style', \"position: absolute; left: 0; top: 0; z-index: 1;\")\n",
       "\n",
       "    var pass_mouse_events = true;\n",
       "\n",
       "    canvas_div.resizable({\n",
       "        start: function(event, ui) {\n",
       "            pass_mouse_events = false;\n",
       "        },\n",
       "        resize: function(event, ui) {\n",
       "            fig.request_resize(ui.size.width, ui.size.height);\n",
       "        },\n",
       "        stop: function(event, ui) {\n",
       "            pass_mouse_events = true;\n",
       "            fig.request_resize(ui.size.width, ui.size.height);\n",
       "        },\n",
       "    });\n",
       "\n",
       "    function mouse_event_fn(event) {\n",
       "        if (pass_mouse_events)\n",
       "            return fig.mouse_event(event, event['data']);\n",
       "    }\n",
       "\n",
       "    rubberband.mousedown('button_press', mouse_event_fn);\n",
       "    rubberband.mouseup('button_release', mouse_event_fn);\n",
       "    // Throttle sequential mouse events to 1 every 20ms.\n",
       "    rubberband.mousemove('motion_notify', mouse_event_fn);\n",
       "\n",
       "    rubberband.mouseenter('figure_enter', mouse_event_fn);\n",
       "    rubberband.mouseleave('figure_leave', mouse_event_fn);\n",
       "\n",
       "    canvas_div.on(\"wheel\", function (event) {\n",
       "        event = event.originalEvent;\n",
       "        event['data'] = 'scroll'\n",
       "        if (event.deltaY < 0) {\n",
       "            event.step = 1;\n",
       "        } else {\n",
       "            event.step = -1;\n",
       "        }\n",
       "        mouse_event_fn(event);\n",
       "    });\n",
       "\n",
       "    canvas_div.append(canvas);\n",
       "    canvas_div.append(rubberband);\n",
       "\n",
       "    this.rubberband = rubberband;\n",
       "    this.rubberband_canvas = rubberband[0];\n",
       "    this.rubberband_context = rubberband[0].getContext(\"2d\");\n",
       "    this.rubberband_context.strokeStyle = \"#000000\";\n",
       "\n",
       "    this._resize_canvas = function(width, height) {\n",
       "        // Keep the size of the canvas, canvas container, and rubber band\n",
       "        // canvas in synch.\n",
       "        canvas_div.css('width', width)\n",
       "        canvas_div.css('height', height)\n",
       "\n",
       "        canvas.attr('width', width * mpl.ratio);\n",
       "        canvas.attr('height', height * mpl.ratio);\n",
       "        canvas.attr('style', 'width: ' + width + 'px; height: ' + height + 'px;');\n",
       "\n",
       "        rubberband.attr('width', width);\n",
       "        rubberband.attr('height', height);\n",
       "    }\n",
       "\n",
       "    // Set the figure to an initial 600x600px, this will subsequently be updated\n",
       "    // upon first draw.\n",
       "    this._resize_canvas(600, 600);\n",
       "\n",
       "    // Disable right mouse context menu.\n",
       "    $(this.rubberband_canvas).bind(\"contextmenu\",function(e){\n",
       "        return false;\n",
       "    });\n",
       "\n",
       "    function set_focus () {\n",
       "        canvas.focus();\n",
       "        canvas_div.focus();\n",
       "    }\n",
       "\n",
       "    window.setTimeout(set_focus, 100);\n",
       "}\n",
       "\n",
       "mpl.figure.prototype._init_toolbar = function() {\n",
       "    var fig = this;\n",
       "\n",
       "    var nav_element = $('<div/>')\n",
       "    nav_element.attr('style', 'width: 100%');\n",
       "    this.root.append(nav_element);\n",
       "\n",
       "    // Define a callback function for later on.\n",
       "    function toolbar_event(event) {\n",
       "        return fig.toolbar_button_onclick(event['data']);\n",
       "    }\n",
       "    function toolbar_mouse_event(event) {\n",
       "        return fig.toolbar_button_onmouseover(event['data']);\n",
       "    }\n",
       "\n",
       "    for(var toolbar_ind in mpl.toolbar_items) {\n",
       "        var name = mpl.toolbar_items[toolbar_ind][0];\n",
       "        var tooltip = mpl.toolbar_items[toolbar_ind][1];\n",
       "        var image = mpl.toolbar_items[toolbar_ind][2];\n",
       "        var method_name = mpl.toolbar_items[toolbar_ind][3];\n",
       "\n",
       "        if (!name) {\n",
       "            // put a spacer in here.\n",
       "            continue;\n",
       "        }\n",
       "        var button = $('<button/>');\n",
       "        button.addClass('ui-button ui-widget ui-state-default ui-corner-all ' +\n",
       "                        'ui-button-icon-only');\n",
       "        button.attr('role', 'button');\n",
       "        button.attr('aria-disabled', 'false');\n",
       "        button.click(method_name, toolbar_event);\n",
       "        button.mouseover(tooltip, toolbar_mouse_event);\n",
       "\n",
       "        var icon_img = $('<span/>');\n",
       "        icon_img.addClass('ui-button-icon-primary ui-icon');\n",
       "        icon_img.addClass(image);\n",
       "        icon_img.addClass('ui-corner-all');\n",
       "\n",
       "        var tooltip_span = $('<span/>');\n",
       "        tooltip_span.addClass('ui-button-text');\n",
       "        tooltip_span.html(tooltip);\n",
       "\n",
       "        button.append(icon_img);\n",
       "        button.append(tooltip_span);\n",
       "\n",
       "        nav_element.append(button);\n",
       "    }\n",
       "\n",
       "    var fmt_picker_span = $('<span/>');\n",
       "\n",
       "    var fmt_picker = $('<select/>');\n",
       "    fmt_picker.addClass('mpl-toolbar-option ui-widget ui-widget-content');\n",
       "    fmt_picker_span.append(fmt_picker);\n",
       "    nav_element.append(fmt_picker_span);\n",
       "    this.format_dropdown = fmt_picker[0];\n",
       "\n",
       "    for (var ind in mpl.extensions) {\n",
       "        var fmt = mpl.extensions[ind];\n",
       "        var option = $(\n",
       "            '<option/>', {selected: fmt === mpl.default_extension}).html(fmt);\n",
       "        fmt_picker.append(option)\n",
       "    }\n",
       "\n",
       "    // Add hover states to the ui-buttons\n",
       "    $( \".ui-button\" ).hover(\n",
       "        function() { $(this).addClass(\"ui-state-hover\");},\n",
       "        function() { $(this).removeClass(\"ui-state-hover\");}\n",
       "    );\n",
       "\n",
       "    var status_bar = $('<span class=\"mpl-message\"/>');\n",
       "    nav_element.append(status_bar);\n",
       "    this.message = status_bar[0];\n",
       "}\n",
       "\n",
       "mpl.figure.prototype.request_resize = function(x_pixels, y_pixels) {\n",
       "    // Request matplotlib to resize the figure. Matplotlib will then trigger a resize in the client,\n",
       "    // which will in turn request a refresh of the image.\n",
       "    this.send_message('resize', {'width': x_pixels, 'height': y_pixels});\n",
       "}\n",
       "\n",
       "mpl.figure.prototype.send_message = function(type, properties) {\n",
       "    properties['type'] = type;\n",
       "    properties['figure_id'] = this.id;\n",
       "    this.ws.send(JSON.stringify(properties));\n",
       "}\n",
       "\n",
       "mpl.figure.prototype.send_draw_message = function() {\n",
       "    if (!this.waiting) {\n",
       "        this.waiting = true;\n",
       "        this.ws.send(JSON.stringify({type: \"draw\", figure_id: this.id}));\n",
       "    }\n",
       "}\n",
       "\n",
       "\n",
       "mpl.figure.prototype.handle_save = function(fig, msg) {\n",
       "    var format_dropdown = fig.format_dropdown;\n",
       "    var format = format_dropdown.options[format_dropdown.selectedIndex].value;\n",
       "    fig.ondownload(fig, format);\n",
       "}\n",
       "\n",
       "\n",
       "mpl.figure.prototype.handle_resize = function(fig, msg) {\n",
       "    var size = msg['size'];\n",
       "    if (size[0] != fig.canvas.width || size[1] != fig.canvas.height) {\n",
       "        fig._resize_canvas(size[0], size[1]);\n",
       "        fig.send_message(\"refresh\", {});\n",
       "    };\n",
       "}\n",
       "\n",
       "mpl.figure.prototype.handle_rubberband = function(fig, msg) {\n",
       "    var x0 = msg['x0'] / mpl.ratio;\n",
       "    var y0 = (fig.canvas.height - msg['y0']) / mpl.ratio;\n",
       "    var x1 = msg['x1'] / mpl.ratio;\n",
       "    var y1 = (fig.canvas.height - msg['y1']) / mpl.ratio;\n",
       "    x0 = Math.floor(x0) + 0.5;\n",
       "    y0 = Math.floor(y0) + 0.5;\n",
       "    x1 = Math.floor(x1) + 0.5;\n",
       "    y1 = Math.floor(y1) + 0.5;\n",
       "    var min_x = Math.min(x0, x1);\n",
       "    var min_y = Math.min(y0, y1);\n",
       "    var width = Math.abs(x1 - x0);\n",
       "    var height = Math.abs(y1 - y0);\n",
       "\n",
       "    fig.rubberband_context.clearRect(\n",
       "        0, 0, fig.canvas.width, fig.canvas.height);\n",
       "\n",
       "    fig.rubberband_context.strokeRect(min_x, min_y, width, height);\n",
       "}\n",
       "\n",
       "mpl.figure.prototype.handle_figure_label = function(fig, msg) {\n",
       "    // Updates the figure title.\n",
       "    fig.header.textContent = msg['label'];\n",
       "}\n",
       "\n",
       "mpl.figure.prototype.handle_cursor = function(fig, msg) {\n",
       "    var cursor = msg['cursor'];\n",
       "    switch(cursor)\n",
       "    {\n",
       "    case 0:\n",
       "        cursor = 'pointer';\n",
       "        break;\n",
       "    case 1:\n",
       "        cursor = 'default';\n",
       "        break;\n",
       "    case 2:\n",
       "        cursor = 'crosshair';\n",
       "        break;\n",
       "    case 3:\n",
       "        cursor = 'move';\n",
       "        break;\n",
       "    }\n",
       "    fig.rubberband_canvas.style.cursor = cursor;\n",
       "}\n",
       "\n",
       "mpl.figure.prototype.handle_message = function(fig, msg) {\n",
       "    fig.message.textContent = msg['message'];\n",
       "}\n",
       "\n",
       "mpl.figure.prototype.handle_draw = function(fig, msg) {\n",
       "    // Request the server to send over a new figure.\n",
       "    fig.send_draw_message();\n",
       "}\n",
       "\n",
       "mpl.figure.prototype.handle_image_mode = function(fig, msg) {\n",
       "    fig.image_mode = msg['mode'];\n",
       "}\n",
       "\n",
       "mpl.figure.prototype.updated_canvas_event = function() {\n",
       "    // Called whenever the canvas gets updated.\n",
       "    this.send_message(\"ack\", {});\n",
       "}\n",
       "\n",
       "// A function to construct a web socket function for onmessage handling.\n",
       "// Called in the figure constructor.\n",
       "mpl.figure.prototype._make_on_message_function = function(fig) {\n",
       "    return function socket_on_message(evt) {\n",
       "        if (evt.data instanceof Blob) {\n",
       "            /* FIXME: We get \"Resource interpreted as Image but\n",
       "             * transferred with MIME type text/plain:\" errors on\n",
       "             * Chrome.  But how to set the MIME type?  It doesn't seem\n",
       "             * to be part of the websocket stream */\n",
       "            evt.data.type = \"image/png\";\n",
       "\n",
       "            /* Free the memory for the previous frames */\n",
       "            if (fig.imageObj.src) {\n",
       "                (window.URL || window.webkitURL).revokeObjectURL(\n",
       "                    fig.imageObj.src);\n",
       "            }\n",
       "\n",
       "            fig.imageObj.src = (window.URL || window.webkitURL).createObjectURL(\n",
       "                evt.data);\n",
       "            fig.updated_canvas_event();\n",
       "            fig.waiting = false;\n",
       "            return;\n",
       "        }\n",
       "        else if (typeof evt.data === 'string' && evt.data.slice(0, 21) == \"data:image/png;base64\") {\n",
       "            fig.imageObj.src = evt.data;\n",
       "            fig.updated_canvas_event();\n",
       "            fig.waiting = false;\n",
       "            return;\n",
       "        }\n",
       "\n",
       "        var msg = JSON.parse(evt.data);\n",
       "        var msg_type = msg['type'];\n",
       "\n",
       "        // Call the  \"handle_{type}\" callback, which takes\n",
       "        // the figure and JSON message as its only arguments.\n",
       "        try {\n",
       "            var callback = fig[\"handle_\" + msg_type];\n",
       "        } catch (e) {\n",
       "            console.log(\"No handler for the '\" + msg_type + \"' message type: \", msg);\n",
       "            return;\n",
       "        }\n",
       "\n",
       "        if (callback) {\n",
       "            try {\n",
       "                // console.log(\"Handling '\" + msg_type + \"' message: \", msg);\n",
       "                callback(fig, msg);\n",
       "            } catch (e) {\n",
       "                console.log(\"Exception inside the 'handler_\" + msg_type + \"' callback:\", e, e.stack, msg);\n",
       "            }\n",
       "        }\n",
       "    };\n",
       "}\n",
       "\n",
       "// from http://stackoverflow.com/questions/1114465/getting-mouse-location-in-canvas\n",
       "mpl.findpos = function(e) {\n",
       "    //this section is from http://www.quirksmode.org/js/events_properties.html\n",
       "    var targ;\n",
       "    if (!e)\n",
       "        e = window.event;\n",
       "    if (e.target)\n",
       "        targ = e.target;\n",
       "    else if (e.srcElement)\n",
       "        targ = e.srcElement;\n",
       "    if (targ.nodeType == 3) // defeat Safari bug\n",
       "        targ = targ.parentNode;\n",
       "\n",
       "    // jQuery normalizes the pageX and pageY\n",
       "    // pageX,Y are the mouse positions relative to the document\n",
       "    // offset() returns the position of the element relative to the document\n",
       "    var x = e.pageX - $(targ).offset().left;\n",
       "    var y = e.pageY - $(targ).offset().top;\n",
       "\n",
       "    return {\"x\": x, \"y\": y};\n",
       "};\n",
       "\n",
       "/*\n",
       " * return a copy of an object with only non-object keys\n",
       " * we need this to avoid circular references\n",
       " * http://stackoverflow.com/a/24161582/3208463\n",
       " */\n",
       "function simpleKeys (original) {\n",
       "  return Object.keys(original).reduce(function (obj, key) {\n",
       "    if (typeof original[key] !== 'object')\n",
       "        obj[key] = original[key]\n",
       "    return obj;\n",
       "  }, {});\n",
       "}\n",
       "\n",
       "mpl.figure.prototype.mouse_event = function(event, name) {\n",
       "    var canvas_pos = mpl.findpos(event)\n",
       "\n",
       "    if (name === 'button_press')\n",
       "    {\n",
       "        this.canvas.focus();\n",
       "        this.canvas_div.focus();\n",
       "    }\n",
       "\n",
       "    var x = canvas_pos.x * mpl.ratio;\n",
       "    var y = canvas_pos.y * mpl.ratio;\n",
       "\n",
       "    this.send_message(name, {x: x, y: y, button: event.button,\n",
       "                             step: event.step,\n",
       "                             guiEvent: simpleKeys(event)});\n",
       "\n",
       "    /* This prevents the web browser from automatically changing to\n",
       "     * the text insertion cursor when the button is pressed.  We want\n",
       "     * to control all of the cursor setting manually through the\n",
       "     * 'cursor' event from matplotlib */\n",
       "    event.preventDefault();\n",
       "    return false;\n",
       "}\n",
       "\n",
       "mpl.figure.prototype._key_event_extra = function(event, name) {\n",
       "    // Handle any extra behaviour associated with a key event\n",
       "}\n",
       "\n",
       "mpl.figure.prototype.key_event = function(event, name) {\n",
       "\n",
       "    // Prevent repeat events\n",
       "    if (name == 'key_press')\n",
       "    {\n",
       "        if (event.which === this._key)\n",
       "            return;\n",
       "        else\n",
       "            this._key = event.which;\n",
       "    }\n",
       "    if (name == 'key_release')\n",
       "        this._key = null;\n",
       "\n",
       "    var value = '';\n",
       "    if (event.ctrlKey && event.which != 17)\n",
       "        value += \"ctrl+\";\n",
       "    if (event.altKey && event.which != 18)\n",
       "        value += \"alt+\";\n",
       "    if (event.shiftKey && event.which != 16)\n",
       "        value += \"shift+\";\n",
       "\n",
       "    value += 'k';\n",
       "    value += event.which.toString();\n",
       "\n",
       "    this._key_event_extra(event, name);\n",
       "\n",
       "    this.send_message(name, {key: value,\n",
       "                             guiEvent: simpleKeys(event)});\n",
       "    return false;\n",
       "}\n",
       "\n",
       "mpl.figure.prototype.toolbar_button_onclick = function(name) {\n",
       "    if (name == 'download') {\n",
       "        this.handle_save(this, null);\n",
       "    } else {\n",
       "        this.send_message(\"toolbar_button\", {name: name});\n",
       "    }\n",
       "};\n",
       "\n",
       "mpl.figure.prototype.toolbar_button_onmouseover = function(tooltip) {\n",
       "    this.message.textContent = tooltip;\n",
       "};\n",
       "mpl.toolbar_items = [[\"Home\", \"Reset original view\", \"fa fa-home icon-home\", \"home\"], [\"Back\", \"Back to  previous view\", \"fa fa-arrow-left icon-arrow-left\", \"back\"], [\"Forward\", \"Forward to next view\", \"fa fa-arrow-right icon-arrow-right\", \"forward\"], [\"\", \"\", \"\", \"\"], [\"Pan\", \"Pan axes with left mouse, zoom with right\", \"fa fa-arrows icon-move\", \"pan\"], [\"Zoom\", \"Zoom to rectangle\", \"fa fa-square-o icon-check-empty\", \"zoom\"], [\"\", \"\", \"\", \"\"], [\"Download\", \"Download plot\", \"fa fa-floppy-o icon-save\", \"download\"]];\n",
       "\n",
       "mpl.extensions = [\"eps\", \"jpeg\", \"pdf\", \"png\", \"ps\", \"raw\", \"svg\", \"tif\"];\n",
       "\n",
       "mpl.default_extension = \"png\";var comm_websocket_adapter = function(comm) {\n",
       "    // Create a \"websocket\"-like object which calls the given IPython comm\n",
       "    // object with the appropriate methods. Currently this is a non binary\n",
       "    // socket, so there is still some room for performance tuning.\n",
       "    var ws = {};\n",
       "\n",
       "    ws.close = function() {\n",
       "        comm.close()\n",
       "    };\n",
       "    ws.send = function(m) {\n",
       "        //console.log('sending', m);\n",
       "        comm.send(m);\n",
       "    };\n",
       "    // Register the callback with on_msg.\n",
       "    comm.on_msg(function(msg) {\n",
       "        //console.log('receiving', msg['content']['data'], msg);\n",
       "        // Pass the mpl event to the overriden (by mpl) onmessage function.\n",
       "        ws.onmessage(msg['content']['data'])\n",
       "    });\n",
       "    return ws;\n",
       "}\n",
       "\n",
       "mpl.mpl_figure_comm = function(comm, msg) {\n",
       "    // This is the function which gets called when the mpl process\n",
       "    // starts-up an IPython Comm through the \"matplotlib\" channel.\n",
       "\n",
       "    var id = msg.content.data.id;\n",
       "    // Get hold of the div created by the display call when the Comm\n",
       "    // socket was opened in Python.\n",
       "    var element = $(\"#\" + id);\n",
       "    var ws_proxy = comm_websocket_adapter(comm)\n",
       "\n",
       "    function ondownload(figure, format) {\n",
       "        window.open(figure.imageObj.src);\n",
       "    }\n",
       "\n",
       "    var fig = new mpl.figure(id, ws_proxy,\n",
       "                           ondownload,\n",
       "                           element.get(0));\n",
       "\n",
       "    // Call onopen now - mpl needs it, as it is assuming we've passed it a real\n",
       "    // web socket which is closed, not our websocket->open comm proxy.\n",
       "    ws_proxy.onopen();\n",
       "\n",
       "    fig.parent_element = element.get(0);\n",
       "    fig.cell_info = mpl.find_output_cell(\"<div id='\" + id + \"'></div>\");\n",
       "    if (!fig.cell_info) {\n",
       "        console.error(\"Failed to find cell for figure\", id, fig);\n",
       "        return;\n",
       "    }\n",
       "\n",
       "    var output_index = fig.cell_info[2]\n",
       "    var cell = fig.cell_info[0];\n",
       "\n",
       "};\n",
       "\n",
       "mpl.figure.prototype.handle_close = function(fig, msg) {\n",
       "    var width = fig.canvas.width/mpl.ratio\n",
       "    fig.root.unbind('remove')\n",
       "\n",
       "    // Update the output cell to use the data from the current canvas.\n",
       "    fig.push_to_output();\n",
       "    var dataURL = fig.canvas.toDataURL();\n",
       "    // Re-enable the keyboard manager in IPython - without this line, in FF,\n",
       "    // the notebook keyboard shortcuts fail.\n",
       "    IPython.keyboard_manager.enable()\n",
       "    $(fig.parent_element).html('<img src=\"' + dataURL + '\" width=\"' + width + '\">');\n",
       "    fig.close_ws(fig, msg);\n",
       "}\n",
       "\n",
       "mpl.figure.prototype.close_ws = function(fig, msg){\n",
       "    fig.send_message('closing', msg);\n",
       "    // fig.ws.close()\n",
       "}\n",
       "\n",
       "mpl.figure.prototype.push_to_output = function(remove_interactive) {\n",
       "    // Turn the data on the canvas into data in the output cell.\n",
       "    var width = this.canvas.width/mpl.ratio\n",
       "    var dataURL = this.canvas.toDataURL();\n",
       "    this.cell_info[1]['text/html'] = '<img src=\"' + dataURL + '\" width=\"' + width + '\">';\n",
       "}\n",
       "\n",
       "mpl.figure.prototype.updated_canvas_event = function() {\n",
       "    // Tell IPython that the notebook contents must change.\n",
       "    IPython.notebook.set_dirty(true);\n",
       "    this.send_message(\"ack\", {});\n",
       "    var fig = this;\n",
       "    // Wait a second, then push the new image to the DOM so\n",
       "    // that it is saved nicely (might be nice to debounce this).\n",
       "    setTimeout(function () { fig.push_to_output() }, 1000);\n",
       "}\n",
       "\n",
       "mpl.figure.prototype._init_toolbar = function() {\n",
       "    var fig = this;\n",
       "\n",
       "    var nav_element = $('<div/>')\n",
       "    nav_element.attr('style', 'width: 100%');\n",
       "    this.root.append(nav_element);\n",
       "\n",
       "    // Define a callback function for later on.\n",
       "    function toolbar_event(event) {\n",
       "        return fig.toolbar_button_onclick(event['data']);\n",
       "    }\n",
       "    function toolbar_mouse_event(event) {\n",
       "        return fig.toolbar_button_onmouseover(event['data']);\n",
       "    }\n",
       "\n",
       "    for(var toolbar_ind in mpl.toolbar_items){\n",
       "        var name = mpl.toolbar_items[toolbar_ind][0];\n",
       "        var tooltip = mpl.toolbar_items[toolbar_ind][1];\n",
       "        var image = mpl.toolbar_items[toolbar_ind][2];\n",
       "        var method_name = mpl.toolbar_items[toolbar_ind][3];\n",
       "\n",
       "        if (!name) { continue; };\n",
       "\n",
       "        var button = $('<button class=\"btn btn-default\" href=\"#\" title=\"' + name + '\"><i class=\"fa ' + image + ' fa-lg\"></i></button>');\n",
       "        button.click(method_name, toolbar_event);\n",
       "        button.mouseover(tooltip, toolbar_mouse_event);\n",
       "        nav_element.append(button);\n",
       "    }\n",
       "\n",
       "    // Add the status bar.\n",
       "    var status_bar = $('<span class=\"mpl-message\" style=\"text-align:right; float: right;\"/>');\n",
       "    nav_element.append(status_bar);\n",
       "    this.message = status_bar[0];\n",
       "\n",
       "    // Add the close button to the window.\n",
       "    var buttongrp = $('<div class=\"btn-group inline pull-right\"></div>');\n",
       "    var button = $('<button class=\"btn btn-mini btn-primary\" href=\"#\" title=\"Stop Interaction\"><i class=\"fa fa-power-off icon-remove icon-large\"></i></button>');\n",
       "    button.click(function (evt) { fig.handle_close(fig, {}); } );\n",
       "    button.mouseover('Stop Interaction', toolbar_mouse_event);\n",
       "    buttongrp.append(button);\n",
       "    var titlebar = this.root.find($('.ui-dialog-titlebar'));\n",
       "    titlebar.prepend(buttongrp);\n",
       "}\n",
       "\n",
       "mpl.figure.prototype._root_extra_style = function(el){\n",
       "    var fig = this\n",
       "    el.on(\"remove\", function(){\n",
       "\tfig.close_ws(fig, {});\n",
       "    });\n",
       "}\n",
       "\n",
       "mpl.figure.prototype._canvas_extra_style = function(el){\n",
       "    // this is important to make the div 'focusable\n",
       "    el.attr('tabindex', 0)\n",
       "    // reach out to IPython and tell the keyboard manager to turn it's self\n",
       "    // off when our div gets focus\n",
       "\n",
       "    // location in version 3\n",
       "    if (IPython.notebook.keyboard_manager) {\n",
       "        IPython.notebook.keyboard_manager.register_events(el);\n",
       "    }\n",
       "    else {\n",
       "        // location in version 2\n",
       "        IPython.keyboard_manager.register_events(el);\n",
       "    }\n",
       "\n",
       "}\n",
       "\n",
       "mpl.figure.prototype._key_event_extra = function(event, name) {\n",
       "    var manager = IPython.notebook.keyboard_manager;\n",
       "    if (!manager)\n",
       "        manager = IPython.keyboard_manager;\n",
       "\n",
       "    // Check for shift+enter\n",
       "    if (event.shiftKey && event.which == 13) {\n",
       "        this.canvas_div.blur();\n",
       "        // select the cell after this one\n",
       "        var index = IPython.notebook.find_cell_index(this.cell_info[0]);\n",
       "        IPython.notebook.select(index + 1);\n",
       "    }\n",
       "}\n",
       "\n",
       "mpl.figure.prototype.handle_save = function(fig, msg) {\n",
       "    fig.ondownload(fig, null);\n",
       "}\n",
       "\n",
       "\n",
       "mpl.find_output_cell = function(html_output) {\n",
       "    // Return the cell and output element which can be found *uniquely* in the notebook.\n",
       "    // Note - this is a bit hacky, but it is done because the \"notebook_saving.Notebook\"\n",
       "    // IPython event is triggered only after the cells have been serialised, which for\n",
       "    // our purposes (turning an active figure into a static one), is too late.\n",
       "    var cells = IPython.notebook.get_cells();\n",
       "    var ncells = cells.length;\n",
       "    for (var i=0; i<ncells; i++) {\n",
       "        var cell = cells[i];\n",
       "        if (cell.cell_type === 'code'){\n",
       "            for (var j=0; j<cell.output_area.outputs.length; j++) {\n",
       "                var data = cell.output_area.outputs[j];\n",
       "                if (data.data) {\n",
       "                    // IPython >= 3 moved mimebundle to data attribute of output\n",
       "                    data = data.data;\n",
       "                }\n",
       "                if (data['text/html'] == html_output) {\n",
       "                    return [cell, data, j];\n",
       "                }\n",
       "            }\n",
       "        }\n",
       "    }\n",
       "}\n",
       "\n",
       "// Register the function which deals with the matplotlib target/channel.\n",
       "// The kernel may be null if the page has been refreshed.\n",
       "if (IPython.notebook.kernel != null) {\n",
       "    IPython.notebook.kernel.comm_manager.register_target('matplotlib', mpl.mpl_figure_comm);\n",
       "}\n"
      ],
      "text/plain": [
       "<IPython.core.display.Javascript object>"
      ]
     },
     "metadata": {},
     "output_type": "display_data"
    },
    {
     "data": {
      "text/html": [
       "<img src=\"data:image/png;base64,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\" width=\"899.4444682715858\">"
      ],
      "text/plain": [
       "<IPython.core.display.HTML object>"
      ]
     },
     "metadata": {},
     "output_type": "display_data"
    }
   ],
   "source": [
    "## DISPLAY WIDGETS ##\n",
    "display(widgets.HBox((input_folder_widget, output_folder_widget, output_header_widget)))\n",
    "display(widgets.HBox((output_filename_widget,scan_number_widget)))\n",
    "display(widgets.HBox((zero_energy_widget,align_min_widget,align_max_widget)))\n",
    "display(widgets.HBox((ee_pix_widget,plot_range_widget)))\n",
    "display(widgets.HBox((load_plot_button, reset_shifts_button, fit_button, align_button, save_data_button)))"
   ]
  },
  {
   "cell_type": "code",
   "execution_count": 7,
   "metadata": {
    "collapsed": false,
    "deletable": true,
    "editable": true,
    "extensions": {
     "jupyter_dashboards": {
      "version": 1,
      "views": {
       "grid_default": {
        "col": 0,
        "height": 7,
        "hidden": false,
        "row": 40,
        "width": 4
       },
       "report_default": {}
      }
     }
    }
   },
   "outputs": [
    {
     "data": {
      "application/vnd.jupyter.widget-view+json": {
       "model_id": "a537f89f6c6a45f18fc6ceea8ee06f93"
      }
     },
     "metadata": {},
     "output_type": "display_data"
    }
   ],
   "source": [
    "message_widget"
   ]
  },
  {
   "cell_type": "code",
   "execution_count": 8,
   "metadata": {
    "collapsed": false,
    "deletable": true,
    "editable": true,
    "extensions": {
     "jupyter_dashboards": {
      "version": 1,
      "views": {
       "grid_default": {
        "col": 4,
        "height": 4,
        "hidden": false,
        "row": 40,
        "width": 4
       },
       "report_default": {}
      }
     }
    },
    "scrolled": false
   },
   "outputs": [
    {
     "data": {
      "text/html": [
       "<script>\n",
       "code_show=true; \n",
       "function code_toggle() {\n",
       " if (code_show){\n",
       " $('div.input').hide();\n",
       " } else {\n",
       " $('div.input').show();\n",
       " }\n",
       " code_show = !code_show\n",
       "} \n",
       "$( document ).ready(code_toggle);\n",
       "</script>\n",
       "<form action=\"javascript:code_toggle()\"><input type=\"submit\" value=\"Click here to show/hide code.\"></form>"
      ],
      "text/plain": [
       "<IPython.core.display.HTML object>"
      ]
     },
     "execution_count": 8,
     "metadata": {},
     "output_type": "execute_result"
    }
   ],
   "source": [
    "from IPython.display import HTML\n",
    "\n",
    "HTML('''<script>\n",
    "code_show=true; \n",
    "function code_toggle() {\n",
    " if (code_show){\n",
    " $('div.input').hide();\n",
    " } else {\n",
    " $('div.input').show();\n",
    " }\n",
    " code_show = !code_show\n",
    "} \n",
    "$( document ).ready(code_toggle);\n",
    "</script>\n",
    "<form action=\"javascript:code_toggle()\"><input type=\"submit\" value=\"Click here to show/hide code.\"></form>''')"
   ]
  }
 ],
 "metadata": {
  "anaconda-cloud": {},
  "extensions": {
   "jupyter_dashboards": {
    "activeView": "grid_default",
    "version": 1,
    "views": {
     "grid_default": {
      "cellMargin": 10,
      "defaultCellHeight": 20,
      "maxColumns": 12,
      "name": "grid",
      "type": "grid"
     },
     "report_default": {
      "name": "report",
      "type": "report"
     }
    }
   }
  },
  "kernelspec": {
   "display_name": "Python 3",
   "language": "python",
   "name": "python3"
  },
  "language_info": {
   "codemirror_mode": {
    "name": "ipython",
    "version": 3
   },
   "file_extension": ".py",
   "mimetype": "text/x-python",
   "name": "python",
   "nbconvert_exporter": "python",
   "pygments_lexer": "ipython3",
   "version": "3.6.1"
  },
  "widgets": {
   "state": {
    "072bfd30733740398edd54e2c2165cbb": {
     "views": [
      {
       "cell_index": 11
      }
     ]
    },
    "0793123681d6437783ccdfe37f54fc63": {
     "views": [
      {
       "cell_index": 13
      }
     ]
    },
    "0a1f4028fc554878aff20ee0eb83470c": {
     "views": [
      {
       "cell_index": 9
      }
     ]
    },
    "0d39d0003dbe48ad81e81483c8cc67c4": {
     "views": [
      {
       "cell_index": 11
      }
     ]
    },
    "0e24ac5a30344da5b43c070a50a71477": {
     "views": [
      {
       "cell_index": 13
      }
     ]
    },
    "0e51ed610cef4ca49f6b3f1f207cb6df": {
     "views": [
      {
       "cell_index": 13
      }
     ]
    },
    "0ef17a7e30974192b00cccefb8924b7b": {
     "views": [
      {
       "cell_index": 13
      }
     ]
    },
    "145266230418484ea96fa9d3b4128623": {
     "views": [
      {
       "cell_index": 13
      }
     ]
    },
    "18a7f55d93884402b63d3472fc144e51": {
     "views": [
      {
       "cell_index": 5
      }
     ]
    },
    "24439e668f05443fbbc1602c843b9a88": {
     "views": [
      {
       "cell_index": 11
      }
     ]
    },
    "2467612db6894164a7e426f5819087dc": {
     "views": [
      {
       "cell_index": 11
      }
     ]
    },
    "2508ba11b2214f70b39330a0b77ac5b6": {
     "views": [
      {
       "cell_index": 9
      }
     ]
    },
    "253282e7222b4118828cb7767a8c71ec": {
     "views": [
      {
       "cell_index": 11
      }
     ]
    },
    "28e4749716d2426fa5c1580ebbe8d2be": {
     "views": [
      {
       "cell_index": 7
      }
     ]
    },
    "2991451571b64014b037b4f0488e5ae0": {
     "views": [
      {
       "cell_index": 11
      }
     ]
    },
    "2c1062f573fc487c89b6e8d9613dc482": {
     "views": [
      {
       "cell_index": 5
      }
     ]
    },
    "2ec61f20e0d045f1b6c2fc2aee65893d": {
     "views": [
      {
       "cell_index": 7
      }
     ]
    },
    "2f79bed956bf47deb19b683b868d17bd": {
     "views": [
      {
       "cell_index": 13
      }
     ]
    },
    "315a2cc2f84941e18a7b6094708e7e0b": {
     "views": [
      {
       "cell_index": 15
      }
     ]
    },
    "375105929e714f509b17b1810629237b": {
     "views": [
      {
       "cell_index": 15
      }
     ]
    },
    "43addfc9ce1348399416e2d0741acef2": {
     "views": [
      {
       "cell_index": 7
      }
     ]
    },
    "46fe2f73bb7243419262124cda7b8b32": {
     "views": [
      {
       "cell_index": 13
      }
     ]
    },
    "47df274aadde46a092c890bd428da28f": {
     "views": [
      {
       "cell_index": 5
      }
     ]
    },
    "49070fb467044ddd967043b0442c0d73": {
     "views": [
      {
       "cell_index": 5
      }
     ]
    },
    "4ebbdf87b2c94ffdb4eadf5fe8ba3e74": {
     "views": [
      {
       "cell_index": 13
      }
     ]
    },
    "4f90bc63f05c45cca672e054376706bd": {
     "views": [
      {
       "cell_index": 7
      }
     ]
    },
    "52830e9759864db88c41df0f6ff0cb9e": {
     "views": [
      {
       "cell_index": 7
      }
     ]
    },
    "55d5a833bf2947389069bf3719b00a95": {
     "views": [
      {
       "cell_index": 9
      },
      {
       "cell_index": 9
      }
     ]
    },
    "56a523424b154f66981b9bf9f71252ac": {
     "views": [
      {
       "cell_index": 13
      }
     ]
    },
    "57b102675c1743f9a7b13d78ca89bc9f": {
     "views": [
      {
       "cell_index": 15
      }
     ]
    },
    "5c3d8fd13866450bba11969f63118cbb": {
     "views": [
      {
       "cell_index": 7
      }
     ]
    },
    "5da527c5eab14d6caa1de6cee4d51b75": {
     "views": [
      {
       "cell_index": 5
      }
     ]
    },
    "60d2804264174a438d8b4d60eb5910ab": {
     "views": [
      {
       "cell_index": 15
      }
     ]
    },
    "62524d30d1dc476293483229a3c6dde9": {
     "views": [
      {
       "cell_index": 7
      }
     ]
    },
    "62dc47814b574356b4549a5377fbc1a7": {
     "views": [
      {
       "cell_index": 9
      }
     ]
    },
    "6305515d0be34e04b1ac00de6fb0829f": {
     "views": [
      {
       "cell_index": 9
      }
     ]
    },
    "6c395a3e8eb54280b4c42bfe63a6b879": {
     "views": [
      {
       "cell_index": 9
      }
     ]
    },
    "6ea0234ccfe24e67b2bd268010947ab1": {
     "views": [
      {
       "cell_index": 5
      }
     ]
    },
    "704b9c734ce24350a61b2eff9465eafe": {
     "views": [
      {
       "cell_index": 7
      }
     ]
    },
    "73d0b7e2b2ec44b8b95081be684840c2": {
     "views": [
      {
       "cell_index": 15
      }
     ]
    },
    "74d5f279cd1d447e9e662c52af3a31a1": {
     "views": [
      {
       "cell_index": 5
      }
     ]
    },
    "75b1e90c83c340d0aed738d7d999ef7a": {
     "views": [
      {
       "cell_index": 7
      }
     ]
    },
    "78e8c5db6db249078b371e98da3955cf": {
     "views": [
      {
       "cell_index": 15
      }
     ]
    },
    "7972b050f8114b928d8d460b3b4481ea": {
     "views": [
      {
       "cell_index": 13
      }
     ]
    },
    "798ccdc0ba724c298c83556f6d0e02f0": {
     "views": [
      {
       "cell_index": 13
      }
     ]
    },
    "79ab9ce45a3e4437b607f77ab8d17032": {
     "views": [
      {
       "cell_index": 5
      }
     ]
    },
    "7c26d3479cae4a8b906adebc238514f7": {
     "views": [
      {
       "cell_index": 7
      }
     ]
    },
    "81138056395745ec8f808c533abacf7a": {
     "views": [
      {
       "cell_index": 7
      }
     ]
    },
    "8251118f21f54e5bb6fe1ad2378823ad": {
     "views": [
      {
       "cell_index": 9
      }
     ]
    },
    "83d48138ddfb43f59075ab1e6011fa4c": {
     "views": [
      {
       "cell_index": 9
      },
      {
       "cell_index": 9
      }
     ]
    },
    "84d8aba2d297474b97f2663ad0ef4e6c": {
     "views": [
      {
       "cell_index": 5
      }
     ]
    },
    "85b6cc04f0924de0a723cb427daf3061": {
     "views": [
      {
       "cell_index": 7
      },
      {
       "cell_index": 7
      }
     ]
    },
    "876da6b70ef048a3ae149ad7c54d2341": {
     "views": [
      {
       "cell_index": 5
      }
     ]
    },
    "8b43f85af6964447a093dd191adc8e45": {
     "views": [
      {
       "cell_index": 13
      }
     ]
    },
    "8c6c7bf465b84f3882a11386bdda79eb": {
     "views": [
      {
       "cell_index": 13
      }
     ]
    },
    "8cb06536168548d2a81fd9db19a3d2ab": {
     "views": [
      {
       "cell_index": 5
      }
     ]
    },
    "9329e6d12cbf4b98bc4b73b44b1504f7": {
     "views": [
      {
       "cell_index": 15
      }
     ]
    },
    "947d88807a9643159e47aa95e598c8c0": {
     "views": [
      {
       "cell_index": 5
      },
      {
       "cell_index": 5
      }
     ]
    },
    "97dcde95ad7d406dbff4aa211fec3fb0": {
     "views": [
      {
       "cell_index": 5
      },
      {
       "cell_index": 7
      }
     ]
    },
    "9bf45338e8134500b5440b0e80873f93": {
     "views": [
      {
       "cell_index": 9
      },
      {
       "cell_index": 9
      },
      {
       "cell_index": 9
      }
     ]
    },
    "a43b4bc6dbba4bf8ae0c28cfad8351f6": {
     "views": [
      {
       "cell_index": 7
      }
     ]
    },
    "a6de0ef2cd2d4590a33f2def2046e3c2": {
     "views": [
      {
       "cell_index": 13
      }
     ]
    },
    "a7f0a66af9474ae1b290f7a0cd3b7193": {
     "views": [
      {
       "cell_index": 15
      }
     ]
    },
    "a9fc1ffe96674ea3abcb849c302e9430": {
     "views": [
      {
       "cell_index": 13
      }
     ]
    },
    "abfed95e42b24cba9f848dfbcf6e23ed": {
     "views": [
      {
       "cell_index": 11
      }
     ]
    },
    "adeedc8c420449bb9fe1153ccf33e976": {
     "views": [
      {
       "cell_index": 5
      }
     ]
    },
    "b00afb7bd01e486bbb4bc4ccdcba1cb8": {
     "views": [
      {
       "cell_index": 7
      }
     ]
    },
    "b3748a3712ad43c2b6ed1c67a5ebeb88": {
     "views": [
      {
       "cell_index": 7
      }
     ]
    },
    "b48b905cbd73479390d2f7c8c1e31cb4": {
     "views": [
      {
       "cell_index": 13
      }
     ]
    },
    "ba093135995d45f6ac824d888debfb99": {
     "views": [
      {
       "cell_index": 7
      }
     ]
    },
    "bb48841d0d7040eb8cc49f3a49f00f93": {
     "views": [
      {
       "cell_index": 7
      }
     ]
    },
    "bd3a06860c4748b6abaec76a5c8665a8": {
     "views": [
      {
       "cell_index": 15
      }
     ]
    },
    "bf4820f2b6944835963555c6933b7da5": {
     "views": [
      {
       "cell_index": 9
      }
     ]
    },
    "c0e94fe70c9d4afb913323fc66e83f17": {
     "views": [
      {
       "cell_index": 13
      }
     ]
    },
    "c3f6543368474aa8b230d11fd60a0dbb": {
     "views": [
      {
       "cell_index": 5
      }
     ]
    },
    "c5e81abf2ce2499da098efb13901d5c0": {
     "views": [
      {
       "cell_index": 7
      }
     ]
    },
    "c9b39c116d4e46e8a8f83200f26a036c": {
     "views": [
      {
       "cell_index": 5
      }
     ]
    },
    "cc5fae9507634c1ba64cc3afcced984a": {
     "views": [
      {
       "cell_index": 7
      }
     ]
    },
    "ceddeab51ad04e90b5dd6eefe3090af3": {
     "views": [
      {
       "cell_index": 5
      }
     ]
    },
    "d116b8ad5212410e8a09dc67ed9cb24e": {
     "views": [
      {
       "cell_index": 7
      }
     ]
    },
    "d4f852ce5ca745cc9e86e108299b531c": {
     "views": [
      {
       "cell_index": 15
      }
     ]
    },
    "d5c51513b24245d280de3294ff5fea45": {
     "views": [
      {
       "cell_index": 15
      }
     ]
    },
    "d9cd0839d97b4f4187a76919d6fcc6b2": {
     "views": [
      {
       "cell_index": 9
      }
     ]
    },
    "db19910c97394bcca0f298a3b2201c53": {
     "views": [
      {
       "cell_index": 5
      }
     ]
    },
    "de3a47b0d94e436b97bd5b9d37733db3": {
     "views": [
      {
       "cell_index": 11
      }
     ]
    },
    "e3ee9c119cbd47c0814d69d2e4276abc": {
     "views": [
      {
       "cell_index": 5
      }
     ]
    },
    "e6c446e766974ea5b34ea4ebaba5fdf6": {
     "views": [
      {
       "cell_index": 9
      }
     ]
    },
    "e973fa5688de40c5b0ae89bd7d2eb59b": {
     "views": [
      {
       "cell_index": 13
      }
     ]
    },
    "eb2628ae591b4ed8a452ea89aab430cc": {
     "views": [
      {
       "cell_index": 5
      }
     ]
    },
    "ebfbd6435b634b588ebebc0d8f4cdcdb": {
     "views": [
      {
       "cell_index": 5
      }
     ]
    },
    "ee1bb684c0f8410eb678142c8156f004": {
     "views": [
      {
       "cell_index": 11
      }
     ]
    },
    "f275a7f5665c402486089eb26b0e9c5f": {
     "views": [
      {
       "cell_index": 15
      }
     ]
    },
    "f375841d7b044d6ca1fa2c7d8cd589b3": {
     "views": [
      {
       "cell_index": 13
      }
     ]
    },
    "f5dee7eebe2e48a6b519a21c3886e5bc": {
     "views": [
      {
       "cell_index": 7
      }
     ]
    },
    "f8544638599d43ae87c0ef947b650f63": {
     "views": [
      {
       "cell_index": 11
      }
     ]
    },
    "f87b1243bb4d4e8fa729c32b9267a617": {
     "views": [
      {
       "cell_index": 5
      }
     ]
    }
   },
   "version": "1.2.0"
  }
 },
 "nbformat": 4,
 "nbformat_minor": 1
}
