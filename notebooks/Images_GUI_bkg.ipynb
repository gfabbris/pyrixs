{
 "cells": [
  {
   "cell_type": "code",
   "execution_count": 75,
   "metadata": {
    "collapsed": false,
    "scrolled": true
   },
   "outputs": [],
   "source": [
    "import numpy as np\n",
    "import pandas as pd\n",
    "\n",
    "import os, glob\n",
    "\n",
    "from collections import OrderedDict\n",
    "\n",
    "import matplotlib\n",
    "import matplotlib.pyplot as plt\n",
    "\n",
    "import ipywidgets as widgets\n",
    "from traitlets import dlink\n",
    "from IPython.display import display\n",
    "\n",
    "from pyrixs import process2d\n",
    "\n",
    "%matplotlib nbagg"
   ]
  },
  {
   "cell_type": "code",
   "execution_count": 76,
   "metadata": {
    "collapsed": true
   },
   "outputs": [],
   "source": [
    "global Image\n",
    "Image = OrderedDict({\n",
    "'photon_events' : np.array([]),\n",
    "'background' : np.array([]),\n",
    "'raw_image' : np.array([]),\n",
    "'name' : '',\n",
    "'curvature' : np.array([0, 0, 500]),\n",
    "'image_meta' : '',\n",
    "'spectrum' : np.array([])\n",
    "})"
   ]
  },
  {
   "cell_type": "code",
   "execution_count": 77,
   "metadata": {
    "collapsed": false
   },
   "outputs": [],
   "source": [
    "######################################\n",
    "# Widgets\n",
    "######################################\n",
    "\n",
    "# Folder to search images for\n",
    "images_folder_widget = widgets.Text(\n",
    "    value='test_images/*.nxs',  \n",
    "    description='Search path',\n",
    "    width='500px',\n",
    ")\n",
    "\n",
    "# Folder to search background for\n",
    "bkg_folder_widget = widgets.Text(\n",
    "    value='test_images/*.nxs',  \n",
    "    description='Search path',\n",
    "    width='500px',\n",
    ")\n",
    "\n",
    "# Display and pick which spectra to plot\n",
    "select_images_widget = widgets.Select(\n",
    "            options=process2d.get_all_image_names(images_folder_widget.value),\n",
    "            description='Select images'\n",
    "            )\n",
    "\n",
    "# Display and pick which bkg to plot\n",
    "select_bkg_widget = widgets.Select(\n",
    "            options=process2d.get_all_image_names(bkg_folder_widget.value),\n",
    "            description='Select background'\n",
    "            )\n",
    "\n",
    "select_plot_widget = widgets.Select(\n",
    "            options=['Raw image', 'Background', 'Background removed Image'],\n",
    "            description='Select option'\n",
    "            )\n",
    "\n",
    "display_image_button = widgets.Button(\n",
    "    description='Plot',\n",
    ")\n",
    "\n",
    "threshold_widget = widgets.FloatText(description='Threshold', value=1e6)\n",
    "\n",
    "select_clean_widget = widgets.Select(\n",
    "            options=['Threshold'],\n",
    "            description='Select cleaning method'\n",
    "            )\n",
    "\n",
    "load_clean_button = widgets.Button(\n",
    "    description='Load and clean',\n",
    ")\n",
    "\n",
    "\n",
    "rejected_pixel_widget = widgets.Textarea(description='Rejected pixels', value='Image: 0.00%\\nBackground: 0.00%')\n",
    "\n",
    "display_imagecurv_button = widgets.Button(\n",
    "    description='Plot',\n",
    ")\n",
    "\n",
    "x2_widget = widgets.FloatText(description='x^2', value=Image['curvature'][0])\n",
    "x1_widget = widgets.FloatText(description='x^1', value=Image['curvature'][1])\n",
    "x0_widget = widgets.FloatText(description='x^0', value=Image['curvature'][2])\n",
    "\n",
    "fit_curvature_button = widgets.Button(\n",
    "    description='Fit',\n",
    ")\n",
    "\n",
    "plot_resolution_button = widgets.Button(\n",
    "    description='Plot',\n",
    ")\n",
    "\n",
    "names = ['FWHM', 'center', 'amplitude', 'offset']\n",
    "values = [3., 100., 10, 0.]\n",
    "params_widget = widgets.HBox([widgets.FloatText(description=name, value=value, width='150px') \n",
    "                              for name, value in zip(names, values)])\n",
    "\n",
    "fit_resolution_button = widgets.Button(\n",
    "    description='Fit',\n",
    ")"
   ]
  },
  {
   "cell_type": "code",
   "execution_count": 78,
   "metadata": {
    "collapsed": false
   },
   "outputs": [],
   "source": [
    "###########################\n",
    "## Widget logic\n",
    "###########################\n",
    "def update_select_images_widget(change):\n",
    "    \"\"\"Refresh images for selection\"\"\"\n",
    "    select_images_widget.options = process2d.get_all_image_names(images_folder_widget.value)\n",
    "    \n",
    "images_folder_widget.on_submit(update_select_images_widget)\n",
    "\n",
    "def update_select_bkg_widget(change):\n",
    "    \"\"\"Refresh images for selection\"\"\"\n",
    "    select_bkg_widget.options = process2d.get_all_image_names(bkg_folder_widget.value)\n",
    "    \n",
    "bkg_folder_widget.on_submit(update_select_bkg_widget)\n",
    "\n",
    "def wrap_load_clean(change):\n",
    "        \n",
    "    Image['raw_image'] = process2d.load_photon_events(images_folder_widget.value,\n",
    "                                                      select_images_widget.value)\n",
    "    \n",
    "    Image['background'] = process2d.load_photon_events(bkg_folder_widget.value,\n",
    "                                                       select_bkg_widget.value)\n",
    "    \n",
    "    ###Each data file has three images, but background only one!!!! ###\n",
    "    Image['background'][:,2] *= 3.0\n",
    "    \n",
    "    if select_clean_widget.value == 'Threshold':\n",
    "        thHigh = threshold_widget.value\n",
    "        Image['raw_image'], im_pixels = process2d.clean_image_threshold(Image['raw_image'], thHigh)\n",
    "        Image['background'], bkg_pixels = process2d.clean_image_threshold(Image['background'], thHigh)\n",
    "    \n",
    "    Image['photon_events'] = np.copy(Image['raw_image'])\n",
    "    Image['photon_events'][:,2] -= Image['background'][:,2] \n",
    "    \n",
    "    rejected_pixel_widget.value = 'Image: {:.2f}%\\nBackground: {:.2f}%'.format(im_pixels*100.,bkg_pixels*100.)\n",
    "    \n",
    "load_clean_button.on_click(wrap_load_clean)\n",
    "\n",
    "def wrap_display_image(change):\n",
    "    \"\"\"Load and plot images and curvature\"\"\"\n",
    "    \n",
    "    fig1.clf()\n",
    "    plt.figure(fig1.number)\n",
    "    ax1 = plt.gca()\n",
    "    ax1.hold(False)\n",
    "    \n",
    "    if Image['raw_image'].shape == (0,):\n",
    "        raise ValueError('Image is not loaded!')\n",
    "    \n",
    "    if select_plot_widget.value == 'Raw image':\n",
    "        im_plot = np.copy(Image['raw_image'])\n",
    "    elif select_plot_widget.value == 'Background':\n",
    "        im_plot = np.copy(Image['background'])\n",
    "    elif select_plot_widget.value == 'Background removed Image':\n",
    "        im_plot = np.copy(Image['photon_events'])\n",
    "        \n",
    "    if select_images_widget.value[-3:] == 'nxs':\n",
    "        image_artist = process2d.plot_imshow(ax1, im_plot)\n",
    "    else:\n",
    "        image_artist = process2d.plot_scatter(ax1, im_plot)\n",
    "        \n",
    "display_image_button.on_click(wrap_display_image)\n",
    "\n",
    "def wrap_display_imagecurv(change):\n",
    "    \"\"\"Load and plot images and curvature\"\"\"\n",
    "    \n",
    "    fig2.clf()\n",
    "    plt.figure(fig2.number)\n",
    "    ax2 = plt.gca()\n",
    "    ax2.hold(False)\n",
    "    \n",
    "    if select_images_widget.value[-3:] == 'nxs':\n",
    "        image_artist = process2d.plot_imshow(ax2, Image['photon_events'])\n",
    "    else:\n",
    "        image_artist = process2d.plot_scatter(ax2, Image['photon_events'])\n",
    "        \n",
    "    process2d.plot_curvature(ax2, Image['curvature'], Image['photon_events'])\n",
    "\n",
    "display_imagecurv_button.on_click(wrap_display_imagecurv)\n",
    "\n",
    "def wrap_curvature(change):\n",
    "    \"\"\"Assign values in curvature widget to Images['curvature']\"\"\"\n",
    "    Image['curvature'] = np.array([x2_widget.value, x1_widget.value, x0_widget.value])\n",
    "\n",
    "x2_widget.observe(wrap_curvature)\n",
    "x1_widget.observe(wrap_curvature)\n",
    "x0_widget.observe(wrap_curvature)\n",
    "    \n",
    "def wrap_fit_curvature(change):\n",
    "    \"\"\"Fit the curvature and assign values into widgets\"\"\"\n",
    "    curvature = process2d.fit_curvature(Image['photon_events'], CONSTANT_OFFSET = x0_widget.value)\n",
    "    Image['curvature'] = curvature\n",
    "    x2_widget.value = curvature[0]\n",
    "    x1_widget.value = curvature[1]\n",
    "    #print(\"x^2 value {}\".format(curvature[0]))\n",
    "    #print(\"x^1 value {}\".format(curvature[1]))\n",
    "    #print(\"x^0 value {}\".format(curvature[2]))\n",
    "    wrap_curvature(None)\n",
    "    wrap_display_imagecurv(None)\n",
    "\n",
    "fit_curvature_button.on_click(wrap_fit_curvature)        \n",
    "        \n",
    "def wrap_plot_resolution(change):\n",
    "    \"\"\"Extract the spectrum and plot it on ax2\"\"\"\n",
    "    spectrum = process2d.extract(Image['photon_events'],\n",
    "                                Image['curvature'])\n",
    "    Image['spectrum'] = spectrum\n",
    "    process2d.plot_resolution(ax3, spectrum)\n",
    "\n",
    "plot_resolution_button.on_click(wrap_plot_resolution)\n",
    "\n",
    "def wrap_fit_resolution(change):\n",
    "    xmin, xmax, _, _ = ax3.axis()\n",
    "    resolution = process2d.fit_resolution(Image['spectrum'], xmin=xmin, xmax=xmax)\n",
    "    for widget, value in zip(params_widget.children, resolution):\n",
    "        widget.value = value\n",
    "    \n",
    "    try:\n",
    "        resolution_line.remove()\n",
    "    except NameError:\n",
    "        pass\n",
    "    resolution_line, *_ = process2d.plot_resolution_fit(ax3, Image['spectrum'], resolution,\n",
    "                                  xmin=xmin, xmax=xmax)\n",
    "\n",
    "fit_resolution_button.on_click(wrap_fit_resolution)"
   ]
  },
  {
   "cell_type": "markdown",
   "metadata": {},
   "source": [
    "## List and choose image"
   ]
  },
  {
   "cell_type": "code",
   "execution_count": 79,
   "metadata": {
    "collapsed": false,
    "scrolled": true
   },
   "outputs": [],
   "source": [
    "display(images_folder_widget, select_images_widget)"
   ]
  },
  {
   "cell_type": "markdown",
   "metadata": {},
   "source": [
    "## List and choose background"
   ]
  },
  {
   "cell_type": "code",
   "execution_count": 80,
   "metadata": {
    "collapsed": true
   },
   "outputs": [],
   "source": [
    "display(bkg_folder_widget, select_bkg_widget)"
   ]
  },
  {
   "cell_type": "markdown",
   "metadata": {},
   "source": [
    "## Clean and load image and background "
   ]
  },
  {
   "cell_type": "code",
   "execution_count": 81,
   "metadata": {
    "collapsed": false
   },
   "outputs": [],
   "source": [
    "display(widgets.HBox((threshold_widget,select_clean_widget, load_clean_button)))\n",
    "\n",
    "display(rejected_pixel_widget)"
   ]
  },
  {
   "cell_type": "markdown",
   "metadata": {},
   "source": [
    "## Plot image and background"
   ]
  },
  {
   "cell_type": "code",
   "execution_count": 82,
   "metadata": {
    "collapsed": false,
    "scrolled": false
   },
   "outputs": [
    {
     "data": {
      "application/javascript": [
       "/* Put everything inside the global mpl namespace */\n",
       "window.mpl = {};\n",
       "\n",
       "mpl.get_websocket_type = function() {\n",
       "    if (typeof(WebSocket) !== 'undefined') {\n",
       "        return WebSocket;\n",
       "    } else if (typeof(MozWebSocket) !== 'undefined') {\n",
       "        return MozWebSocket;\n",
       "    } else {\n",
       "        alert('Your browser does not have WebSocket support.' +\n",
       "              'Please try Chrome, Safari or Firefox ≥ 6. ' +\n",
       "              'Firefox 4 and 5 are also supported but you ' +\n",
       "              'have to enable WebSockets in about:config.');\n",
       "    };\n",
       "}\n",
       "\n",
       "mpl.figure = function(figure_id, websocket, ondownload, parent_element) {\n",
       "    this.id = figure_id;\n",
       "\n",
       "    this.ws = websocket;\n",
       "\n",
       "    this.supports_binary = (this.ws.binaryType != undefined);\n",
       "\n",
       "    if (!this.supports_binary) {\n",
       "        var warnings = document.getElementById(\"mpl-warnings\");\n",
       "        if (warnings) {\n",
       "            warnings.style.display = 'block';\n",
       "            warnings.textContent = (\n",
       "                \"This browser does not support binary websocket messages. \" +\n",
       "                    \"Performance may be slow.\");\n",
       "        }\n",
       "    }\n",
       "\n",
       "    this.imageObj = new Image();\n",
       "\n",
       "    this.context = undefined;\n",
       "    this.message = undefined;\n",
       "    this.canvas = undefined;\n",
       "    this.rubberband_canvas = undefined;\n",
       "    this.rubberband_context = undefined;\n",
       "    this.format_dropdown = undefined;\n",
       "\n",
       "    this.image_mode = 'full';\n",
       "\n",
       "    this.root = $('<div/>');\n",
       "    this._root_extra_style(this.root)\n",
       "    this.root.attr('style', 'display: inline-block');\n",
       "\n",
       "    $(parent_element).append(this.root);\n",
       "\n",
       "    this._init_header(this);\n",
       "    this._init_canvas(this);\n",
       "    this._init_toolbar(this);\n",
       "\n",
       "    var fig = this;\n",
       "\n",
       "    this.waiting = false;\n",
       "\n",
       "    this.ws.onopen =  function () {\n",
       "            fig.send_message(\"supports_binary\", {value: fig.supports_binary});\n",
       "            fig.send_message(\"send_image_mode\", {});\n",
       "            fig.send_message(\"refresh\", {});\n",
       "        }\n",
       "\n",
       "    this.imageObj.onload = function() {\n",
       "            if (fig.image_mode == 'full') {\n",
       "                // Full images could contain transparency (where diff images\n",
       "                // almost always do), so we need to clear the canvas so that\n",
       "                // there is no ghosting.\n",
       "                fig.context.clearRect(0, 0, fig.canvas.width, fig.canvas.height);\n",
       "            }\n",
       "            fig.context.drawImage(fig.imageObj, 0, 0);\n",
       "        };\n",
       "\n",
       "    this.imageObj.onunload = function() {\n",
       "        this.ws.close();\n",
       "    }\n",
       "\n",
       "    this.ws.onmessage = this._make_on_message_function(this);\n",
       "\n",
       "    this.ondownload = ondownload;\n",
       "}\n",
       "\n",
       "mpl.figure.prototype._init_header = function() {\n",
       "    var titlebar = $(\n",
       "        '<div class=\"ui-dialog-titlebar ui-widget-header ui-corner-all ' +\n",
       "        'ui-helper-clearfix\"/>');\n",
       "    var titletext = $(\n",
       "        '<div class=\"ui-dialog-title\" style=\"width: 100%; ' +\n",
       "        'text-align: center; padding: 3px;\"/>');\n",
       "    titlebar.append(titletext)\n",
       "    this.root.append(titlebar);\n",
       "    this.header = titletext[0];\n",
       "}\n",
       "\n",
       "\n",
       "\n",
       "mpl.figure.prototype._canvas_extra_style = function(canvas_div) {\n",
       "\n",
       "}\n",
       "\n",
       "\n",
       "mpl.figure.prototype._root_extra_style = function(canvas_div) {\n",
       "\n",
       "}\n",
       "\n",
       "mpl.figure.prototype._init_canvas = function() {\n",
       "    var fig = this;\n",
       "\n",
       "    var canvas_div = $('<div/>');\n",
       "\n",
       "    canvas_div.attr('style', 'position: relative; clear: both; outline: 0');\n",
       "\n",
       "    function canvas_keyboard_event(event) {\n",
       "        return fig.key_event(event, event['data']);\n",
       "    }\n",
       "\n",
       "    canvas_div.keydown('key_press', canvas_keyboard_event);\n",
       "    canvas_div.keyup('key_release', canvas_keyboard_event);\n",
       "    this.canvas_div = canvas_div\n",
       "    this._canvas_extra_style(canvas_div)\n",
       "    this.root.append(canvas_div);\n",
       "\n",
       "    var canvas = $('<canvas/>');\n",
       "    canvas.addClass('mpl-canvas');\n",
       "    canvas.attr('style', \"left: 0; top: 0; z-index: 0; outline: 0\")\n",
       "\n",
       "    this.canvas = canvas[0];\n",
       "    this.context = canvas[0].getContext(\"2d\");\n",
       "\n",
       "    var rubberband = $('<canvas/>');\n",
       "    rubberband.attr('style', \"position: absolute; left: 0; top: 0; z-index: 1;\")\n",
       "\n",
       "    var pass_mouse_events = true;\n",
       "\n",
       "    canvas_div.resizable({\n",
       "        start: function(event, ui) {\n",
       "            pass_mouse_events = false;\n",
       "        },\n",
       "        resize: function(event, ui) {\n",
       "            fig.request_resize(ui.size.width, ui.size.height);\n",
       "        },\n",
       "        stop: function(event, ui) {\n",
       "            pass_mouse_events = true;\n",
       "            fig.request_resize(ui.size.width, ui.size.height);\n",
       "        },\n",
       "    });\n",
       "\n",
       "    function mouse_event_fn(event) {\n",
       "        if (pass_mouse_events)\n",
       "            return fig.mouse_event(event, event['data']);\n",
       "    }\n",
       "\n",
       "    rubberband.mousedown('button_press', mouse_event_fn);\n",
       "    rubberband.mouseup('button_release', mouse_event_fn);\n",
       "    // Throttle sequential mouse events to 1 every 20ms.\n",
       "    rubberband.mousemove('motion_notify', mouse_event_fn);\n",
       "\n",
       "    rubberband.mouseenter('figure_enter', mouse_event_fn);\n",
       "    rubberband.mouseleave('figure_leave', mouse_event_fn);\n",
       "\n",
       "    canvas_div.on(\"wheel\", function (event) {\n",
       "        event = event.originalEvent;\n",
       "        event['data'] = 'scroll'\n",
       "        if (event.deltaY < 0) {\n",
       "            event.step = 1;\n",
       "        } else {\n",
       "            event.step = -1;\n",
       "        }\n",
       "        mouse_event_fn(event);\n",
       "    });\n",
       "\n",
       "    canvas_div.append(canvas);\n",
       "    canvas_div.append(rubberband);\n",
       "\n",
       "    this.rubberband = rubberband;\n",
       "    this.rubberband_canvas = rubberband[0];\n",
       "    this.rubberband_context = rubberband[0].getContext(\"2d\");\n",
       "    this.rubberband_context.strokeStyle = \"#000000\";\n",
       "\n",
       "    this._resize_canvas = function(width, height) {\n",
       "        // Keep the size of the canvas, canvas container, and rubber band\n",
       "        // canvas in synch.\n",
       "        canvas_div.css('width', width)\n",
       "        canvas_div.css('height', height)\n",
       "\n",
       "        canvas.attr('width', width);\n",
       "        canvas.attr('height', height);\n",
       "\n",
       "        rubberband.attr('width', width);\n",
       "        rubberband.attr('height', height);\n",
       "    }\n",
       "\n",
       "    // Set the figure to an initial 600x600px, this will subsequently be updated\n",
       "    // upon first draw.\n",
       "    this._resize_canvas(600, 600);\n",
       "\n",
       "    // Disable right mouse context menu.\n",
       "    $(this.rubberband_canvas).bind(\"contextmenu\",function(e){\n",
       "        return false;\n",
       "    });\n",
       "\n",
       "    function set_focus () {\n",
       "        canvas.focus();\n",
       "        canvas_div.focus();\n",
       "    }\n",
       "\n",
       "    window.setTimeout(set_focus, 100);\n",
       "}\n",
       "\n",
       "mpl.figure.prototype._init_toolbar = function() {\n",
       "    var fig = this;\n",
       "\n",
       "    var nav_element = $('<div/>')\n",
       "    nav_element.attr('style', 'width: 100%');\n",
       "    this.root.append(nav_element);\n",
       "\n",
       "    // Define a callback function for later on.\n",
       "    function toolbar_event(event) {\n",
       "        return fig.toolbar_button_onclick(event['data']);\n",
       "    }\n",
       "    function toolbar_mouse_event(event) {\n",
       "        return fig.toolbar_button_onmouseover(event['data']);\n",
       "    }\n",
       "\n",
       "    for(var toolbar_ind in mpl.toolbar_items) {\n",
       "        var name = mpl.toolbar_items[toolbar_ind][0];\n",
       "        var tooltip = mpl.toolbar_items[toolbar_ind][1];\n",
       "        var image = mpl.toolbar_items[toolbar_ind][2];\n",
       "        var method_name = mpl.toolbar_items[toolbar_ind][3];\n",
       "\n",
       "        if (!name) {\n",
       "            // put a spacer in here.\n",
       "            continue;\n",
       "        }\n",
       "        var button = $('<button/>');\n",
       "        button.addClass('ui-button ui-widget ui-state-default ui-corner-all ' +\n",
       "                        'ui-button-icon-only');\n",
       "        button.attr('role', 'button');\n",
       "        button.attr('aria-disabled', 'false');\n",
       "        button.click(method_name, toolbar_event);\n",
       "        button.mouseover(tooltip, toolbar_mouse_event);\n",
       "\n",
       "        var icon_img = $('<span/>');\n",
       "        icon_img.addClass('ui-button-icon-primary ui-icon');\n",
       "        icon_img.addClass(image);\n",
       "        icon_img.addClass('ui-corner-all');\n",
       "\n",
       "        var tooltip_span = $('<span/>');\n",
       "        tooltip_span.addClass('ui-button-text');\n",
       "        tooltip_span.html(tooltip);\n",
       "\n",
       "        button.append(icon_img);\n",
       "        button.append(tooltip_span);\n",
       "\n",
       "        nav_element.append(button);\n",
       "    }\n",
       "\n",
       "    var fmt_picker_span = $('<span/>');\n",
       "\n",
       "    var fmt_picker = $('<select/>');\n",
       "    fmt_picker.addClass('mpl-toolbar-option ui-widget ui-widget-content');\n",
       "    fmt_picker_span.append(fmt_picker);\n",
       "    nav_element.append(fmt_picker_span);\n",
       "    this.format_dropdown = fmt_picker[0];\n",
       "\n",
       "    for (var ind in mpl.extensions) {\n",
       "        var fmt = mpl.extensions[ind];\n",
       "        var option = $(\n",
       "            '<option/>', {selected: fmt === mpl.default_extension}).html(fmt);\n",
       "        fmt_picker.append(option)\n",
       "    }\n",
       "\n",
       "    // Add hover states to the ui-buttons\n",
       "    $( \".ui-button\" ).hover(\n",
       "        function() { $(this).addClass(\"ui-state-hover\");},\n",
       "        function() { $(this).removeClass(\"ui-state-hover\");}\n",
       "    );\n",
       "\n",
       "    var status_bar = $('<span class=\"mpl-message\"/>');\n",
       "    nav_element.append(status_bar);\n",
       "    this.message = status_bar[0];\n",
       "}\n",
       "\n",
       "mpl.figure.prototype.request_resize = function(x_pixels, y_pixels) {\n",
       "    // Request matplotlib to resize the figure. Matplotlib will then trigger a resize in the client,\n",
       "    // which will in turn request a refresh of the image.\n",
       "    this.send_message('resize', {'width': x_pixels, 'height': y_pixels});\n",
       "}\n",
       "\n",
       "mpl.figure.prototype.send_message = function(type, properties) {\n",
       "    properties['type'] = type;\n",
       "    properties['figure_id'] = this.id;\n",
       "    this.ws.send(JSON.stringify(properties));\n",
       "}\n",
       "\n",
       "mpl.figure.prototype.send_draw_message = function() {\n",
       "    if (!this.waiting) {\n",
       "        this.waiting = true;\n",
       "        this.ws.send(JSON.stringify({type: \"draw\", figure_id: this.id}));\n",
       "    }\n",
       "}\n",
       "\n",
       "\n",
       "mpl.figure.prototype.handle_save = function(fig, msg) {\n",
       "    var format_dropdown = fig.format_dropdown;\n",
       "    var format = format_dropdown.options[format_dropdown.selectedIndex].value;\n",
       "    fig.ondownload(fig, format);\n",
       "}\n",
       "\n",
       "\n",
       "mpl.figure.prototype.handle_resize = function(fig, msg) {\n",
       "    var size = msg['size'];\n",
       "    if (size[0] != fig.canvas.width || size[1] != fig.canvas.height) {\n",
       "        fig._resize_canvas(size[0], size[1]);\n",
       "        fig.send_message(\"refresh\", {});\n",
       "    };\n",
       "}\n",
       "\n",
       "mpl.figure.prototype.handle_rubberband = function(fig, msg) {\n",
       "    var x0 = msg['x0'];\n",
       "    var y0 = fig.canvas.height - msg['y0'];\n",
       "    var x1 = msg['x1'];\n",
       "    var y1 = fig.canvas.height - msg['y1'];\n",
       "    x0 = Math.floor(x0) + 0.5;\n",
       "    y0 = Math.floor(y0) + 0.5;\n",
       "    x1 = Math.floor(x1) + 0.5;\n",
       "    y1 = Math.floor(y1) + 0.5;\n",
       "    var min_x = Math.min(x0, x1);\n",
       "    var min_y = Math.min(y0, y1);\n",
       "    var width = Math.abs(x1 - x0);\n",
       "    var height = Math.abs(y1 - y0);\n",
       "\n",
       "    fig.rubberband_context.clearRect(\n",
       "        0, 0, fig.canvas.width, fig.canvas.height);\n",
       "\n",
       "    fig.rubberband_context.strokeRect(min_x, min_y, width, height);\n",
       "}\n",
       "\n",
       "mpl.figure.prototype.handle_figure_label = function(fig, msg) {\n",
       "    // Updates the figure title.\n",
       "    fig.header.textContent = msg['label'];\n",
       "}\n",
       "\n",
       "mpl.figure.prototype.handle_cursor = function(fig, msg) {\n",
       "    var cursor = msg['cursor'];\n",
       "    switch(cursor)\n",
       "    {\n",
       "    case 0:\n",
       "        cursor = 'pointer';\n",
       "        break;\n",
       "    case 1:\n",
       "        cursor = 'default';\n",
       "        break;\n",
       "    case 2:\n",
       "        cursor = 'crosshair';\n",
       "        break;\n",
       "    case 3:\n",
       "        cursor = 'move';\n",
       "        break;\n",
       "    }\n",
       "    fig.rubberband_canvas.style.cursor = cursor;\n",
       "}\n",
       "\n",
       "mpl.figure.prototype.handle_message = function(fig, msg) {\n",
       "    fig.message.textContent = msg['message'];\n",
       "}\n",
       "\n",
       "mpl.figure.prototype.handle_draw = function(fig, msg) {\n",
       "    // Request the server to send over a new figure.\n",
       "    fig.send_draw_message();\n",
       "}\n",
       "\n",
       "mpl.figure.prototype.handle_image_mode = function(fig, msg) {\n",
       "    fig.image_mode = msg['mode'];\n",
       "}\n",
       "\n",
       "mpl.figure.prototype.updated_canvas_event = function() {\n",
       "    // Called whenever the canvas gets updated.\n",
       "    this.send_message(\"ack\", {});\n",
       "}\n",
       "\n",
       "// A function to construct a web socket function for onmessage handling.\n",
       "// Called in the figure constructor.\n",
       "mpl.figure.prototype._make_on_message_function = function(fig) {\n",
       "    return function socket_on_message(evt) {\n",
       "        if (evt.data instanceof Blob) {\n",
       "            /* FIXME: We get \"Resource interpreted as Image but\n",
       "             * transferred with MIME type text/plain:\" errors on\n",
       "             * Chrome.  But how to set the MIME type?  It doesn't seem\n",
       "             * to be part of the websocket stream */\n",
       "            evt.data.type = \"image/png\";\n",
       "\n",
       "            /* Free the memory for the previous frames */\n",
       "            if (fig.imageObj.src) {\n",
       "                (window.URL || window.webkitURL).revokeObjectURL(\n",
       "                    fig.imageObj.src);\n",
       "            }\n",
       "\n",
       "            fig.imageObj.src = (window.URL || window.webkitURL).createObjectURL(\n",
       "                evt.data);\n",
       "            fig.updated_canvas_event();\n",
       "            fig.waiting = false;\n",
       "            return;\n",
       "        }\n",
       "        else if (typeof evt.data === 'string' && evt.data.slice(0, 21) == \"data:image/png;base64\") {\n",
       "            fig.imageObj.src = evt.data;\n",
       "            fig.updated_canvas_event();\n",
       "            fig.waiting = false;\n",
       "            return;\n",
       "        }\n",
       "\n",
       "        var msg = JSON.parse(evt.data);\n",
       "        var msg_type = msg['type'];\n",
       "\n",
       "        // Call the  \"handle_{type}\" callback, which takes\n",
       "        // the figure and JSON message as its only arguments.\n",
       "        try {\n",
       "            var callback = fig[\"handle_\" + msg_type];\n",
       "        } catch (e) {\n",
       "            console.log(\"No handler for the '\" + msg_type + \"' message type: \", msg);\n",
       "            return;\n",
       "        }\n",
       "\n",
       "        if (callback) {\n",
       "            try {\n",
       "                // console.log(\"Handling '\" + msg_type + \"' message: \", msg);\n",
       "                callback(fig, msg);\n",
       "            } catch (e) {\n",
       "                console.log(\"Exception inside the 'handler_\" + msg_type + \"' callback:\", e, e.stack, msg);\n",
       "            }\n",
       "        }\n",
       "    };\n",
       "}\n",
       "\n",
       "// from http://stackoverflow.com/questions/1114465/getting-mouse-location-in-canvas\n",
       "mpl.findpos = function(e) {\n",
       "    //this section is from http://www.quirksmode.org/js/events_properties.html\n",
       "    var targ;\n",
       "    if (!e)\n",
       "        e = window.event;\n",
       "    if (e.target)\n",
       "        targ = e.target;\n",
       "    else if (e.srcElement)\n",
       "        targ = e.srcElement;\n",
       "    if (targ.nodeType == 3) // defeat Safari bug\n",
       "        targ = targ.parentNode;\n",
       "\n",
       "    // jQuery normalizes the pageX and pageY\n",
       "    // pageX,Y are the mouse positions relative to the document\n",
       "    // offset() returns the position of the element relative to the document\n",
       "    var x = e.pageX - $(targ).offset().left;\n",
       "    var y = e.pageY - $(targ).offset().top;\n",
       "\n",
       "    return {\"x\": x, \"y\": y};\n",
       "};\n",
       "\n",
       "/*\n",
       " * return a copy of an object with only non-object keys\n",
       " * we need this to avoid circular references\n",
       " * http://stackoverflow.com/a/24161582/3208463\n",
       " */\n",
       "function simpleKeys (original) {\n",
       "  return Object.keys(original).reduce(function (obj, key) {\n",
       "    if (typeof original[key] !== 'object')\n",
       "        obj[key] = original[key]\n",
       "    return obj;\n",
       "  }, {});\n",
       "}\n",
       "\n",
       "mpl.figure.prototype.mouse_event = function(event, name) {\n",
       "    var canvas_pos = mpl.findpos(event)\n",
       "\n",
       "    if (name === 'button_press')\n",
       "    {\n",
       "        this.canvas.focus();\n",
       "        this.canvas_div.focus();\n",
       "    }\n",
       "\n",
       "    var x = canvas_pos.x;\n",
       "    var y = canvas_pos.y;\n",
       "\n",
       "    this.send_message(name, {x: x, y: y, button: event.button,\n",
       "                             step: event.step,\n",
       "                             guiEvent: simpleKeys(event)});\n",
       "\n",
       "    /* This prevents the web browser from automatically changing to\n",
       "     * the text insertion cursor when the button is pressed.  We want\n",
       "     * to control all of the cursor setting manually through the\n",
       "     * 'cursor' event from matplotlib */\n",
       "    event.preventDefault();\n",
       "    return false;\n",
       "}\n",
       "\n",
       "mpl.figure.prototype._key_event_extra = function(event, name) {\n",
       "    // Handle any extra behaviour associated with a key event\n",
       "}\n",
       "\n",
       "mpl.figure.prototype.key_event = function(event, name) {\n",
       "\n",
       "    // Prevent repeat events\n",
       "    if (name == 'key_press')\n",
       "    {\n",
       "        if (event.which === this._key)\n",
       "            return;\n",
       "        else\n",
       "            this._key = event.which;\n",
       "    }\n",
       "    if (name == 'key_release')\n",
       "        this._key = null;\n",
       "\n",
       "    var value = '';\n",
       "    if (event.ctrlKey && event.which != 17)\n",
       "        value += \"ctrl+\";\n",
       "    if (event.altKey && event.which != 18)\n",
       "        value += \"alt+\";\n",
       "    if (event.shiftKey && event.which != 16)\n",
       "        value += \"shift+\";\n",
       "\n",
       "    value += 'k';\n",
       "    value += event.which.toString();\n",
       "\n",
       "    this._key_event_extra(event, name);\n",
       "\n",
       "    this.send_message(name, {key: value,\n",
       "                             guiEvent: simpleKeys(event)});\n",
       "    return false;\n",
       "}\n",
       "\n",
       "mpl.figure.prototype.toolbar_button_onclick = function(name) {\n",
       "    if (name == 'download') {\n",
       "        this.handle_save(this, null);\n",
       "    } else {\n",
       "        this.send_message(\"toolbar_button\", {name: name});\n",
       "    }\n",
       "};\n",
       "\n",
       "mpl.figure.prototype.toolbar_button_onmouseover = function(tooltip) {\n",
       "    this.message.textContent = tooltip;\n",
       "};\n",
       "mpl.toolbar_items = [[\"Home\", \"Reset original view\", \"fa fa-home icon-home\", \"home\"], [\"Back\", \"Back to  previous view\", \"fa fa-arrow-left icon-arrow-left\", \"back\"], [\"Forward\", \"Forward to next view\", \"fa fa-arrow-right icon-arrow-right\", \"forward\"], [\"\", \"\", \"\", \"\"], [\"Pan\", \"Pan axes with left mouse, zoom with right\", \"fa fa-arrows icon-move\", \"pan\"], [\"Zoom\", \"Zoom to rectangle\", \"fa fa-square-o icon-check-empty\", \"zoom\"], [\"\", \"\", \"\", \"\"], [\"Download\", \"Download plot\", \"fa fa-floppy-o icon-save\", \"download\"]];\n",
       "\n",
       "mpl.extensions = [\"eps\", \"pdf\", \"png\", \"ps\", \"raw\", \"svg\"];\n",
       "\n",
       "mpl.default_extension = \"png\";var comm_websocket_adapter = function(comm) {\n",
       "    // Create a \"websocket\"-like object which calls the given IPython comm\n",
       "    // object with the appropriate methods. Currently this is a non binary\n",
       "    // socket, so there is still some room for performance tuning.\n",
       "    var ws = {};\n",
       "\n",
       "    ws.close = function() {\n",
       "        comm.close()\n",
       "    };\n",
       "    ws.send = function(m) {\n",
       "        //console.log('sending', m);\n",
       "        comm.send(m);\n",
       "    };\n",
       "    // Register the callback with on_msg.\n",
       "    comm.on_msg(function(msg) {\n",
       "        //console.log('receiving', msg['content']['data'], msg);\n",
       "        // Pass the mpl event to the overriden (by mpl) onmessage function.\n",
       "        ws.onmessage(msg['content']['data'])\n",
       "    });\n",
       "    return ws;\n",
       "}\n",
       "\n",
       "mpl.mpl_figure_comm = function(comm, msg) {\n",
       "    // This is the function which gets called when the mpl process\n",
       "    // starts-up an IPython Comm through the \"matplotlib\" channel.\n",
       "\n",
       "    var id = msg.content.data.id;\n",
       "    // Get hold of the div created by the display call when the Comm\n",
       "    // socket was opened in Python.\n",
       "    var element = $(\"#\" + id);\n",
       "    var ws_proxy = comm_websocket_adapter(comm)\n",
       "\n",
       "    function ondownload(figure, format) {\n",
       "        window.open(figure.imageObj.src);\n",
       "    }\n",
       "\n",
       "    var fig = new mpl.figure(id, ws_proxy,\n",
       "                           ondownload,\n",
       "                           element.get(0));\n",
       "\n",
       "    // Call onopen now - mpl needs it, as it is assuming we've passed it a real\n",
       "    // web socket which is closed, not our websocket->open comm proxy.\n",
       "    ws_proxy.onopen();\n",
       "\n",
       "    fig.parent_element = element.get(0);\n",
       "    fig.cell_info = mpl.find_output_cell(\"<div id='\" + id + \"'></div>\");\n",
       "    if (!fig.cell_info) {\n",
       "        console.error(\"Failed to find cell for figure\", id, fig);\n",
       "        return;\n",
       "    }\n",
       "\n",
       "    var output_index = fig.cell_info[2]\n",
       "    var cell = fig.cell_info[0];\n",
       "\n",
       "};\n",
       "\n",
       "mpl.figure.prototype.handle_close = function(fig, msg) {\n",
       "    fig.root.unbind('remove')\n",
       "\n",
       "    // Update the output cell to use the data from the current canvas.\n",
       "    fig.push_to_output();\n",
       "    var dataURL = fig.canvas.toDataURL();\n",
       "    // Re-enable the keyboard manager in IPython - without this line, in FF,\n",
       "    // the notebook keyboard shortcuts fail.\n",
       "    IPython.keyboard_manager.enable()\n",
       "    $(fig.parent_element).html('<img src=\"' + dataURL + '\">');\n",
       "    fig.close_ws(fig, msg);\n",
       "}\n",
       "\n",
       "mpl.figure.prototype.close_ws = function(fig, msg){\n",
       "    fig.send_message('closing', msg);\n",
       "    // fig.ws.close()\n",
       "}\n",
       "\n",
       "mpl.figure.prototype.push_to_output = function(remove_interactive) {\n",
       "    // Turn the data on the canvas into data in the output cell.\n",
       "    var dataURL = this.canvas.toDataURL();\n",
       "    this.cell_info[1]['text/html'] = '<img src=\"' + dataURL + '\">';\n",
       "}\n",
       "\n",
       "mpl.figure.prototype.updated_canvas_event = function() {\n",
       "    // Tell IPython that the notebook contents must change.\n",
       "    IPython.notebook.set_dirty(true);\n",
       "    this.send_message(\"ack\", {});\n",
       "    var fig = this;\n",
       "    // Wait a second, then push the new image to the DOM so\n",
       "    // that it is saved nicely (might be nice to debounce this).\n",
       "    setTimeout(function () { fig.push_to_output() }, 1000);\n",
       "}\n",
       "\n",
       "mpl.figure.prototype._init_toolbar = function() {\n",
       "    var fig = this;\n",
       "\n",
       "    var nav_element = $('<div/>')\n",
       "    nav_element.attr('style', 'width: 100%');\n",
       "    this.root.append(nav_element);\n",
       "\n",
       "    // Define a callback function for later on.\n",
       "    function toolbar_event(event) {\n",
       "        return fig.toolbar_button_onclick(event['data']);\n",
       "    }\n",
       "    function toolbar_mouse_event(event) {\n",
       "        return fig.toolbar_button_onmouseover(event['data']);\n",
       "    }\n",
       "\n",
       "    for(var toolbar_ind in mpl.toolbar_items){\n",
       "        var name = mpl.toolbar_items[toolbar_ind][0];\n",
       "        var tooltip = mpl.toolbar_items[toolbar_ind][1];\n",
       "        var image = mpl.toolbar_items[toolbar_ind][2];\n",
       "        var method_name = mpl.toolbar_items[toolbar_ind][3];\n",
       "\n",
       "        if (!name) { continue; };\n",
       "\n",
       "        var button = $('<button class=\"btn btn-default\" href=\"#\" title=\"' + name + '\"><i class=\"fa ' + image + ' fa-lg\"></i></button>');\n",
       "        button.click(method_name, toolbar_event);\n",
       "        button.mouseover(tooltip, toolbar_mouse_event);\n",
       "        nav_element.append(button);\n",
       "    }\n",
       "\n",
       "    // Add the status bar.\n",
       "    var status_bar = $('<span class=\"mpl-message\" style=\"text-align:right; float: right;\"/>');\n",
       "    nav_element.append(status_bar);\n",
       "    this.message = status_bar[0];\n",
       "\n",
       "    // Add the close button to the window.\n",
       "    var buttongrp = $('<div class=\"btn-group inline pull-right\"></div>');\n",
       "    var button = $('<button class=\"btn btn-mini btn-primary\" href=\"#\" title=\"Stop Interaction\"><i class=\"fa fa-power-off icon-remove icon-large\"></i></button>');\n",
       "    button.click(function (evt) { fig.handle_close(fig, {}); } );\n",
       "    button.mouseover('Stop Interaction', toolbar_mouse_event);\n",
       "    buttongrp.append(button);\n",
       "    var titlebar = this.root.find($('.ui-dialog-titlebar'));\n",
       "    titlebar.prepend(buttongrp);\n",
       "}\n",
       "\n",
       "mpl.figure.prototype._root_extra_style = function(el){\n",
       "    var fig = this\n",
       "    el.on(\"remove\", function(){\n",
       "\tfig.close_ws(fig, {});\n",
       "    });\n",
       "}\n",
       "\n",
       "mpl.figure.prototype._canvas_extra_style = function(el){\n",
       "    // this is important to make the div 'focusable\n",
       "    el.attr('tabindex', 0)\n",
       "    // reach out to IPython and tell the keyboard manager to turn it's self\n",
       "    // off when our div gets focus\n",
       "\n",
       "    // location in version 3\n",
       "    if (IPython.notebook.keyboard_manager) {\n",
       "        IPython.notebook.keyboard_manager.register_events(el);\n",
       "    }\n",
       "    else {\n",
       "        // location in version 2\n",
       "        IPython.keyboard_manager.register_events(el);\n",
       "    }\n",
       "\n",
       "}\n",
       "\n",
       "mpl.figure.prototype._key_event_extra = function(event, name) {\n",
       "    var manager = IPython.notebook.keyboard_manager;\n",
       "    if (!manager)\n",
       "        manager = IPython.keyboard_manager;\n",
       "\n",
       "    // Check for shift+enter\n",
       "    if (event.shiftKey && event.which == 13) {\n",
       "        this.canvas_div.blur();\n",
       "        // select the cell after this one\n",
       "        var index = IPython.notebook.find_cell_index(this.cell_info[0]);\n",
       "        IPython.notebook.select(index + 1);\n",
       "    }\n",
       "}\n",
       "\n",
       "mpl.figure.prototype.handle_save = function(fig, msg) {\n",
       "    fig.ondownload(fig, null);\n",
       "}\n",
       "\n",
       "\n",
       "mpl.find_output_cell = function(html_output) {\n",
       "    // Return the cell and output element which can be found *uniquely* in the notebook.\n",
       "    // Note - this is a bit hacky, but it is done because the \"notebook_saving.Notebook\"\n",
       "    // IPython event is triggered only after the cells have been serialised, which for\n",
       "    // our purposes (turning an active figure into a static one), is too late.\n",
       "    var cells = IPython.notebook.get_cells();\n",
       "    var ncells = cells.length;\n",
       "    for (var i=0; i<ncells; i++) {\n",
       "        var cell = cells[i];\n",
       "        if (cell.cell_type === 'code'){\n",
       "            for (var j=0; j<cell.output_area.outputs.length; j++) {\n",
       "                var data = cell.output_area.outputs[j];\n",
       "                if (data.data) {\n",
       "                    // IPython >= 3 moved mimebundle to data attribute of output\n",
       "                    data = data.data;\n",
       "                }\n",
       "                if (data['text/html'] == html_output) {\n",
       "                    return [cell, data, j];\n",
       "                }\n",
       "            }\n",
       "        }\n",
       "    }\n",
       "}\n",
       "\n",
       "// Register the function which deals with the matplotlib target/channel.\n",
       "// The kernel may be null if the page has been refreshed.\n",
       "if (IPython.notebook.kernel != null) {\n",
       "    IPython.notebook.kernel.comm_manager.register_target('matplotlib', mpl.mpl_figure_comm);\n",
       "}\n"
      ],
      "text/plain": [
       "<IPython.core.display.Javascript object>"
      ]
     },
     "metadata": {},
     "output_type": "display_data"
    },
    {
     "data": {
      "text/html": [
       "<img src=\"data:image/png;base64,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\">"
      ],
      "text/plain": [
       "<IPython.core.display.HTML object>"
      ]
     },
     "metadata": {},
     "output_type": "display_data"
    },
    {
     "ename": "ValueError",
     "evalue": "Image is not loaded!",
     "output_type": "error",
     "traceback": [
      "\u001b[0;31m---------------------------------------------------------------------------\u001b[0m",
      "\u001b[0;31mValueError\u001b[0m                                Traceback (most recent call last)",
      "\u001b[0;32m<ipython-input-78-4f46b625d452>\u001b[0m in \u001b[0;36mwrap_display_image\u001b[0;34m(change)\u001b[0m\n\u001b[1;32m     46\u001b[0m \u001b[0;34m\u001b[0m\u001b[0m\n\u001b[1;32m     47\u001b[0m     \u001b[0;32mif\u001b[0m \u001b[0mImage\u001b[0m\u001b[0;34m[\u001b[0m\u001b[0;34m'raw_image'\u001b[0m\u001b[0;34m]\u001b[0m\u001b[0;34m.\u001b[0m\u001b[0mshape\u001b[0m \u001b[0;34m==\u001b[0m \u001b[0;34m(\u001b[0m\u001b[0;36m0\u001b[0m\u001b[0;34m,\u001b[0m\u001b[0;34m)\u001b[0m\u001b[0;34m:\u001b[0m\u001b[0;34m\u001b[0m\u001b[0m\n\u001b[0;32m---> 48\u001b[0;31m         \u001b[0;32mraise\u001b[0m \u001b[0mValueError\u001b[0m\u001b[0;34m(\u001b[0m\u001b[0;34m'Image is not loaded!'\u001b[0m\u001b[0;34m)\u001b[0m\u001b[0;34m\u001b[0m\u001b[0m\n\u001b[0m\u001b[1;32m     49\u001b[0m \u001b[0;34m\u001b[0m\u001b[0m\n\u001b[1;32m     50\u001b[0m     \u001b[0;32mif\u001b[0m \u001b[0mselect_plot_widget\u001b[0m\u001b[0;34m.\u001b[0m\u001b[0mvalue\u001b[0m \u001b[0;34m==\u001b[0m \u001b[0;34m'Raw image'\u001b[0m\u001b[0;34m:\u001b[0m\u001b[0;34m\u001b[0m\u001b[0m\n",
      "\u001b[0;31mValueError\u001b[0m: Image is not loaded!"
     ]
    }
   ],
   "source": [
    "fig1, ax1 = plt.subplots()\n",
    "ax1.hold(False)\n",
    "\n",
    "display(widgets.HBox((select_plot_widget, display_image_button)))"
   ]
  },
  {
   "cell_type": "markdown",
   "metadata": {},
   "source": [
    "## Plot image"
   ]
  },
  {
   "cell_type": "code",
   "execution_count": 83,
   "metadata": {
    "collapsed": false,
    "scrolled": false
   },
   "outputs": [
    {
     "data": {
      "application/javascript": [
       "/* Put everything inside the global mpl namespace */\n",
       "window.mpl = {};\n",
       "\n",
       "mpl.get_websocket_type = function() {\n",
       "    if (typeof(WebSocket) !== 'undefined') {\n",
       "        return WebSocket;\n",
       "    } else if (typeof(MozWebSocket) !== 'undefined') {\n",
       "        return MozWebSocket;\n",
       "    } else {\n",
       "        alert('Your browser does not have WebSocket support.' +\n",
       "              'Please try Chrome, Safari or Firefox ≥ 6. ' +\n",
       "              'Firefox 4 and 5 are also supported but you ' +\n",
       "              'have to enable WebSockets in about:config.');\n",
       "    };\n",
       "}\n",
       "\n",
       "mpl.figure = function(figure_id, websocket, ondownload, parent_element) {\n",
       "    this.id = figure_id;\n",
       "\n",
       "    this.ws = websocket;\n",
       "\n",
       "    this.supports_binary = (this.ws.binaryType != undefined);\n",
       "\n",
       "    if (!this.supports_binary) {\n",
       "        var warnings = document.getElementById(\"mpl-warnings\");\n",
       "        if (warnings) {\n",
       "            warnings.style.display = 'block';\n",
       "            warnings.textContent = (\n",
       "                \"This browser does not support binary websocket messages. \" +\n",
       "                    \"Performance may be slow.\");\n",
       "        }\n",
       "    }\n",
       "\n",
       "    this.imageObj = new Image();\n",
       "\n",
       "    this.context = undefined;\n",
       "    this.message = undefined;\n",
       "    this.canvas = undefined;\n",
       "    this.rubberband_canvas = undefined;\n",
       "    this.rubberband_context = undefined;\n",
       "    this.format_dropdown = undefined;\n",
       "\n",
       "    this.image_mode = 'full';\n",
       "\n",
       "    this.root = $('<div/>');\n",
       "    this._root_extra_style(this.root)\n",
       "    this.root.attr('style', 'display: inline-block');\n",
       "\n",
       "    $(parent_element).append(this.root);\n",
       "\n",
       "    this._init_header(this);\n",
       "    this._init_canvas(this);\n",
       "    this._init_toolbar(this);\n",
       "\n",
       "    var fig = this;\n",
       "\n",
       "    this.waiting = false;\n",
       "\n",
       "    this.ws.onopen =  function () {\n",
       "            fig.send_message(\"supports_binary\", {value: fig.supports_binary});\n",
       "            fig.send_message(\"send_image_mode\", {});\n",
       "            fig.send_message(\"refresh\", {});\n",
       "        }\n",
       "\n",
       "    this.imageObj.onload = function() {\n",
       "            if (fig.image_mode == 'full') {\n",
       "                // Full images could contain transparency (where diff images\n",
       "                // almost always do), so we need to clear the canvas so that\n",
       "                // there is no ghosting.\n",
       "                fig.context.clearRect(0, 0, fig.canvas.width, fig.canvas.height);\n",
       "            }\n",
       "            fig.context.drawImage(fig.imageObj, 0, 0);\n",
       "        };\n",
       "\n",
       "    this.imageObj.onunload = function() {\n",
       "        this.ws.close();\n",
       "    }\n",
       "\n",
       "    this.ws.onmessage = this._make_on_message_function(this);\n",
       "\n",
       "    this.ondownload = ondownload;\n",
       "}\n",
       "\n",
       "mpl.figure.prototype._init_header = function() {\n",
       "    var titlebar = $(\n",
       "        '<div class=\"ui-dialog-titlebar ui-widget-header ui-corner-all ' +\n",
       "        'ui-helper-clearfix\"/>');\n",
       "    var titletext = $(\n",
       "        '<div class=\"ui-dialog-title\" style=\"width: 100%; ' +\n",
       "        'text-align: center; padding: 3px;\"/>');\n",
       "    titlebar.append(titletext)\n",
       "    this.root.append(titlebar);\n",
       "    this.header = titletext[0];\n",
       "}\n",
       "\n",
       "\n",
       "\n",
       "mpl.figure.prototype._canvas_extra_style = function(canvas_div) {\n",
       "\n",
       "}\n",
       "\n",
       "\n",
       "mpl.figure.prototype._root_extra_style = function(canvas_div) {\n",
       "\n",
       "}\n",
       "\n",
       "mpl.figure.prototype._init_canvas = function() {\n",
       "    var fig = this;\n",
       "\n",
       "    var canvas_div = $('<div/>');\n",
       "\n",
       "    canvas_div.attr('style', 'position: relative; clear: both; outline: 0');\n",
       "\n",
       "    function canvas_keyboard_event(event) {\n",
       "        return fig.key_event(event, event['data']);\n",
       "    }\n",
       "\n",
       "    canvas_div.keydown('key_press', canvas_keyboard_event);\n",
       "    canvas_div.keyup('key_release', canvas_keyboard_event);\n",
       "    this.canvas_div = canvas_div\n",
       "    this._canvas_extra_style(canvas_div)\n",
       "    this.root.append(canvas_div);\n",
       "\n",
       "    var canvas = $('<canvas/>');\n",
       "    canvas.addClass('mpl-canvas');\n",
       "    canvas.attr('style', \"left: 0; top: 0; z-index: 0; outline: 0\")\n",
       "\n",
       "    this.canvas = canvas[0];\n",
       "    this.context = canvas[0].getContext(\"2d\");\n",
       "\n",
       "    var rubberband = $('<canvas/>');\n",
       "    rubberband.attr('style', \"position: absolute; left: 0; top: 0; z-index: 1;\")\n",
       "\n",
       "    var pass_mouse_events = true;\n",
       "\n",
       "    canvas_div.resizable({\n",
       "        start: function(event, ui) {\n",
       "            pass_mouse_events = false;\n",
       "        },\n",
       "        resize: function(event, ui) {\n",
       "            fig.request_resize(ui.size.width, ui.size.height);\n",
       "        },\n",
       "        stop: function(event, ui) {\n",
       "            pass_mouse_events = true;\n",
       "            fig.request_resize(ui.size.width, ui.size.height);\n",
       "        },\n",
       "    });\n",
       "\n",
       "    function mouse_event_fn(event) {\n",
       "        if (pass_mouse_events)\n",
       "            return fig.mouse_event(event, event['data']);\n",
       "    }\n",
       "\n",
       "    rubberband.mousedown('button_press', mouse_event_fn);\n",
       "    rubberband.mouseup('button_release', mouse_event_fn);\n",
       "    // Throttle sequential mouse events to 1 every 20ms.\n",
       "    rubberband.mousemove('motion_notify', mouse_event_fn);\n",
       "\n",
       "    rubberband.mouseenter('figure_enter', mouse_event_fn);\n",
       "    rubberband.mouseleave('figure_leave', mouse_event_fn);\n",
       "\n",
       "    canvas_div.on(\"wheel\", function (event) {\n",
       "        event = event.originalEvent;\n",
       "        event['data'] = 'scroll'\n",
       "        if (event.deltaY < 0) {\n",
       "            event.step = 1;\n",
       "        } else {\n",
       "            event.step = -1;\n",
       "        }\n",
       "        mouse_event_fn(event);\n",
       "    });\n",
       "\n",
       "    canvas_div.append(canvas);\n",
       "    canvas_div.append(rubberband);\n",
       "\n",
       "    this.rubberband = rubberband;\n",
       "    this.rubberband_canvas = rubberband[0];\n",
       "    this.rubberband_context = rubberband[0].getContext(\"2d\");\n",
       "    this.rubberband_context.strokeStyle = \"#000000\";\n",
       "\n",
       "    this._resize_canvas = function(width, height) {\n",
       "        // Keep the size of the canvas, canvas container, and rubber band\n",
       "        // canvas in synch.\n",
       "        canvas_div.css('width', width)\n",
       "        canvas_div.css('height', height)\n",
       "\n",
       "        canvas.attr('width', width);\n",
       "        canvas.attr('height', height);\n",
       "\n",
       "        rubberband.attr('width', width);\n",
       "        rubberband.attr('height', height);\n",
       "    }\n",
       "\n",
       "    // Set the figure to an initial 600x600px, this will subsequently be updated\n",
       "    // upon first draw.\n",
       "    this._resize_canvas(600, 600);\n",
       "\n",
       "    // Disable right mouse context menu.\n",
       "    $(this.rubberband_canvas).bind(\"contextmenu\",function(e){\n",
       "        return false;\n",
       "    });\n",
       "\n",
       "    function set_focus () {\n",
       "        canvas.focus();\n",
       "        canvas_div.focus();\n",
       "    }\n",
       "\n",
       "    window.setTimeout(set_focus, 100);\n",
       "}\n",
       "\n",
       "mpl.figure.prototype._init_toolbar = function() {\n",
       "    var fig = this;\n",
       "\n",
       "    var nav_element = $('<div/>')\n",
       "    nav_element.attr('style', 'width: 100%');\n",
       "    this.root.append(nav_element);\n",
       "\n",
       "    // Define a callback function for later on.\n",
       "    function toolbar_event(event) {\n",
       "        return fig.toolbar_button_onclick(event['data']);\n",
       "    }\n",
       "    function toolbar_mouse_event(event) {\n",
       "        return fig.toolbar_button_onmouseover(event['data']);\n",
       "    }\n",
       "\n",
       "    for(var toolbar_ind in mpl.toolbar_items) {\n",
       "        var name = mpl.toolbar_items[toolbar_ind][0];\n",
       "        var tooltip = mpl.toolbar_items[toolbar_ind][1];\n",
       "        var image = mpl.toolbar_items[toolbar_ind][2];\n",
       "        var method_name = mpl.toolbar_items[toolbar_ind][3];\n",
       "\n",
       "        if (!name) {\n",
       "            // put a spacer in here.\n",
       "            continue;\n",
       "        }\n",
       "        var button = $('<button/>');\n",
       "        button.addClass('ui-button ui-widget ui-state-default ui-corner-all ' +\n",
       "                        'ui-button-icon-only');\n",
       "        button.attr('role', 'button');\n",
       "        button.attr('aria-disabled', 'false');\n",
       "        button.click(method_name, toolbar_event);\n",
       "        button.mouseover(tooltip, toolbar_mouse_event);\n",
       "\n",
       "        var icon_img = $('<span/>');\n",
       "        icon_img.addClass('ui-button-icon-primary ui-icon');\n",
       "        icon_img.addClass(image);\n",
       "        icon_img.addClass('ui-corner-all');\n",
       "\n",
       "        var tooltip_span = $('<span/>');\n",
       "        tooltip_span.addClass('ui-button-text');\n",
       "        tooltip_span.html(tooltip);\n",
       "\n",
       "        button.append(icon_img);\n",
       "        button.append(tooltip_span);\n",
       "\n",
       "        nav_element.append(button);\n",
       "    }\n",
       "\n",
       "    var fmt_picker_span = $('<span/>');\n",
       "\n",
       "    var fmt_picker = $('<select/>');\n",
       "    fmt_picker.addClass('mpl-toolbar-option ui-widget ui-widget-content');\n",
       "    fmt_picker_span.append(fmt_picker);\n",
       "    nav_element.append(fmt_picker_span);\n",
       "    this.format_dropdown = fmt_picker[0];\n",
       "\n",
       "    for (var ind in mpl.extensions) {\n",
       "        var fmt = mpl.extensions[ind];\n",
       "        var option = $(\n",
       "            '<option/>', {selected: fmt === mpl.default_extension}).html(fmt);\n",
       "        fmt_picker.append(option)\n",
       "    }\n",
       "\n",
       "    // Add hover states to the ui-buttons\n",
       "    $( \".ui-button\" ).hover(\n",
       "        function() { $(this).addClass(\"ui-state-hover\");},\n",
       "        function() { $(this).removeClass(\"ui-state-hover\");}\n",
       "    );\n",
       "\n",
       "    var status_bar = $('<span class=\"mpl-message\"/>');\n",
       "    nav_element.append(status_bar);\n",
       "    this.message = status_bar[0];\n",
       "}\n",
       "\n",
       "mpl.figure.prototype.request_resize = function(x_pixels, y_pixels) {\n",
       "    // Request matplotlib to resize the figure. Matplotlib will then trigger a resize in the client,\n",
       "    // which will in turn request a refresh of the image.\n",
       "    this.send_message('resize', {'width': x_pixels, 'height': y_pixels});\n",
       "}\n",
       "\n",
       "mpl.figure.prototype.send_message = function(type, properties) {\n",
       "    properties['type'] = type;\n",
       "    properties['figure_id'] = this.id;\n",
       "    this.ws.send(JSON.stringify(properties));\n",
       "}\n",
       "\n",
       "mpl.figure.prototype.send_draw_message = function() {\n",
       "    if (!this.waiting) {\n",
       "        this.waiting = true;\n",
       "        this.ws.send(JSON.stringify({type: \"draw\", figure_id: this.id}));\n",
       "    }\n",
       "}\n",
       "\n",
       "\n",
       "mpl.figure.prototype.handle_save = function(fig, msg) {\n",
       "    var format_dropdown = fig.format_dropdown;\n",
       "    var format = format_dropdown.options[format_dropdown.selectedIndex].value;\n",
       "    fig.ondownload(fig, format);\n",
       "}\n",
       "\n",
       "\n",
       "mpl.figure.prototype.handle_resize = function(fig, msg) {\n",
       "    var size = msg['size'];\n",
       "    if (size[0] != fig.canvas.width || size[1] != fig.canvas.height) {\n",
       "        fig._resize_canvas(size[0], size[1]);\n",
       "        fig.send_message(\"refresh\", {});\n",
       "    };\n",
       "}\n",
       "\n",
       "mpl.figure.prototype.handle_rubberband = function(fig, msg) {\n",
       "    var x0 = msg['x0'];\n",
       "    var y0 = fig.canvas.height - msg['y0'];\n",
       "    var x1 = msg['x1'];\n",
       "    var y1 = fig.canvas.height - msg['y1'];\n",
       "    x0 = Math.floor(x0) + 0.5;\n",
       "    y0 = Math.floor(y0) + 0.5;\n",
       "    x1 = Math.floor(x1) + 0.5;\n",
       "    y1 = Math.floor(y1) + 0.5;\n",
       "    var min_x = Math.min(x0, x1);\n",
       "    var min_y = Math.min(y0, y1);\n",
       "    var width = Math.abs(x1 - x0);\n",
       "    var height = Math.abs(y1 - y0);\n",
       "\n",
       "    fig.rubberband_context.clearRect(\n",
       "        0, 0, fig.canvas.width, fig.canvas.height);\n",
       "\n",
       "    fig.rubberband_context.strokeRect(min_x, min_y, width, height);\n",
       "}\n",
       "\n",
       "mpl.figure.prototype.handle_figure_label = function(fig, msg) {\n",
       "    // Updates the figure title.\n",
       "    fig.header.textContent = msg['label'];\n",
       "}\n",
       "\n",
       "mpl.figure.prototype.handle_cursor = function(fig, msg) {\n",
       "    var cursor = msg['cursor'];\n",
       "    switch(cursor)\n",
       "    {\n",
       "    case 0:\n",
       "        cursor = 'pointer';\n",
       "        break;\n",
       "    case 1:\n",
       "        cursor = 'default';\n",
       "        break;\n",
       "    case 2:\n",
       "        cursor = 'crosshair';\n",
       "        break;\n",
       "    case 3:\n",
       "        cursor = 'move';\n",
       "        break;\n",
       "    }\n",
       "    fig.rubberband_canvas.style.cursor = cursor;\n",
       "}\n",
       "\n",
       "mpl.figure.prototype.handle_message = function(fig, msg) {\n",
       "    fig.message.textContent = msg['message'];\n",
       "}\n",
       "\n",
       "mpl.figure.prototype.handle_draw = function(fig, msg) {\n",
       "    // Request the server to send over a new figure.\n",
       "    fig.send_draw_message();\n",
       "}\n",
       "\n",
       "mpl.figure.prototype.handle_image_mode = function(fig, msg) {\n",
       "    fig.image_mode = msg['mode'];\n",
       "}\n",
       "\n",
       "mpl.figure.prototype.updated_canvas_event = function() {\n",
       "    // Called whenever the canvas gets updated.\n",
       "    this.send_message(\"ack\", {});\n",
       "}\n",
       "\n",
       "// A function to construct a web socket function for onmessage handling.\n",
       "// Called in the figure constructor.\n",
       "mpl.figure.prototype._make_on_message_function = function(fig) {\n",
       "    return function socket_on_message(evt) {\n",
       "        if (evt.data instanceof Blob) {\n",
       "            /* FIXME: We get \"Resource interpreted as Image but\n",
       "             * transferred with MIME type text/plain:\" errors on\n",
       "             * Chrome.  But how to set the MIME type?  It doesn't seem\n",
       "             * to be part of the websocket stream */\n",
       "            evt.data.type = \"image/png\";\n",
       "\n",
       "            /* Free the memory for the previous frames */\n",
       "            if (fig.imageObj.src) {\n",
       "                (window.URL || window.webkitURL).revokeObjectURL(\n",
       "                    fig.imageObj.src);\n",
       "            }\n",
       "\n",
       "            fig.imageObj.src = (window.URL || window.webkitURL).createObjectURL(\n",
       "                evt.data);\n",
       "            fig.updated_canvas_event();\n",
       "            fig.waiting = false;\n",
       "            return;\n",
       "        }\n",
       "        else if (typeof evt.data === 'string' && evt.data.slice(0, 21) == \"data:image/png;base64\") {\n",
       "            fig.imageObj.src = evt.data;\n",
       "            fig.updated_canvas_event();\n",
       "            fig.waiting = false;\n",
       "            return;\n",
       "        }\n",
       "\n",
       "        var msg = JSON.parse(evt.data);\n",
       "        var msg_type = msg['type'];\n",
       "\n",
       "        // Call the  \"handle_{type}\" callback, which takes\n",
       "        // the figure and JSON message as its only arguments.\n",
       "        try {\n",
       "            var callback = fig[\"handle_\" + msg_type];\n",
       "        } catch (e) {\n",
       "            console.log(\"No handler for the '\" + msg_type + \"' message type: \", msg);\n",
       "            return;\n",
       "        }\n",
       "\n",
       "        if (callback) {\n",
       "            try {\n",
       "                // console.log(\"Handling '\" + msg_type + \"' message: \", msg);\n",
       "                callback(fig, msg);\n",
       "            } catch (e) {\n",
       "                console.log(\"Exception inside the 'handler_\" + msg_type + \"' callback:\", e, e.stack, msg);\n",
       "            }\n",
       "        }\n",
       "    };\n",
       "}\n",
       "\n",
       "// from http://stackoverflow.com/questions/1114465/getting-mouse-location-in-canvas\n",
       "mpl.findpos = function(e) {\n",
       "    //this section is from http://www.quirksmode.org/js/events_properties.html\n",
       "    var targ;\n",
       "    if (!e)\n",
       "        e = window.event;\n",
       "    if (e.target)\n",
       "        targ = e.target;\n",
       "    else if (e.srcElement)\n",
       "        targ = e.srcElement;\n",
       "    if (targ.nodeType == 3) // defeat Safari bug\n",
       "        targ = targ.parentNode;\n",
       "\n",
       "    // jQuery normalizes the pageX and pageY\n",
       "    // pageX,Y are the mouse positions relative to the document\n",
       "    // offset() returns the position of the element relative to the document\n",
       "    var x = e.pageX - $(targ).offset().left;\n",
       "    var y = e.pageY - $(targ).offset().top;\n",
       "\n",
       "    return {\"x\": x, \"y\": y};\n",
       "};\n",
       "\n",
       "/*\n",
       " * return a copy of an object with only non-object keys\n",
       " * we need this to avoid circular references\n",
       " * http://stackoverflow.com/a/24161582/3208463\n",
       " */\n",
       "function simpleKeys (original) {\n",
       "  return Object.keys(original).reduce(function (obj, key) {\n",
       "    if (typeof original[key] !== 'object')\n",
       "        obj[key] = original[key]\n",
       "    return obj;\n",
       "  }, {});\n",
       "}\n",
       "\n",
       "mpl.figure.prototype.mouse_event = function(event, name) {\n",
       "    var canvas_pos = mpl.findpos(event)\n",
       "\n",
       "    if (name === 'button_press')\n",
       "    {\n",
       "        this.canvas.focus();\n",
       "        this.canvas_div.focus();\n",
       "    }\n",
       "\n",
       "    var x = canvas_pos.x;\n",
       "    var y = canvas_pos.y;\n",
       "\n",
       "    this.send_message(name, {x: x, y: y, button: event.button,\n",
       "                             step: event.step,\n",
       "                             guiEvent: simpleKeys(event)});\n",
       "\n",
       "    /* This prevents the web browser from automatically changing to\n",
       "     * the text insertion cursor when the button is pressed.  We want\n",
       "     * to control all of the cursor setting manually through the\n",
       "     * 'cursor' event from matplotlib */\n",
       "    event.preventDefault();\n",
       "    return false;\n",
       "}\n",
       "\n",
       "mpl.figure.prototype._key_event_extra = function(event, name) {\n",
       "    // Handle any extra behaviour associated with a key event\n",
       "}\n",
       "\n",
       "mpl.figure.prototype.key_event = function(event, name) {\n",
       "\n",
       "    // Prevent repeat events\n",
       "    if (name == 'key_press')\n",
       "    {\n",
       "        if (event.which === this._key)\n",
       "            return;\n",
       "        else\n",
       "            this._key = event.which;\n",
       "    }\n",
       "    if (name == 'key_release')\n",
       "        this._key = null;\n",
       "\n",
       "    var value = '';\n",
       "    if (event.ctrlKey && event.which != 17)\n",
       "        value += \"ctrl+\";\n",
       "    if (event.altKey && event.which != 18)\n",
       "        value += \"alt+\";\n",
       "    if (event.shiftKey && event.which != 16)\n",
       "        value += \"shift+\";\n",
       "\n",
       "    value += 'k';\n",
       "    value += event.which.toString();\n",
       "\n",
       "    this._key_event_extra(event, name);\n",
       "\n",
       "    this.send_message(name, {key: value,\n",
       "                             guiEvent: simpleKeys(event)});\n",
       "    return false;\n",
       "}\n",
       "\n",
       "mpl.figure.prototype.toolbar_button_onclick = function(name) {\n",
       "    if (name == 'download') {\n",
       "        this.handle_save(this, null);\n",
       "    } else {\n",
       "        this.send_message(\"toolbar_button\", {name: name});\n",
       "    }\n",
       "};\n",
       "\n",
       "mpl.figure.prototype.toolbar_button_onmouseover = function(tooltip) {\n",
       "    this.message.textContent = tooltip;\n",
       "};\n",
       "mpl.toolbar_items = [[\"Home\", \"Reset original view\", \"fa fa-home icon-home\", \"home\"], [\"Back\", \"Back to  previous view\", \"fa fa-arrow-left icon-arrow-left\", \"back\"], [\"Forward\", \"Forward to next view\", \"fa fa-arrow-right icon-arrow-right\", \"forward\"], [\"\", \"\", \"\", \"\"], [\"Pan\", \"Pan axes with left mouse, zoom with right\", \"fa fa-arrows icon-move\", \"pan\"], [\"Zoom\", \"Zoom to rectangle\", \"fa fa-square-o icon-check-empty\", \"zoom\"], [\"\", \"\", \"\", \"\"], [\"Download\", \"Download plot\", \"fa fa-floppy-o icon-save\", \"download\"]];\n",
       "\n",
       "mpl.extensions = [\"eps\", \"pdf\", \"png\", \"ps\", \"raw\", \"svg\"];\n",
       "\n",
       "mpl.default_extension = \"png\";var comm_websocket_adapter = function(comm) {\n",
       "    // Create a \"websocket\"-like object which calls the given IPython comm\n",
       "    // object with the appropriate methods. Currently this is a non binary\n",
       "    // socket, so there is still some room for performance tuning.\n",
       "    var ws = {};\n",
       "\n",
       "    ws.close = function() {\n",
       "        comm.close()\n",
       "    };\n",
       "    ws.send = function(m) {\n",
       "        //console.log('sending', m);\n",
       "        comm.send(m);\n",
       "    };\n",
       "    // Register the callback with on_msg.\n",
       "    comm.on_msg(function(msg) {\n",
       "        //console.log('receiving', msg['content']['data'], msg);\n",
       "        // Pass the mpl event to the overriden (by mpl) onmessage function.\n",
       "        ws.onmessage(msg['content']['data'])\n",
       "    });\n",
       "    return ws;\n",
       "}\n",
       "\n",
       "mpl.mpl_figure_comm = function(comm, msg) {\n",
       "    // This is the function which gets called when the mpl process\n",
       "    // starts-up an IPython Comm through the \"matplotlib\" channel.\n",
       "\n",
       "    var id = msg.content.data.id;\n",
       "    // Get hold of the div created by the display call when the Comm\n",
       "    // socket was opened in Python.\n",
       "    var element = $(\"#\" + id);\n",
       "    var ws_proxy = comm_websocket_adapter(comm)\n",
       "\n",
       "    function ondownload(figure, format) {\n",
       "        window.open(figure.imageObj.src);\n",
       "    }\n",
       "\n",
       "    var fig = new mpl.figure(id, ws_proxy,\n",
       "                           ondownload,\n",
       "                           element.get(0));\n",
       "\n",
       "    // Call onopen now - mpl needs it, as it is assuming we've passed it a real\n",
       "    // web socket which is closed, not our websocket->open comm proxy.\n",
       "    ws_proxy.onopen();\n",
       "\n",
       "    fig.parent_element = element.get(0);\n",
       "    fig.cell_info = mpl.find_output_cell(\"<div id='\" + id + \"'></div>\");\n",
       "    if (!fig.cell_info) {\n",
       "        console.error(\"Failed to find cell for figure\", id, fig);\n",
       "        return;\n",
       "    }\n",
       "\n",
       "    var output_index = fig.cell_info[2]\n",
       "    var cell = fig.cell_info[0];\n",
       "\n",
       "};\n",
       "\n",
       "mpl.figure.prototype.handle_close = function(fig, msg) {\n",
       "    fig.root.unbind('remove')\n",
       "\n",
       "    // Update the output cell to use the data from the current canvas.\n",
       "    fig.push_to_output();\n",
       "    var dataURL = fig.canvas.toDataURL();\n",
       "    // Re-enable the keyboard manager in IPython - without this line, in FF,\n",
       "    // the notebook keyboard shortcuts fail.\n",
       "    IPython.keyboard_manager.enable()\n",
       "    $(fig.parent_element).html('<img src=\"' + dataURL + '\">');\n",
       "    fig.close_ws(fig, msg);\n",
       "}\n",
       "\n",
       "mpl.figure.prototype.close_ws = function(fig, msg){\n",
       "    fig.send_message('closing', msg);\n",
       "    // fig.ws.close()\n",
       "}\n",
       "\n",
       "mpl.figure.prototype.push_to_output = function(remove_interactive) {\n",
       "    // Turn the data on the canvas into data in the output cell.\n",
       "    var dataURL = this.canvas.toDataURL();\n",
       "    this.cell_info[1]['text/html'] = '<img src=\"' + dataURL + '\">';\n",
       "}\n",
       "\n",
       "mpl.figure.prototype.updated_canvas_event = function() {\n",
       "    // Tell IPython that the notebook contents must change.\n",
       "    IPython.notebook.set_dirty(true);\n",
       "    this.send_message(\"ack\", {});\n",
       "    var fig = this;\n",
       "    // Wait a second, then push the new image to the DOM so\n",
       "    // that it is saved nicely (might be nice to debounce this).\n",
       "    setTimeout(function () { fig.push_to_output() }, 1000);\n",
       "}\n",
       "\n",
       "mpl.figure.prototype._init_toolbar = function() {\n",
       "    var fig = this;\n",
       "\n",
       "    var nav_element = $('<div/>')\n",
       "    nav_element.attr('style', 'width: 100%');\n",
       "    this.root.append(nav_element);\n",
       "\n",
       "    // Define a callback function for later on.\n",
       "    function toolbar_event(event) {\n",
       "        return fig.toolbar_button_onclick(event['data']);\n",
       "    }\n",
       "    function toolbar_mouse_event(event) {\n",
       "        return fig.toolbar_button_onmouseover(event['data']);\n",
       "    }\n",
       "\n",
       "    for(var toolbar_ind in mpl.toolbar_items){\n",
       "        var name = mpl.toolbar_items[toolbar_ind][0];\n",
       "        var tooltip = mpl.toolbar_items[toolbar_ind][1];\n",
       "        var image = mpl.toolbar_items[toolbar_ind][2];\n",
       "        var method_name = mpl.toolbar_items[toolbar_ind][3];\n",
       "\n",
       "        if (!name) { continue; };\n",
       "\n",
       "        var button = $('<button class=\"btn btn-default\" href=\"#\" title=\"' + name + '\"><i class=\"fa ' + image + ' fa-lg\"></i></button>');\n",
       "        button.click(method_name, toolbar_event);\n",
       "        button.mouseover(tooltip, toolbar_mouse_event);\n",
       "        nav_element.append(button);\n",
       "    }\n",
       "\n",
       "    // Add the status bar.\n",
       "    var status_bar = $('<span class=\"mpl-message\" style=\"text-align:right; float: right;\"/>');\n",
       "    nav_element.append(status_bar);\n",
       "    this.message = status_bar[0];\n",
       "\n",
       "    // Add the close button to the window.\n",
       "    var buttongrp = $('<div class=\"btn-group inline pull-right\"></div>');\n",
       "    var button = $('<button class=\"btn btn-mini btn-primary\" href=\"#\" title=\"Stop Interaction\"><i class=\"fa fa-power-off icon-remove icon-large\"></i></button>');\n",
       "    button.click(function (evt) { fig.handle_close(fig, {}); } );\n",
       "    button.mouseover('Stop Interaction', toolbar_mouse_event);\n",
       "    buttongrp.append(button);\n",
       "    var titlebar = this.root.find($('.ui-dialog-titlebar'));\n",
       "    titlebar.prepend(buttongrp);\n",
       "}\n",
       "\n",
       "mpl.figure.prototype._root_extra_style = function(el){\n",
       "    var fig = this\n",
       "    el.on(\"remove\", function(){\n",
       "\tfig.close_ws(fig, {});\n",
       "    });\n",
       "}\n",
       "\n",
       "mpl.figure.prototype._canvas_extra_style = function(el){\n",
       "    // this is important to make the div 'focusable\n",
       "    el.attr('tabindex', 0)\n",
       "    // reach out to IPython and tell the keyboard manager to turn it's self\n",
       "    // off when our div gets focus\n",
       "\n",
       "    // location in version 3\n",
       "    if (IPython.notebook.keyboard_manager) {\n",
       "        IPython.notebook.keyboard_manager.register_events(el);\n",
       "    }\n",
       "    else {\n",
       "        // location in version 2\n",
       "        IPython.keyboard_manager.register_events(el);\n",
       "    }\n",
       "\n",
       "}\n",
       "\n",
       "mpl.figure.prototype._key_event_extra = function(event, name) {\n",
       "    var manager = IPython.notebook.keyboard_manager;\n",
       "    if (!manager)\n",
       "        manager = IPython.keyboard_manager;\n",
       "\n",
       "    // Check for shift+enter\n",
       "    if (event.shiftKey && event.which == 13) {\n",
       "        this.canvas_div.blur();\n",
       "        // select the cell after this one\n",
       "        var index = IPython.notebook.find_cell_index(this.cell_info[0]);\n",
       "        IPython.notebook.select(index + 1);\n",
       "    }\n",
       "}\n",
       "\n",
       "mpl.figure.prototype.handle_save = function(fig, msg) {\n",
       "    fig.ondownload(fig, null);\n",
       "}\n",
       "\n",
       "\n",
       "mpl.find_output_cell = function(html_output) {\n",
       "    // Return the cell and output element which can be found *uniquely* in the notebook.\n",
       "    // Note - this is a bit hacky, but it is done because the \"notebook_saving.Notebook\"\n",
       "    // IPython event is triggered only after the cells have been serialised, which for\n",
       "    // our purposes (turning an active figure into a static one), is too late.\n",
       "    var cells = IPython.notebook.get_cells();\n",
       "    var ncells = cells.length;\n",
       "    for (var i=0; i<ncells; i++) {\n",
       "        var cell = cells[i];\n",
       "        if (cell.cell_type === 'code'){\n",
       "            for (var j=0; j<cell.output_area.outputs.length; j++) {\n",
       "                var data = cell.output_area.outputs[j];\n",
       "                if (data.data) {\n",
       "                    // IPython >= 3 moved mimebundle to data attribute of output\n",
       "                    data = data.data;\n",
       "                }\n",
       "                if (data['text/html'] == html_output) {\n",
       "                    return [cell, data, j];\n",
       "                }\n",
       "            }\n",
       "        }\n",
       "    }\n",
       "}\n",
       "\n",
       "// Register the function which deals with the matplotlib target/channel.\n",
       "// The kernel may be null if the page has been refreshed.\n",
       "if (IPython.notebook.kernel != null) {\n",
       "    IPython.notebook.kernel.comm_manager.register_target('matplotlib', mpl.mpl_figure_comm);\n",
       "}\n"
      ],
      "text/plain": [
       "<IPython.core.display.Javascript object>"
      ]
     },
     "metadata": {},
     "output_type": "display_data"
    },
    {
     "data": {
      "text/html": [
       "<img src=\"data:image/png;base64,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\">"
      ],
      "text/plain": [
       "<IPython.core.display.HTML object>"
      ]
     },
     "metadata": {},
     "output_type": "display_data"
    },
    {
     "data": {
      "text/plain": [
       "None"
      ]
     },
     "metadata": {},
     "output_type": "display_data"
    }
   ],
   "source": [
    "fig2, ax2 = plt.subplots()\n",
    "ax2.hold(False)\n",
    "\n",
    "display(display(widgets.HBox((x2_widget, x1_widget, x0_widget), width='50%')),\n",
    "        widgets.HBox((display_imagecurv_button, fit_curvature_button)))"
   ]
  },
  {
   "cell_type": "markdown",
   "metadata": {
    "collapsed": true,
    "scrolled": true
   },
   "source": [
    "## Plot resolution"
   ]
  },
  {
   "cell_type": "code",
   "execution_count": 84,
   "metadata": {
    "collapsed": false,
    "scrolled": false
   },
   "outputs": [
    {
     "data": {
      "application/javascript": [
       "/* Put everything inside the global mpl namespace */\n",
       "window.mpl = {};\n",
       "\n",
       "mpl.get_websocket_type = function() {\n",
       "    if (typeof(WebSocket) !== 'undefined') {\n",
       "        return WebSocket;\n",
       "    } else if (typeof(MozWebSocket) !== 'undefined') {\n",
       "        return MozWebSocket;\n",
       "    } else {\n",
       "        alert('Your browser does not have WebSocket support.' +\n",
       "              'Please try Chrome, Safari or Firefox ≥ 6. ' +\n",
       "              'Firefox 4 and 5 are also supported but you ' +\n",
       "              'have to enable WebSockets in about:config.');\n",
       "    };\n",
       "}\n",
       "\n",
       "mpl.figure = function(figure_id, websocket, ondownload, parent_element) {\n",
       "    this.id = figure_id;\n",
       "\n",
       "    this.ws = websocket;\n",
       "\n",
       "    this.supports_binary = (this.ws.binaryType != undefined);\n",
       "\n",
       "    if (!this.supports_binary) {\n",
       "        var warnings = document.getElementById(\"mpl-warnings\");\n",
       "        if (warnings) {\n",
       "            warnings.style.display = 'block';\n",
       "            warnings.textContent = (\n",
       "                \"This browser does not support binary websocket messages. \" +\n",
       "                    \"Performance may be slow.\");\n",
       "        }\n",
       "    }\n",
       "\n",
       "    this.imageObj = new Image();\n",
       "\n",
       "    this.context = undefined;\n",
       "    this.message = undefined;\n",
       "    this.canvas = undefined;\n",
       "    this.rubberband_canvas = undefined;\n",
       "    this.rubberband_context = undefined;\n",
       "    this.format_dropdown = undefined;\n",
       "\n",
       "    this.image_mode = 'full';\n",
       "\n",
       "    this.root = $('<div/>');\n",
       "    this._root_extra_style(this.root)\n",
       "    this.root.attr('style', 'display: inline-block');\n",
       "\n",
       "    $(parent_element).append(this.root);\n",
       "\n",
       "    this._init_header(this);\n",
       "    this._init_canvas(this);\n",
       "    this._init_toolbar(this);\n",
       "\n",
       "    var fig = this;\n",
       "\n",
       "    this.waiting = false;\n",
       "\n",
       "    this.ws.onopen =  function () {\n",
       "            fig.send_message(\"supports_binary\", {value: fig.supports_binary});\n",
       "            fig.send_message(\"send_image_mode\", {});\n",
       "            fig.send_message(\"refresh\", {});\n",
       "        }\n",
       "\n",
       "    this.imageObj.onload = function() {\n",
       "            if (fig.image_mode == 'full') {\n",
       "                // Full images could contain transparency (where diff images\n",
       "                // almost always do), so we need to clear the canvas so that\n",
       "                // there is no ghosting.\n",
       "                fig.context.clearRect(0, 0, fig.canvas.width, fig.canvas.height);\n",
       "            }\n",
       "            fig.context.drawImage(fig.imageObj, 0, 0);\n",
       "        };\n",
       "\n",
       "    this.imageObj.onunload = function() {\n",
       "        this.ws.close();\n",
       "    }\n",
       "\n",
       "    this.ws.onmessage = this._make_on_message_function(this);\n",
       "\n",
       "    this.ondownload = ondownload;\n",
       "}\n",
       "\n",
       "mpl.figure.prototype._init_header = function() {\n",
       "    var titlebar = $(\n",
       "        '<div class=\"ui-dialog-titlebar ui-widget-header ui-corner-all ' +\n",
       "        'ui-helper-clearfix\"/>');\n",
       "    var titletext = $(\n",
       "        '<div class=\"ui-dialog-title\" style=\"width: 100%; ' +\n",
       "        'text-align: center; padding: 3px;\"/>');\n",
       "    titlebar.append(titletext)\n",
       "    this.root.append(titlebar);\n",
       "    this.header = titletext[0];\n",
       "}\n",
       "\n",
       "\n",
       "\n",
       "mpl.figure.prototype._canvas_extra_style = function(canvas_div) {\n",
       "\n",
       "}\n",
       "\n",
       "\n",
       "mpl.figure.prototype._root_extra_style = function(canvas_div) {\n",
       "\n",
       "}\n",
       "\n",
       "mpl.figure.prototype._init_canvas = function() {\n",
       "    var fig = this;\n",
       "\n",
       "    var canvas_div = $('<div/>');\n",
       "\n",
       "    canvas_div.attr('style', 'position: relative; clear: both; outline: 0');\n",
       "\n",
       "    function canvas_keyboard_event(event) {\n",
       "        return fig.key_event(event, event['data']);\n",
       "    }\n",
       "\n",
       "    canvas_div.keydown('key_press', canvas_keyboard_event);\n",
       "    canvas_div.keyup('key_release', canvas_keyboard_event);\n",
       "    this.canvas_div = canvas_div\n",
       "    this._canvas_extra_style(canvas_div)\n",
       "    this.root.append(canvas_div);\n",
       "\n",
       "    var canvas = $('<canvas/>');\n",
       "    canvas.addClass('mpl-canvas');\n",
       "    canvas.attr('style', \"left: 0; top: 0; z-index: 0; outline: 0\")\n",
       "\n",
       "    this.canvas = canvas[0];\n",
       "    this.context = canvas[0].getContext(\"2d\");\n",
       "\n",
       "    var rubberband = $('<canvas/>');\n",
       "    rubberband.attr('style', \"position: absolute; left: 0; top: 0; z-index: 1;\")\n",
       "\n",
       "    var pass_mouse_events = true;\n",
       "\n",
       "    canvas_div.resizable({\n",
       "        start: function(event, ui) {\n",
       "            pass_mouse_events = false;\n",
       "        },\n",
       "        resize: function(event, ui) {\n",
       "            fig.request_resize(ui.size.width, ui.size.height);\n",
       "        },\n",
       "        stop: function(event, ui) {\n",
       "            pass_mouse_events = true;\n",
       "            fig.request_resize(ui.size.width, ui.size.height);\n",
       "        },\n",
       "    });\n",
       "\n",
       "    function mouse_event_fn(event) {\n",
       "        if (pass_mouse_events)\n",
       "            return fig.mouse_event(event, event['data']);\n",
       "    }\n",
       "\n",
       "    rubberband.mousedown('button_press', mouse_event_fn);\n",
       "    rubberband.mouseup('button_release', mouse_event_fn);\n",
       "    // Throttle sequential mouse events to 1 every 20ms.\n",
       "    rubberband.mousemove('motion_notify', mouse_event_fn);\n",
       "\n",
       "    rubberband.mouseenter('figure_enter', mouse_event_fn);\n",
       "    rubberband.mouseleave('figure_leave', mouse_event_fn);\n",
       "\n",
       "    canvas_div.on(\"wheel\", function (event) {\n",
       "        event = event.originalEvent;\n",
       "        event['data'] = 'scroll'\n",
       "        if (event.deltaY < 0) {\n",
       "            event.step = 1;\n",
       "        } else {\n",
       "            event.step = -1;\n",
       "        }\n",
       "        mouse_event_fn(event);\n",
       "    });\n",
       "\n",
       "    canvas_div.append(canvas);\n",
       "    canvas_div.append(rubberband);\n",
       "\n",
       "    this.rubberband = rubberband;\n",
       "    this.rubberband_canvas = rubberband[0];\n",
       "    this.rubberband_context = rubberband[0].getContext(\"2d\");\n",
       "    this.rubberband_context.strokeStyle = \"#000000\";\n",
       "\n",
       "    this._resize_canvas = function(width, height) {\n",
       "        // Keep the size of the canvas, canvas container, and rubber band\n",
       "        // canvas in synch.\n",
       "        canvas_div.css('width', width)\n",
       "        canvas_div.css('height', height)\n",
       "\n",
       "        canvas.attr('width', width);\n",
       "        canvas.attr('height', height);\n",
       "\n",
       "        rubberband.attr('width', width);\n",
       "        rubberband.attr('height', height);\n",
       "    }\n",
       "\n",
       "    // Set the figure to an initial 600x600px, this will subsequently be updated\n",
       "    // upon first draw.\n",
       "    this._resize_canvas(600, 600);\n",
       "\n",
       "    // Disable right mouse context menu.\n",
       "    $(this.rubberband_canvas).bind(\"contextmenu\",function(e){\n",
       "        return false;\n",
       "    });\n",
       "\n",
       "    function set_focus () {\n",
       "        canvas.focus();\n",
       "        canvas_div.focus();\n",
       "    }\n",
       "\n",
       "    window.setTimeout(set_focus, 100);\n",
       "}\n",
       "\n",
       "mpl.figure.prototype._init_toolbar = function() {\n",
       "    var fig = this;\n",
       "\n",
       "    var nav_element = $('<div/>')\n",
       "    nav_element.attr('style', 'width: 100%');\n",
       "    this.root.append(nav_element);\n",
       "\n",
       "    // Define a callback function for later on.\n",
       "    function toolbar_event(event) {\n",
       "        return fig.toolbar_button_onclick(event['data']);\n",
       "    }\n",
       "    function toolbar_mouse_event(event) {\n",
       "        return fig.toolbar_button_onmouseover(event['data']);\n",
       "    }\n",
       "\n",
       "    for(var toolbar_ind in mpl.toolbar_items) {\n",
       "        var name = mpl.toolbar_items[toolbar_ind][0];\n",
       "        var tooltip = mpl.toolbar_items[toolbar_ind][1];\n",
       "        var image = mpl.toolbar_items[toolbar_ind][2];\n",
       "        var method_name = mpl.toolbar_items[toolbar_ind][3];\n",
       "\n",
       "        if (!name) {\n",
       "            // put a spacer in here.\n",
       "            continue;\n",
       "        }\n",
       "        var button = $('<button/>');\n",
       "        button.addClass('ui-button ui-widget ui-state-default ui-corner-all ' +\n",
       "                        'ui-button-icon-only');\n",
       "        button.attr('role', 'button');\n",
       "        button.attr('aria-disabled', 'false');\n",
       "        button.click(method_name, toolbar_event);\n",
       "        button.mouseover(tooltip, toolbar_mouse_event);\n",
       "\n",
       "        var icon_img = $('<span/>');\n",
       "        icon_img.addClass('ui-button-icon-primary ui-icon');\n",
       "        icon_img.addClass(image);\n",
       "        icon_img.addClass('ui-corner-all');\n",
       "\n",
       "        var tooltip_span = $('<span/>');\n",
       "        tooltip_span.addClass('ui-button-text');\n",
       "        tooltip_span.html(tooltip);\n",
       "\n",
       "        button.append(icon_img);\n",
       "        button.append(tooltip_span);\n",
       "\n",
       "        nav_element.append(button);\n",
       "    }\n",
       "\n",
       "    var fmt_picker_span = $('<span/>');\n",
       "\n",
       "    var fmt_picker = $('<select/>');\n",
       "    fmt_picker.addClass('mpl-toolbar-option ui-widget ui-widget-content');\n",
       "    fmt_picker_span.append(fmt_picker);\n",
       "    nav_element.append(fmt_picker_span);\n",
       "    this.format_dropdown = fmt_picker[0];\n",
       "\n",
       "    for (var ind in mpl.extensions) {\n",
       "        var fmt = mpl.extensions[ind];\n",
       "        var option = $(\n",
       "            '<option/>', {selected: fmt === mpl.default_extension}).html(fmt);\n",
       "        fmt_picker.append(option)\n",
       "    }\n",
       "\n",
       "    // Add hover states to the ui-buttons\n",
       "    $( \".ui-button\" ).hover(\n",
       "        function() { $(this).addClass(\"ui-state-hover\");},\n",
       "        function() { $(this).removeClass(\"ui-state-hover\");}\n",
       "    );\n",
       "\n",
       "    var status_bar = $('<span class=\"mpl-message\"/>');\n",
       "    nav_element.append(status_bar);\n",
       "    this.message = status_bar[0];\n",
       "}\n",
       "\n",
       "mpl.figure.prototype.request_resize = function(x_pixels, y_pixels) {\n",
       "    // Request matplotlib to resize the figure. Matplotlib will then trigger a resize in the client,\n",
       "    // which will in turn request a refresh of the image.\n",
       "    this.send_message('resize', {'width': x_pixels, 'height': y_pixels});\n",
       "}\n",
       "\n",
       "mpl.figure.prototype.send_message = function(type, properties) {\n",
       "    properties['type'] = type;\n",
       "    properties['figure_id'] = this.id;\n",
       "    this.ws.send(JSON.stringify(properties));\n",
       "}\n",
       "\n",
       "mpl.figure.prototype.send_draw_message = function() {\n",
       "    if (!this.waiting) {\n",
       "        this.waiting = true;\n",
       "        this.ws.send(JSON.stringify({type: \"draw\", figure_id: this.id}));\n",
       "    }\n",
       "}\n",
       "\n",
       "\n",
       "mpl.figure.prototype.handle_save = function(fig, msg) {\n",
       "    var format_dropdown = fig.format_dropdown;\n",
       "    var format = format_dropdown.options[format_dropdown.selectedIndex].value;\n",
       "    fig.ondownload(fig, format);\n",
       "}\n",
       "\n",
       "\n",
       "mpl.figure.prototype.handle_resize = function(fig, msg) {\n",
       "    var size = msg['size'];\n",
       "    if (size[0] != fig.canvas.width || size[1] != fig.canvas.height) {\n",
       "        fig._resize_canvas(size[0], size[1]);\n",
       "        fig.send_message(\"refresh\", {});\n",
       "    };\n",
       "}\n",
       "\n",
       "mpl.figure.prototype.handle_rubberband = function(fig, msg) {\n",
       "    var x0 = msg['x0'];\n",
       "    var y0 = fig.canvas.height - msg['y0'];\n",
       "    var x1 = msg['x1'];\n",
       "    var y1 = fig.canvas.height - msg['y1'];\n",
       "    x0 = Math.floor(x0) + 0.5;\n",
       "    y0 = Math.floor(y0) + 0.5;\n",
       "    x1 = Math.floor(x1) + 0.5;\n",
       "    y1 = Math.floor(y1) + 0.5;\n",
       "    var min_x = Math.min(x0, x1);\n",
       "    var min_y = Math.min(y0, y1);\n",
       "    var width = Math.abs(x1 - x0);\n",
       "    var height = Math.abs(y1 - y0);\n",
       "\n",
       "    fig.rubberband_context.clearRect(\n",
       "        0, 0, fig.canvas.width, fig.canvas.height);\n",
       "\n",
       "    fig.rubberband_context.strokeRect(min_x, min_y, width, height);\n",
       "}\n",
       "\n",
       "mpl.figure.prototype.handle_figure_label = function(fig, msg) {\n",
       "    // Updates the figure title.\n",
       "    fig.header.textContent = msg['label'];\n",
       "}\n",
       "\n",
       "mpl.figure.prototype.handle_cursor = function(fig, msg) {\n",
       "    var cursor = msg['cursor'];\n",
       "    switch(cursor)\n",
       "    {\n",
       "    case 0:\n",
       "        cursor = 'pointer';\n",
       "        break;\n",
       "    case 1:\n",
       "        cursor = 'default';\n",
       "        break;\n",
       "    case 2:\n",
       "        cursor = 'crosshair';\n",
       "        break;\n",
       "    case 3:\n",
       "        cursor = 'move';\n",
       "        break;\n",
       "    }\n",
       "    fig.rubberband_canvas.style.cursor = cursor;\n",
       "}\n",
       "\n",
       "mpl.figure.prototype.handle_message = function(fig, msg) {\n",
       "    fig.message.textContent = msg['message'];\n",
       "}\n",
       "\n",
       "mpl.figure.prototype.handle_draw = function(fig, msg) {\n",
       "    // Request the server to send over a new figure.\n",
       "    fig.send_draw_message();\n",
       "}\n",
       "\n",
       "mpl.figure.prototype.handle_image_mode = function(fig, msg) {\n",
       "    fig.image_mode = msg['mode'];\n",
       "}\n",
       "\n",
       "mpl.figure.prototype.updated_canvas_event = function() {\n",
       "    // Called whenever the canvas gets updated.\n",
       "    this.send_message(\"ack\", {});\n",
       "}\n",
       "\n",
       "// A function to construct a web socket function for onmessage handling.\n",
       "// Called in the figure constructor.\n",
       "mpl.figure.prototype._make_on_message_function = function(fig) {\n",
       "    return function socket_on_message(evt) {\n",
       "        if (evt.data instanceof Blob) {\n",
       "            /* FIXME: We get \"Resource interpreted as Image but\n",
       "             * transferred with MIME type text/plain:\" errors on\n",
       "             * Chrome.  But how to set the MIME type?  It doesn't seem\n",
       "             * to be part of the websocket stream */\n",
       "            evt.data.type = \"image/png\";\n",
       "\n",
       "            /* Free the memory for the previous frames */\n",
       "            if (fig.imageObj.src) {\n",
       "                (window.URL || window.webkitURL).revokeObjectURL(\n",
       "                    fig.imageObj.src);\n",
       "            }\n",
       "\n",
       "            fig.imageObj.src = (window.URL || window.webkitURL).createObjectURL(\n",
       "                evt.data);\n",
       "            fig.updated_canvas_event();\n",
       "            fig.waiting = false;\n",
       "            return;\n",
       "        }\n",
       "        else if (typeof evt.data === 'string' && evt.data.slice(0, 21) == \"data:image/png;base64\") {\n",
       "            fig.imageObj.src = evt.data;\n",
       "            fig.updated_canvas_event();\n",
       "            fig.waiting = false;\n",
       "            return;\n",
       "        }\n",
       "\n",
       "        var msg = JSON.parse(evt.data);\n",
       "        var msg_type = msg['type'];\n",
       "\n",
       "        // Call the  \"handle_{type}\" callback, which takes\n",
       "        // the figure and JSON message as its only arguments.\n",
       "        try {\n",
       "            var callback = fig[\"handle_\" + msg_type];\n",
       "        } catch (e) {\n",
       "            console.log(\"No handler for the '\" + msg_type + \"' message type: \", msg);\n",
       "            return;\n",
       "        }\n",
       "\n",
       "        if (callback) {\n",
       "            try {\n",
       "                // console.log(\"Handling '\" + msg_type + \"' message: \", msg);\n",
       "                callback(fig, msg);\n",
       "            } catch (e) {\n",
       "                console.log(\"Exception inside the 'handler_\" + msg_type + \"' callback:\", e, e.stack, msg);\n",
       "            }\n",
       "        }\n",
       "    };\n",
       "}\n",
       "\n",
       "// from http://stackoverflow.com/questions/1114465/getting-mouse-location-in-canvas\n",
       "mpl.findpos = function(e) {\n",
       "    //this section is from http://www.quirksmode.org/js/events_properties.html\n",
       "    var targ;\n",
       "    if (!e)\n",
       "        e = window.event;\n",
       "    if (e.target)\n",
       "        targ = e.target;\n",
       "    else if (e.srcElement)\n",
       "        targ = e.srcElement;\n",
       "    if (targ.nodeType == 3) // defeat Safari bug\n",
       "        targ = targ.parentNode;\n",
       "\n",
       "    // jQuery normalizes the pageX and pageY\n",
       "    // pageX,Y are the mouse positions relative to the document\n",
       "    // offset() returns the position of the element relative to the document\n",
       "    var x = e.pageX - $(targ).offset().left;\n",
       "    var y = e.pageY - $(targ).offset().top;\n",
       "\n",
       "    return {\"x\": x, \"y\": y};\n",
       "};\n",
       "\n",
       "/*\n",
       " * return a copy of an object with only non-object keys\n",
       " * we need this to avoid circular references\n",
       " * http://stackoverflow.com/a/24161582/3208463\n",
       " */\n",
       "function simpleKeys (original) {\n",
       "  return Object.keys(original).reduce(function (obj, key) {\n",
       "    if (typeof original[key] !== 'object')\n",
       "        obj[key] = original[key]\n",
       "    return obj;\n",
       "  }, {});\n",
       "}\n",
       "\n",
       "mpl.figure.prototype.mouse_event = function(event, name) {\n",
       "    var canvas_pos = mpl.findpos(event)\n",
       "\n",
       "    if (name === 'button_press')\n",
       "    {\n",
       "        this.canvas.focus();\n",
       "        this.canvas_div.focus();\n",
       "    }\n",
       "\n",
       "    var x = canvas_pos.x;\n",
       "    var y = canvas_pos.y;\n",
       "\n",
       "    this.send_message(name, {x: x, y: y, button: event.button,\n",
       "                             step: event.step,\n",
       "                             guiEvent: simpleKeys(event)});\n",
       "\n",
       "    /* This prevents the web browser from automatically changing to\n",
       "     * the text insertion cursor when the button is pressed.  We want\n",
       "     * to control all of the cursor setting manually through the\n",
       "     * 'cursor' event from matplotlib */\n",
       "    event.preventDefault();\n",
       "    return false;\n",
       "}\n",
       "\n",
       "mpl.figure.prototype._key_event_extra = function(event, name) {\n",
       "    // Handle any extra behaviour associated with a key event\n",
       "}\n",
       "\n",
       "mpl.figure.prototype.key_event = function(event, name) {\n",
       "\n",
       "    // Prevent repeat events\n",
       "    if (name == 'key_press')\n",
       "    {\n",
       "        if (event.which === this._key)\n",
       "            return;\n",
       "        else\n",
       "            this._key = event.which;\n",
       "    }\n",
       "    if (name == 'key_release')\n",
       "        this._key = null;\n",
       "\n",
       "    var value = '';\n",
       "    if (event.ctrlKey && event.which != 17)\n",
       "        value += \"ctrl+\";\n",
       "    if (event.altKey && event.which != 18)\n",
       "        value += \"alt+\";\n",
       "    if (event.shiftKey && event.which != 16)\n",
       "        value += \"shift+\";\n",
       "\n",
       "    value += 'k';\n",
       "    value += event.which.toString();\n",
       "\n",
       "    this._key_event_extra(event, name);\n",
       "\n",
       "    this.send_message(name, {key: value,\n",
       "                             guiEvent: simpleKeys(event)});\n",
       "    return false;\n",
       "}\n",
       "\n",
       "mpl.figure.prototype.toolbar_button_onclick = function(name) {\n",
       "    if (name == 'download') {\n",
       "        this.handle_save(this, null);\n",
       "    } else {\n",
       "        this.send_message(\"toolbar_button\", {name: name});\n",
       "    }\n",
       "};\n",
       "\n",
       "mpl.figure.prototype.toolbar_button_onmouseover = function(tooltip) {\n",
       "    this.message.textContent = tooltip;\n",
       "};\n",
       "mpl.toolbar_items = [[\"Home\", \"Reset original view\", \"fa fa-home icon-home\", \"home\"], [\"Back\", \"Back to  previous view\", \"fa fa-arrow-left icon-arrow-left\", \"back\"], [\"Forward\", \"Forward to next view\", \"fa fa-arrow-right icon-arrow-right\", \"forward\"], [\"\", \"\", \"\", \"\"], [\"Pan\", \"Pan axes with left mouse, zoom with right\", \"fa fa-arrows icon-move\", \"pan\"], [\"Zoom\", \"Zoom to rectangle\", \"fa fa-square-o icon-check-empty\", \"zoom\"], [\"\", \"\", \"\", \"\"], [\"Download\", \"Download plot\", \"fa fa-floppy-o icon-save\", \"download\"]];\n",
       "\n",
       "mpl.extensions = [\"eps\", \"pdf\", \"png\", \"ps\", \"raw\", \"svg\"];\n",
       "\n",
       "mpl.default_extension = \"png\";var comm_websocket_adapter = function(comm) {\n",
       "    // Create a \"websocket\"-like object which calls the given IPython comm\n",
       "    // object with the appropriate methods. Currently this is a non binary\n",
       "    // socket, so there is still some room for performance tuning.\n",
       "    var ws = {};\n",
       "\n",
       "    ws.close = function() {\n",
       "        comm.close()\n",
       "    };\n",
       "    ws.send = function(m) {\n",
       "        //console.log('sending', m);\n",
       "        comm.send(m);\n",
       "    };\n",
       "    // Register the callback with on_msg.\n",
       "    comm.on_msg(function(msg) {\n",
       "        //console.log('receiving', msg['content']['data'], msg);\n",
       "        // Pass the mpl event to the overriden (by mpl) onmessage function.\n",
       "        ws.onmessage(msg['content']['data'])\n",
       "    });\n",
       "    return ws;\n",
       "}\n",
       "\n",
       "mpl.mpl_figure_comm = function(comm, msg) {\n",
       "    // This is the function which gets called when the mpl process\n",
       "    // starts-up an IPython Comm through the \"matplotlib\" channel.\n",
       "\n",
       "    var id = msg.content.data.id;\n",
       "    // Get hold of the div created by the display call when the Comm\n",
       "    // socket was opened in Python.\n",
       "    var element = $(\"#\" + id);\n",
       "    var ws_proxy = comm_websocket_adapter(comm)\n",
       "\n",
       "    function ondownload(figure, format) {\n",
       "        window.open(figure.imageObj.src);\n",
       "    }\n",
       "\n",
       "    var fig = new mpl.figure(id, ws_proxy,\n",
       "                           ondownload,\n",
       "                           element.get(0));\n",
       "\n",
       "    // Call onopen now - mpl needs it, as it is assuming we've passed it a real\n",
       "    // web socket which is closed, not our websocket->open comm proxy.\n",
       "    ws_proxy.onopen();\n",
       "\n",
       "    fig.parent_element = element.get(0);\n",
       "    fig.cell_info = mpl.find_output_cell(\"<div id='\" + id + \"'></div>\");\n",
       "    if (!fig.cell_info) {\n",
       "        console.error(\"Failed to find cell for figure\", id, fig);\n",
       "        return;\n",
       "    }\n",
       "\n",
       "    var output_index = fig.cell_info[2]\n",
       "    var cell = fig.cell_info[0];\n",
       "\n",
       "};\n",
       "\n",
       "mpl.figure.prototype.handle_close = function(fig, msg) {\n",
       "    fig.root.unbind('remove')\n",
       "\n",
       "    // Update the output cell to use the data from the current canvas.\n",
       "    fig.push_to_output();\n",
       "    var dataURL = fig.canvas.toDataURL();\n",
       "    // Re-enable the keyboard manager in IPython - without this line, in FF,\n",
       "    // the notebook keyboard shortcuts fail.\n",
       "    IPython.keyboard_manager.enable()\n",
       "    $(fig.parent_element).html('<img src=\"' + dataURL + '\">');\n",
       "    fig.close_ws(fig, msg);\n",
       "}\n",
       "\n",
       "mpl.figure.prototype.close_ws = function(fig, msg){\n",
       "    fig.send_message('closing', msg);\n",
       "    // fig.ws.close()\n",
       "}\n",
       "\n",
       "mpl.figure.prototype.push_to_output = function(remove_interactive) {\n",
       "    // Turn the data on the canvas into data in the output cell.\n",
       "    var dataURL = this.canvas.toDataURL();\n",
       "    this.cell_info[1]['text/html'] = '<img src=\"' + dataURL + '\">';\n",
       "}\n",
       "\n",
       "mpl.figure.prototype.updated_canvas_event = function() {\n",
       "    // Tell IPython that the notebook contents must change.\n",
       "    IPython.notebook.set_dirty(true);\n",
       "    this.send_message(\"ack\", {});\n",
       "    var fig = this;\n",
       "    // Wait a second, then push the new image to the DOM so\n",
       "    // that it is saved nicely (might be nice to debounce this).\n",
       "    setTimeout(function () { fig.push_to_output() }, 1000);\n",
       "}\n",
       "\n",
       "mpl.figure.prototype._init_toolbar = function() {\n",
       "    var fig = this;\n",
       "\n",
       "    var nav_element = $('<div/>')\n",
       "    nav_element.attr('style', 'width: 100%');\n",
       "    this.root.append(nav_element);\n",
       "\n",
       "    // Define a callback function for later on.\n",
       "    function toolbar_event(event) {\n",
       "        return fig.toolbar_button_onclick(event['data']);\n",
       "    }\n",
       "    function toolbar_mouse_event(event) {\n",
       "        return fig.toolbar_button_onmouseover(event['data']);\n",
       "    }\n",
       "\n",
       "    for(var toolbar_ind in mpl.toolbar_items){\n",
       "        var name = mpl.toolbar_items[toolbar_ind][0];\n",
       "        var tooltip = mpl.toolbar_items[toolbar_ind][1];\n",
       "        var image = mpl.toolbar_items[toolbar_ind][2];\n",
       "        var method_name = mpl.toolbar_items[toolbar_ind][3];\n",
       "\n",
       "        if (!name) { continue; };\n",
       "\n",
       "        var button = $('<button class=\"btn btn-default\" href=\"#\" title=\"' + name + '\"><i class=\"fa ' + image + ' fa-lg\"></i></button>');\n",
       "        button.click(method_name, toolbar_event);\n",
       "        button.mouseover(tooltip, toolbar_mouse_event);\n",
       "        nav_element.append(button);\n",
       "    }\n",
       "\n",
       "    // Add the status bar.\n",
       "    var status_bar = $('<span class=\"mpl-message\" style=\"text-align:right; float: right;\"/>');\n",
       "    nav_element.append(status_bar);\n",
       "    this.message = status_bar[0];\n",
       "\n",
       "    // Add the close button to the window.\n",
       "    var buttongrp = $('<div class=\"btn-group inline pull-right\"></div>');\n",
       "    var button = $('<button class=\"btn btn-mini btn-primary\" href=\"#\" title=\"Stop Interaction\"><i class=\"fa fa-power-off icon-remove icon-large\"></i></button>');\n",
       "    button.click(function (evt) { fig.handle_close(fig, {}); } );\n",
       "    button.mouseover('Stop Interaction', toolbar_mouse_event);\n",
       "    buttongrp.append(button);\n",
       "    var titlebar = this.root.find($('.ui-dialog-titlebar'));\n",
       "    titlebar.prepend(buttongrp);\n",
       "}\n",
       "\n",
       "mpl.figure.prototype._root_extra_style = function(el){\n",
       "    var fig = this\n",
       "    el.on(\"remove\", function(){\n",
       "\tfig.close_ws(fig, {});\n",
       "    });\n",
       "}\n",
       "\n",
       "mpl.figure.prototype._canvas_extra_style = function(el){\n",
       "    // this is important to make the div 'focusable\n",
       "    el.attr('tabindex', 0)\n",
       "    // reach out to IPython and tell the keyboard manager to turn it's self\n",
       "    // off when our div gets focus\n",
       "\n",
       "    // location in version 3\n",
       "    if (IPython.notebook.keyboard_manager) {\n",
       "        IPython.notebook.keyboard_manager.register_events(el);\n",
       "    }\n",
       "    else {\n",
       "        // location in version 2\n",
       "        IPython.keyboard_manager.register_events(el);\n",
       "    }\n",
       "\n",
       "}\n",
       "\n",
       "mpl.figure.prototype._key_event_extra = function(event, name) {\n",
       "    var manager = IPython.notebook.keyboard_manager;\n",
       "    if (!manager)\n",
       "        manager = IPython.keyboard_manager;\n",
       "\n",
       "    // Check for shift+enter\n",
       "    if (event.shiftKey && event.which == 13) {\n",
       "        this.canvas_div.blur();\n",
       "        // select the cell after this one\n",
       "        var index = IPython.notebook.find_cell_index(this.cell_info[0]);\n",
       "        IPython.notebook.select(index + 1);\n",
       "    }\n",
       "}\n",
       "\n",
       "mpl.figure.prototype.handle_save = function(fig, msg) {\n",
       "    fig.ondownload(fig, null);\n",
       "}\n",
       "\n",
       "\n",
       "mpl.find_output_cell = function(html_output) {\n",
       "    // Return the cell and output element which can be found *uniquely* in the notebook.\n",
       "    // Note - this is a bit hacky, but it is done because the \"notebook_saving.Notebook\"\n",
       "    // IPython event is triggered only after the cells have been serialised, which for\n",
       "    // our purposes (turning an active figure into a static one), is too late.\n",
       "    var cells = IPython.notebook.get_cells();\n",
       "    var ncells = cells.length;\n",
       "    for (var i=0; i<ncells; i++) {\n",
       "        var cell = cells[i];\n",
       "        if (cell.cell_type === 'code'){\n",
       "            for (var j=0; j<cell.output_area.outputs.length; j++) {\n",
       "                var data = cell.output_area.outputs[j];\n",
       "                if (data.data) {\n",
       "                    // IPython >= 3 moved mimebundle to data attribute of output\n",
       "                    data = data.data;\n",
       "                }\n",
       "                if (data['text/html'] == html_output) {\n",
       "                    return [cell, data, j];\n",
       "                }\n",
       "            }\n",
       "        }\n",
       "    }\n",
       "}\n",
       "\n",
       "// Register the function which deals with the matplotlib target/channel.\n",
       "// The kernel may be null if the page has been refreshed.\n",
       "if (IPython.notebook.kernel != null) {\n",
       "    IPython.notebook.kernel.comm_manager.register_target('matplotlib', mpl.mpl_figure_comm);\n",
       "}\n"
      ],
      "text/plain": [
       "<IPython.core.display.Javascript object>"
      ]
     },
     "metadata": {},
     "output_type": "display_data"
    },
    {
     "data": {
      "text/html": [
       "<img src=\"data:image/png;base64,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\">"
      ],
      "text/plain": [
       "<IPython.core.display.HTML object>"
      ]
     },
     "metadata": {},
     "output_type": "display_data"
    }
   ],
   "source": [
    "fig3, ax3 = plt.subplots()\n",
    "ax3.hold(False)\n",
    "\n",
    "display(params_widget)\n",
    "display(widgets.HBox([plot_resolution_button, fit_resolution_button]))"
   ]
  },
  {
   "cell_type": "code",
   "execution_count": 85,
   "metadata": {
    "collapsed": false
   },
   "outputs": [
    {
     "data": {
      "application/javascript": [
       "IPython.OutputArea.auto_scroll_threshold = 9999;"
      ],
      "text/plain": [
       "<IPython.core.display.Javascript object>"
      ]
     },
     "metadata": {},
     "output_type": "display_data"
    }
   ],
   "source": [
    "%%javascript\n",
    "IPython.OutputArea.auto_scroll_threshold = 9999;"
   ]
  },
  {
   "cell_type": "code",
   "execution_count": 86,
   "metadata": {
    "collapsed": false
   },
   "outputs": [
    {
     "data": {
      "text/html": [
       "<script>\n",
       "code_show=true; \n",
       "function code_toggle() {\n",
       " if (code_show){\n",
       " $('div.input').hide();\n",
       " } else {\n",
       " $('div.input').show();\n",
       " }\n",
       " code_show = !code_show\n",
       "} \n",
       "$( document ).ready(code_toggle);\n",
       "</script>\n",
       "<form action=\"javascript:code_toggle()\"><input type=\"submit\" value=\"Click here to show/hide code.\"></form>"
      ],
      "text/plain": [
       "<IPython.core.display.HTML object>"
      ]
     },
     "execution_count": 86,
     "metadata": {},
     "output_type": "execute_result"
    }
   ],
   "source": [
    "from IPython.display import HTML\n",
    "\n",
    "HTML('''<script>\n",
    "code_show=true; \n",
    "function code_toggle() {\n",
    " if (code_show){\n",
    " $('div.input').hide();\n",
    " } else {\n",
    " $('div.input').show();\n",
    " }\n",
    " code_show = !code_show\n",
    "} \n",
    "$( document ).ready(code_toggle);\n",
    "</script>\n",
    "<form action=\"javascript:code_toggle()\"><input type=\"submit\" value=\"Click here to show/hide code.\"></form>''')"
   ]
  },
  {
   "cell_type": "code",
   "execution_count": null,
   "metadata": {
    "collapsed": true
   },
   "outputs": [],
   "source": []
  }
 ],
 "metadata": {
  "anaconda-cloud": {},
  "kernelspec": {
   "display_name": "Python [conda env:python3]",
   "language": "python",
   "name": "conda-env-python3-py"
  },
  "language_info": {
   "codemirror_mode": {
    "name": "ipython",
    "version": 3
   },
   "file_extension": ".py",
   "mimetype": "text/x-python",
   "name": "python",
   "nbconvert_exporter": "python",
   "pygments_lexer": "ipython3",
   "version": "3.5.2"
  },
  "widgets": {
   "state": {
    "072bfd30733740398edd54e2c2165cbb": {
     "views": [
      {
       "cell_index": 11
      }
     ]
    },
    "0793123681d6437783ccdfe37f54fc63": {
     "views": [
      {
       "cell_index": 13
      }
     ]
    },
    "0a1f4028fc554878aff20ee0eb83470c": {
     "views": [
      {
       "cell_index": 9
      }
     ]
    },
    "0d39d0003dbe48ad81e81483c8cc67c4": {
     "views": [
      {
       "cell_index": 11
      }
     ]
    },
    "0e24ac5a30344da5b43c070a50a71477": {
     "views": [
      {
       "cell_index": 13
      }
     ]
    },
    "0e51ed610cef4ca49f6b3f1f207cb6df": {
     "views": [
      {
       "cell_index": 13
      }
     ]
    },
    "0ef17a7e30974192b00cccefb8924b7b": {
     "views": [
      {
       "cell_index": 13
      }
     ]
    },
    "145266230418484ea96fa9d3b4128623": {
     "views": [
      {
       "cell_index": 13
      }
     ]
    },
    "18a7f55d93884402b63d3472fc144e51": {
     "views": [
      {
       "cell_index": 5
      }
     ]
    },
    "24439e668f05443fbbc1602c843b9a88": {
     "views": [
      {
       "cell_index": 11
      }
     ]
    },
    "2467612db6894164a7e426f5819087dc": {
     "views": [
      {
       "cell_index": 11
      }
     ]
    },
    "2508ba11b2214f70b39330a0b77ac5b6": {
     "views": [
      {
       "cell_index": 9
      }
     ]
    },
    "253282e7222b4118828cb7767a8c71ec": {
     "views": [
      {
       "cell_index": 11
      }
     ]
    },
    "28e4749716d2426fa5c1580ebbe8d2be": {
     "views": [
      {
       "cell_index": 7
      }
     ]
    },
    "2991451571b64014b037b4f0488e5ae0": {
     "views": [
      {
       "cell_index": 11
      }
     ]
    },
    "2c1062f573fc487c89b6e8d9613dc482": {
     "views": [
      {
       "cell_index": 5
      }
     ]
    },
    "2ec61f20e0d045f1b6c2fc2aee65893d": {
     "views": [
      {
       "cell_index": 7
      }
     ]
    },
    "2f79bed956bf47deb19b683b868d17bd": {
     "views": [
      {
       "cell_index": 13
      }
     ]
    },
    "315a2cc2f84941e18a7b6094708e7e0b": {
     "views": [
      {
       "cell_index": 15
      }
     ]
    },
    "375105929e714f509b17b1810629237b": {
     "views": [
      {
       "cell_index": 15
      }
     ]
    },
    "43addfc9ce1348399416e2d0741acef2": {
     "views": [
      {
       "cell_index": 7
      }
     ]
    },
    "46fe2f73bb7243419262124cda7b8b32": {
     "views": [
      {
       "cell_index": 13
      }
     ]
    },
    "47df274aadde46a092c890bd428da28f": {
     "views": [
      {
       "cell_index": 5
      }
     ]
    },
    "49070fb467044ddd967043b0442c0d73": {
     "views": [
      {
       "cell_index": 5
      }
     ]
    },
    "4ebbdf87b2c94ffdb4eadf5fe8ba3e74": {
     "views": [
      {
       "cell_index": 13
      }
     ]
    },
    "4f90bc63f05c45cca672e054376706bd": {
     "views": [
      {
       "cell_index": 7
      }
     ]
    },
    "52830e9759864db88c41df0f6ff0cb9e": {
     "views": [
      {
       "cell_index": 7
      }
     ]
    },
    "55d5a833bf2947389069bf3719b00a95": {
     "views": [
      {
       "cell_index": 9
      },
      {
       "cell_index": 9
      }
     ]
    },
    "56a523424b154f66981b9bf9f71252ac": {
     "views": [
      {
       "cell_index": 13
      }
     ]
    },
    "57b102675c1743f9a7b13d78ca89bc9f": {
     "views": [
      {
       "cell_index": 15
      }
     ]
    },
    "5c3d8fd13866450bba11969f63118cbb": {
     "views": [
      {
       "cell_index": 7
      }
     ]
    },
    "5da527c5eab14d6caa1de6cee4d51b75": {
     "views": [
      {
       "cell_index": 5
      }
     ]
    },
    "60d2804264174a438d8b4d60eb5910ab": {
     "views": [
      {
       "cell_index": 15
      }
     ]
    },
    "62524d30d1dc476293483229a3c6dde9": {
     "views": [
      {
       "cell_index": 7
      }
     ]
    },
    "62dc47814b574356b4549a5377fbc1a7": {
     "views": [
      {
       "cell_index": 9
      }
     ]
    },
    "6305515d0be34e04b1ac00de6fb0829f": {
     "views": [
      {
       "cell_index": 9
      }
     ]
    },
    "6c395a3e8eb54280b4c42bfe63a6b879": {
     "views": [
      {
       "cell_index": 9
      }
     ]
    },
    "6ea0234ccfe24e67b2bd268010947ab1": {
     "views": [
      {
       "cell_index": 5
      }
     ]
    },
    "704b9c734ce24350a61b2eff9465eafe": {
     "views": [
      {
       "cell_index": 7
      }
     ]
    },
    "73d0b7e2b2ec44b8b95081be684840c2": {
     "views": [
      {
       "cell_index": 15
      }
     ]
    },
    "74d5f279cd1d447e9e662c52af3a31a1": {
     "views": [
      {
       "cell_index": 5
      }
     ]
    },
    "75b1e90c83c340d0aed738d7d999ef7a": {
     "views": [
      {
       "cell_index": 7
      }
     ]
    },
    "78e8c5db6db249078b371e98da3955cf": {
     "views": [
      {
       "cell_index": 15
      }
     ]
    },
    "7972b050f8114b928d8d460b3b4481ea": {
     "views": [
      {
       "cell_index": 13
      }
     ]
    },
    "798ccdc0ba724c298c83556f6d0e02f0": {
     "views": [
      {
       "cell_index": 13
      }
     ]
    },
    "79ab9ce45a3e4437b607f77ab8d17032": {
     "views": [
      {
       "cell_index": 5
      }
     ]
    },
    "7c26d3479cae4a8b906adebc238514f7": {
     "views": [
      {
       "cell_index": 7
      }
     ]
    },
    "81138056395745ec8f808c533abacf7a": {
     "views": [
      {
       "cell_index": 7
      }
     ]
    },
    "8251118f21f54e5bb6fe1ad2378823ad": {
     "views": [
      {
       "cell_index": 9
      }
     ]
    },
    "83d48138ddfb43f59075ab1e6011fa4c": {
     "views": [
      {
       "cell_index": 9
      },
      {
       "cell_index": 9
      }
     ]
    },
    "84d8aba2d297474b97f2663ad0ef4e6c": {
     "views": [
      {
       "cell_index": 5
      }
     ]
    },
    "85b6cc04f0924de0a723cb427daf3061": {
     "views": [
      {
       "cell_index": 7
      },
      {
       "cell_index": 7
      }
     ]
    },
    "876da6b70ef048a3ae149ad7c54d2341": {
     "views": [
      {
       "cell_index": 5
      }
     ]
    },
    "8b43f85af6964447a093dd191adc8e45": {
     "views": [
      {
       "cell_index": 13
      }
     ]
    },
    "8c6c7bf465b84f3882a11386bdda79eb": {
     "views": [
      {
       "cell_index": 13
      }
     ]
    },
    "8cb06536168548d2a81fd9db19a3d2ab": {
     "views": [
      {
       "cell_index": 5
      }
     ]
    },
    "9329e6d12cbf4b98bc4b73b44b1504f7": {
     "views": [
      {
       "cell_index": 15
      }
     ]
    },
    "947d88807a9643159e47aa95e598c8c0": {
     "views": [
      {
       "cell_index": 5
      },
      {
       "cell_index": 5
      }
     ]
    },
    "97dcde95ad7d406dbff4aa211fec3fb0": {
     "views": [
      {
       "cell_index": 5
      },
      {
       "cell_index": 7
      }
     ]
    },
    "9bf45338e8134500b5440b0e80873f93": {
     "views": [
      {
       "cell_index": 9
      },
      {
       "cell_index": 9
      },
      {
       "cell_index": 9
      }
     ]
    },
    "a43b4bc6dbba4bf8ae0c28cfad8351f6": {
     "views": [
      {
       "cell_index": 7
      }
     ]
    },
    "a6de0ef2cd2d4590a33f2def2046e3c2": {
     "views": [
      {
       "cell_index": 13
      }
     ]
    },
    "a7f0a66af9474ae1b290f7a0cd3b7193": {
     "views": [
      {
       "cell_index": 15
      }
     ]
    },
    "a9fc1ffe96674ea3abcb849c302e9430": {
     "views": [
      {
       "cell_index": 13
      }
     ]
    },
    "abfed95e42b24cba9f848dfbcf6e23ed": {
     "views": [
      {
       "cell_index": 11
      }
     ]
    },
    "adeedc8c420449bb9fe1153ccf33e976": {
     "views": [
      {
       "cell_index": 5
      }
     ]
    },
    "b00afb7bd01e486bbb4bc4ccdcba1cb8": {
     "views": [
      {
       "cell_index": 7
      }
     ]
    },
    "b3748a3712ad43c2b6ed1c67a5ebeb88": {
     "views": [
      {
       "cell_index": 7
      }
     ]
    },
    "b48b905cbd73479390d2f7c8c1e31cb4": {
     "views": [
      {
       "cell_index": 13
      }
     ]
    },
    "ba093135995d45f6ac824d888debfb99": {
     "views": [
      {
       "cell_index": 7
      }
     ]
    },
    "bb48841d0d7040eb8cc49f3a49f00f93": {
     "views": [
      {
       "cell_index": 7
      }
     ]
    },
    "bd3a06860c4748b6abaec76a5c8665a8": {
     "views": [
      {
       "cell_index": 15
      }
     ]
    },
    "bf4820f2b6944835963555c6933b7da5": {
     "views": [
      {
       "cell_index": 9
      }
     ]
    },
    "c0e94fe70c9d4afb913323fc66e83f17": {
     "views": [
      {
       "cell_index": 13
      }
     ]
    },
    "c3f6543368474aa8b230d11fd60a0dbb": {
     "views": [
      {
       "cell_index": 5
      }
     ]
    },
    "c5e81abf2ce2499da098efb13901d5c0": {
     "views": [
      {
       "cell_index": 7
      }
     ]
    },
    "c9b39c116d4e46e8a8f83200f26a036c": {
     "views": [
      {
       "cell_index": 5
      }
     ]
    },
    "cc5fae9507634c1ba64cc3afcced984a": {
     "views": [
      {
       "cell_index": 7
      }
     ]
    },
    "ceddeab51ad04e90b5dd6eefe3090af3": {
     "views": [
      {
       "cell_index": 5
      }
     ]
    },
    "d116b8ad5212410e8a09dc67ed9cb24e": {
     "views": [
      {
       "cell_index": 7
      }
     ]
    },
    "d4f852ce5ca745cc9e86e108299b531c": {
     "views": [
      {
       "cell_index": 15
      }
     ]
    },
    "d5c51513b24245d280de3294ff5fea45": {
     "views": [
      {
       "cell_index": 15
      }
     ]
    },
    "d9cd0839d97b4f4187a76919d6fcc6b2": {
     "views": [
      {
       "cell_index": 9
      }
     ]
    },
    "db19910c97394bcca0f298a3b2201c53": {
     "views": [
      {
       "cell_index": 5
      }
     ]
    },
    "de3a47b0d94e436b97bd5b9d37733db3": {
     "views": [
      {
       "cell_index": 11
      }
     ]
    },
    "e3ee9c119cbd47c0814d69d2e4276abc": {
     "views": [
      {
       "cell_index": 5
      }
     ]
    },
    "e6c446e766974ea5b34ea4ebaba5fdf6": {
     "views": [
      {
       "cell_index": 9
      }
     ]
    },
    "e973fa5688de40c5b0ae89bd7d2eb59b": {
     "views": [
      {
       "cell_index": 13
      }
     ]
    },
    "eb2628ae591b4ed8a452ea89aab430cc": {
     "views": [
      {
       "cell_index": 5
      }
     ]
    },
    "ebfbd6435b634b588ebebc0d8f4cdcdb": {
     "views": [
      {
       "cell_index": 5
      }
     ]
    },
    "ee1bb684c0f8410eb678142c8156f004": {
     "views": [
      {
       "cell_index": 11
      }
     ]
    },
    "f275a7f5665c402486089eb26b0e9c5f": {
     "views": [
      {
       "cell_index": 15
      }
     ]
    },
    "f375841d7b044d6ca1fa2c7d8cd589b3": {
     "views": [
      {
       "cell_index": 13
      }
     ]
    },
    "f5dee7eebe2e48a6b519a21c3886e5bc": {
     "views": [
      {
       "cell_index": 7
      }
     ]
    },
    "f8544638599d43ae87c0ef947b650f63": {
     "views": [
      {
       "cell_index": 11
      }
     ]
    },
    "f87b1243bb4d4e8fa729c32b9267a617": {
     "views": [
      {
       "cell_index": 5
      }
     ]
    }
   },
   "version": "1.2.0"
  }
 },
 "nbformat": 4,
 "nbformat_minor": 1
}
