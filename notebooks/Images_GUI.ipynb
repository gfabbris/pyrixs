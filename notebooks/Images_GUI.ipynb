{
 "cells": [
  {
   "cell_type": "code",
   "execution_count": 1,
   "metadata": {
    "collapsed": false,
    "scrolled": true
   },
   "outputs": [],
   "source": [
    "import numpy as np\n",
    "import pandas as pd\n",
    "\n",
    "import os, glob\n",
    "\n",
    "from collections import OrderedDict\n",
    "\n",
    "import matplotlib\n",
    "import matplotlib.pyplot as plt\n",
    "\n",
    "import ipywidgets as widgets\n",
    "from traitlets import dlink\n",
    "from IPython.display import display\n",
    "\n",
    "from pyrixs import process2d\n",
    "\n",
    "%matplotlib nbagg"
   ]
  },
  {
   "cell_type": "code",
   "execution_count": 2,
   "metadata": {
    "collapsed": false,
    "scrolled": true
   },
   "outputs": [],
   "source": [
    "######################################\n",
    "# Widgets\n",
    "######################################\n",
    "\n",
    "# Folder to search images for\n",
    "images_folder_widget = widgets.Text(\n",
    "    value='test_images/*.h5',  \n",
    "    description='Search path',\n",
    "    width='500px',\n",
    ")\n",
    "\n",
    "# Display and pick which spectra to plot\n",
    "select_images_widget = widgets.Select(\n",
    "            options=process2d.get_all_image_names(images_folder_widget.value),\n",
    "            description='Select images'\n",
    "            )\n",
    "\n",
    "display_image_button = widgets.Button(\n",
    "    description='Plot',\n",
    ")\n",
    "\n",
    "x2_widget = widgets.FloatText(description='x^2', value=process2d.Image['curvature'][0])\n",
    "x1_widget = widgets.FloatText(description='x^1', value=process2d.Image['curvature'][1])\n",
    "x0_widget = widgets.FloatText(description='x^0', value=process2d.Image['curvature'][2])\n",
    "\n",
    "fit_curvature_button = widgets.Button(\n",
    "    description='Fit',\n",
    ")\n",
    "\n",
    "plot_resolution_button = widgets.Button(\n",
    "    description='Plot',\n",
    ")\n",
    "\n",
    "names = ['FWHM', 'center', 'amplitude', 'offset']\n",
    "values = [3., 100., 10, 0.]\n",
    "params_widget = widgets.HBox([widgets.FloatText(description=name, value=value, width='150px') \n",
    "                              for name, value in zip(names, values)])\n",
    "\n",
    "fit_resolution_button = widgets.Button(\n",
    "    description='Fit',\n",
    ")"
   ]
  },
  {
   "cell_type": "code",
   "execution_count": 3,
   "metadata": {
    "collapsed": false,
    "scrolled": true
   },
   "outputs": [],
   "source": [
    "###########################\n",
    "## Widget logic\n",
    "###########################\n",
    "def update_select_images_widget(change):\n",
    "    \"\"\"Refresh images for selection\"\"\"\n",
    "    select_images_widget.options = process2d.get_all_image_names(images_folder_widget.value)\n",
    "    \n",
    "images_folder_widget.on_submit(update_select_images_widget)\n",
    "\n",
    "def wrap_display_image(change):\n",
    "    \"\"\"Load and plot images and curvature\"\"\"\n",
    "    process2d.load_image(images_folder_widget.value,\n",
    "               select_images_widget.value)\n",
    "    process2d.plot_image(ax1, alpha=0.5, s=1)\n",
    "    process2d.plot_curvature(ax1)\n",
    "\n",
    "display_image_button.on_click(wrap_display_image)\n",
    "\n",
    "def wrap_curvature(change):\n",
    "    \"\"\"Assign values in curvature widget to Images['curvature']\"\"\"\n",
    "    process2d.Image['curvature'] = np.array([x2_widget.value, x1_widget.value, x0_widget.value])\n",
    "\n",
    "x2_widget.observe(wrap_curvature)\n",
    "x1_widget.observe(wrap_curvature)\n",
    "x0_widget.observe(wrap_curvature)\n",
    "    \n",
    "def wrap_fit_curvature(change):\n",
    "    \"\"\"Fit the curvature and assign values into widgets\"\"\"\n",
    "    curvature_values = process2d.fit_curvature()\n",
    "    process2d.Image['curvature'] = curvature_values\n",
    "    x2_widget.value = curvature_values[0]\n",
    "    x1_widget.value = curvature_values[1]\n",
    "    print(\"x^2 value {}\".format(curvature_values[0]))\n",
    "    print(\"x^1 value {}\".format(curvature_values[1]))\n",
    "    #wrap_curvature(None)\n",
    "    wrap_display_image(None)\n",
    "\n",
    "fit_curvature_button.on_click(wrap_fit_curvature)        \n",
    "        \n",
    "def wrap_plot_resolution(change):\n",
    "    \"\"\"Extract the spectrum and plot it on ax2\"\"\"\n",
    "    process2d.extract()\n",
    "    process2d.plot_resolution(ax2)\n",
    "\n",
    "plot_resolution_button.on_click(wrap_plot_resolution)\n",
    "\n",
    "def wrap_fit_resolution(change):\n",
    "    xmin, xmax, _, _ = ax2.axis()\n",
    "    resolution_values = process2d.fit_resolution(xmin, xmax)\n",
    "    for widget, value in zip(params_widget.children, resolution_values):\n",
    "        widget.value = value\n",
    "        \n",
    "    process2d.plot_resolution_fit(ax2, resolution_values, xmin, xmax)\n",
    "\n",
    "fit_resolution_button.on_click(wrap_fit_resolution)"
   ]
  },
  {
   "cell_type": "markdown",
   "metadata": {},
   "source": [
    "## List and choose image"
   ]
  },
  {
   "cell_type": "code",
   "execution_count": 4,
   "metadata": {
    "collapsed": false,
    "scrolled": true
   },
   "outputs": [],
   "source": [
    "display(images_folder_widget, select_images_widget)"
   ]
  },
  {
   "cell_type": "markdown",
   "metadata": {},
   "source": [
    "## Plot image"
   ]
  },
  {
   "cell_type": "code",
   "execution_count": 5,
   "metadata": {
    "collapsed": false,
    "scrolled": false
   },
   "outputs": [
    {
     "data": {
      "application/javascript": [
       "/* Put everything inside the global mpl namespace */\n",
       "window.mpl = {};\n",
       "\n",
       "mpl.get_websocket_type = function() {\n",
       "    if (typeof(WebSocket) !== 'undefined') {\n",
       "        return WebSocket;\n",
       "    } else if (typeof(MozWebSocket) !== 'undefined') {\n",
       "        return MozWebSocket;\n",
       "    } else {\n",
       "        alert('Your browser does not have WebSocket support.' +\n",
       "              'Please try Chrome, Safari or Firefox ≥ 6. ' +\n",
       "              'Firefox 4 and 5 are also supported but you ' +\n",
       "              'have to enable WebSockets in about:config.');\n",
       "    };\n",
       "}\n",
       "\n",
       "mpl.figure = function(figure_id, websocket, ondownload, parent_element) {\n",
       "    this.id = figure_id;\n",
       "\n",
       "    this.ws = websocket;\n",
       "\n",
       "    this.supports_binary = (this.ws.binaryType != undefined);\n",
       "\n",
       "    if (!this.supports_binary) {\n",
       "        var warnings = document.getElementById(\"mpl-warnings\");\n",
       "        if (warnings) {\n",
       "            warnings.style.display = 'block';\n",
       "            warnings.textContent = (\n",
       "                \"This browser does not support binary websocket messages. \" +\n",
       "                    \"Performance may be slow.\");\n",
       "        }\n",
       "    }\n",
       "\n",
       "    this.imageObj = new Image();\n",
       "\n",
       "    this.context = undefined;\n",
       "    this.message = undefined;\n",
       "    this.canvas = undefined;\n",
       "    this.rubberband_canvas = undefined;\n",
       "    this.rubberband_context = undefined;\n",
       "    this.format_dropdown = undefined;\n",
       "\n",
       "    this.image_mode = 'full';\n",
       "\n",
       "    this.root = $('<div/>');\n",
       "    this._root_extra_style(this.root)\n",
       "    this.root.attr('style', 'display: inline-block');\n",
       "\n",
       "    $(parent_element).append(this.root);\n",
       "\n",
       "    this._init_header(this);\n",
       "    this._init_canvas(this);\n",
       "    this._init_toolbar(this);\n",
       "\n",
       "    var fig = this;\n",
       "\n",
       "    this.waiting = false;\n",
       "\n",
       "    this.ws.onopen =  function () {\n",
       "            fig.send_message(\"supports_binary\", {value: fig.supports_binary});\n",
       "            fig.send_message(\"send_image_mode\", {});\n",
       "            fig.send_message(\"refresh\", {});\n",
       "        }\n",
       "\n",
       "    this.imageObj.onload = function() {\n",
       "            if (fig.image_mode == 'full') {\n",
       "                // Full images could contain transparency (where diff images\n",
       "                // almost always do), so we need to clear the canvas so that\n",
       "                // there is no ghosting.\n",
       "                fig.context.clearRect(0, 0, fig.canvas.width, fig.canvas.height);\n",
       "            }\n",
       "            fig.context.drawImage(fig.imageObj, 0, 0);\n",
       "        };\n",
       "\n",
       "    this.imageObj.onunload = function() {\n",
       "        this.ws.close();\n",
       "    }\n",
       "\n",
       "    this.ws.onmessage = this._make_on_message_function(this);\n",
       "\n",
       "    this.ondownload = ondownload;\n",
       "}\n",
       "\n",
       "mpl.figure.prototype._init_header = function() {\n",
       "    var titlebar = $(\n",
       "        '<div class=\"ui-dialog-titlebar ui-widget-header ui-corner-all ' +\n",
       "        'ui-helper-clearfix\"/>');\n",
       "    var titletext = $(\n",
       "        '<div class=\"ui-dialog-title\" style=\"width: 100%; ' +\n",
       "        'text-align: center; padding: 3px;\"/>');\n",
       "    titlebar.append(titletext)\n",
       "    this.root.append(titlebar);\n",
       "    this.header = titletext[0];\n",
       "}\n",
       "\n",
       "\n",
       "\n",
       "mpl.figure.prototype._canvas_extra_style = function(canvas_div) {\n",
       "\n",
       "}\n",
       "\n",
       "\n",
       "mpl.figure.prototype._root_extra_style = function(canvas_div) {\n",
       "\n",
       "}\n",
       "\n",
       "mpl.figure.prototype._init_canvas = function() {\n",
       "    var fig = this;\n",
       "\n",
       "    var canvas_div = $('<div/>');\n",
       "\n",
       "    canvas_div.attr('style', 'position: relative; clear: both; outline: 0');\n",
       "\n",
       "    function canvas_keyboard_event(event) {\n",
       "        return fig.key_event(event, event['data']);\n",
       "    }\n",
       "\n",
       "    canvas_div.keydown('key_press', canvas_keyboard_event);\n",
       "    canvas_div.keyup('key_release', canvas_keyboard_event);\n",
       "    this.canvas_div = canvas_div\n",
       "    this._canvas_extra_style(canvas_div)\n",
       "    this.root.append(canvas_div);\n",
       "\n",
       "    var canvas = $('<canvas/>');\n",
       "    canvas.addClass('mpl-canvas');\n",
       "    canvas.attr('style', \"left: 0; top: 0; z-index: 0; outline: 0\")\n",
       "\n",
       "    this.canvas = canvas[0];\n",
       "    this.context = canvas[0].getContext(\"2d\");\n",
       "\n",
       "    var rubberband = $('<canvas/>');\n",
       "    rubberband.attr('style', \"position: absolute; left: 0; top: 0; z-index: 1;\")\n",
       "\n",
       "    var pass_mouse_events = true;\n",
       "\n",
       "    canvas_div.resizable({\n",
       "        start: function(event, ui) {\n",
       "            pass_mouse_events = false;\n",
       "        },\n",
       "        resize: function(event, ui) {\n",
       "            fig.request_resize(ui.size.width, ui.size.height);\n",
       "        },\n",
       "        stop: function(event, ui) {\n",
       "            pass_mouse_events = true;\n",
       "            fig.request_resize(ui.size.width, ui.size.height);\n",
       "        },\n",
       "    });\n",
       "\n",
       "    function mouse_event_fn(event) {\n",
       "        if (pass_mouse_events)\n",
       "            return fig.mouse_event(event, event['data']);\n",
       "    }\n",
       "\n",
       "    rubberband.mousedown('button_press', mouse_event_fn);\n",
       "    rubberband.mouseup('button_release', mouse_event_fn);\n",
       "    // Throttle sequential mouse events to 1 every 20ms.\n",
       "    rubberband.mousemove('motion_notify', mouse_event_fn);\n",
       "\n",
       "    rubberband.mouseenter('figure_enter', mouse_event_fn);\n",
       "    rubberband.mouseleave('figure_leave', mouse_event_fn);\n",
       "\n",
       "    canvas_div.on(\"wheel\", function (event) {\n",
       "        event = event.originalEvent;\n",
       "        event['data'] = 'scroll'\n",
       "        if (event.deltaY < 0) {\n",
       "            event.step = 1;\n",
       "        } else {\n",
       "            event.step = -1;\n",
       "        }\n",
       "        mouse_event_fn(event);\n",
       "    });\n",
       "\n",
       "    canvas_div.append(canvas);\n",
       "    canvas_div.append(rubberband);\n",
       "\n",
       "    this.rubberband = rubberband;\n",
       "    this.rubberband_canvas = rubberband[0];\n",
       "    this.rubberband_context = rubberband[0].getContext(\"2d\");\n",
       "    this.rubberband_context.strokeStyle = \"#000000\";\n",
       "\n",
       "    this._resize_canvas = function(width, height) {\n",
       "        // Keep the size of the canvas, canvas container, and rubber band\n",
       "        // canvas in synch.\n",
       "        canvas_div.css('width', width)\n",
       "        canvas_div.css('height', height)\n",
       "\n",
       "        canvas.attr('width', width);\n",
       "        canvas.attr('height', height);\n",
       "\n",
       "        rubberband.attr('width', width);\n",
       "        rubberband.attr('height', height);\n",
       "    }\n",
       "\n",
       "    // Set the figure to an initial 600x600px, this will subsequently be updated\n",
       "    // upon first draw.\n",
       "    this._resize_canvas(600, 600);\n",
       "\n",
       "    // Disable right mouse context menu.\n",
       "    $(this.rubberband_canvas).bind(\"contextmenu\",function(e){\n",
       "        return false;\n",
       "    });\n",
       "\n",
       "    function set_focus () {\n",
       "        canvas.focus();\n",
       "        canvas_div.focus();\n",
       "    }\n",
       "\n",
       "    window.setTimeout(set_focus, 100);\n",
       "}\n",
       "\n",
       "mpl.figure.prototype._init_toolbar = function() {\n",
       "    var fig = this;\n",
       "\n",
       "    var nav_element = $('<div/>')\n",
       "    nav_element.attr('style', 'width: 100%');\n",
       "    this.root.append(nav_element);\n",
       "\n",
       "    // Define a callback function for later on.\n",
       "    function toolbar_event(event) {\n",
       "        return fig.toolbar_button_onclick(event['data']);\n",
       "    }\n",
       "    function toolbar_mouse_event(event) {\n",
       "        return fig.toolbar_button_onmouseover(event['data']);\n",
       "    }\n",
       "\n",
       "    for(var toolbar_ind in mpl.toolbar_items) {\n",
       "        var name = mpl.toolbar_items[toolbar_ind][0];\n",
       "        var tooltip = mpl.toolbar_items[toolbar_ind][1];\n",
       "        var image = mpl.toolbar_items[toolbar_ind][2];\n",
       "        var method_name = mpl.toolbar_items[toolbar_ind][3];\n",
       "\n",
       "        if (!name) {\n",
       "            // put a spacer in here.\n",
       "            continue;\n",
       "        }\n",
       "        var button = $('<button/>');\n",
       "        button.addClass('ui-button ui-widget ui-state-default ui-corner-all ' +\n",
       "                        'ui-button-icon-only');\n",
       "        button.attr('role', 'button');\n",
       "        button.attr('aria-disabled', 'false');\n",
       "        button.click(method_name, toolbar_event);\n",
       "        button.mouseover(tooltip, toolbar_mouse_event);\n",
       "\n",
       "        var icon_img = $('<span/>');\n",
       "        icon_img.addClass('ui-button-icon-primary ui-icon');\n",
       "        icon_img.addClass(image);\n",
       "        icon_img.addClass('ui-corner-all');\n",
       "\n",
       "        var tooltip_span = $('<span/>');\n",
       "        tooltip_span.addClass('ui-button-text');\n",
       "        tooltip_span.html(tooltip);\n",
       "\n",
       "        button.append(icon_img);\n",
       "        button.append(tooltip_span);\n",
       "\n",
       "        nav_element.append(button);\n",
       "    }\n",
       "\n",
       "    var fmt_picker_span = $('<span/>');\n",
       "\n",
       "    var fmt_picker = $('<select/>');\n",
       "    fmt_picker.addClass('mpl-toolbar-option ui-widget ui-widget-content');\n",
       "    fmt_picker_span.append(fmt_picker);\n",
       "    nav_element.append(fmt_picker_span);\n",
       "    this.format_dropdown = fmt_picker[0];\n",
       "\n",
       "    for (var ind in mpl.extensions) {\n",
       "        var fmt = mpl.extensions[ind];\n",
       "        var option = $(\n",
       "            '<option/>', {selected: fmt === mpl.default_extension}).html(fmt);\n",
       "        fmt_picker.append(option)\n",
       "    }\n",
       "\n",
       "    // Add hover states to the ui-buttons\n",
       "    $( \".ui-button\" ).hover(\n",
       "        function() { $(this).addClass(\"ui-state-hover\");},\n",
       "        function() { $(this).removeClass(\"ui-state-hover\");}\n",
       "    );\n",
       "\n",
       "    var status_bar = $('<span class=\"mpl-message\"/>');\n",
       "    nav_element.append(status_bar);\n",
       "    this.message = status_bar[0];\n",
       "}\n",
       "\n",
       "mpl.figure.prototype.request_resize = function(x_pixels, y_pixels) {\n",
       "    // Request matplotlib to resize the figure. Matplotlib will then trigger a resize in the client,\n",
       "    // which will in turn request a refresh of the image.\n",
       "    this.send_message('resize', {'width': x_pixels, 'height': y_pixels});\n",
       "}\n",
       "\n",
       "mpl.figure.prototype.send_message = function(type, properties) {\n",
       "    properties['type'] = type;\n",
       "    properties['figure_id'] = this.id;\n",
       "    this.ws.send(JSON.stringify(properties));\n",
       "}\n",
       "\n",
       "mpl.figure.prototype.send_draw_message = function() {\n",
       "    if (!this.waiting) {\n",
       "        this.waiting = true;\n",
       "        this.ws.send(JSON.stringify({type: \"draw\", figure_id: this.id}));\n",
       "    }\n",
       "}\n",
       "\n",
       "\n",
       "mpl.figure.prototype.handle_save = function(fig, msg) {\n",
       "    var format_dropdown = fig.format_dropdown;\n",
       "    var format = format_dropdown.options[format_dropdown.selectedIndex].value;\n",
       "    fig.ondownload(fig, format);\n",
       "}\n",
       "\n",
       "\n",
       "mpl.figure.prototype.handle_resize = function(fig, msg) {\n",
       "    var size = msg['size'];\n",
       "    if (size[0] != fig.canvas.width || size[1] != fig.canvas.height) {\n",
       "        fig._resize_canvas(size[0], size[1]);\n",
       "        fig.send_message(\"refresh\", {});\n",
       "    };\n",
       "}\n",
       "\n",
       "mpl.figure.prototype.handle_rubberband = function(fig, msg) {\n",
       "    var x0 = msg['x0'];\n",
       "    var y0 = fig.canvas.height - msg['y0'];\n",
       "    var x1 = msg['x1'];\n",
       "    var y1 = fig.canvas.height - msg['y1'];\n",
       "    x0 = Math.floor(x0) + 0.5;\n",
       "    y0 = Math.floor(y0) + 0.5;\n",
       "    x1 = Math.floor(x1) + 0.5;\n",
       "    y1 = Math.floor(y1) + 0.5;\n",
       "    var min_x = Math.min(x0, x1);\n",
       "    var min_y = Math.min(y0, y1);\n",
       "    var width = Math.abs(x1 - x0);\n",
       "    var height = Math.abs(y1 - y0);\n",
       "\n",
       "    fig.rubberband_context.clearRect(\n",
       "        0, 0, fig.canvas.width, fig.canvas.height);\n",
       "\n",
       "    fig.rubberband_context.strokeRect(min_x, min_y, width, height);\n",
       "}\n",
       "\n",
       "mpl.figure.prototype.handle_figure_label = function(fig, msg) {\n",
       "    // Updates the figure title.\n",
       "    fig.header.textContent = msg['label'];\n",
       "}\n",
       "\n",
       "mpl.figure.prototype.handle_cursor = function(fig, msg) {\n",
       "    var cursor = msg['cursor'];\n",
       "    switch(cursor)\n",
       "    {\n",
       "    case 0:\n",
       "        cursor = 'pointer';\n",
       "        break;\n",
       "    case 1:\n",
       "        cursor = 'default';\n",
       "        break;\n",
       "    case 2:\n",
       "        cursor = 'crosshair';\n",
       "        break;\n",
       "    case 3:\n",
       "        cursor = 'move';\n",
       "        break;\n",
       "    }\n",
       "    fig.rubberband_canvas.style.cursor = cursor;\n",
       "}\n",
       "\n",
       "mpl.figure.prototype.handle_message = function(fig, msg) {\n",
       "    fig.message.textContent = msg['message'];\n",
       "}\n",
       "\n",
       "mpl.figure.prototype.handle_draw = function(fig, msg) {\n",
       "    // Request the server to send over a new figure.\n",
       "    fig.send_draw_message();\n",
       "}\n",
       "\n",
       "mpl.figure.prototype.handle_image_mode = function(fig, msg) {\n",
       "    fig.image_mode = msg['mode'];\n",
       "}\n",
       "\n",
       "mpl.figure.prototype.updated_canvas_event = function() {\n",
       "    // Called whenever the canvas gets updated.\n",
       "    this.send_message(\"ack\", {});\n",
       "}\n",
       "\n",
       "// A function to construct a web socket function for onmessage handling.\n",
       "// Called in the figure constructor.\n",
       "mpl.figure.prototype._make_on_message_function = function(fig) {\n",
       "    return function socket_on_message(evt) {\n",
       "        if (evt.data instanceof Blob) {\n",
       "            /* FIXME: We get \"Resource interpreted as Image but\n",
       "             * transferred with MIME type text/plain:\" errors on\n",
       "             * Chrome.  But how to set the MIME type?  It doesn't seem\n",
       "             * to be part of the websocket stream */\n",
       "            evt.data.type = \"image/png\";\n",
       "\n",
       "            /* Free the memory for the previous frames */\n",
       "            if (fig.imageObj.src) {\n",
       "                (window.URL || window.webkitURL).revokeObjectURL(\n",
       "                    fig.imageObj.src);\n",
       "            }\n",
       "\n",
       "            fig.imageObj.src = (window.URL || window.webkitURL).createObjectURL(\n",
       "                evt.data);\n",
       "            fig.updated_canvas_event();\n",
       "            fig.waiting = false;\n",
       "            return;\n",
       "        }\n",
       "        else if (typeof evt.data === 'string' && evt.data.slice(0, 21) == \"data:image/png;base64\") {\n",
       "            fig.imageObj.src = evt.data;\n",
       "            fig.updated_canvas_event();\n",
       "            fig.waiting = false;\n",
       "            return;\n",
       "        }\n",
       "\n",
       "        var msg = JSON.parse(evt.data);\n",
       "        var msg_type = msg['type'];\n",
       "\n",
       "        // Call the  \"handle_{type}\" callback, which takes\n",
       "        // the figure and JSON message as its only arguments.\n",
       "        try {\n",
       "            var callback = fig[\"handle_\" + msg_type];\n",
       "        } catch (e) {\n",
       "            console.log(\"No handler for the '\" + msg_type + \"' message type: \", msg);\n",
       "            return;\n",
       "        }\n",
       "\n",
       "        if (callback) {\n",
       "            try {\n",
       "                // console.log(\"Handling '\" + msg_type + \"' message: \", msg);\n",
       "                callback(fig, msg);\n",
       "            } catch (e) {\n",
       "                console.log(\"Exception inside the 'handler_\" + msg_type + \"' callback:\", e, e.stack, msg);\n",
       "            }\n",
       "        }\n",
       "    };\n",
       "}\n",
       "\n",
       "// from http://stackoverflow.com/questions/1114465/getting-mouse-location-in-canvas\n",
       "mpl.findpos = function(e) {\n",
       "    //this section is from http://www.quirksmode.org/js/events_properties.html\n",
       "    var targ;\n",
       "    if (!e)\n",
       "        e = window.event;\n",
       "    if (e.target)\n",
       "        targ = e.target;\n",
       "    else if (e.srcElement)\n",
       "        targ = e.srcElement;\n",
       "    if (targ.nodeType == 3) // defeat Safari bug\n",
       "        targ = targ.parentNode;\n",
       "\n",
       "    // jQuery normalizes the pageX and pageY\n",
       "    // pageX,Y are the mouse positions relative to the document\n",
       "    // offset() returns the position of the element relative to the document\n",
       "    var x = e.pageX - $(targ).offset().left;\n",
       "    var y = e.pageY - $(targ).offset().top;\n",
       "\n",
       "    return {\"x\": x, \"y\": y};\n",
       "};\n",
       "\n",
       "/*\n",
       " * return a copy of an object with only non-object keys\n",
       " * we need this to avoid circular references\n",
       " * http://stackoverflow.com/a/24161582/3208463\n",
       " */\n",
       "function simpleKeys (original) {\n",
       "  return Object.keys(original).reduce(function (obj, key) {\n",
       "    if (typeof original[key] !== 'object')\n",
       "        obj[key] = original[key]\n",
       "    return obj;\n",
       "  }, {});\n",
       "}\n",
       "\n",
       "mpl.figure.prototype.mouse_event = function(event, name) {\n",
       "    var canvas_pos = mpl.findpos(event)\n",
       "\n",
       "    if (name === 'button_press')\n",
       "    {\n",
       "        this.canvas.focus();\n",
       "        this.canvas_div.focus();\n",
       "    }\n",
       "\n",
       "    var x = canvas_pos.x;\n",
       "    var y = canvas_pos.y;\n",
       "\n",
       "    this.send_message(name, {x: x, y: y, button: event.button,\n",
       "                             step: event.step,\n",
       "                             guiEvent: simpleKeys(event)});\n",
       "\n",
       "    /* This prevents the web browser from automatically changing to\n",
       "     * the text insertion cursor when the button is pressed.  We want\n",
       "     * to control all of the cursor setting manually through the\n",
       "     * 'cursor' event from matplotlib */\n",
       "    event.preventDefault();\n",
       "    return false;\n",
       "}\n",
       "\n",
       "mpl.figure.prototype._key_event_extra = function(event, name) {\n",
       "    // Handle any extra behaviour associated with a key event\n",
       "}\n",
       "\n",
       "mpl.figure.prototype.key_event = function(event, name) {\n",
       "\n",
       "    // Prevent repeat events\n",
       "    if (name == 'key_press')\n",
       "    {\n",
       "        if (event.which === this._key)\n",
       "            return;\n",
       "        else\n",
       "            this._key = event.which;\n",
       "    }\n",
       "    if (name == 'key_release')\n",
       "        this._key = null;\n",
       "\n",
       "    var value = '';\n",
       "    if (event.ctrlKey && event.which != 17)\n",
       "        value += \"ctrl+\";\n",
       "    if (event.altKey && event.which != 18)\n",
       "        value += \"alt+\";\n",
       "    if (event.shiftKey && event.which != 16)\n",
       "        value += \"shift+\";\n",
       "\n",
       "    value += 'k';\n",
       "    value += event.which.toString();\n",
       "\n",
       "    this._key_event_extra(event, name);\n",
       "\n",
       "    this.send_message(name, {key: value,\n",
       "                             guiEvent: simpleKeys(event)});\n",
       "    return false;\n",
       "}\n",
       "\n",
       "mpl.figure.prototype.toolbar_button_onclick = function(name) {\n",
       "    if (name == 'download') {\n",
       "        this.handle_save(this, null);\n",
       "    } else {\n",
       "        this.send_message(\"toolbar_button\", {name: name});\n",
       "    }\n",
       "};\n",
       "\n",
       "mpl.figure.prototype.toolbar_button_onmouseover = function(tooltip) {\n",
       "    this.message.textContent = tooltip;\n",
       "};\n",
       "mpl.toolbar_items = [[\"Home\", \"Reset original view\", \"fa fa-home icon-home\", \"home\"], [\"Back\", \"Back to  previous view\", \"fa fa-arrow-left icon-arrow-left\", \"back\"], [\"Forward\", \"Forward to next view\", \"fa fa-arrow-right icon-arrow-right\", \"forward\"], [\"\", \"\", \"\", \"\"], [\"Pan\", \"Pan axes with left mouse, zoom with right\", \"fa fa-arrows icon-move\", \"pan\"], [\"Zoom\", \"Zoom to rectangle\", \"fa fa-square-o icon-check-empty\", \"zoom\"], [\"\", \"\", \"\", \"\"], [\"Download\", \"Download plot\", \"fa fa-floppy-o icon-save\", \"download\"]];\n",
       "\n",
       "mpl.extensions = [\"eps\", \"jpeg\", \"pdf\", \"png\", \"ps\", \"raw\", \"svg\", \"tif\"];\n",
       "\n",
       "mpl.default_extension = \"png\";var comm_websocket_adapter = function(comm) {\n",
       "    // Create a \"websocket\"-like object which calls the given IPython comm\n",
       "    // object with the appropriate methods. Currently this is a non binary\n",
       "    // socket, so there is still some room for performance tuning.\n",
       "    var ws = {};\n",
       "\n",
       "    ws.close = function() {\n",
       "        comm.close()\n",
       "    };\n",
       "    ws.send = function(m) {\n",
       "        //console.log('sending', m);\n",
       "        comm.send(m);\n",
       "    };\n",
       "    // Register the callback with on_msg.\n",
       "    comm.on_msg(function(msg) {\n",
       "        //console.log('receiving', msg['content']['data'], msg);\n",
       "        // Pass the mpl event to the overriden (by mpl) onmessage function.\n",
       "        ws.onmessage(msg['content']['data'])\n",
       "    });\n",
       "    return ws;\n",
       "}\n",
       "\n",
       "mpl.mpl_figure_comm = function(comm, msg) {\n",
       "    // This is the function which gets called when the mpl process\n",
       "    // starts-up an IPython Comm through the \"matplotlib\" channel.\n",
       "\n",
       "    var id = msg.content.data.id;\n",
       "    // Get hold of the div created by the display call when the Comm\n",
       "    // socket was opened in Python.\n",
       "    var element = $(\"#\" + id);\n",
       "    var ws_proxy = comm_websocket_adapter(comm)\n",
       "\n",
       "    function ondownload(figure, format) {\n",
       "        window.open(figure.imageObj.src);\n",
       "    }\n",
       "\n",
       "    var fig = new mpl.figure(id, ws_proxy,\n",
       "                           ondownload,\n",
       "                           element.get(0));\n",
       "\n",
       "    // Call onopen now - mpl needs it, as it is assuming we've passed it a real\n",
       "    // web socket which is closed, not our websocket->open comm proxy.\n",
       "    ws_proxy.onopen();\n",
       "\n",
       "    fig.parent_element = element.get(0);\n",
       "    fig.cell_info = mpl.find_output_cell(\"<div id='\" + id + \"'></div>\");\n",
       "    if (!fig.cell_info) {\n",
       "        console.error(\"Failed to find cell for figure\", id, fig);\n",
       "        return;\n",
       "    }\n",
       "\n",
       "    var output_index = fig.cell_info[2]\n",
       "    var cell = fig.cell_info[0];\n",
       "\n",
       "};\n",
       "\n",
       "mpl.figure.prototype.handle_close = function(fig, msg) {\n",
       "    fig.root.unbind('remove')\n",
       "\n",
       "    // Update the output cell to use the data from the current canvas.\n",
       "    fig.push_to_output();\n",
       "    var dataURL = fig.canvas.toDataURL();\n",
       "    // Re-enable the keyboard manager in IPython - without this line, in FF,\n",
       "    // the notebook keyboard shortcuts fail.\n",
       "    IPython.keyboard_manager.enable()\n",
       "    $(fig.parent_element).html('<img src=\"' + dataURL + '\">');\n",
       "    fig.close_ws(fig, msg);\n",
       "}\n",
       "\n",
       "mpl.figure.prototype.close_ws = function(fig, msg){\n",
       "    fig.send_message('closing', msg);\n",
       "    // fig.ws.close()\n",
       "}\n",
       "\n",
       "mpl.figure.prototype.push_to_output = function(remove_interactive) {\n",
       "    // Turn the data on the canvas into data in the output cell.\n",
       "    var dataURL = this.canvas.toDataURL();\n",
       "    this.cell_info[1]['text/html'] = '<img src=\"' + dataURL + '\">';\n",
       "}\n",
       "\n",
       "mpl.figure.prototype.updated_canvas_event = function() {\n",
       "    // Tell IPython that the notebook contents must change.\n",
       "    IPython.notebook.set_dirty(true);\n",
       "    this.send_message(\"ack\", {});\n",
       "    var fig = this;\n",
       "    // Wait a second, then push the new image to the DOM so\n",
       "    // that it is saved nicely (might be nice to debounce this).\n",
       "    setTimeout(function () { fig.push_to_output() }, 1000);\n",
       "}\n",
       "\n",
       "mpl.figure.prototype._init_toolbar = function() {\n",
       "    var fig = this;\n",
       "\n",
       "    var nav_element = $('<div/>')\n",
       "    nav_element.attr('style', 'width: 100%');\n",
       "    this.root.append(nav_element);\n",
       "\n",
       "    // Define a callback function for later on.\n",
       "    function toolbar_event(event) {\n",
       "        return fig.toolbar_button_onclick(event['data']);\n",
       "    }\n",
       "    function toolbar_mouse_event(event) {\n",
       "        return fig.toolbar_button_onmouseover(event['data']);\n",
       "    }\n",
       "\n",
       "    for(var toolbar_ind in mpl.toolbar_items){\n",
       "        var name = mpl.toolbar_items[toolbar_ind][0];\n",
       "        var tooltip = mpl.toolbar_items[toolbar_ind][1];\n",
       "        var image = mpl.toolbar_items[toolbar_ind][2];\n",
       "        var method_name = mpl.toolbar_items[toolbar_ind][3];\n",
       "\n",
       "        if (!name) { continue; };\n",
       "\n",
       "        var button = $('<button class=\"btn btn-default\" href=\"#\" title=\"' + name + '\"><i class=\"fa ' + image + ' fa-lg\"></i></button>');\n",
       "        button.click(method_name, toolbar_event);\n",
       "        button.mouseover(tooltip, toolbar_mouse_event);\n",
       "        nav_element.append(button);\n",
       "    }\n",
       "\n",
       "    // Add the status bar.\n",
       "    var status_bar = $('<span class=\"mpl-message\" style=\"text-align:right; float: right;\"/>');\n",
       "    nav_element.append(status_bar);\n",
       "    this.message = status_bar[0];\n",
       "\n",
       "    // Add the close button to the window.\n",
       "    var buttongrp = $('<div class=\"btn-group inline pull-right\"></div>');\n",
       "    var button = $('<button class=\"btn btn-mini btn-primary\" href=\"#\" title=\"Stop Interaction\"><i class=\"fa fa-power-off icon-remove icon-large\"></i></button>');\n",
       "    button.click(function (evt) { fig.handle_close(fig, {}); } );\n",
       "    button.mouseover('Stop Interaction', toolbar_mouse_event);\n",
       "    buttongrp.append(button);\n",
       "    var titlebar = this.root.find($('.ui-dialog-titlebar'));\n",
       "    titlebar.prepend(buttongrp);\n",
       "}\n",
       "\n",
       "mpl.figure.prototype._root_extra_style = function(el){\n",
       "    var fig = this\n",
       "    el.on(\"remove\", function(){\n",
       "\tfig.close_ws(fig, {});\n",
       "    });\n",
       "}\n",
       "\n",
       "mpl.figure.prototype._canvas_extra_style = function(el){\n",
       "    // this is important to make the div 'focusable\n",
       "    el.attr('tabindex', 0)\n",
       "    // reach out to IPython and tell the keyboard manager to turn it's self\n",
       "    // off when our div gets focus\n",
       "\n",
       "    // location in version 3\n",
       "    if (IPython.notebook.keyboard_manager) {\n",
       "        IPython.notebook.keyboard_manager.register_events(el);\n",
       "    }\n",
       "    else {\n",
       "        // location in version 2\n",
       "        IPython.keyboard_manager.register_events(el);\n",
       "    }\n",
       "\n",
       "}\n",
       "\n",
       "mpl.figure.prototype._key_event_extra = function(event, name) {\n",
       "    var manager = IPython.notebook.keyboard_manager;\n",
       "    if (!manager)\n",
       "        manager = IPython.keyboard_manager;\n",
       "\n",
       "    // Check for shift+enter\n",
       "    if (event.shiftKey && event.which == 13) {\n",
       "        this.canvas_div.blur();\n",
       "        event.shiftKey = false;\n",
       "        // Send a \"J\" for go to next cell\n",
       "        event.which = 74;\n",
       "        event.keyCode = 74;\n",
       "        manager.command_mode();\n",
       "        manager.handle_keydown(event);\n",
       "    }\n",
       "}\n",
       "\n",
       "mpl.figure.prototype.handle_save = function(fig, msg) {\n",
       "    fig.ondownload(fig, null);\n",
       "}\n",
       "\n",
       "\n",
       "mpl.find_output_cell = function(html_output) {\n",
       "    // Return the cell and output element which can be found *uniquely* in the notebook.\n",
       "    // Note - this is a bit hacky, but it is done because the \"notebook_saving.Notebook\"\n",
       "    // IPython event is triggered only after the cells have been serialised, which for\n",
       "    // our purposes (turning an active figure into a static one), is too late.\n",
       "    var cells = IPython.notebook.get_cells();\n",
       "    var ncells = cells.length;\n",
       "    for (var i=0; i<ncells; i++) {\n",
       "        var cell = cells[i];\n",
       "        if (cell.cell_type === 'code'){\n",
       "            for (var j=0; j<cell.output_area.outputs.length; j++) {\n",
       "                var data = cell.output_area.outputs[j];\n",
       "                if (data.data) {\n",
       "                    // IPython >= 3 moved mimebundle to data attribute of output\n",
       "                    data = data.data;\n",
       "                }\n",
       "                if (data['text/html'] == html_output) {\n",
       "                    return [cell, data, j];\n",
       "                }\n",
       "            }\n",
       "        }\n",
       "    }\n",
       "}\n",
       "\n",
       "// Register the function which deals with the matplotlib target/channel.\n",
       "// The kernel may be null if the page has been refreshed.\n",
       "if (IPython.notebook.kernel != null) {\n",
       "    IPython.notebook.kernel.comm_manager.register_target('matplotlib', mpl.mpl_figure_comm);\n",
       "}\n"
      ],
      "text/plain": [
       "<IPython.core.display.Javascript object>"
      ]
     },
     "metadata": {},
     "output_type": "display_data"
    },
    {
     "data": {
      "text/html": [
       "<img src=\"data:image/png;base64,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\">"
      ],
      "text/plain": [
       "<IPython.core.display.HTML object>"
      ]
     },
     "metadata": {},
     "output_type": "display_data"
    },
    {
     "data": {
      "text/plain": [
       "None"
      ]
     },
     "metadata": {},
     "output_type": "display_data"
    },
    {
     "name": "stdout",
     "output_type": "stream",
     "text": [
      "x^2 value -5.4643455222626294e-06\n",
      "x^1 value -0.008339046187411448\n"
     ]
    }
   ],
   "source": [
    "plt.figure()\n",
    "ax1 = plt.subplot(111)\n",
    "ax1.hold(False)\n",
    "\n",
    "display(display(widgets.HBox((x2_widget, x1_widget, x0_widget), width='50%')),\n",
    "        widgets.HBox((display_image_button, fit_curvature_button)))"
   ]
  },
  {
   "cell_type": "markdown",
   "metadata": {
    "collapsed": true,
    "scrolled": true
   },
   "source": [
    "## Plot resolution"
   ]
  },
  {
   "cell_type": "code",
   "execution_count": 6,
   "metadata": {
    "collapsed": false
   },
   "outputs": [
    {
     "data": {
      "application/javascript": [
       "/* Put everything inside the global mpl namespace */\n",
       "window.mpl = {};\n",
       "\n",
       "mpl.get_websocket_type = function() {\n",
       "    if (typeof(WebSocket) !== 'undefined') {\n",
       "        return WebSocket;\n",
       "    } else if (typeof(MozWebSocket) !== 'undefined') {\n",
       "        return MozWebSocket;\n",
       "    } else {\n",
       "        alert('Your browser does not have WebSocket support.' +\n",
       "              'Please try Chrome, Safari or Firefox ≥ 6. ' +\n",
       "              'Firefox 4 and 5 are also supported but you ' +\n",
       "              'have to enable WebSockets in about:config.');\n",
       "    };\n",
       "}\n",
       "\n",
       "mpl.figure = function(figure_id, websocket, ondownload, parent_element) {\n",
       "    this.id = figure_id;\n",
       "\n",
       "    this.ws = websocket;\n",
       "\n",
       "    this.supports_binary = (this.ws.binaryType != undefined);\n",
       "\n",
       "    if (!this.supports_binary) {\n",
       "        var warnings = document.getElementById(\"mpl-warnings\");\n",
       "        if (warnings) {\n",
       "            warnings.style.display = 'block';\n",
       "            warnings.textContent = (\n",
       "                \"This browser does not support binary websocket messages. \" +\n",
       "                    \"Performance may be slow.\");\n",
       "        }\n",
       "    }\n",
       "\n",
       "    this.imageObj = new Image();\n",
       "\n",
       "    this.context = undefined;\n",
       "    this.message = undefined;\n",
       "    this.canvas = undefined;\n",
       "    this.rubberband_canvas = undefined;\n",
       "    this.rubberband_context = undefined;\n",
       "    this.format_dropdown = undefined;\n",
       "\n",
       "    this.image_mode = 'full';\n",
       "\n",
       "    this.root = $('<div/>');\n",
       "    this._root_extra_style(this.root)\n",
       "    this.root.attr('style', 'display: inline-block');\n",
       "\n",
       "    $(parent_element).append(this.root);\n",
       "\n",
       "    this._init_header(this);\n",
       "    this._init_canvas(this);\n",
       "    this._init_toolbar(this);\n",
       "\n",
       "    var fig = this;\n",
       "\n",
       "    this.waiting = false;\n",
       "\n",
       "    this.ws.onopen =  function () {\n",
       "            fig.send_message(\"supports_binary\", {value: fig.supports_binary});\n",
       "            fig.send_message(\"send_image_mode\", {});\n",
       "            fig.send_message(\"refresh\", {});\n",
       "        }\n",
       "\n",
       "    this.imageObj.onload = function() {\n",
       "            if (fig.image_mode == 'full') {\n",
       "                // Full images could contain transparency (where diff images\n",
       "                // almost always do), so we need to clear the canvas so that\n",
       "                // there is no ghosting.\n",
       "                fig.context.clearRect(0, 0, fig.canvas.width, fig.canvas.height);\n",
       "            }\n",
       "            fig.context.drawImage(fig.imageObj, 0, 0);\n",
       "        };\n",
       "\n",
       "    this.imageObj.onunload = function() {\n",
       "        this.ws.close();\n",
       "    }\n",
       "\n",
       "    this.ws.onmessage = this._make_on_message_function(this);\n",
       "\n",
       "    this.ondownload = ondownload;\n",
       "}\n",
       "\n",
       "mpl.figure.prototype._init_header = function() {\n",
       "    var titlebar = $(\n",
       "        '<div class=\"ui-dialog-titlebar ui-widget-header ui-corner-all ' +\n",
       "        'ui-helper-clearfix\"/>');\n",
       "    var titletext = $(\n",
       "        '<div class=\"ui-dialog-title\" style=\"width: 100%; ' +\n",
       "        'text-align: center; padding: 3px;\"/>');\n",
       "    titlebar.append(titletext)\n",
       "    this.root.append(titlebar);\n",
       "    this.header = titletext[0];\n",
       "}\n",
       "\n",
       "\n",
       "\n",
       "mpl.figure.prototype._canvas_extra_style = function(canvas_div) {\n",
       "\n",
       "}\n",
       "\n",
       "\n",
       "mpl.figure.prototype._root_extra_style = function(canvas_div) {\n",
       "\n",
       "}\n",
       "\n",
       "mpl.figure.prototype._init_canvas = function() {\n",
       "    var fig = this;\n",
       "\n",
       "    var canvas_div = $('<div/>');\n",
       "\n",
       "    canvas_div.attr('style', 'position: relative; clear: both; outline: 0');\n",
       "\n",
       "    function canvas_keyboard_event(event) {\n",
       "        return fig.key_event(event, event['data']);\n",
       "    }\n",
       "\n",
       "    canvas_div.keydown('key_press', canvas_keyboard_event);\n",
       "    canvas_div.keyup('key_release', canvas_keyboard_event);\n",
       "    this.canvas_div = canvas_div\n",
       "    this._canvas_extra_style(canvas_div)\n",
       "    this.root.append(canvas_div);\n",
       "\n",
       "    var canvas = $('<canvas/>');\n",
       "    canvas.addClass('mpl-canvas');\n",
       "    canvas.attr('style', \"left: 0; top: 0; z-index: 0; outline: 0\")\n",
       "\n",
       "    this.canvas = canvas[0];\n",
       "    this.context = canvas[0].getContext(\"2d\");\n",
       "\n",
       "    var rubberband = $('<canvas/>');\n",
       "    rubberband.attr('style', \"position: absolute; left: 0; top: 0; z-index: 1;\")\n",
       "\n",
       "    var pass_mouse_events = true;\n",
       "\n",
       "    canvas_div.resizable({\n",
       "        start: function(event, ui) {\n",
       "            pass_mouse_events = false;\n",
       "        },\n",
       "        resize: function(event, ui) {\n",
       "            fig.request_resize(ui.size.width, ui.size.height);\n",
       "        },\n",
       "        stop: function(event, ui) {\n",
       "            pass_mouse_events = true;\n",
       "            fig.request_resize(ui.size.width, ui.size.height);\n",
       "        },\n",
       "    });\n",
       "\n",
       "    function mouse_event_fn(event) {\n",
       "        if (pass_mouse_events)\n",
       "            return fig.mouse_event(event, event['data']);\n",
       "    }\n",
       "\n",
       "    rubberband.mousedown('button_press', mouse_event_fn);\n",
       "    rubberband.mouseup('button_release', mouse_event_fn);\n",
       "    // Throttle sequential mouse events to 1 every 20ms.\n",
       "    rubberband.mousemove('motion_notify', mouse_event_fn);\n",
       "\n",
       "    rubberband.mouseenter('figure_enter', mouse_event_fn);\n",
       "    rubberband.mouseleave('figure_leave', mouse_event_fn);\n",
       "\n",
       "    canvas_div.on(\"wheel\", function (event) {\n",
       "        event = event.originalEvent;\n",
       "        event['data'] = 'scroll'\n",
       "        if (event.deltaY < 0) {\n",
       "            event.step = 1;\n",
       "        } else {\n",
       "            event.step = -1;\n",
       "        }\n",
       "        mouse_event_fn(event);\n",
       "    });\n",
       "\n",
       "    canvas_div.append(canvas);\n",
       "    canvas_div.append(rubberband);\n",
       "\n",
       "    this.rubberband = rubberband;\n",
       "    this.rubberband_canvas = rubberband[0];\n",
       "    this.rubberband_context = rubberband[0].getContext(\"2d\");\n",
       "    this.rubberband_context.strokeStyle = \"#000000\";\n",
       "\n",
       "    this._resize_canvas = function(width, height) {\n",
       "        // Keep the size of the canvas, canvas container, and rubber band\n",
       "        // canvas in synch.\n",
       "        canvas_div.css('width', width)\n",
       "        canvas_div.css('height', height)\n",
       "\n",
       "        canvas.attr('width', width);\n",
       "        canvas.attr('height', height);\n",
       "\n",
       "        rubberband.attr('width', width);\n",
       "        rubberband.attr('height', height);\n",
       "    }\n",
       "\n",
       "    // Set the figure to an initial 600x600px, this will subsequently be updated\n",
       "    // upon first draw.\n",
       "    this._resize_canvas(600, 600);\n",
       "\n",
       "    // Disable right mouse context menu.\n",
       "    $(this.rubberband_canvas).bind(\"contextmenu\",function(e){\n",
       "        return false;\n",
       "    });\n",
       "\n",
       "    function set_focus () {\n",
       "        canvas.focus();\n",
       "        canvas_div.focus();\n",
       "    }\n",
       "\n",
       "    window.setTimeout(set_focus, 100);\n",
       "}\n",
       "\n",
       "mpl.figure.prototype._init_toolbar = function() {\n",
       "    var fig = this;\n",
       "\n",
       "    var nav_element = $('<div/>')\n",
       "    nav_element.attr('style', 'width: 100%');\n",
       "    this.root.append(nav_element);\n",
       "\n",
       "    // Define a callback function for later on.\n",
       "    function toolbar_event(event) {\n",
       "        return fig.toolbar_button_onclick(event['data']);\n",
       "    }\n",
       "    function toolbar_mouse_event(event) {\n",
       "        return fig.toolbar_button_onmouseover(event['data']);\n",
       "    }\n",
       "\n",
       "    for(var toolbar_ind in mpl.toolbar_items) {\n",
       "        var name = mpl.toolbar_items[toolbar_ind][0];\n",
       "        var tooltip = mpl.toolbar_items[toolbar_ind][1];\n",
       "        var image = mpl.toolbar_items[toolbar_ind][2];\n",
       "        var method_name = mpl.toolbar_items[toolbar_ind][3];\n",
       "\n",
       "        if (!name) {\n",
       "            // put a spacer in here.\n",
       "            continue;\n",
       "        }\n",
       "        var button = $('<button/>');\n",
       "        button.addClass('ui-button ui-widget ui-state-default ui-corner-all ' +\n",
       "                        'ui-button-icon-only');\n",
       "        button.attr('role', 'button');\n",
       "        button.attr('aria-disabled', 'false');\n",
       "        button.click(method_name, toolbar_event);\n",
       "        button.mouseover(tooltip, toolbar_mouse_event);\n",
       "\n",
       "        var icon_img = $('<span/>');\n",
       "        icon_img.addClass('ui-button-icon-primary ui-icon');\n",
       "        icon_img.addClass(image);\n",
       "        icon_img.addClass('ui-corner-all');\n",
       "\n",
       "        var tooltip_span = $('<span/>');\n",
       "        tooltip_span.addClass('ui-button-text');\n",
       "        tooltip_span.html(tooltip);\n",
       "\n",
       "        button.append(icon_img);\n",
       "        button.append(tooltip_span);\n",
       "\n",
       "        nav_element.append(button);\n",
       "    }\n",
       "\n",
       "    var fmt_picker_span = $('<span/>');\n",
       "\n",
       "    var fmt_picker = $('<select/>');\n",
       "    fmt_picker.addClass('mpl-toolbar-option ui-widget ui-widget-content');\n",
       "    fmt_picker_span.append(fmt_picker);\n",
       "    nav_element.append(fmt_picker_span);\n",
       "    this.format_dropdown = fmt_picker[0];\n",
       "\n",
       "    for (var ind in mpl.extensions) {\n",
       "        var fmt = mpl.extensions[ind];\n",
       "        var option = $(\n",
       "            '<option/>', {selected: fmt === mpl.default_extension}).html(fmt);\n",
       "        fmt_picker.append(option)\n",
       "    }\n",
       "\n",
       "    // Add hover states to the ui-buttons\n",
       "    $( \".ui-button\" ).hover(\n",
       "        function() { $(this).addClass(\"ui-state-hover\");},\n",
       "        function() { $(this).removeClass(\"ui-state-hover\");}\n",
       "    );\n",
       "\n",
       "    var status_bar = $('<span class=\"mpl-message\"/>');\n",
       "    nav_element.append(status_bar);\n",
       "    this.message = status_bar[0];\n",
       "}\n",
       "\n",
       "mpl.figure.prototype.request_resize = function(x_pixels, y_pixels) {\n",
       "    // Request matplotlib to resize the figure. Matplotlib will then trigger a resize in the client,\n",
       "    // which will in turn request a refresh of the image.\n",
       "    this.send_message('resize', {'width': x_pixels, 'height': y_pixels});\n",
       "}\n",
       "\n",
       "mpl.figure.prototype.send_message = function(type, properties) {\n",
       "    properties['type'] = type;\n",
       "    properties['figure_id'] = this.id;\n",
       "    this.ws.send(JSON.stringify(properties));\n",
       "}\n",
       "\n",
       "mpl.figure.prototype.send_draw_message = function() {\n",
       "    if (!this.waiting) {\n",
       "        this.waiting = true;\n",
       "        this.ws.send(JSON.stringify({type: \"draw\", figure_id: this.id}));\n",
       "    }\n",
       "}\n",
       "\n",
       "\n",
       "mpl.figure.prototype.handle_save = function(fig, msg) {\n",
       "    var format_dropdown = fig.format_dropdown;\n",
       "    var format = format_dropdown.options[format_dropdown.selectedIndex].value;\n",
       "    fig.ondownload(fig, format);\n",
       "}\n",
       "\n",
       "\n",
       "mpl.figure.prototype.handle_resize = function(fig, msg) {\n",
       "    var size = msg['size'];\n",
       "    if (size[0] != fig.canvas.width || size[1] != fig.canvas.height) {\n",
       "        fig._resize_canvas(size[0], size[1]);\n",
       "        fig.send_message(\"refresh\", {});\n",
       "    };\n",
       "}\n",
       "\n",
       "mpl.figure.prototype.handle_rubberband = function(fig, msg) {\n",
       "    var x0 = msg['x0'];\n",
       "    var y0 = fig.canvas.height - msg['y0'];\n",
       "    var x1 = msg['x1'];\n",
       "    var y1 = fig.canvas.height - msg['y1'];\n",
       "    x0 = Math.floor(x0) + 0.5;\n",
       "    y0 = Math.floor(y0) + 0.5;\n",
       "    x1 = Math.floor(x1) + 0.5;\n",
       "    y1 = Math.floor(y1) + 0.5;\n",
       "    var min_x = Math.min(x0, x1);\n",
       "    var min_y = Math.min(y0, y1);\n",
       "    var width = Math.abs(x1 - x0);\n",
       "    var height = Math.abs(y1 - y0);\n",
       "\n",
       "    fig.rubberband_context.clearRect(\n",
       "        0, 0, fig.canvas.width, fig.canvas.height);\n",
       "\n",
       "    fig.rubberband_context.strokeRect(min_x, min_y, width, height);\n",
       "}\n",
       "\n",
       "mpl.figure.prototype.handle_figure_label = function(fig, msg) {\n",
       "    // Updates the figure title.\n",
       "    fig.header.textContent = msg['label'];\n",
       "}\n",
       "\n",
       "mpl.figure.prototype.handle_cursor = function(fig, msg) {\n",
       "    var cursor = msg['cursor'];\n",
       "    switch(cursor)\n",
       "    {\n",
       "    case 0:\n",
       "        cursor = 'pointer';\n",
       "        break;\n",
       "    case 1:\n",
       "        cursor = 'default';\n",
       "        break;\n",
       "    case 2:\n",
       "        cursor = 'crosshair';\n",
       "        break;\n",
       "    case 3:\n",
       "        cursor = 'move';\n",
       "        break;\n",
       "    }\n",
       "    fig.rubberband_canvas.style.cursor = cursor;\n",
       "}\n",
       "\n",
       "mpl.figure.prototype.handle_message = function(fig, msg) {\n",
       "    fig.message.textContent = msg['message'];\n",
       "}\n",
       "\n",
       "mpl.figure.prototype.handle_draw = function(fig, msg) {\n",
       "    // Request the server to send over a new figure.\n",
       "    fig.send_draw_message();\n",
       "}\n",
       "\n",
       "mpl.figure.prototype.handle_image_mode = function(fig, msg) {\n",
       "    fig.image_mode = msg['mode'];\n",
       "}\n",
       "\n",
       "mpl.figure.prototype.updated_canvas_event = function() {\n",
       "    // Called whenever the canvas gets updated.\n",
       "    this.send_message(\"ack\", {});\n",
       "}\n",
       "\n",
       "// A function to construct a web socket function for onmessage handling.\n",
       "// Called in the figure constructor.\n",
       "mpl.figure.prototype._make_on_message_function = function(fig) {\n",
       "    return function socket_on_message(evt) {\n",
       "        if (evt.data instanceof Blob) {\n",
       "            /* FIXME: We get \"Resource interpreted as Image but\n",
       "             * transferred with MIME type text/plain:\" errors on\n",
       "             * Chrome.  But how to set the MIME type?  It doesn't seem\n",
       "             * to be part of the websocket stream */\n",
       "            evt.data.type = \"image/png\";\n",
       "\n",
       "            /* Free the memory for the previous frames */\n",
       "            if (fig.imageObj.src) {\n",
       "                (window.URL || window.webkitURL).revokeObjectURL(\n",
       "                    fig.imageObj.src);\n",
       "            }\n",
       "\n",
       "            fig.imageObj.src = (window.URL || window.webkitURL).createObjectURL(\n",
       "                evt.data);\n",
       "            fig.updated_canvas_event();\n",
       "            fig.waiting = false;\n",
       "            return;\n",
       "        }\n",
       "        else if (typeof evt.data === 'string' && evt.data.slice(0, 21) == \"data:image/png;base64\") {\n",
       "            fig.imageObj.src = evt.data;\n",
       "            fig.updated_canvas_event();\n",
       "            fig.waiting = false;\n",
       "            return;\n",
       "        }\n",
       "\n",
       "        var msg = JSON.parse(evt.data);\n",
       "        var msg_type = msg['type'];\n",
       "\n",
       "        // Call the  \"handle_{type}\" callback, which takes\n",
       "        // the figure and JSON message as its only arguments.\n",
       "        try {\n",
       "            var callback = fig[\"handle_\" + msg_type];\n",
       "        } catch (e) {\n",
       "            console.log(\"No handler for the '\" + msg_type + \"' message type: \", msg);\n",
       "            return;\n",
       "        }\n",
       "\n",
       "        if (callback) {\n",
       "            try {\n",
       "                // console.log(\"Handling '\" + msg_type + \"' message: \", msg);\n",
       "                callback(fig, msg);\n",
       "            } catch (e) {\n",
       "                console.log(\"Exception inside the 'handler_\" + msg_type + \"' callback:\", e, e.stack, msg);\n",
       "            }\n",
       "        }\n",
       "    };\n",
       "}\n",
       "\n",
       "// from http://stackoverflow.com/questions/1114465/getting-mouse-location-in-canvas\n",
       "mpl.findpos = function(e) {\n",
       "    //this section is from http://www.quirksmode.org/js/events_properties.html\n",
       "    var targ;\n",
       "    if (!e)\n",
       "        e = window.event;\n",
       "    if (e.target)\n",
       "        targ = e.target;\n",
       "    else if (e.srcElement)\n",
       "        targ = e.srcElement;\n",
       "    if (targ.nodeType == 3) // defeat Safari bug\n",
       "        targ = targ.parentNode;\n",
       "\n",
       "    // jQuery normalizes the pageX and pageY\n",
       "    // pageX,Y are the mouse positions relative to the document\n",
       "    // offset() returns the position of the element relative to the document\n",
       "    var x = e.pageX - $(targ).offset().left;\n",
       "    var y = e.pageY - $(targ).offset().top;\n",
       "\n",
       "    return {\"x\": x, \"y\": y};\n",
       "};\n",
       "\n",
       "/*\n",
       " * return a copy of an object with only non-object keys\n",
       " * we need this to avoid circular references\n",
       " * http://stackoverflow.com/a/24161582/3208463\n",
       " */\n",
       "function simpleKeys (original) {\n",
       "  return Object.keys(original).reduce(function (obj, key) {\n",
       "    if (typeof original[key] !== 'object')\n",
       "        obj[key] = original[key]\n",
       "    return obj;\n",
       "  }, {});\n",
       "}\n",
       "\n",
       "mpl.figure.prototype.mouse_event = function(event, name) {\n",
       "    var canvas_pos = mpl.findpos(event)\n",
       "\n",
       "    if (name === 'button_press')\n",
       "    {\n",
       "        this.canvas.focus();\n",
       "        this.canvas_div.focus();\n",
       "    }\n",
       "\n",
       "    var x = canvas_pos.x;\n",
       "    var y = canvas_pos.y;\n",
       "\n",
       "    this.send_message(name, {x: x, y: y, button: event.button,\n",
       "                             step: event.step,\n",
       "                             guiEvent: simpleKeys(event)});\n",
       "\n",
       "    /* This prevents the web browser from automatically changing to\n",
       "     * the text insertion cursor when the button is pressed.  We want\n",
       "     * to control all of the cursor setting manually through the\n",
       "     * 'cursor' event from matplotlib */\n",
       "    event.preventDefault();\n",
       "    return false;\n",
       "}\n",
       "\n",
       "mpl.figure.prototype._key_event_extra = function(event, name) {\n",
       "    // Handle any extra behaviour associated with a key event\n",
       "}\n",
       "\n",
       "mpl.figure.prototype.key_event = function(event, name) {\n",
       "\n",
       "    // Prevent repeat events\n",
       "    if (name == 'key_press')\n",
       "    {\n",
       "        if (event.which === this._key)\n",
       "            return;\n",
       "        else\n",
       "            this._key = event.which;\n",
       "    }\n",
       "    if (name == 'key_release')\n",
       "        this._key = null;\n",
       "\n",
       "    var value = '';\n",
       "    if (event.ctrlKey && event.which != 17)\n",
       "        value += \"ctrl+\";\n",
       "    if (event.altKey && event.which != 18)\n",
       "        value += \"alt+\";\n",
       "    if (event.shiftKey && event.which != 16)\n",
       "        value += \"shift+\";\n",
       "\n",
       "    value += 'k';\n",
       "    value += event.which.toString();\n",
       "\n",
       "    this._key_event_extra(event, name);\n",
       "\n",
       "    this.send_message(name, {key: value,\n",
       "                             guiEvent: simpleKeys(event)});\n",
       "    return false;\n",
       "}\n",
       "\n",
       "mpl.figure.prototype.toolbar_button_onclick = function(name) {\n",
       "    if (name == 'download') {\n",
       "        this.handle_save(this, null);\n",
       "    } else {\n",
       "        this.send_message(\"toolbar_button\", {name: name});\n",
       "    }\n",
       "};\n",
       "\n",
       "mpl.figure.prototype.toolbar_button_onmouseover = function(tooltip) {\n",
       "    this.message.textContent = tooltip;\n",
       "};\n",
       "mpl.toolbar_items = [[\"Home\", \"Reset original view\", \"fa fa-home icon-home\", \"home\"], [\"Back\", \"Back to  previous view\", \"fa fa-arrow-left icon-arrow-left\", \"back\"], [\"Forward\", \"Forward to next view\", \"fa fa-arrow-right icon-arrow-right\", \"forward\"], [\"\", \"\", \"\", \"\"], [\"Pan\", \"Pan axes with left mouse, zoom with right\", \"fa fa-arrows icon-move\", \"pan\"], [\"Zoom\", \"Zoom to rectangle\", \"fa fa-square-o icon-check-empty\", \"zoom\"], [\"\", \"\", \"\", \"\"], [\"Download\", \"Download plot\", \"fa fa-floppy-o icon-save\", \"download\"]];\n",
       "\n",
       "mpl.extensions = [\"eps\", \"jpeg\", \"pdf\", \"png\", \"ps\", \"raw\", \"svg\", \"tif\"];\n",
       "\n",
       "mpl.default_extension = \"png\";var comm_websocket_adapter = function(comm) {\n",
       "    // Create a \"websocket\"-like object which calls the given IPython comm\n",
       "    // object with the appropriate methods. Currently this is a non binary\n",
       "    // socket, so there is still some room for performance tuning.\n",
       "    var ws = {};\n",
       "\n",
       "    ws.close = function() {\n",
       "        comm.close()\n",
       "    };\n",
       "    ws.send = function(m) {\n",
       "        //console.log('sending', m);\n",
       "        comm.send(m);\n",
       "    };\n",
       "    // Register the callback with on_msg.\n",
       "    comm.on_msg(function(msg) {\n",
       "        //console.log('receiving', msg['content']['data'], msg);\n",
       "        // Pass the mpl event to the overriden (by mpl) onmessage function.\n",
       "        ws.onmessage(msg['content']['data'])\n",
       "    });\n",
       "    return ws;\n",
       "}\n",
       "\n",
       "mpl.mpl_figure_comm = function(comm, msg) {\n",
       "    // This is the function which gets called when the mpl process\n",
       "    // starts-up an IPython Comm through the \"matplotlib\" channel.\n",
       "\n",
       "    var id = msg.content.data.id;\n",
       "    // Get hold of the div created by the display call when the Comm\n",
       "    // socket was opened in Python.\n",
       "    var element = $(\"#\" + id);\n",
       "    var ws_proxy = comm_websocket_adapter(comm)\n",
       "\n",
       "    function ondownload(figure, format) {\n",
       "        window.open(figure.imageObj.src);\n",
       "    }\n",
       "\n",
       "    var fig = new mpl.figure(id, ws_proxy,\n",
       "                           ondownload,\n",
       "                           element.get(0));\n",
       "\n",
       "    // Call onopen now - mpl needs it, as it is assuming we've passed it a real\n",
       "    // web socket which is closed, not our websocket->open comm proxy.\n",
       "    ws_proxy.onopen();\n",
       "\n",
       "    fig.parent_element = element.get(0);\n",
       "    fig.cell_info = mpl.find_output_cell(\"<div id='\" + id + \"'></div>\");\n",
       "    if (!fig.cell_info) {\n",
       "        console.error(\"Failed to find cell for figure\", id, fig);\n",
       "        return;\n",
       "    }\n",
       "\n",
       "    var output_index = fig.cell_info[2]\n",
       "    var cell = fig.cell_info[0];\n",
       "\n",
       "};\n",
       "\n",
       "mpl.figure.prototype.handle_close = function(fig, msg) {\n",
       "    fig.root.unbind('remove')\n",
       "\n",
       "    // Update the output cell to use the data from the current canvas.\n",
       "    fig.push_to_output();\n",
       "    var dataURL = fig.canvas.toDataURL();\n",
       "    // Re-enable the keyboard manager in IPython - without this line, in FF,\n",
       "    // the notebook keyboard shortcuts fail.\n",
       "    IPython.keyboard_manager.enable()\n",
       "    $(fig.parent_element).html('<img src=\"' + dataURL + '\">');\n",
       "    fig.close_ws(fig, msg);\n",
       "}\n",
       "\n",
       "mpl.figure.prototype.close_ws = function(fig, msg){\n",
       "    fig.send_message('closing', msg);\n",
       "    // fig.ws.close()\n",
       "}\n",
       "\n",
       "mpl.figure.prototype.push_to_output = function(remove_interactive) {\n",
       "    // Turn the data on the canvas into data in the output cell.\n",
       "    var dataURL = this.canvas.toDataURL();\n",
       "    this.cell_info[1]['text/html'] = '<img src=\"' + dataURL + '\">';\n",
       "}\n",
       "\n",
       "mpl.figure.prototype.updated_canvas_event = function() {\n",
       "    // Tell IPython that the notebook contents must change.\n",
       "    IPython.notebook.set_dirty(true);\n",
       "    this.send_message(\"ack\", {});\n",
       "    var fig = this;\n",
       "    // Wait a second, then push the new image to the DOM so\n",
       "    // that it is saved nicely (might be nice to debounce this).\n",
       "    setTimeout(function () { fig.push_to_output() }, 1000);\n",
       "}\n",
       "\n",
       "mpl.figure.prototype._init_toolbar = function() {\n",
       "    var fig = this;\n",
       "\n",
       "    var nav_element = $('<div/>')\n",
       "    nav_element.attr('style', 'width: 100%');\n",
       "    this.root.append(nav_element);\n",
       "\n",
       "    // Define a callback function for later on.\n",
       "    function toolbar_event(event) {\n",
       "        return fig.toolbar_button_onclick(event['data']);\n",
       "    }\n",
       "    function toolbar_mouse_event(event) {\n",
       "        return fig.toolbar_button_onmouseover(event['data']);\n",
       "    }\n",
       "\n",
       "    for(var toolbar_ind in mpl.toolbar_items){\n",
       "        var name = mpl.toolbar_items[toolbar_ind][0];\n",
       "        var tooltip = mpl.toolbar_items[toolbar_ind][1];\n",
       "        var image = mpl.toolbar_items[toolbar_ind][2];\n",
       "        var method_name = mpl.toolbar_items[toolbar_ind][3];\n",
       "\n",
       "        if (!name) { continue; };\n",
       "\n",
       "        var button = $('<button class=\"btn btn-default\" href=\"#\" title=\"' + name + '\"><i class=\"fa ' + image + ' fa-lg\"></i></button>');\n",
       "        button.click(method_name, toolbar_event);\n",
       "        button.mouseover(tooltip, toolbar_mouse_event);\n",
       "        nav_element.append(button);\n",
       "    }\n",
       "\n",
       "    // Add the status bar.\n",
       "    var status_bar = $('<span class=\"mpl-message\" style=\"text-align:right; float: right;\"/>');\n",
       "    nav_element.append(status_bar);\n",
       "    this.message = status_bar[0];\n",
       "\n",
       "    // Add the close button to the window.\n",
       "    var buttongrp = $('<div class=\"btn-group inline pull-right\"></div>');\n",
       "    var button = $('<button class=\"btn btn-mini btn-primary\" href=\"#\" title=\"Stop Interaction\"><i class=\"fa fa-power-off icon-remove icon-large\"></i></button>');\n",
       "    button.click(function (evt) { fig.handle_close(fig, {}); } );\n",
       "    button.mouseover('Stop Interaction', toolbar_mouse_event);\n",
       "    buttongrp.append(button);\n",
       "    var titlebar = this.root.find($('.ui-dialog-titlebar'));\n",
       "    titlebar.prepend(buttongrp);\n",
       "}\n",
       "\n",
       "mpl.figure.prototype._root_extra_style = function(el){\n",
       "    var fig = this\n",
       "    el.on(\"remove\", function(){\n",
       "\tfig.close_ws(fig, {});\n",
       "    });\n",
       "}\n",
       "\n",
       "mpl.figure.prototype._canvas_extra_style = function(el){\n",
       "    // this is important to make the div 'focusable\n",
       "    el.attr('tabindex', 0)\n",
       "    // reach out to IPython and tell the keyboard manager to turn it's self\n",
       "    // off when our div gets focus\n",
       "\n",
       "    // location in version 3\n",
       "    if (IPython.notebook.keyboard_manager) {\n",
       "        IPython.notebook.keyboard_manager.register_events(el);\n",
       "    }\n",
       "    else {\n",
       "        // location in version 2\n",
       "        IPython.keyboard_manager.register_events(el);\n",
       "    }\n",
       "\n",
       "}\n",
       "\n",
       "mpl.figure.prototype._key_event_extra = function(event, name) {\n",
       "    var manager = IPython.notebook.keyboard_manager;\n",
       "    if (!manager)\n",
       "        manager = IPython.keyboard_manager;\n",
       "\n",
       "    // Check for shift+enter\n",
       "    if (event.shiftKey && event.which == 13) {\n",
       "        this.canvas_div.blur();\n",
       "        event.shiftKey = false;\n",
       "        // Send a \"J\" for go to next cell\n",
       "        event.which = 74;\n",
       "        event.keyCode = 74;\n",
       "        manager.command_mode();\n",
       "        manager.handle_keydown(event);\n",
       "    }\n",
       "}\n",
       "\n",
       "mpl.figure.prototype.handle_save = function(fig, msg) {\n",
       "    fig.ondownload(fig, null);\n",
       "}\n",
       "\n",
       "\n",
       "mpl.find_output_cell = function(html_output) {\n",
       "    // Return the cell and output element which can be found *uniquely* in the notebook.\n",
       "    // Note - this is a bit hacky, but it is done because the \"notebook_saving.Notebook\"\n",
       "    // IPython event is triggered only after the cells have been serialised, which for\n",
       "    // our purposes (turning an active figure into a static one), is too late.\n",
       "    var cells = IPython.notebook.get_cells();\n",
       "    var ncells = cells.length;\n",
       "    for (var i=0; i<ncells; i++) {\n",
       "        var cell = cells[i];\n",
       "        if (cell.cell_type === 'code'){\n",
       "            for (var j=0; j<cell.output_area.outputs.length; j++) {\n",
       "                var data = cell.output_area.outputs[j];\n",
       "                if (data.data) {\n",
       "                    // IPython >= 3 moved mimebundle to data attribute of output\n",
       "                    data = data.data;\n",
       "                }\n",
       "                if (data['text/html'] == html_output) {\n",
       "                    return [cell, data, j];\n",
       "                }\n",
       "            }\n",
       "        }\n",
       "    }\n",
       "}\n",
       "\n",
       "// Register the function which deals with the matplotlib target/channel.\n",
       "// The kernel may be null if the page has been refreshed.\n",
       "if (IPython.notebook.kernel != null) {\n",
       "    IPython.notebook.kernel.comm_manager.register_target('matplotlib', mpl.mpl_figure_comm);\n",
       "}\n"
      ],
      "text/plain": [
       "<IPython.core.display.Javascript object>"
      ]
     },
     "metadata": {},
     "output_type": "display_data"
    },
    {
     "data": {
      "text/html": [
       "<img src=\"data:image/png;base64,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\">"
      ],
      "text/plain": [
       "<IPython.core.display.HTML object>"
      ]
     },
     "metadata": {},
     "output_type": "display_data"
    }
   ],
   "source": [
    "plt.figure()\n",
    "ax2 = plt.subplot(111)\n",
    "ax2.hold(False)\n",
    "\n",
    "display(params_widget)\n",
    "display(widgets.HBox([plot_resolution_button, fit_resolution_button]))"
   ]
  },
  {
   "cell_type": "code",
   "execution_count": 7,
   "metadata": {
    "collapsed": false
   },
   "outputs": [
    {
     "data": {
      "application/javascript": [
       "IPython.OutputArea.auto_scroll_threshold = 9999;"
      ],
      "text/plain": [
       "<IPython.core.display.Javascript object>"
      ]
     },
     "metadata": {},
     "output_type": "display_data"
    }
   ],
   "source": [
    "%%javascript\n",
    "IPython.OutputArea.auto_scroll_threshold = 9999;"
   ]
  },
  {
   "cell_type": "code",
   "execution_count": 8,
   "metadata": {
    "collapsed": false
   },
   "outputs": [
    {
     "data": {
      "text/html": [
       "<script>\n",
       "code_show=true; \n",
       "function code_toggle() {\n",
       " if (code_show){\n",
       " $('div.input').hide();\n",
       " } else {\n",
       " $('div.input').show();\n",
       " }\n",
       " code_show = !code_show\n",
       "} \n",
       "$( document ).ready(code_toggle);\n",
       "</script>\n",
       "<form action=\"javascript:code_toggle()\"><input type=\"submit\" value=\"Click here to show/hide code.\"></form>"
      ],
      "text/plain": [
       "<IPython.core.display.HTML object>"
      ]
     },
     "execution_count": 8,
     "metadata": {},
     "output_type": "execute_result"
    }
   ],
   "source": [
    "from IPython.display import HTML\n",
    "\n",
    "HTML('''<script>\n",
    "code_show=true; \n",
    "function code_toggle() {\n",
    " if (code_show){\n",
    " $('div.input').hide();\n",
    " } else {\n",
    " $('div.input').show();\n",
    " }\n",
    " code_show = !code_show\n",
    "} \n",
    "$( document ).ready(code_toggle);\n",
    "</script>\n",
    "<form action=\"javascript:code_toggle()\"><input type=\"submit\" value=\"Click here to show/hide code.\"></form>''')"
   ]
  }
 ],
 "metadata": {
  "anaconda-cloud": {},
  "kernelspec": {
   "display_name": "Python [conda env:rixs_analysis_py3]",
   "language": "python",
   "name": "conda-env-rixs_analysis_py3-py"
  },
  "language_info": {
   "codemirror_mode": {
    "name": "ipython",
    "version": 3
   },
   "file_extension": ".py",
   "mimetype": "text/x-python",
   "name": "python",
   "nbconvert_exporter": "python",
   "pygments_lexer": "ipython3",
   "version": "3.5.2"
  },
  "widgets": {
   "state": {
    "024f6bdb6c804c8d8bf2ac9cce68ca0a": {
     "views": [
      {
       "cell_index": 8
      }
     ]
    },
    "08c2683218e9406d84c05abeff1e8e91": {
     "views": [
      {
       "cell_index": 4
      }
     ]
    },
    "0b6536751e2f4e748ce3f77394dfe51f": {
     "views": [
      {
       "cell_index": 8
      }
     ]
    },
    "0dc8f3188c6f49d1bb6976f4a005be6a": {
     "views": [
      {
       "cell_index": 6
      }
     ]
    },
    "1a2b5ac00b4740b5a4b9226e3bfa501f": {
     "views": [
      {
       "cell_index": 8
      }
     ]
    },
    "2c6582763a4147e78afaa5173d0af389": {
     "views": [
      {
       "cell_index": 4
      }
     ]
    },
    "2f6c492959484ef182a6ca49557efdf3": {
     "views": [
      {
       "cell_index": 6
      }
     ]
    },
    "3229903880b9430eb3926d77b05b3d57": {
     "views": [
      {
       "cell_index": 8
      }
     ]
    },
    "33ca7f11d33144a68f15185957763cc7": {
     "views": [
      {
       "cell_index": 8
      }
     ]
    },
    "3ad606aaf2194d4398d4d581150265c1": {
     "views": [
      {
       "cell_index": 6
      }
     ]
    },
    "3fdaf2f5fab1416fba835cd16d65826f": {
     "views": [
      {
       "cell_index": 8
      }
     ]
    },
    "4bf1a3dad00b4613bd0593632ad94b93": {
     "views": [
      {
       "cell_index": 8
      }
     ]
    },
    "4f9a977702ec47eebebbe05884a6b67a": {
     "views": [
      {
       "cell_index": 4
      }
     ]
    },
    "526deebd0c064422b7543ef007ee678e": {
     "views": [
      {
       "cell_index": 4
      }
     ]
    },
    "568f53032e7f480e862ec2f06e850205": {
     "views": [
      {
       "cell_index": 6
      }
     ]
    },
    "5a442dd5bfc045d4839a785bc8dfb44a": {
     "views": [
      {
       "cell_index": 6
      }
     ]
    },
    "5bb3d2bd147e47b284d5ac24d76db7bc": {
     "views": [
      {
       "cell_index": 6
      }
     ]
    },
    "5cddcf4a76454ec09c7c084753cbf52e": {
     "views": [
      {
       "cell_index": 8
      }
     ]
    },
    "65150caef7a64a68b0917c05286315d4": {
     "views": [
      {
       "cell_index": 6
      }
     ]
    },
    "66b922c28cf8456db75fb39ffd5cf48d": {
     "views": [
      {
       "cell_index": 8
      }
     ]
    },
    "672556b64855455286f591f91bfb858f": {
     "views": [
      {
       "cell_index": 4
      }
     ]
    },
    "69e1e4e9758e438aa9fc51cc10db0dc9": {
     "views": [
      {
       "cell_index": 6
      }
     ]
    },
    "6bdb1de35fc2428c95ad99bf4b118d27": {
     "views": [
      {
       "cell_index": 4
      }
     ]
    },
    "6cdaf089cbb04b8ab414825dfc935b03": {
     "views": [
      {
       "cell_index": 8
      }
     ]
    },
    "6d5d189a9049403abd4574d9698d7dc8": {
     "views": [
      {
       "cell_index": 8
      }
     ]
    },
    "751820899a6345bb82f84006f342b2e3": {
     "views": [
      {
       "cell_index": 6
      }
     ]
    },
    "91829d1f7bb94558b4f647cb2d5daa4a": {
     "views": [
      {
       "cell_index": 6
      }
     ]
    },
    "9259e796d72048279aa858ab932800b9": {
     "views": [
      {
       "cell_index": 8
      }
     ]
    },
    "931e8d5c75d1462f9b929a12fb765387": {
     "views": [
      {
       "cell_index": 8
      }
     ]
    },
    "984d3edd020248e9b370e354bdd6242c": {
     "views": [
      {
       "cell_index": 4
      }
     ]
    },
    "99c236a1eab74e7997d573e24c38bd98": {
     "views": [
      {
       "cell_index": 6
      }
     ]
    },
    "9b6e50ecad8e443a9cfdf64ca8f6d717": {
     "views": [
      {
       "cell_index": 4
      }
     ]
    },
    "ab1e70c47b7843d4a6709cfe4b1b2697": {
     "views": [
      {
       "cell_index": 4
      }
     ]
    },
    "b961cbee45cc40159a1ffef5e14afe75": {
     "views": [
      {
       "cell_index": 6
      }
     ]
    },
    "c14919575437442b800d1de2cf5d2845": {
     "views": [
      {
       "cell_index": 6
      }
     ]
    },
    "cba976b0eeda488290401bdd2a2a9352": {
     "views": [
      {
       "cell_index": 4
      }
     ]
    },
    "cf0be79e166b4ad0aeac49bf3091afe4": {
     "views": [
      {
       "cell_index": 8
      }
     ]
    },
    "d01459816889457c95781ea9dc483397": {
     "views": [
      {
       "cell_index": 4
      }
     ]
    },
    "d1f274a67c1e4d538980ad4c243b4a0a": {
     "views": [
      {
       "cell_index": 8
      }
     ]
    },
    "d341fde1e1f94f628492e30002cc251e": {
     "views": [
      {
       "cell_index": 6
      }
     ]
    },
    "d3ef7ab522534cc48818ac2b62f01361": {
     "views": [
      {
       "cell_index": 6
      }
     ]
    },
    "d3feab8b7a6244b28233a678ce756a67": {
     "views": [
      {
       "cell_index": 4
      }
     ]
    },
    "d822f06e64384ad09184a92d4bd2c4e9": {
     "views": [
      {
       "cell_index": 6
      }
     ]
    },
    "d9f75e5712b2486bb32ea3d2a4795e50": {
     "views": [
      {
       "cell_index": 4
      }
     ]
    },
    "dd19cc8b8aec447e8dfccb4a610ae3ba": {
     "views": [
      {
       "cell_index": 4
      }
     ]
    },
    "ddcab5ee62e8437cbb35ae6df3ca15ef": {
     "views": [
      {
       "cell_index": 8
      }
     ]
    },
    "ddd8f2c107e7440695805876cd683cbd": {
     "views": [
      {
       "cell_index": 4
      }
     ]
    },
    "e287236a3191491295cd967f0e51af5d": {
     "views": [
      {
       "cell_index": 4
      }
     ]
    },
    "e470656f13344ca796fceb6c80f357e9": {
     "views": [
      {
       "cell_index": 6
      }
     ]
    },
    "e6bb3673be2c43408bbbddfc93257019": {
     "views": [
      {
       "cell_index": 8
      }
     ]
    },
    "e929756afa4c43f1a596997e2cc7eb95": {
     "views": [
      {
       "cell_index": 4
      }
     ]
    },
    "eb63485df3a94a5481d77aa527fc1feb": {
     "views": [
      {
       "cell_index": 4
      }
     ]
    },
    "f83001b001d840e0bd31b4b9a06c0fd1": {
     "views": [
      {
       "cell_index": 6
      }
     ]
    },
    "fec1f44c521040a89a0a55903f1b8f4e": {
     "views": [
      {
       "cell_index": 8
      }
     ]
    }
   },
   "version": "1.2.0"
  }
 },
 "nbformat": 4,
 "nbformat_minor": 1
}
