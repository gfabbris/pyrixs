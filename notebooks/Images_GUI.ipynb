{
 "cells": [
  {
   "cell_type": "code",
   "execution_count": 1,
   "metadata": {
    "collapsed": false,
    "scrolled": true
   },
   "outputs": [],
   "source": [
    "import numpy as np\n",
    "import pandas as pd\n",
    "\n",
    "import os, glob\n",
    "\n",
    "from collections import OrderedDict\n",
    "\n",
    "import matplotlib\n",
    "import matplotlib.pyplot as plt\n",
    "\n",
    "import ipywidgets as widgets\n",
    "from traitlets import dlink\n",
    "from IPython.display import display\n",
    "\n",
    "from pyrixs import process2d\n",
    "\n",
    "%matplotlib nbagg"
   ]
  },
  {
   "cell_type": "code",
   "execution_count": 2,
   "metadata": {
    "collapsed": true
   },
   "outputs": [],
   "source": [
    "global Image\n",
    "Image = OrderedDict({\n",
    "'photon_events' : np.array([]),\n",
    "'name' : '',\n",
    "'curvature' : np.array([0, 0, 500]),\n",
    "'image_meta' : '',\n",
    "'spectrum' : np.array([])\n",
    "})"
   ]
  },
  {
   "cell_type": "code",
   "execution_count": 3,
   "metadata": {
    "collapsed": false,
    "scrolled": true
   },
   "outputs": [],
   "source": [
    "######################################\n",
    "# Widgets\n",
    "######################################\n",
    "\n",
    "# Folder to search images for\n",
    "images_folder_widget = widgets.Text(\n",
    "    value='test_images/*.nxs',  \n",
    "    description='Search path',\n",
    "    width='500px',\n",
    ")\n",
    "\n",
    "# Display and pick which spectra to plot\n",
    "select_images_widget = widgets.Select(\n",
    "            options=process2d.get_all_image_names(images_folder_widget.value),\n",
    "            description='Select images'\n",
    "            )\n",
    "\n",
    "display_image_button = widgets.Button(\n",
    "    description='Plot',\n",
    ")\n",
    "\n",
    "x2_widget = widgets.FloatText(description='x^2', value=Image['curvature'][0])\n",
    "x1_widget = widgets.FloatText(description='x^1', value=Image['curvature'][1])\n",
    "x0_widget = widgets.FloatText(description='x^0', value=Image['curvature'][2])\n",
    "\n",
    "fit_curvature_button = widgets.Button(\n",
    "    description='Fit',\n",
    ")\n",
    "\n",
    "plot_resolution_button = widgets.Button(\n",
    "    description='Plot',\n",
    ")\n",
    "\n",
    "names = ['FWHM', 'center', 'amplitude', 'offset']\n",
    "values = [3., 100., 10, 0.]\n",
    "params_widget = widgets.HBox([widgets.FloatText(description=name, value=value, width='150px') \n",
    "                              for name, value in zip(names, values)])\n",
    "\n",
    "fit_resolution_button = widgets.Button(\n",
    "    description='Fit',\n",
    ")"
   ]
  },
  {
   "cell_type": "code",
   "execution_count": 4,
   "metadata": {
    "collapsed": false,
    "scrolled": true
   },
   "outputs": [],
   "source": [
    "###########################\n",
    "## Widget logic\n",
    "###########################\n",
    "def update_select_images_widget(change):\n",
    "    \"\"\"Refresh images for selection\"\"\"\n",
    "    select_images_widget.options = process2d.get_all_image_names(images_folder_widget.value)\n",
    "    \n",
    "images_folder_widget.on_submit(update_select_images_widget)\n",
    "\n",
    "def wrap_display_image(change):\n",
    "    \"\"\"Load and plot images and curvature\"\"\"\n",
    "    photon_events = process2d.load_photon_events(images_folder_widget.value,\n",
    "                                         select_images_widget.value)\n",
    "    \n",
    "    Image['photon_events'] = photon_events\n",
    "    \n",
    "    fig1.clf()\n",
    "    plt.figure(fig1.number)\n",
    "    ax1 = plt.gca()\n",
    "    ax1.hold(False)\n",
    "    \n",
    "    if select_images_widget.value[-3:] == 'nxs':\n",
    "        image_artist = process2d.plot_imshow(ax1, photon_events)\n",
    "    else:\n",
    "        ax1\n",
    "        image_artist = process2d.plot_scatter(ax1, photon_events)\n",
    "        \n",
    "    process2d.plot_curvature(ax1, Image['curvature'], photon_events)\n",
    "\n",
    "display_image_button.on_click(wrap_display_image)\n",
    "\n",
    "def wrap_curvature(change):\n",
    "    \"\"\"Assign values in curvature widget to Images['curvature']\"\"\"\n",
    "    Image['curvature'] = np.array([x2_widget.value, x1_widget.value, x0_widget.value])\n",
    "\n",
    "x2_widget.observe(wrap_curvature)\n",
    "x1_widget.observe(wrap_curvature)\n",
    "x0_widget.observe(wrap_curvature)\n",
    "    \n",
    "def wrap_fit_curvature(change):\n",
    "    \"\"\"Fit the curvature and assign values into widgets\"\"\"\n",
    "    curvature = process2d.fit_curvature(Image['photon_events'], CONSTANT_OFFSET = x0_widget.value)\n",
    "    Image['curvature'] = curvature\n",
    "    x2_widget.value = curvature[0]\n",
    "    x1_widget.value = curvature[1]\n",
    "    #print(\"x^2 value {}\".format(curvature[0]))\n",
    "    #print(\"x^1 value {}\".format(curvature[1]))\n",
    "    #print(\"x^0 value {}\".format(curvature[2]))\n",
    "    wrap_curvature(None)\n",
    "    wrap_display_image(None)\n",
    "\n",
    "fit_curvature_button.on_click(wrap_fit_curvature)        \n",
    "        \n",
    "def wrap_plot_resolution(change):\n",
    "    \"\"\"Extract the spectrum and plot it on ax2\"\"\"\n",
    "    spectrum = process2d.extract(Image['photon_events'],\n",
    "                                Image['curvature'])\n",
    "    Image['spectrum'] = spectrum\n",
    "    process2d.plot_resolution(ax2, spectrum)\n",
    "\n",
    "plot_resolution_button.on_click(wrap_plot_resolution)\n",
    "\n",
    "def wrap_fit_resolution(change):\n",
    "    xmin, xmax, _, _ = ax2.axis()\n",
    "    resolution = process2d.fit_resolution(Image['spectrum'], xmin=xmin, xmax=xmax)\n",
    "    for widget, value in zip(params_widget.children, resolution):\n",
    "        widget.value = value\n",
    "    \n",
    "    try:\n",
    "        resolution_line.remove()\n",
    "    except NameError:\n",
    "        pass\n",
    "    resolution_line, *_ = process2d.plot_resolution_fit(ax2, Image['spectrum'], resolution,\n",
    "                                  xmin=xmin, xmax=xmax)\n",
    "\n",
    "fit_resolution_button.on_click(wrap_fit_resolution)"
   ]
  },
  {
   "cell_type": "markdown",
   "metadata": {},
   "source": [
    "## List and choose image"
   ]
  },
  {
   "cell_type": "code",
   "execution_count": 5,
   "metadata": {
    "collapsed": false,
    "scrolled": true
   },
   "outputs": [],
   "source": [
    "display(images_folder_widget, select_images_widget)"
   ]
  },
  {
   "cell_type": "markdown",
   "metadata": {},
   "source": [
    "## Plot image"
   ]
  },
  {
   "cell_type": "code",
   "execution_count": 6,
   "metadata": {
    "collapsed": false,
    "scrolled": false
   },
   "outputs": [
    {
     "data": {
      "application/javascript": [
       "/* Put everything inside the global mpl namespace */\n",
       "window.mpl = {};\n",
       "\n",
       "mpl.get_websocket_type = function() {\n",
       "    if (typeof(WebSocket) !== 'undefined') {\n",
       "        return WebSocket;\n",
       "    } else if (typeof(MozWebSocket) !== 'undefined') {\n",
       "        return MozWebSocket;\n",
       "    } else {\n",
       "        alert('Your browser does not have WebSocket support.' +\n",
       "              'Please try Chrome, Safari or Firefox ≥ 6. ' +\n",
       "              'Firefox 4 and 5 are also supported but you ' +\n",
       "              'have to enable WebSockets in about:config.');\n",
       "    };\n",
       "}\n",
       "\n",
       "mpl.figure = function(figure_id, websocket, ondownload, parent_element) {\n",
       "    this.id = figure_id;\n",
       "\n",
       "    this.ws = websocket;\n",
       "\n",
       "    this.supports_binary = (this.ws.binaryType != undefined);\n",
       "\n",
       "    if (!this.supports_binary) {\n",
       "        var warnings = document.getElementById(\"mpl-warnings\");\n",
       "        if (warnings) {\n",
       "            warnings.style.display = 'block';\n",
       "            warnings.textContent = (\n",
       "                \"This browser does not support binary websocket messages. \" +\n",
       "                    \"Performance may be slow.\");\n",
       "        }\n",
       "    }\n",
       "\n",
       "    this.imageObj = new Image();\n",
       "\n",
       "    this.context = undefined;\n",
       "    this.message = undefined;\n",
       "    this.canvas = undefined;\n",
       "    this.rubberband_canvas = undefined;\n",
       "    this.rubberband_context = undefined;\n",
       "    this.format_dropdown = undefined;\n",
       "\n",
       "    this.image_mode = 'full';\n",
       "\n",
       "    this.root = $('<div/>');\n",
       "    this._root_extra_style(this.root)\n",
       "    this.root.attr('style', 'display: inline-block');\n",
       "\n",
       "    $(parent_element).append(this.root);\n",
       "\n",
       "    this._init_header(this);\n",
       "    this._init_canvas(this);\n",
       "    this._init_toolbar(this);\n",
       "\n",
       "    var fig = this;\n",
       "\n",
       "    this.waiting = false;\n",
       "\n",
       "    this.ws.onopen =  function () {\n",
       "            fig.send_message(\"supports_binary\", {value: fig.supports_binary});\n",
       "            fig.send_message(\"send_image_mode\", {});\n",
       "            fig.send_message(\"refresh\", {});\n",
       "        }\n",
       "\n",
       "    this.imageObj.onload = function() {\n",
       "            if (fig.image_mode == 'full') {\n",
       "                // Full images could contain transparency (where diff images\n",
       "                // almost always do), so we need to clear the canvas so that\n",
       "                // there is no ghosting.\n",
       "                fig.context.clearRect(0, 0, fig.canvas.width, fig.canvas.height);\n",
       "            }\n",
       "            fig.context.drawImage(fig.imageObj, 0, 0);\n",
       "        };\n",
       "\n",
       "    this.imageObj.onunload = function() {\n",
       "        this.ws.close();\n",
       "    }\n",
       "\n",
       "    this.ws.onmessage = this._make_on_message_function(this);\n",
       "\n",
       "    this.ondownload = ondownload;\n",
       "}\n",
       "\n",
       "mpl.figure.prototype._init_header = function() {\n",
       "    var titlebar = $(\n",
       "        '<div class=\"ui-dialog-titlebar ui-widget-header ui-corner-all ' +\n",
       "        'ui-helper-clearfix\"/>');\n",
       "    var titletext = $(\n",
       "        '<div class=\"ui-dialog-title\" style=\"width: 100%; ' +\n",
       "        'text-align: center; padding: 3px;\"/>');\n",
       "    titlebar.append(titletext)\n",
       "    this.root.append(titlebar);\n",
       "    this.header = titletext[0];\n",
       "}\n",
       "\n",
       "\n",
       "\n",
       "mpl.figure.prototype._canvas_extra_style = function(canvas_div) {\n",
       "\n",
       "}\n",
       "\n",
       "\n",
       "mpl.figure.prototype._root_extra_style = function(canvas_div) {\n",
       "\n",
       "}\n",
       "\n",
       "mpl.figure.prototype._init_canvas = function() {\n",
       "    var fig = this;\n",
       "\n",
       "    var canvas_div = $('<div/>');\n",
       "\n",
       "    canvas_div.attr('style', 'position: relative; clear: both; outline: 0');\n",
       "\n",
       "    function canvas_keyboard_event(event) {\n",
       "        return fig.key_event(event, event['data']);\n",
       "    }\n",
       "\n",
       "    canvas_div.keydown('key_press', canvas_keyboard_event);\n",
       "    canvas_div.keyup('key_release', canvas_keyboard_event);\n",
       "    this.canvas_div = canvas_div\n",
       "    this._canvas_extra_style(canvas_div)\n",
       "    this.root.append(canvas_div);\n",
       "\n",
       "    var canvas = $('<canvas/>');\n",
       "    canvas.addClass('mpl-canvas');\n",
       "    canvas.attr('style', \"left: 0; top: 0; z-index: 0; outline: 0\")\n",
       "\n",
       "    this.canvas = canvas[0];\n",
       "    this.context = canvas[0].getContext(\"2d\");\n",
       "\n",
       "    var rubberband = $('<canvas/>');\n",
       "    rubberband.attr('style', \"position: absolute; left: 0; top: 0; z-index: 1;\")\n",
       "\n",
       "    var pass_mouse_events = true;\n",
       "\n",
       "    canvas_div.resizable({\n",
       "        start: function(event, ui) {\n",
       "            pass_mouse_events = false;\n",
       "        },\n",
       "        resize: function(event, ui) {\n",
       "            fig.request_resize(ui.size.width, ui.size.height);\n",
       "        },\n",
       "        stop: function(event, ui) {\n",
       "            pass_mouse_events = true;\n",
       "            fig.request_resize(ui.size.width, ui.size.height);\n",
       "        },\n",
       "    });\n",
       "\n",
       "    function mouse_event_fn(event) {\n",
       "        if (pass_mouse_events)\n",
       "            return fig.mouse_event(event, event['data']);\n",
       "    }\n",
       "\n",
       "    rubberband.mousedown('button_press', mouse_event_fn);\n",
       "    rubberband.mouseup('button_release', mouse_event_fn);\n",
       "    // Throttle sequential mouse events to 1 every 20ms.\n",
       "    rubberband.mousemove('motion_notify', mouse_event_fn);\n",
       "\n",
       "    rubberband.mouseenter('figure_enter', mouse_event_fn);\n",
       "    rubberband.mouseleave('figure_leave', mouse_event_fn);\n",
       "\n",
       "    canvas_div.on(\"wheel\", function (event) {\n",
       "        event = event.originalEvent;\n",
       "        event['data'] = 'scroll'\n",
       "        if (event.deltaY < 0) {\n",
       "            event.step = 1;\n",
       "        } else {\n",
       "            event.step = -1;\n",
       "        }\n",
       "        mouse_event_fn(event);\n",
       "    });\n",
       "\n",
       "    canvas_div.append(canvas);\n",
       "    canvas_div.append(rubberband);\n",
       "\n",
       "    this.rubberband = rubberband;\n",
       "    this.rubberband_canvas = rubberband[0];\n",
       "    this.rubberband_context = rubberband[0].getContext(\"2d\");\n",
       "    this.rubberband_context.strokeStyle = \"#000000\";\n",
       "\n",
       "    this._resize_canvas = function(width, height) {\n",
       "        // Keep the size of the canvas, canvas container, and rubber band\n",
       "        // canvas in synch.\n",
       "        canvas_div.css('width', width)\n",
       "        canvas_div.css('height', height)\n",
       "\n",
       "        canvas.attr('width', width);\n",
       "        canvas.attr('height', height);\n",
       "\n",
       "        rubberband.attr('width', width);\n",
       "        rubberband.attr('height', height);\n",
       "    }\n",
       "\n",
       "    // Set the figure to an initial 600x600px, this will subsequently be updated\n",
       "    // upon first draw.\n",
       "    this._resize_canvas(600, 600);\n",
       "\n",
       "    // Disable right mouse context menu.\n",
       "    $(this.rubberband_canvas).bind(\"contextmenu\",function(e){\n",
       "        return false;\n",
       "    });\n",
       "\n",
       "    function set_focus () {\n",
       "        canvas.focus();\n",
       "        canvas_div.focus();\n",
       "    }\n",
       "\n",
       "    window.setTimeout(set_focus, 100);\n",
       "}\n",
       "\n",
       "mpl.figure.prototype._init_toolbar = function() {\n",
       "    var fig = this;\n",
       "\n",
       "    var nav_element = $('<div/>')\n",
       "    nav_element.attr('style', 'width: 100%');\n",
       "    this.root.append(nav_element);\n",
       "\n",
       "    // Define a callback function for later on.\n",
       "    function toolbar_event(event) {\n",
       "        return fig.toolbar_button_onclick(event['data']);\n",
       "    }\n",
       "    function toolbar_mouse_event(event) {\n",
       "        return fig.toolbar_button_onmouseover(event['data']);\n",
       "    }\n",
       "\n",
       "    for(var toolbar_ind in mpl.toolbar_items) {\n",
       "        var name = mpl.toolbar_items[toolbar_ind][0];\n",
       "        var tooltip = mpl.toolbar_items[toolbar_ind][1];\n",
       "        var image = mpl.toolbar_items[toolbar_ind][2];\n",
       "        var method_name = mpl.toolbar_items[toolbar_ind][3];\n",
       "\n",
       "        if (!name) {\n",
       "            // put a spacer in here.\n",
       "            continue;\n",
       "        }\n",
       "        var button = $('<button/>');\n",
       "        button.addClass('ui-button ui-widget ui-state-default ui-corner-all ' +\n",
       "                        'ui-button-icon-only');\n",
       "        button.attr('role', 'button');\n",
       "        button.attr('aria-disabled', 'false');\n",
       "        button.click(method_name, toolbar_event);\n",
       "        button.mouseover(tooltip, toolbar_mouse_event);\n",
       "\n",
       "        var icon_img = $('<span/>');\n",
       "        icon_img.addClass('ui-button-icon-primary ui-icon');\n",
       "        icon_img.addClass(image);\n",
       "        icon_img.addClass('ui-corner-all');\n",
       "\n",
       "        var tooltip_span = $('<span/>');\n",
       "        tooltip_span.addClass('ui-button-text');\n",
       "        tooltip_span.html(tooltip);\n",
       "\n",
       "        button.append(icon_img);\n",
       "        button.append(tooltip_span);\n",
       "\n",
       "        nav_element.append(button);\n",
       "    }\n",
       "\n",
       "    var fmt_picker_span = $('<span/>');\n",
       "\n",
       "    var fmt_picker = $('<select/>');\n",
       "    fmt_picker.addClass('mpl-toolbar-option ui-widget ui-widget-content');\n",
       "    fmt_picker_span.append(fmt_picker);\n",
       "    nav_element.append(fmt_picker_span);\n",
       "    this.format_dropdown = fmt_picker[0];\n",
       "\n",
       "    for (var ind in mpl.extensions) {\n",
       "        var fmt = mpl.extensions[ind];\n",
       "        var option = $(\n",
       "            '<option/>', {selected: fmt === mpl.default_extension}).html(fmt);\n",
       "        fmt_picker.append(option)\n",
       "    }\n",
       "\n",
       "    // Add hover states to the ui-buttons\n",
       "    $( \".ui-button\" ).hover(\n",
       "        function() { $(this).addClass(\"ui-state-hover\");},\n",
       "        function() { $(this).removeClass(\"ui-state-hover\");}\n",
       "    );\n",
       "\n",
       "    var status_bar = $('<span class=\"mpl-message\"/>');\n",
       "    nav_element.append(status_bar);\n",
       "    this.message = status_bar[0];\n",
       "}\n",
       "\n",
       "mpl.figure.prototype.request_resize = function(x_pixels, y_pixels) {\n",
       "    // Request matplotlib to resize the figure. Matplotlib will then trigger a resize in the client,\n",
       "    // which will in turn request a refresh of the image.\n",
       "    this.send_message('resize', {'width': x_pixels, 'height': y_pixels});\n",
       "}\n",
       "\n",
       "mpl.figure.prototype.send_message = function(type, properties) {\n",
       "    properties['type'] = type;\n",
       "    properties['figure_id'] = this.id;\n",
       "    this.ws.send(JSON.stringify(properties));\n",
       "}\n",
       "\n",
       "mpl.figure.prototype.send_draw_message = function() {\n",
       "    if (!this.waiting) {\n",
       "        this.waiting = true;\n",
       "        this.ws.send(JSON.stringify({type: \"draw\", figure_id: this.id}));\n",
       "    }\n",
       "}\n",
       "\n",
       "\n",
       "mpl.figure.prototype.handle_save = function(fig, msg) {\n",
       "    var format_dropdown = fig.format_dropdown;\n",
       "    var format = format_dropdown.options[format_dropdown.selectedIndex].value;\n",
       "    fig.ondownload(fig, format);\n",
       "}\n",
       "\n",
       "\n",
       "mpl.figure.prototype.handle_resize = function(fig, msg) {\n",
       "    var size = msg['size'];\n",
       "    if (size[0] != fig.canvas.width || size[1] != fig.canvas.height) {\n",
       "        fig._resize_canvas(size[0], size[1]);\n",
       "        fig.send_message(\"refresh\", {});\n",
       "    };\n",
       "}\n",
       "\n",
       "mpl.figure.prototype.handle_rubberband = function(fig, msg) {\n",
       "    var x0 = msg['x0'];\n",
       "    var y0 = fig.canvas.height - msg['y0'];\n",
       "    var x1 = msg['x1'];\n",
       "    var y1 = fig.canvas.height - msg['y1'];\n",
       "    x0 = Math.floor(x0) + 0.5;\n",
       "    y0 = Math.floor(y0) + 0.5;\n",
       "    x1 = Math.floor(x1) + 0.5;\n",
       "    y1 = Math.floor(y1) + 0.5;\n",
       "    var min_x = Math.min(x0, x1);\n",
       "    var min_y = Math.min(y0, y1);\n",
       "    var width = Math.abs(x1 - x0);\n",
       "    var height = Math.abs(y1 - y0);\n",
       "\n",
       "    fig.rubberband_context.clearRect(\n",
       "        0, 0, fig.canvas.width, fig.canvas.height);\n",
       "\n",
       "    fig.rubberband_context.strokeRect(min_x, min_y, width, height);\n",
       "}\n",
       "\n",
       "mpl.figure.prototype.handle_figure_label = function(fig, msg) {\n",
       "    // Updates the figure title.\n",
       "    fig.header.textContent = msg['label'];\n",
       "}\n",
       "\n",
       "mpl.figure.prototype.handle_cursor = function(fig, msg) {\n",
       "    var cursor = msg['cursor'];\n",
       "    switch(cursor)\n",
       "    {\n",
       "    case 0:\n",
       "        cursor = 'pointer';\n",
       "        break;\n",
       "    case 1:\n",
       "        cursor = 'default';\n",
       "        break;\n",
       "    case 2:\n",
       "        cursor = 'crosshair';\n",
       "        break;\n",
       "    case 3:\n",
       "        cursor = 'move';\n",
       "        break;\n",
       "    }\n",
       "    fig.rubberband_canvas.style.cursor = cursor;\n",
       "}\n",
       "\n",
       "mpl.figure.prototype.handle_message = function(fig, msg) {\n",
       "    fig.message.textContent = msg['message'];\n",
       "}\n",
       "\n",
       "mpl.figure.prototype.handle_draw = function(fig, msg) {\n",
       "    // Request the server to send over a new figure.\n",
       "    fig.send_draw_message();\n",
       "}\n",
       "\n",
       "mpl.figure.prototype.handle_image_mode = function(fig, msg) {\n",
       "    fig.image_mode = msg['mode'];\n",
       "}\n",
       "\n",
       "mpl.figure.prototype.updated_canvas_event = function() {\n",
       "    // Called whenever the canvas gets updated.\n",
       "    this.send_message(\"ack\", {});\n",
       "}\n",
       "\n",
       "// A function to construct a web socket function for onmessage handling.\n",
       "// Called in the figure constructor.\n",
       "mpl.figure.prototype._make_on_message_function = function(fig) {\n",
       "    return function socket_on_message(evt) {\n",
       "        if (evt.data instanceof Blob) {\n",
       "            /* FIXME: We get \"Resource interpreted as Image but\n",
       "             * transferred with MIME type text/plain:\" errors on\n",
       "             * Chrome.  But how to set the MIME type?  It doesn't seem\n",
       "             * to be part of the websocket stream */\n",
       "            evt.data.type = \"image/png\";\n",
       "\n",
       "            /* Free the memory for the previous frames */\n",
       "            if (fig.imageObj.src) {\n",
       "                (window.URL || window.webkitURL).revokeObjectURL(\n",
       "                    fig.imageObj.src);\n",
       "            }\n",
       "\n",
       "            fig.imageObj.src = (window.URL || window.webkitURL).createObjectURL(\n",
       "                evt.data);\n",
       "            fig.updated_canvas_event();\n",
       "            fig.waiting = false;\n",
       "            return;\n",
       "        }\n",
       "        else if (typeof evt.data === 'string' && evt.data.slice(0, 21) == \"data:image/png;base64\") {\n",
       "            fig.imageObj.src = evt.data;\n",
       "            fig.updated_canvas_event();\n",
       "            fig.waiting = false;\n",
       "            return;\n",
       "        }\n",
       "\n",
       "        var msg = JSON.parse(evt.data);\n",
       "        var msg_type = msg['type'];\n",
       "\n",
       "        // Call the  \"handle_{type}\" callback, which takes\n",
       "        // the figure and JSON message as its only arguments.\n",
       "        try {\n",
       "            var callback = fig[\"handle_\" + msg_type];\n",
       "        } catch (e) {\n",
       "            console.log(\"No handler for the '\" + msg_type + \"' message type: \", msg);\n",
       "            return;\n",
       "        }\n",
       "\n",
       "        if (callback) {\n",
       "            try {\n",
       "                // console.log(\"Handling '\" + msg_type + \"' message: \", msg);\n",
       "                callback(fig, msg);\n",
       "            } catch (e) {\n",
       "                console.log(\"Exception inside the 'handler_\" + msg_type + \"' callback:\", e, e.stack, msg);\n",
       "            }\n",
       "        }\n",
       "    };\n",
       "}\n",
       "\n",
       "// from http://stackoverflow.com/questions/1114465/getting-mouse-location-in-canvas\n",
       "mpl.findpos = function(e) {\n",
       "    //this section is from http://www.quirksmode.org/js/events_properties.html\n",
       "    var targ;\n",
       "    if (!e)\n",
       "        e = window.event;\n",
       "    if (e.target)\n",
       "        targ = e.target;\n",
       "    else if (e.srcElement)\n",
       "        targ = e.srcElement;\n",
       "    if (targ.nodeType == 3) // defeat Safari bug\n",
       "        targ = targ.parentNode;\n",
       "\n",
       "    // jQuery normalizes the pageX and pageY\n",
       "    // pageX,Y are the mouse positions relative to the document\n",
       "    // offset() returns the position of the element relative to the document\n",
       "    var x = e.pageX - $(targ).offset().left;\n",
       "    var y = e.pageY - $(targ).offset().top;\n",
       "\n",
       "    return {\"x\": x, \"y\": y};\n",
       "};\n",
       "\n",
       "/*\n",
       " * return a copy of an object with only non-object keys\n",
       " * we need this to avoid circular references\n",
       " * http://stackoverflow.com/a/24161582/3208463\n",
       " */\n",
       "function simpleKeys (original) {\n",
       "  return Object.keys(original).reduce(function (obj, key) {\n",
       "    if (typeof original[key] !== 'object')\n",
       "        obj[key] = original[key]\n",
       "    return obj;\n",
       "  }, {});\n",
       "}\n",
       "\n",
       "mpl.figure.prototype.mouse_event = function(event, name) {\n",
       "    var canvas_pos = mpl.findpos(event)\n",
       "\n",
       "    if (name === 'button_press')\n",
       "    {\n",
       "        this.canvas.focus();\n",
       "        this.canvas_div.focus();\n",
       "    }\n",
       "\n",
       "    var x = canvas_pos.x;\n",
       "    var y = canvas_pos.y;\n",
       "\n",
       "    this.send_message(name, {x: x, y: y, button: event.button,\n",
       "                             step: event.step,\n",
       "                             guiEvent: simpleKeys(event)});\n",
       "\n",
       "    /* This prevents the web browser from automatically changing to\n",
       "     * the text insertion cursor when the button is pressed.  We want\n",
       "     * to control all of the cursor setting manually through the\n",
       "     * 'cursor' event from matplotlib */\n",
       "    event.preventDefault();\n",
       "    return false;\n",
       "}\n",
       "\n",
       "mpl.figure.prototype._key_event_extra = function(event, name) {\n",
       "    // Handle any extra behaviour associated with a key event\n",
       "}\n",
       "\n",
       "mpl.figure.prototype.key_event = function(event, name) {\n",
       "\n",
       "    // Prevent repeat events\n",
       "    if (name == 'key_press')\n",
       "    {\n",
       "        if (event.which === this._key)\n",
       "            return;\n",
       "        else\n",
       "            this._key = event.which;\n",
       "    }\n",
       "    if (name == 'key_release')\n",
       "        this._key = null;\n",
       "\n",
       "    var value = '';\n",
       "    if (event.ctrlKey && event.which != 17)\n",
       "        value += \"ctrl+\";\n",
       "    if (event.altKey && event.which != 18)\n",
       "        value += \"alt+\";\n",
       "    if (event.shiftKey && event.which != 16)\n",
       "        value += \"shift+\";\n",
       "\n",
       "    value += 'k';\n",
       "    value += event.which.toString();\n",
       "\n",
       "    this._key_event_extra(event, name);\n",
       "\n",
       "    this.send_message(name, {key: value,\n",
       "                             guiEvent: simpleKeys(event)});\n",
       "    return false;\n",
       "}\n",
       "\n",
       "mpl.figure.prototype.toolbar_button_onclick = function(name) {\n",
       "    if (name == 'download') {\n",
       "        this.handle_save(this, null);\n",
       "    } else {\n",
       "        this.send_message(\"toolbar_button\", {name: name});\n",
       "    }\n",
       "};\n",
       "\n",
       "mpl.figure.prototype.toolbar_button_onmouseover = function(tooltip) {\n",
       "    this.message.textContent = tooltip;\n",
       "};\n",
       "mpl.toolbar_items = [[\"Home\", \"Reset original view\", \"fa fa-home icon-home\", \"home\"], [\"Back\", \"Back to  previous view\", \"fa fa-arrow-left icon-arrow-left\", \"back\"], [\"Forward\", \"Forward to next view\", \"fa fa-arrow-right icon-arrow-right\", \"forward\"], [\"\", \"\", \"\", \"\"], [\"Pan\", \"Pan axes with left mouse, zoom with right\", \"fa fa-arrows icon-move\", \"pan\"], [\"Zoom\", \"Zoom to rectangle\", \"fa fa-square-o icon-check-empty\", \"zoom\"], [\"\", \"\", \"\", \"\"], [\"Download\", \"Download plot\", \"fa fa-floppy-o icon-save\", \"download\"]];\n",
       "\n",
       "mpl.extensions = [\"eps\", \"pdf\", \"png\", \"ps\", \"raw\", \"svg\"];\n",
       "\n",
       "mpl.default_extension = \"png\";var comm_websocket_adapter = function(comm) {\n",
       "    // Create a \"websocket\"-like object which calls the given IPython comm\n",
       "    // object with the appropriate methods. Currently this is a non binary\n",
       "    // socket, so there is still some room for performance tuning.\n",
       "    var ws = {};\n",
       "\n",
       "    ws.close = function() {\n",
       "        comm.close()\n",
       "    };\n",
       "    ws.send = function(m) {\n",
       "        //console.log('sending', m);\n",
       "        comm.send(m);\n",
       "    };\n",
       "    // Register the callback with on_msg.\n",
       "    comm.on_msg(function(msg) {\n",
       "        //console.log('receiving', msg['content']['data'], msg);\n",
       "        // Pass the mpl event to the overriden (by mpl) onmessage function.\n",
       "        ws.onmessage(msg['content']['data'])\n",
       "    });\n",
       "    return ws;\n",
       "}\n",
       "\n",
       "mpl.mpl_figure_comm = function(comm, msg) {\n",
       "    // This is the function which gets called when the mpl process\n",
       "    // starts-up an IPython Comm through the \"matplotlib\" channel.\n",
       "\n",
       "    var id = msg.content.data.id;\n",
       "    // Get hold of the div created by the display call when the Comm\n",
       "    // socket was opened in Python.\n",
       "    var element = $(\"#\" + id);\n",
       "    var ws_proxy = comm_websocket_adapter(comm)\n",
       "\n",
       "    function ondownload(figure, format) {\n",
       "        window.open(figure.imageObj.src);\n",
       "    }\n",
       "\n",
       "    var fig = new mpl.figure(id, ws_proxy,\n",
       "                           ondownload,\n",
       "                           element.get(0));\n",
       "\n",
       "    // Call onopen now - mpl needs it, as it is assuming we've passed it a real\n",
       "    // web socket which is closed, not our websocket->open comm proxy.\n",
       "    ws_proxy.onopen();\n",
       "\n",
       "    fig.parent_element = element.get(0);\n",
       "    fig.cell_info = mpl.find_output_cell(\"<div id='\" + id + \"'></div>\");\n",
       "    if (!fig.cell_info) {\n",
       "        console.error(\"Failed to find cell for figure\", id, fig);\n",
       "        return;\n",
       "    }\n",
       "\n",
       "    var output_index = fig.cell_info[2]\n",
       "    var cell = fig.cell_info[0];\n",
       "\n",
       "};\n",
       "\n",
       "mpl.figure.prototype.handle_close = function(fig, msg) {\n",
       "    fig.root.unbind('remove')\n",
       "\n",
       "    // Update the output cell to use the data from the current canvas.\n",
       "    fig.push_to_output();\n",
       "    var dataURL = fig.canvas.toDataURL();\n",
       "    // Re-enable the keyboard manager in IPython - without this line, in FF,\n",
       "    // the notebook keyboard shortcuts fail.\n",
       "    IPython.keyboard_manager.enable()\n",
       "    $(fig.parent_element).html('<img src=\"' + dataURL + '\">');\n",
       "    fig.close_ws(fig, msg);\n",
       "}\n",
       "\n",
       "mpl.figure.prototype.close_ws = function(fig, msg){\n",
       "    fig.send_message('closing', msg);\n",
       "    // fig.ws.close()\n",
       "}\n",
       "\n",
       "mpl.figure.prototype.push_to_output = function(remove_interactive) {\n",
       "    // Turn the data on the canvas into data in the output cell.\n",
       "    var dataURL = this.canvas.toDataURL();\n",
       "    this.cell_info[1]['text/html'] = '<img src=\"' + dataURL + '\">';\n",
       "}\n",
       "\n",
       "mpl.figure.prototype.updated_canvas_event = function() {\n",
       "    // Tell IPython that the notebook contents must change.\n",
       "    IPython.notebook.set_dirty(true);\n",
       "    this.send_message(\"ack\", {});\n",
       "    var fig = this;\n",
       "    // Wait a second, then push the new image to the DOM so\n",
       "    // that it is saved nicely (might be nice to debounce this).\n",
       "    setTimeout(function () { fig.push_to_output() }, 1000);\n",
       "}\n",
       "\n",
       "mpl.figure.prototype._init_toolbar = function() {\n",
       "    var fig = this;\n",
       "\n",
       "    var nav_element = $('<div/>')\n",
       "    nav_element.attr('style', 'width: 100%');\n",
       "    this.root.append(nav_element);\n",
       "\n",
       "    // Define a callback function for later on.\n",
       "    function toolbar_event(event) {\n",
       "        return fig.toolbar_button_onclick(event['data']);\n",
       "    }\n",
       "    function toolbar_mouse_event(event) {\n",
       "        return fig.toolbar_button_onmouseover(event['data']);\n",
       "    }\n",
       "\n",
       "    for(var toolbar_ind in mpl.toolbar_items){\n",
       "        var name = mpl.toolbar_items[toolbar_ind][0];\n",
       "        var tooltip = mpl.toolbar_items[toolbar_ind][1];\n",
       "        var image = mpl.toolbar_items[toolbar_ind][2];\n",
       "        var method_name = mpl.toolbar_items[toolbar_ind][3];\n",
       "\n",
       "        if (!name) { continue; };\n",
       "\n",
       "        var button = $('<button class=\"btn btn-default\" href=\"#\" title=\"' + name + '\"><i class=\"fa ' + image + ' fa-lg\"></i></button>');\n",
       "        button.click(method_name, toolbar_event);\n",
       "        button.mouseover(tooltip, toolbar_mouse_event);\n",
       "        nav_element.append(button);\n",
       "    }\n",
       "\n",
       "    // Add the status bar.\n",
       "    var status_bar = $('<span class=\"mpl-message\" style=\"text-align:right; float: right;\"/>');\n",
       "    nav_element.append(status_bar);\n",
       "    this.message = status_bar[0];\n",
       "\n",
       "    // Add the close button to the window.\n",
       "    var buttongrp = $('<div class=\"btn-group inline pull-right\"></div>');\n",
       "    var button = $('<button class=\"btn btn-mini btn-primary\" href=\"#\" title=\"Stop Interaction\"><i class=\"fa fa-power-off icon-remove icon-large\"></i></button>');\n",
       "    button.click(function (evt) { fig.handle_close(fig, {}); } );\n",
       "    button.mouseover('Stop Interaction', toolbar_mouse_event);\n",
       "    buttongrp.append(button);\n",
       "    var titlebar = this.root.find($('.ui-dialog-titlebar'));\n",
       "    titlebar.prepend(buttongrp);\n",
       "}\n",
       "\n",
       "mpl.figure.prototype._root_extra_style = function(el){\n",
       "    var fig = this\n",
       "    el.on(\"remove\", function(){\n",
       "\tfig.close_ws(fig, {});\n",
       "    });\n",
       "}\n",
       "\n",
       "mpl.figure.prototype._canvas_extra_style = function(el){\n",
       "    // this is important to make the div 'focusable\n",
       "    el.attr('tabindex', 0)\n",
       "    // reach out to IPython and tell the keyboard manager to turn it's self\n",
       "    // off when our div gets focus\n",
       "\n",
       "    // location in version 3\n",
       "    if (IPython.notebook.keyboard_manager) {\n",
       "        IPython.notebook.keyboard_manager.register_events(el);\n",
       "    }\n",
       "    else {\n",
       "        // location in version 2\n",
       "        IPython.keyboard_manager.register_events(el);\n",
       "    }\n",
       "\n",
       "}\n",
       "\n",
       "mpl.figure.prototype._key_event_extra = function(event, name) {\n",
       "    var manager = IPython.notebook.keyboard_manager;\n",
       "    if (!manager)\n",
       "        manager = IPython.keyboard_manager;\n",
       "\n",
       "    // Check for shift+enter\n",
       "    if (event.shiftKey && event.which == 13) {\n",
       "        this.canvas_div.blur();\n",
       "        // select the cell after this one\n",
       "        var index = IPython.notebook.find_cell_index(this.cell_info[0]);\n",
       "        IPython.notebook.select(index + 1);\n",
       "    }\n",
       "}\n",
       "\n",
       "mpl.figure.prototype.handle_save = function(fig, msg) {\n",
       "    fig.ondownload(fig, null);\n",
       "}\n",
       "\n",
       "\n",
       "mpl.find_output_cell = function(html_output) {\n",
       "    // Return the cell and output element which can be found *uniquely* in the notebook.\n",
       "    // Note - this is a bit hacky, but it is done because the \"notebook_saving.Notebook\"\n",
       "    // IPython event is triggered only after the cells have been serialised, which for\n",
       "    // our purposes (turning an active figure into a static one), is too late.\n",
       "    var cells = IPython.notebook.get_cells();\n",
       "    var ncells = cells.length;\n",
       "    for (var i=0; i<ncells; i++) {\n",
       "        var cell = cells[i];\n",
       "        if (cell.cell_type === 'code'){\n",
       "            for (var j=0; j<cell.output_area.outputs.length; j++) {\n",
       "                var data = cell.output_area.outputs[j];\n",
       "                if (data.data) {\n",
       "                    // IPython >= 3 moved mimebundle to data attribute of output\n",
       "                    data = data.data;\n",
       "                }\n",
       "                if (data['text/html'] == html_output) {\n",
       "                    return [cell, data, j];\n",
       "                }\n",
       "            }\n",
       "        }\n",
       "    }\n",
       "}\n",
       "\n",
       "// Register the function which deals with the matplotlib target/channel.\n",
       "// The kernel may be null if the page has been refreshed.\n",
       "if (IPython.notebook.kernel != null) {\n",
       "    IPython.notebook.kernel.comm_manager.register_target('matplotlib', mpl.mpl_figure_comm);\n",
       "}\n"
      ],
      "text/plain": [
       "<IPython.core.display.Javascript object>"
      ]
     },
     "metadata": {},
     "output_type": "display_data"
    },
    {
     "data": {
      "text/html": [
       "<img src=\"data:image/png;base64,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\">"
      ],
      "text/plain": [
       "<IPython.core.display.HTML object>"
      ]
     },
     "metadata": {},
     "output_type": "display_data"
    },
    {
     "data": {
      "text/plain": [
       "None"
      ]
     },
     "metadata": {},
     "output_type": "display_data"
    }
   ],
   "source": [
    "fig1, ax1 = plt.subplots()\n",
    "ax1.hold(False)\n",
    "\n",
    "display(display(widgets.HBox((x2_widget, x1_widget, x0_widget), width='50%')),\n",
    "        widgets.HBox((display_image_button, fit_curvature_button)))"
   ]
  },
  {
   "cell_type": "markdown",
   "metadata": {
    "collapsed": true,
    "scrolled": true
   },
   "source": [
    "## Plot resolution"
   ]
  },
  {
   "cell_type": "code",
   "execution_count": 7,
   "metadata": {
    "collapsed": false
   },
   "outputs": [
    {
     "data": {
      "application/javascript": [
       "/* Put everything inside the global mpl namespace */\n",
       "window.mpl = {};\n",
       "\n",
       "mpl.get_websocket_type = function() {\n",
       "    if (typeof(WebSocket) !== 'undefined') {\n",
       "        return WebSocket;\n",
       "    } else if (typeof(MozWebSocket) !== 'undefined') {\n",
       "        return MozWebSocket;\n",
       "    } else {\n",
       "        alert('Your browser does not have WebSocket support.' +\n",
       "              'Please try Chrome, Safari or Firefox ≥ 6. ' +\n",
       "              'Firefox 4 and 5 are also supported but you ' +\n",
       "              'have to enable WebSockets in about:config.');\n",
       "    };\n",
       "}\n",
       "\n",
       "mpl.figure = function(figure_id, websocket, ondownload, parent_element) {\n",
       "    this.id = figure_id;\n",
       "\n",
       "    this.ws = websocket;\n",
       "\n",
       "    this.supports_binary = (this.ws.binaryType != undefined);\n",
       "\n",
       "    if (!this.supports_binary) {\n",
       "        var warnings = document.getElementById(\"mpl-warnings\");\n",
       "        if (warnings) {\n",
       "            warnings.style.display = 'block';\n",
       "            warnings.textContent = (\n",
       "                \"This browser does not support binary websocket messages. \" +\n",
       "                    \"Performance may be slow.\");\n",
       "        }\n",
       "    }\n",
       "\n",
       "    this.imageObj = new Image();\n",
       "\n",
       "    this.context = undefined;\n",
       "    this.message = undefined;\n",
       "    this.canvas = undefined;\n",
       "    this.rubberband_canvas = undefined;\n",
       "    this.rubberband_context = undefined;\n",
       "    this.format_dropdown = undefined;\n",
       "\n",
       "    this.image_mode = 'full';\n",
       "\n",
       "    this.root = $('<div/>');\n",
       "    this._root_extra_style(this.root)\n",
       "    this.root.attr('style', 'display: inline-block');\n",
       "\n",
       "    $(parent_element).append(this.root);\n",
       "\n",
       "    this._init_header(this);\n",
       "    this._init_canvas(this);\n",
       "    this._init_toolbar(this);\n",
       "\n",
       "    var fig = this;\n",
       "\n",
       "    this.waiting = false;\n",
       "\n",
       "    this.ws.onopen =  function () {\n",
       "            fig.send_message(\"supports_binary\", {value: fig.supports_binary});\n",
       "            fig.send_message(\"send_image_mode\", {});\n",
       "            fig.send_message(\"refresh\", {});\n",
       "        }\n",
       "\n",
       "    this.imageObj.onload = function() {\n",
       "            if (fig.image_mode == 'full') {\n",
       "                // Full images could contain transparency (where diff images\n",
       "                // almost always do), so we need to clear the canvas so that\n",
       "                // there is no ghosting.\n",
       "                fig.context.clearRect(0, 0, fig.canvas.width, fig.canvas.height);\n",
       "            }\n",
       "            fig.context.drawImage(fig.imageObj, 0, 0);\n",
       "        };\n",
       "\n",
       "    this.imageObj.onunload = function() {\n",
       "        this.ws.close();\n",
       "    }\n",
       "\n",
       "    this.ws.onmessage = this._make_on_message_function(this);\n",
       "\n",
       "    this.ondownload = ondownload;\n",
       "}\n",
       "\n",
       "mpl.figure.prototype._init_header = function() {\n",
       "    var titlebar = $(\n",
       "        '<div class=\"ui-dialog-titlebar ui-widget-header ui-corner-all ' +\n",
       "        'ui-helper-clearfix\"/>');\n",
       "    var titletext = $(\n",
       "        '<div class=\"ui-dialog-title\" style=\"width: 100%; ' +\n",
       "        'text-align: center; padding: 3px;\"/>');\n",
       "    titlebar.append(titletext)\n",
       "    this.root.append(titlebar);\n",
       "    this.header = titletext[0];\n",
       "}\n",
       "\n",
       "\n",
       "\n",
       "mpl.figure.prototype._canvas_extra_style = function(canvas_div) {\n",
       "\n",
       "}\n",
       "\n",
       "\n",
       "mpl.figure.prototype._root_extra_style = function(canvas_div) {\n",
       "\n",
       "}\n",
       "\n",
       "mpl.figure.prototype._init_canvas = function() {\n",
       "    var fig = this;\n",
       "\n",
       "    var canvas_div = $('<div/>');\n",
       "\n",
       "    canvas_div.attr('style', 'position: relative; clear: both; outline: 0');\n",
       "\n",
       "    function canvas_keyboard_event(event) {\n",
       "        return fig.key_event(event, event['data']);\n",
       "    }\n",
       "\n",
       "    canvas_div.keydown('key_press', canvas_keyboard_event);\n",
       "    canvas_div.keyup('key_release', canvas_keyboard_event);\n",
       "    this.canvas_div = canvas_div\n",
       "    this._canvas_extra_style(canvas_div)\n",
       "    this.root.append(canvas_div);\n",
       "\n",
       "    var canvas = $('<canvas/>');\n",
       "    canvas.addClass('mpl-canvas');\n",
       "    canvas.attr('style', \"left: 0; top: 0; z-index: 0; outline: 0\")\n",
       "\n",
       "    this.canvas = canvas[0];\n",
       "    this.context = canvas[0].getContext(\"2d\");\n",
       "\n",
       "    var rubberband = $('<canvas/>');\n",
       "    rubberband.attr('style', \"position: absolute; left: 0; top: 0; z-index: 1;\")\n",
       "\n",
       "    var pass_mouse_events = true;\n",
       "\n",
       "    canvas_div.resizable({\n",
       "        start: function(event, ui) {\n",
       "            pass_mouse_events = false;\n",
       "        },\n",
       "        resize: function(event, ui) {\n",
       "            fig.request_resize(ui.size.width, ui.size.height);\n",
       "        },\n",
       "        stop: function(event, ui) {\n",
       "            pass_mouse_events = true;\n",
       "            fig.request_resize(ui.size.width, ui.size.height);\n",
       "        },\n",
       "    });\n",
       "\n",
       "    function mouse_event_fn(event) {\n",
       "        if (pass_mouse_events)\n",
       "            return fig.mouse_event(event, event['data']);\n",
       "    }\n",
       "\n",
       "    rubberband.mousedown('button_press', mouse_event_fn);\n",
       "    rubberband.mouseup('button_release', mouse_event_fn);\n",
       "    // Throttle sequential mouse events to 1 every 20ms.\n",
       "    rubberband.mousemove('motion_notify', mouse_event_fn);\n",
       "\n",
       "    rubberband.mouseenter('figure_enter', mouse_event_fn);\n",
       "    rubberband.mouseleave('figure_leave', mouse_event_fn);\n",
       "\n",
       "    canvas_div.on(\"wheel\", function (event) {\n",
       "        event = event.originalEvent;\n",
       "        event['data'] = 'scroll'\n",
       "        if (event.deltaY < 0) {\n",
       "            event.step = 1;\n",
       "        } else {\n",
       "            event.step = -1;\n",
       "        }\n",
       "        mouse_event_fn(event);\n",
       "    });\n",
       "\n",
       "    canvas_div.append(canvas);\n",
       "    canvas_div.append(rubberband);\n",
       "\n",
       "    this.rubberband = rubberband;\n",
       "    this.rubberband_canvas = rubberband[0];\n",
       "    this.rubberband_context = rubberband[0].getContext(\"2d\");\n",
       "    this.rubberband_context.strokeStyle = \"#000000\";\n",
       "\n",
       "    this._resize_canvas = function(width, height) {\n",
       "        // Keep the size of the canvas, canvas container, and rubber band\n",
       "        // canvas in synch.\n",
       "        canvas_div.css('width', width)\n",
       "        canvas_div.css('height', height)\n",
       "\n",
       "        canvas.attr('width', width);\n",
       "        canvas.attr('height', height);\n",
       "\n",
       "        rubberband.attr('width', width);\n",
       "        rubberband.attr('height', height);\n",
       "    }\n",
       "\n",
       "    // Set the figure to an initial 600x600px, this will subsequently be updated\n",
       "    // upon first draw.\n",
       "    this._resize_canvas(600, 600);\n",
       "\n",
       "    // Disable right mouse context menu.\n",
       "    $(this.rubberband_canvas).bind(\"contextmenu\",function(e){\n",
       "        return false;\n",
       "    });\n",
       "\n",
       "    function set_focus () {\n",
       "        canvas.focus();\n",
       "        canvas_div.focus();\n",
       "    }\n",
       "\n",
       "    window.setTimeout(set_focus, 100);\n",
       "}\n",
       "\n",
       "mpl.figure.prototype._init_toolbar = function() {\n",
       "    var fig = this;\n",
       "\n",
       "    var nav_element = $('<div/>')\n",
       "    nav_element.attr('style', 'width: 100%');\n",
       "    this.root.append(nav_element);\n",
       "\n",
       "    // Define a callback function for later on.\n",
       "    function toolbar_event(event) {\n",
       "        return fig.toolbar_button_onclick(event['data']);\n",
       "    }\n",
       "    function toolbar_mouse_event(event) {\n",
       "        return fig.toolbar_button_onmouseover(event['data']);\n",
       "    }\n",
       "\n",
       "    for(var toolbar_ind in mpl.toolbar_items) {\n",
       "        var name = mpl.toolbar_items[toolbar_ind][0];\n",
       "        var tooltip = mpl.toolbar_items[toolbar_ind][1];\n",
       "        var image = mpl.toolbar_items[toolbar_ind][2];\n",
       "        var method_name = mpl.toolbar_items[toolbar_ind][3];\n",
       "\n",
       "        if (!name) {\n",
       "            // put a spacer in here.\n",
       "            continue;\n",
       "        }\n",
       "        var button = $('<button/>');\n",
       "        button.addClass('ui-button ui-widget ui-state-default ui-corner-all ' +\n",
       "                        'ui-button-icon-only');\n",
       "        button.attr('role', 'button');\n",
       "        button.attr('aria-disabled', 'false');\n",
       "        button.click(method_name, toolbar_event);\n",
       "        button.mouseover(tooltip, toolbar_mouse_event);\n",
       "\n",
       "        var icon_img = $('<span/>');\n",
       "        icon_img.addClass('ui-button-icon-primary ui-icon');\n",
       "        icon_img.addClass(image);\n",
       "        icon_img.addClass('ui-corner-all');\n",
       "\n",
       "        var tooltip_span = $('<span/>');\n",
       "        tooltip_span.addClass('ui-button-text');\n",
       "        tooltip_span.html(tooltip);\n",
       "\n",
       "        button.append(icon_img);\n",
       "        button.append(tooltip_span);\n",
       "\n",
       "        nav_element.append(button);\n",
       "    }\n",
       "\n",
       "    var fmt_picker_span = $('<span/>');\n",
       "\n",
       "    var fmt_picker = $('<select/>');\n",
       "    fmt_picker.addClass('mpl-toolbar-option ui-widget ui-widget-content');\n",
       "    fmt_picker_span.append(fmt_picker);\n",
       "    nav_element.append(fmt_picker_span);\n",
       "    this.format_dropdown = fmt_picker[0];\n",
       "\n",
       "    for (var ind in mpl.extensions) {\n",
       "        var fmt = mpl.extensions[ind];\n",
       "        var option = $(\n",
       "            '<option/>', {selected: fmt === mpl.default_extension}).html(fmt);\n",
       "        fmt_picker.append(option)\n",
       "    }\n",
       "\n",
       "    // Add hover states to the ui-buttons\n",
       "    $( \".ui-button\" ).hover(\n",
       "        function() { $(this).addClass(\"ui-state-hover\");},\n",
       "        function() { $(this).removeClass(\"ui-state-hover\");}\n",
       "    );\n",
       "\n",
       "    var status_bar = $('<span class=\"mpl-message\"/>');\n",
       "    nav_element.append(status_bar);\n",
       "    this.message = status_bar[0];\n",
       "}\n",
       "\n",
       "mpl.figure.prototype.request_resize = function(x_pixels, y_pixels) {\n",
       "    // Request matplotlib to resize the figure. Matplotlib will then trigger a resize in the client,\n",
       "    // which will in turn request a refresh of the image.\n",
       "    this.send_message('resize', {'width': x_pixels, 'height': y_pixels});\n",
       "}\n",
       "\n",
       "mpl.figure.prototype.send_message = function(type, properties) {\n",
       "    properties['type'] = type;\n",
       "    properties['figure_id'] = this.id;\n",
       "    this.ws.send(JSON.stringify(properties));\n",
       "}\n",
       "\n",
       "mpl.figure.prototype.send_draw_message = function() {\n",
       "    if (!this.waiting) {\n",
       "        this.waiting = true;\n",
       "        this.ws.send(JSON.stringify({type: \"draw\", figure_id: this.id}));\n",
       "    }\n",
       "}\n",
       "\n",
       "\n",
       "mpl.figure.prototype.handle_save = function(fig, msg) {\n",
       "    var format_dropdown = fig.format_dropdown;\n",
       "    var format = format_dropdown.options[format_dropdown.selectedIndex].value;\n",
       "    fig.ondownload(fig, format);\n",
       "}\n",
       "\n",
       "\n",
       "mpl.figure.prototype.handle_resize = function(fig, msg) {\n",
       "    var size = msg['size'];\n",
       "    if (size[0] != fig.canvas.width || size[1] != fig.canvas.height) {\n",
       "        fig._resize_canvas(size[0], size[1]);\n",
       "        fig.send_message(\"refresh\", {});\n",
       "    };\n",
       "}\n",
       "\n",
       "mpl.figure.prototype.handle_rubberband = function(fig, msg) {\n",
       "    var x0 = msg['x0'];\n",
       "    var y0 = fig.canvas.height - msg['y0'];\n",
       "    var x1 = msg['x1'];\n",
       "    var y1 = fig.canvas.height - msg['y1'];\n",
       "    x0 = Math.floor(x0) + 0.5;\n",
       "    y0 = Math.floor(y0) + 0.5;\n",
       "    x1 = Math.floor(x1) + 0.5;\n",
       "    y1 = Math.floor(y1) + 0.5;\n",
       "    var min_x = Math.min(x0, x1);\n",
       "    var min_y = Math.min(y0, y1);\n",
       "    var width = Math.abs(x1 - x0);\n",
       "    var height = Math.abs(y1 - y0);\n",
       "\n",
       "    fig.rubberband_context.clearRect(\n",
       "        0, 0, fig.canvas.width, fig.canvas.height);\n",
       "\n",
       "    fig.rubberband_context.strokeRect(min_x, min_y, width, height);\n",
       "}\n",
       "\n",
       "mpl.figure.prototype.handle_figure_label = function(fig, msg) {\n",
       "    // Updates the figure title.\n",
       "    fig.header.textContent = msg['label'];\n",
       "}\n",
       "\n",
       "mpl.figure.prototype.handle_cursor = function(fig, msg) {\n",
       "    var cursor = msg['cursor'];\n",
       "    switch(cursor)\n",
       "    {\n",
       "    case 0:\n",
       "        cursor = 'pointer';\n",
       "        break;\n",
       "    case 1:\n",
       "        cursor = 'default';\n",
       "        break;\n",
       "    case 2:\n",
       "        cursor = 'crosshair';\n",
       "        break;\n",
       "    case 3:\n",
       "        cursor = 'move';\n",
       "        break;\n",
       "    }\n",
       "    fig.rubberband_canvas.style.cursor = cursor;\n",
       "}\n",
       "\n",
       "mpl.figure.prototype.handle_message = function(fig, msg) {\n",
       "    fig.message.textContent = msg['message'];\n",
       "}\n",
       "\n",
       "mpl.figure.prototype.handle_draw = function(fig, msg) {\n",
       "    // Request the server to send over a new figure.\n",
       "    fig.send_draw_message();\n",
       "}\n",
       "\n",
       "mpl.figure.prototype.handle_image_mode = function(fig, msg) {\n",
       "    fig.image_mode = msg['mode'];\n",
       "}\n",
       "\n",
       "mpl.figure.prototype.updated_canvas_event = function() {\n",
       "    // Called whenever the canvas gets updated.\n",
       "    this.send_message(\"ack\", {});\n",
       "}\n",
       "\n",
       "// A function to construct a web socket function for onmessage handling.\n",
       "// Called in the figure constructor.\n",
       "mpl.figure.prototype._make_on_message_function = function(fig) {\n",
       "    return function socket_on_message(evt) {\n",
       "        if (evt.data instanceof Blob) {\n",
       "            /* FIXME: We get \"Resource interpreted as Image but\n",
       "             * transferred with MIME type text/plain:\" errors on\n",
       "             * Chrome.  But how to set the MIME type?  It doesn't seem\n",
       "             * to be part of the websocket stream */\n",
       "            evt.data.type = \"image/png\";\n",
       "\n",
       "            /* Free the memory for the previous frames */\n",
       "            if (fig.imageObj.src) {\n",
       "                (window.URL || window.webkitURL).revokeObjectURL(\n",
       "                    fig.imageObj.src);\n",
       "            }\n",
       "\n",
       "            fig.imageObj.src = (window.URL || window.webkitURL).createObjectURL(\n",
       "                evt.data);\n",
       "            fig.updated_canvas_event();\n",
       "            fig.waiting = false;\n",
       "            return;\n",
       "        }\n",
       "        else if (typeof evt.data === 'string' && evt.data.slice(0, 21) == \"data:image/png;base64\") {\n",
       "            fig.imageObj.src = evt.data;\n",
       "            fig.updated_canvas_event();\n",
       "            fig.waiting = false;\n",
       "            return;\n",
       "        }\n",
       "\n",
       "        var msg = JSON.parse(evt.data);\n",
       "        var msg_type = msg['type'];\n",
       "\n",
       "        // Call the  \"handle_{type}\" callback, which takes\n",
       "        // the figure and JSON message as its only arguments.\n",
       "        try {\n",
       "            var callback = fig[\"handle_\" + msg_type];\n",
       "        } catch (e) {\n",
       "            console.log(\"No handler for the '\" + msg_type + \"' message type: \", msg);\n",
       "            return;\n",
       "        }\n",
       "\n",
       "        if (callback) {\n",
       "            try {\n",
       "                // console.log(\"Handling '\" + msg_type + \"' message: \", msg);\n",
       "                callback(fig, msg);\n",
       "            } catch (e) {\n",
       "                console.log(\"Exception inside the 'handler_\" + msg_type + \"' callback:\", e, e.stack, msg);\n",
       "            }\n",
       "        }\n",
       "    };\n",
       "}\n",
       "\n",
       "// from http://stackoverflow.com/questions/1114465/getting-mouse-location-in-canvas\n",
       "mpl.findpos = function(e) {\n",
       "    //this section is from http://www.quirksmode.org/js/events_properties.html\n",
       "    var targ;\n",
       "    if (!e)\n",
       "        e = window.event;\n",
       "    if (e.target)\n",
       "        targ = e.target;\n",
       "    else if (e.srcElement)\n",
       "        targ = e.srcElement;\n",
       "    if (targ.nodeType == 3) // defeat Safari bug\n",
       "        targ = targ.parentNode;\n",
       "\n",
       "    // jQuery normalizes the pageX and pageY\n",
       "    // pageX,Y are the mouse positions relative to the document\n",
       "    // offset() returns the position of the element relative to the document\n",
       "    var x = e.pageX - $(targ).offset().left;\n",
       "    var y = e.pageY - $(targ).offset().top;\n",
       "\n",
       "    return {\"x\": x, \"y\": y};\n",
       "};\n",
       "\n",
       "/*\n",
       " * return a copy of an object with only non-object keys\n",
       " * we need this to avoid circular references\n",
       " * http://stackoverflow.com/a/24161582/3208463\n",
       " */\n",
       "function simpleKeys (original) {\n",
       "  return Object.keys(original).reduce(function (obj, key) {\n",
       "    if (typeof original[key] !== 'object')\n",
       "        obj[key] = original[key]\n",
       "    return obj;\n",
       "  }, {});\n",
       "}\n",
       "\n",
       "mpl.figure.prototype.mouse_event = function(event, name) {\n",
       "    var canvas_pos = mpl.findpos(event)\n",
       "\n",
       "    if (name === 'button_press')\n",
       "    {\n",
       "        this.canvas.focus();\n",
       "        this.canvas_div.focus();\n",
       "    }\n",
       "\n",
       "    var x = canvas_pos.x;\n",
       "    var y = canvas_pos.y;\n",
       "\n",
       "    this.send_message(name, {x: x, y: y, button: event.button,\n",
       "                             step: event.step,\n",
       "                             guiEvent: simpleKeys(event)});\n",
       "\n",
       "    /* This prevents the web browser from automatically changing to\n",
       "     * the text insertion cursor when the button is pressed.  We want\n",
       "     * to control all of the cursor setting manually through the\n",
       "     * 'cursor' event from matplotlib */\n",
       "    event.preventDefault();\n",
       "    return false;\n",
       "}\n",
       "\n",
       "mpl.figure.prototype._key_event_extra = function(event, name) {\n",
       "    // Handle any extra behaviour associated with a key event\n",
       "}\n",
       "\n",
       "mpl.figure.prototype.key_event = function(event, name) {\n",
       "\n",
       "    // Prevent repeat events\n",
       "    if (name == 'key_press')\n",
       "    {\n",
       "        if (event.which === this._key)\n",
       "            return;\n",
       "        else\n",
       "            this._key = event.which;\n",
       "    }\n",
       "    if (name == 'key_release')\n",
       "        this._key = null;\n",
       "\n",
       "    var value = '';\n",
       "    if (event.ctrlKey && event.which != 17)\n",
       "        value += \"ctrl+\";\n",
       "    if (event.altKey && event.which != 18)\n",
       "        value += \"alt+\";\n",
       "    if (event.shiftKey && event.which != 16)\n",
       "        value += \"shift+\";\n",
       "\n",
       "    value += 'k';\n",
       "    value += event.which.toString();\n",
       "\n",
       "    this._key_event_extra(event, name);\n",
       "\n",
       "    this.send_message(name, {key: value,\n",
       "                             guiEvent: simpleKeys(event)});\n",
       "    return false;\n",
       "}\n",
       "\n",
       "mpl.figure.prototype.toolbar_button_onclick = function(name) {\n",
       "    if (name == 'download') {\n",
       "        this.handle_save(this, null);\n",
       "    } else {\n",
       "        this.send_message(\"toolbar_button\", {name: name});\n",
       "    }\n",
       "};\n",
       "\n",
       "mpl.figure.prototype.toolbar_button_onmouseover = function(tooltip) {\n",
       "    this.message.textContent = tooltip;\n",
       "};\n",
       "mpl.toolbar_items = [[\"Home\", \"Reset original view\", \"fa fa-home icon-home\", \"home\"], [\"Back\", \"Back to  previous view\", \"fa fa-arrow-left icon-arrow-left\", \"back\"], [\"Forward\", \"Forward to next view\", \"fa fa-arrow-right icon-arrow-right\", \"forward\"], [\"\", \"\", \"\", \"\"], [\"Pan\", \"Pan axes with left mouse, zoom with right\", \"fa fa-arrows icon-move\", \"pan\"], [\"Zoom\", \"Zoom to rectangle\", \"fa fa-square-o icon-check-empty\", \"zoom\"], [\"\", \"\", \"\", \"\"], [\"Download\", \"Download plot\", \"fa fa-floppy-o icon-save\", \"download\"]];\n",
       "\n",
       "mpl.extensions = [\"eps\", \"pdf\", \"png\", \"ps\", \"raw\", \"svg\"];\n",
       "\n",
       "mpl.default_extension = \"png\";var comm_websocket_adapter = function(comm) {\n",
       "    // Create a \"websocket\"-like object which calls the given IPython comm\n",
       "    // object with the appropriate methods. Currently this is a non binary\n",
       "    // socket, so there is still some room for performance tuning.\n",
       "    var ws = {};\n",
       "\n",
       "    ws.close = function() {\n",
       "        comm.close()\n",
       "    };\n",
       "    ws.send = function(m) {\n",
       "        //console.log('sending', m);\n",
       "        comm.send(m);\n",
       "    };\n",
       "    // Register the callback with on_msg.\n",
       "    comm.on_msg(function(msg) {\n",
       "        //console.log('receiving', msg['content']['data'], msg);\n",
       "        // Pass the mpl event to the overriden (by mpl) onmessage function.\n",
       "        ws.onmessage(msg['content']['data'])\n",
       "    });\n",
       "    return ws;\n",
       "}\n",
       "\n",
       "mpl.mpl_figure_comm = function(comm, msg) {\n",
       "    // This is the function which gets called when the mpl process\n",
       "    // starts-up an IPython Comm through the \"matplotlib\" channel.\n",
       "\n",
       "    var id = msg.content.data.id;\n",
       "    // Get hold of the div created by the display call when the Comm\n",
       "    // socket was opened in Python.\n",
       "    var element = $(\"#\" + id);\n",
       "    var ws_proxy = comm_websocket_adapter(comm)\n",
       "\n",
       "    function ondownload(figure, format) {\n",
       "        window.open(figure.imageObj.src);\n",
       "    }\n",
       "\n",
       "    var fig = new mpl.figure(id, ws_proxy,\n",
       "                           ondownload,\n",
       "                           element.get(0));\n",
       "\n",
       "    // Call onopen now - mpl needs it, as it is assuming we've passed it a real\n",
       "    // web socket which is closed, not our websocket->open comm proxy.\n",
       "    ws_proxy.onopen();\n",
       "\n",
       "    fig.parent_element = element.get(0);\n",
       "    fig.cell_info = mpl.find_output_cell(\"<div id='\" + id + \"'></div>\");\n",
       "    if (!fig.cell_info) {\n",
       "        console.error(\"Failed to find cell for figure\", id, fig);\n",
       "        return;\n",
       "    }\n",
       "\n",
       "    var output_index = fig.cell_info[2]\n",
       "    var cell = fig.cell_info[0];\n",
       "\n",
       "};\n",
       "\n",
       "mpl.figure.prototype.handle_close = function(fig, msg) {\n",
       "    fig.root.unbind('remove')\n",
       "\n",
       "    // Update the output cell to use the data from the current canvas.\n",
       "    fig.push_to_output();\n",
       "    var dataURL = fig.canvas.toDataURL();\n",
       "    // Re-enable the keyboard manager in IPython - without this line, in FF,\n",
       "    // the notebook keyboard shortcuts fail.\n",
       "    IPython.keyboard_manager.enable()\n",
       "    $(fig.parent_element).html('<img src=\"' + dataURL + '\">');\n",
       "    fig.close_ws(fig, msg);\n",
       "}\n",
       "\n",
       "mpl.figure.prototype.close_ws = function(fig, msg){\n",
       "    fig.send_message('closing', msg);\n",
       "    // fig.ws.close()\n",
       "}\n",
       "\n",
       "mpl.figure.prototype.push_to_output = function(remove_interactive) {\n",
       "    // Turn the data on the canvas into data in the output cell.\n",
       "    var dataURL = this.canvas.toDataURL();\n",
       "    this.cell_info[1]['text/html'] = '<img src=\"' + dataURL + '\">';\n",
       "}\n",
       "\n",
       "mpl.figure.prototype.updated_canvas_event = function() {\n",
       "    // Tell IPython that the notebook contents must change.\n",
       "    IPython.notebook.set_dirty(true);\n",
       "    this.send_message(\"ack\", {});\n",
       "    var fig = this;\n",
       "    // Wait a second, then push the new image to the DOM so\n",
       "    // that it is saved nicely (might be nice to debounce this).\n",
       "    setTimeout(function () { fig.push_to_output() }, 1000);\n",
       "}\n",
       "\n",
       "mpl.figure.prototype._init_toolbar = function() {\n",
       "    var fig = this;\n",
       "\n",
       "    var nav_element = $('<div/>')\n",
       "    nav_element.attr('style', 'width: 100%');\n",
       "    this.root.append(nav_element);\n",
       "\n",
       "    // Define a callback function for later on.\n",
       "    function toolbar_event(event) {\n",
       "        return fig.toolbar_button_onclick(event['data']);\n",
       "    }\n",
       "    function toolbar_mouse_event(event) {\n",
       "        return fig.toolbar_button_onmouseover(event['data']);\n",
       "    }\n",
       "\n",
       "    for(var toolbar_ind in mpl.toolbar_items){\n",
       "        var name = mpl.toolbar_items[toolbar_ind][0];\n",
       "        var tooltip = mpl.toolbar_items[toolbar_ind][1];\n",
       "        var image = mpl.toolbar_items[toolbar_ind][2];\n",
       "        var method_name = mpl.toolbar_items[toolbar_ind][3];\n",
       "\n",
       "        if (!name) { continue; };\n",
       "\n",
       "        var button = $('<button class=\"btn btn-default\" href=\"#\" title=\"' + name + '\"><i class=\"fa ' + image + ' fa-lg\"></i></button>');\n",
       "        button.click(method_name, toolbar_event);\n",
       "        button.mouseover(tooltip, toolbar_mouse_event);\n",
       "        nav_element.append(button);\n",
       "    }\n",
       "\n",
       "    // Add the status bar.\n",
       "    var status_bar = $('<span class=\"mpl-message\" style=\"text-align:right; float: right;\"/>');\n",
       "    nav_element.append(status_bar);\n",
       "    this.message = status_bar[0];\n",
       "\n",
       "    // Add the close button to the window.\n",
       "    var buttongrp = $('<div class=\"btn-group inline pull-right\"></div>');\n",
       "    var button = $('<button class=\"btn btn-mini btn-primary\" href=\"#\" title=\"Stop Interaction\"><i class=\"fa fa-power-off icon-remove icon-large\"></i></button>');\n",
       "    button.click(function (evt) { fig.handle_close(fig, {}); } );\n",
       "    button.mouseover('Stop Interaction', toolbar_mouse_event);\n",
       "    buttongrp.append(button);\n",
       "    var titlebar = this.root.find($('.ui-dialog-titlebar'));\n",
       "    titlebar.prepend(buttongrp);\n",
       "}\n",
       "\n",
       "mpl.figure.prototype._root_extra_style = function(el){\n",
       "    var fig = this\n",
       "    el.on(\"remove\", function(){\n",
       "\tfig.close_ws(fig, {});\n",
       "    });\n",
       "}\n",
       "\n",
       "mpl.figure.prototype._canvas_extra_style = function(el){\n",
       "    // this is important to make the div 'focusable\n",
       "    el.attr('tabindex', 0)\n",
       "    // reach out to IPython and tell the keyboard manager to turn it's self\n",
       "    // off when our div gets focus\n",
       "\n",
       "    // location in version 3\n",
       "    if (IPython.notebook.keyboard_manager) {\n",
       "        IPython.notebook.keyboard_manager.register_events(el);\n",
       "    }\n",
       "    else {\n",
       "        // location in version 2\n",
       "        IPython.keyboard_manager.register_events(el);\n",
       "    }\n",
       "\n",
       "}\n",
       "\n",
       "mpl.figure.prototype._key_event_extra = function(event, name) {\n",
       "    var manager = IPython.notebook.keyboard_manager;\n",
       "    if (!manager)\n",
       "        manager = IPython.keyboard_manager;\n",
       "\n",
       "    // Check for shift+enter\n",
       "    if (event.shiftKey && event.which == 13) {\n",
       "        this.canvas_div.blur();\n",
       "        // select the cell after this one\n",
       "        var index = IPython.notebook.find_cell_index(this.cell_info[0]);\n",
       "        IPython.notebook.select(index + 1);\n",
       "    }\n",
       "}\n",
       "\n",
       "mpl.figure.prototype.handle_save = function(fig, msg) {\n",
       "    fig.ondownload(fig, null);\n",
       "}\n",
       "\n",
       "\n",
       "mpl.find_output_cell = function(html_output) {\n",
       "    // Return the cell and output element which can be found *uniquely* in the notebook.\n",
       "    // Note - this is a bit hacky, but it is done because the \"notebook_saving.Notebook\"\n",
       "    // IPython event is triggered only after the cells have been serialised, which for\n",
       "    // our purposes (turning an active figure into a static one), is too late.\n",
       "    var cells = IPython.notebook.get_cells();\n",
       "    var ncells = cells.length;\n",
       "    for (var i=0; i<ncells; i++) {\n",
       "        var cell = cells[i];\n",
       "        if (cell.cell_type === 'code'){\n",
       "            for (var j=0; j<cell.output_area.outputs.length; j++) {\n",
       "                var data = cell.output_area.outputs[j];\n",
       "                if (data.data) {\n",
       "                    // IPython >= 3 moved mimebundle to data attribute of output\n",
       "                    data = data.data;\n",
       "                }\n",
       "                if (data['text/html'] == html_output) {\n",
       "                    return [cell, data, j];\n",
       "                }\n",
       "            }\n",
       "        }\n",
       "    }\n",
       "}\n",
       "\n",
       "// Register the function which deals with the matplotlib target/channel.\n",
       "// The kernel may be null if the page has been refreshed.\n",
       "if (IPython.notebook.kernel != null) {\n",
       "    IPython.notebook.kernel.comm_manager.register_target('matplotlib', mpl.mpl_figure_comm);\n",
       "}\n"
      ],
      "text/plain": [
       "<IPython.core.display.Javascript object>"
      ]
     },
     "metadata": {},
     "output_type": "display_data"
    },
    {
     "data": {
      "text/html": [
       "<img src=\"data:image/png;base64,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\">"
      ],
      "text/plain": [
       "<IPython.core.display.HTML object>"
      ]
     },
     "metadata": {},
     "output_type": "display_data"
    }
   ],
   "source": [
    "fig2, ax2 = plt.subplots()\n",
    "ax2.hold(False)\n",
    "\n",
    "display(params_widget)\n",
    "display(widgets.HBox([plot_resolution_button, fit_resolution_button]))"
   ]
  },
  {
   "cell_type": "code",
   "execution_count": 8,
   "metadata": {
    "collapsed": false
   },
   "outputs": [
    {
     "data": {
      "application/javascript": [
       "IPython.OutputArea.auto_scroll_threshold = 9999;"
      ],
      "text/plain": [
       "<IPython.core.display.Javascript object>"
      ]
     },
     "metadata": {},
     "output_type": "display_data"
    }
   ],
   "source": [
    "%%javascript\n",
    "IPython.OutputArea.auto_scroll_threshold = 9999;"
   ]
  },
  {
   "cell_type": "code",
   "execution_count": 9,
   "metadata": {
    "collapsed": false
   },
   "outputs": [
    {
     "data": {
      "text/html": [
       "<script>\n",
       "code_show=true; \n",
       "function code_toggle() {\n",
       " if (code_show){\n",
       " $('div.input').hide();\n",
       " } else {\n",
       " $('div.input').show();\n",
       " }\n",
       " code_show = !code_show\n",
       "} \n",
       "$( document ).ready(code_toggle);\n",
       "</script>\n",
       "<form action=\"javascript:code_toggle()\"><input type=\"submit\" value=\"Click here to show/hide code.\"></form>"
      ],
      "text/plain": [
       "<IPython.core.display.HTML object>"
      ]
     },
     "execution_count": 9,
     "metadata": {},
     "output_type": "execute_result"
    }
   ],
   "source": [
    "from IPython.display import HTML\n",
    "\n",
    "HTML('''<script>\n",
    "code_show=true; \n",
    "function code_toggle() {\n",
    " if (code_show){\n",
    " $('div.input').hide();\n",
    " } else {\n",
    " $('div.input').show();\n",
    " }\n",
    " code_show = !code_show\n",
    "} \n",
    "$( document ).ready(code_toggle);\n",
    "</script>\n",
    "<form action=\"javascript:code_toggle()\"><input type=\"submit\" value=\"Click here to show/hide code.\"></form>''')"
   ]
  }
 ],
 "metadata": {
  "anaconda-cloud": {},
  "kernelspec": {
   "display_name": "Python 3",
   "language": "python",
   "name": "python3"
  },
  "language_info": {
   "codemirror_mode": {
    "name": "ipython",
    "version": 3
   },
   "file_extension": ".py",
   "mimetype": "text/x-python",
   "name": "python",
   "nbconvert_exporter": "python",
   "pygments_lexer": "ipython3",
   "version": "3.5.2"
  },
  "widgets": {
   "state": {
    "0010531512864eedaef063f56cfa8e8b": {
     "views": [
      {
       "cell_index": 9
      }
     ]
    },
    "01df5fa160ec4ef2b9a9e262704c3222": {
     "views": [
      {
       "cell_index": 9
      }
     ]
    },
    "036587d64bd4446daa0886f01b32d200": {
     "views": [
      {
       "cell_index": 5
      }
     ]
    },
    "039bbec1a1f240c28ea5bf89132cdb2f": {
     "views": [
      {
       "cell_index": 7
      }
     ]
    },
    "03af1012e90f49599e0198159c266d91": {
     "views": [
      {
       "cell_index": 5
      }
     ]
    },
    "0402d543d8e143589ab0d5f97aa7468a": {
     "views": [
      {
       "cell_index": 5
      }
     ]
    },
    "0852a9a1352d4bf6add73729fe8566fb": {
     "views": [
      {
       "cell_index": 5
      }
     ]
    },
    "09f840edd851454ca3c12a2dfec9e7ef": {
     "views": [
      {
       "cell_index": 5
      }
     ]
    },
    "0f23e5305820448a97d175bd913bcbab": {
     "views": [
      {
       "cell_index": 9
      }
     ]
    },
    "196b32329e7e4793a17bf468b12164db": {
     "views": [
      {
       "cell_index": 7
      }
     ]
    },
    "1c391b0ffaae4263b463b05bce8c2ed0": {
     "views": [
      {
       "cell_index": 7
      }
     ]
    },
    "1cd4f3d658dc4659b8ad969bcb105982": {
     "views": [
      {
       "cell_index": 9
      }
     ]
    },
    "1e9468cb3af34c4fa59aec967b01cc1e": {
     "views": [
      {
       "cell_index": 5
      }
     ]
    },
    "20eddaa93568400fa9ee4499aade1cf3": {
     "views": [
      {
       "cell_index": 5
      }
     ]
    },
    "224068d6f6784bcd867ab895c6686b7f": {
     "views": [
      {
       "cell_index": 5
      }
     ]
    },
    "248575a45ff0497bb7142c990520a881": {
     "views": [
      {
       "cell_index": 5
      }
     ]
    },
    "252b01f612e94c549984547a0756c588": {
     "views": [
      {
       "cell_index": 5
      }
     ]
    },
    "27fe36b8c384407e969cebbb10ad94c9": {
     "views": [
      {
       "cell_index": 9
      }
     ]
    },
    "29968adaf47b4907a27f4a5afb8acf81": {
     "views": [
      {
       "cell_index": 7
      }
     ]
    },
    "2a41c174ab514c52b826a0f1a9f97791": {
     "views": [
      {
       "cell_index": 9
      }
     ]
    },
    "2ae68cb20e7f456a97b6b4d1dc4747d9": {
     "views": [
      {
       "cell_index": 7
      }
     ]
    },
    "2d428b1152254e11be0ef11afe28d40a": {
     "views": [
      {
       "cell_index": 7
      }
     ]
    },
    "2e9c735f428b4bad8fc8568e638c7743": {
     "views": [
      {
       "cell_index": 5
      }
     ]
    },
    "2f52f20f62d6415486ce4418726dc8ea": {
     "views": [
      {
       "cell_index": 9
      }
     ]
    },
    "2ff804fb43ca44f9b74a378b605823d9": {
     "views": [
      {
       "cell_index": 7
      }
     ]
    },
    "300a60f83ce64fbcbc5dd70d6610f9dd": {
     "views": [
      {
       "cell_index": 7
      }
     ]
    },
    "30229ae270214b5f81a65970d614c240": {
     "views": [
      {
       "cell_index": 7
      }
     ]
    },
    "321fe71261734684ba8cba476fdb9ad0": {
     "views": [
      {
       "cell_index": 9
      }
     ]
    },
    "33e7ad3d716f4f238aa55bb42322df7d": {
     "views": [
      {
       "cell_index": 9
      }
     ]
    },
    "36d31362e0734caaa5c24838b017067b": {
     "views": [
      {
       "cell_index": 5
      }
     ]
    },
    "394558b1306845a6b2e6d59e392ed557": {
     "views": [
      {
       "cell_index": 7
      }
     ]
    },
    "39bced55452948318469fd941f890669": {
     "views": [
      {
       "cell_index": 9
      }
     ]
    },
    "39f32e67848e4043a9e660eb2f8e0f09": {
     "views": [
      {
       "cell_index": 5
      }
     ]
    },
    "3a0bb1a06b5a42d4892a77a1fe008b10": {
     "views": [
      {
       "cell_index": 9
      }
     ]
    },
    "3a132174c460480ab86323394e82ae4e": {
     "views": [
      {
       "cell_index": 5
      }
     ]
    },
    "3c1e909cc5264bf8a567e13cf3257ae8": {
     "views": [
      {
       "cell_index": 5
      }
     ]
    },
    "3c5877e4abd8436b9d8508d4f7334d08": {
     "views": [
      {
       "cell_index": 9
      }
     ]
    },
    "3d7619c1443b4786ba0e7e0bc7410132": {
     "views": [
      {
       "cell_index": 7
      }
     ]
    },
    "3ee8f57a0c854d55b1209bccb041bffa": {
     "views": [
      {
       "cell_index": 5
      }
     ]
    },
    "3fdf43e4b36444d5b099b4916acdcd66": {
     "views": [
      {
       "cell_index": 5
      }
     ]
    },
    "41ae47f9cef34b139334f1a133659ca8": {
     "views": [
      {
       "cell_index": 9
      }
     ]
    },
    "4246e81833634335a4063930b34f0d8f": {
     "views": [
      {
       "cell_index": 5
      }
     ]
    },
    "444cf100848447ee8002aed7617fee44": {
     "views": [
      {
       "cell_index": 9
      }
     ]
    },
    "4450c4051fbe4daca03f64162dba1109": {
     "views": [
      {
       "cell_index": 7
      }
     ]
    },
    "44a50b31ade047e0a5209418c7809645": {
     "views": [
      {
       "cell_index": 9
      }
     ]
    },
    "467df2adcfc7452f9056fc00a65c6fcf": {
     "views": [
      {
       "cell_index": 5
      }
     ]
    },
    "48a957e7134844e99cb74a8c32b723ed": {
     "views": [
      {
       "cell_index": 9
      }
     ]
    },
    "492a6e108141495794cea21c19a986c0": {
     "views": [
      {
       "cell_index": 9
      }
     ]
    },
    "4cc9f5ccf5354df1aa04fe43d279bd2e": {
     "views": [
      {
       "cell_index": 7
      }
     ]
    },
    "4cf59ca3e6bb481f9a56ae58fec76289": {
     "views": [
      {
       "cell_index": 5
      }
     ]
    },
    "4d374cadfbc0465986726130f333746a": {
     "views": [
      {
       "cell_index": 9
      }
     ]
    },
    "4e2ef045d57d428ba9a08b06c9248021": {
     "views": [
      {
       "cell_index": 7
      }
     ]
    },
    "509c49abf4a945a8bd1eae74bdebd9c7": {
     "views": [
      {
       "cell_index": 7
      }
     ]
    },
    "5211b0f350c647df9901e9602633139c": {
     "views": [
      {
       "cell_index": 7
      }
     ]
    },
    "522cef3cb36449ae8120856529af9650": {
     "views": [
      {
       "cell_index": 9
      }
     ]
    },
    "5407df3a684d47bc835bc255dd30cf71": {
     "views": [
      {
       "cell_index": 9
      }
     ]
    },
    "553eb102ff9c410f8aa2a10d9864556a": {
     "views": [
      {
       "cell_index": 7
      }
     ]
    },
    "55803490304c45c1b729582376b064d0": {
     "views": [
      {
       "cell_index": 5
      }
     ]
    },
    "55b0c86de2c1452b95f732088818ad54": {
     "views": [
      {
       "cell_index": 7
      }
     ]
    },
    "5632625993f94962ac4402e34a92614f": {
     "views": [
      {
       "cell_index": 9
      }
     ]
    },
    "5708c34fdb47486eb0ec3246ad68ddca": {
     "views": [
      {
       "cell_index": 9
      }
     ]
    },
    "5bc4ca9d06ba4478a76e5aed27c8dcda": {
     "views": [
      {
       "cell_index": 7
      }
     ]
    },
    "5dc4229a63594ecc9352b632b03835a4": {
     "views": [
      {
       "cell_index": 9
      }
     ]
    },
    "641f9a4cfc77492aba65f002c8d0db8f": {
     "views": [
      {
       "cell_index": 7
      }
     ]
    },
    "65082c6cc2fb435da5aa53d51a83e55a": {
     "views": [
      {
       "cell_index": 9
      }
     ]
    },
    "65a7c104611a44bbbd349821cb5bce79": {
     "views": [
      {
       "cell_index": 9
      }
     ]
    },
    "6abe6c2eda7043d4bf6290ef863c89b2": {
     "views": [
      {
       "cell_index": 9
      }
     ]
    },
    "6b21673507414b8e85e7ced6d165a0d8": {
     "views": [
      {
       "cell_index": 5
      }
     ]
    },
    "6ca2f0a43a614235806c2a8d36b2288c": {
     "views": [
      {
       "cell_index": 7
      }
     ]
    },
    "6ec74a5efc3b44b18d1d21ee5804a53c": {
     "views": [
      {
       "cell_index": 5
      }
     ]
    },
    "70c3cb1dc39e4594ae560a72694317e1": {
     "views": [
      {
       "cell_index": 9
      }
     ]
    },
    "714e812f56d7402096ecbb7dbcdadbef": {
     "views": [
      {
       "cell_index": 7
      }
     ]
    },
    "72bc3dcd54f346fd97468b7f0fc120f1": {
     "views": [
      {
       "cell_index": 9
      }
     ]
    },
    "73bad48ef9c34c82a2dba21153587e55": {
     "views": [
      {
       "cell_index": 9
      }
     ]
    },
    "744a8cd3927a413eb95f6cd9a566f025": {
     "views": [
      {
       "cell_index": 7
      }
     ]
    },
    "749b5a3e70fd47e98ce3f5e3f72e4ec6": {
     "views": [
      {
       "cell_index": 7
      }
     ]
    },
    "75e33b9faab945bd91c01b250e9e2255": {
     "views": [
      {
       "cell_index": 5
      }
     ]
    },
    "76234e06d8f34ba08d326cab4cc4ea38": {
     "views": [
      {
       "cell_index": 5
      }
     ]
    },
    "7b7e54afbce54a2aaf803e512b3760cb": {
     "views": [
      {
       "cell_index": 7
      }
     ]
    },
    "7dc9483d2f3a4a329f090d23149b9eb7": {
     "views": [
      {
       "cell_index": 7
      }
     ]
    },
    "7f911a9f1a95413c9306304486d13220": {
     "views": [
      {
       "cell_index": 7
      }
     ]
    },
    "8096be0ec7274d44b5fcea7df2569667": {
     "views": [
      {
       "cell_index": 5
      }
     ]
    },
    "81140409bc2e4331937943d50bd45424": {
     "views": [
      {
       "cell_index": 7
      }
     ]
    },
    "827646afb14e4eee9d23b49697721eb7": {
     "views": [
      {
       "cell_index": 9
      }
     ]
    },
    "8539e5a3c32e41f3a9e0965d6d072ca8": {
     "views": [
      {
       "cell_index": 9
      }
     ]
    },
    "85c5966d76184aab8b1ac06524a4187d": {
     "views": [
      {
       "cell_index": 9
      }
     ]
    },
    "879604dcdd8a4384807f3eb9f3c8c3b3": {
     "views": [
      {
       "cell_index": 5
      }
     ]
    },
    "89869e6d7f0b4f48a7974582aec03028": {
     "views": [
      {
       "cell_index": 7
      }
     ]
    },
    "899ceac05c794bd3a77562c0fb770dec": {
     "views": [
      {
       "cell_index": 7
      }
     ]
    },
    "8b9f25e8c46b476d93a44124a81aa3ad": {
     "views": [
      {
       "cell_index": 7
      }
     ]
    },
    "8bb2e0273a63427db8f691a28df305ea": {
     "views": [
      {
       "cell_index": 7
      }
     ]
    },
    "8c05e9f65ea84e9ab921e9898a14d268": {
     "views": [
      {
       "cell_index": 5
      }
     ]
    },
    "8e851ffbad8c48878e9d8dd8da8fd7af": {
     "views": [
      {
       "cell_index": 5
      }
     ]
    },
    "8f392023288e4167971d55197eb493cc": {
     "views": [
      {
       "cell_index": 7
      }
     ]
    },
    "90a42b48ef764ab79d9ef9f61f30c931": {
     "views": [
      {
       "cell_index": 9
      }
     ]
    },
    "91470e763739406bbb1ce5143b1bdafc": {
     "views": [
      {
       "cell_index": 5
      }
     ]
    },
    "9241224260714097a8a316cbbc062aa9": {
     "views": [
      {
       "cell_index": 5
      }
     ]
    },
    "92a494614f2a4bfa9227cb5c9c1b57ec": {
     "views": [
      {
       "cell_index": 7
      }
     ]
    },
    "93f9a7fe2d2e41599277642de61e0772": {
     "views": [
      {
       "cell_index": 9
      }
     ]
    },
    "98fb3ee4be18496895eb6d0a66a7c3f7": {
     "views": [
      {
       "cell_index": 9
      }
     ]
    },
    "9b0f8a3eeeda481da91c396dc35c98b7": {
     "views": [
      {
       "cell_index": 9
      }
     ]
    },
    "a01049d735df4d31a5da0b263b23a1db": {
     "views": [
      {
       "cell_index": 9
      }
     ]
    },
    "a10193913f2c476981483e5b8332ff26": {
     "views": [
      {
       "cell_index": 7
      }
     ]
    },
    "a1bb954553484930bb6fe9ea5599d66f": {
     "views": [
      {
       "cell_index": 5
      }
     ]
    },
    "a230403da8bf4ebba8a8c50723a1092c": {
     "views": [
      {
       "cell_index": 9
      }
     ]
    },
    "a2a99cbfd7a1479baa0f5e5ce1abac40": {
     "views": [
      {
       "cell_index": 7
      }
     ]
    },
    "a334fe63d05b4507b84bcc19e8a2b7fb": {
     "views": [
      {
       "cell_index": 5
      }
     ]
    },
    "a5be72e2db8a4925bacaa61a8b7453d9": {
     "views": [
      {
       "cell_index": 5
      }
     ]
    },
    "a6e216617fb34c0797ee0ae09e9766c5": {
     "views": [
      {
       "cell_index": 5
      }
     ]
    },
    "a7b7ab755df549cb9c1f923c333dff79": {
     "views": [
      {
       "cell_index": 5
      }
     ]
    },
    "a866bbdc6cca4df988da8ea6dd4877a9": {
     "views": [
      {
       "cell_index": 5
      }
     ]
    },
    "a8d07887cb0648b6a64d94f197e226e4": {
     "views": [
      {
       "cell_index": 5
      }
     ]
    },
    "a8f95f3d3693444b87aed7bcf2e623de": {
     "views": [
      {
       "cell_index": 9
      }
     ]
    },
    "a9b6c1cf74704598820063d8e4719b72": {
     "views": [
      {
       "cell_index": 5
      }
     ]
    },
    "aa720f3ba5d849b7b77e2798e9124bb1": {
     "views": [
      {
       "cell_index": 7
      }
     ]
    },
    "aaaac467c9c345e28e4fe4f60a851cae": {
     "views": [
      {
       "cell_index": 9
      }
     ]
    },
    "ae3b2b148fb2489099240ed95d2312d5": {
     "views": [
      {
       "cell_index": 7
      }
     ]
    },
    "aef763b8df5f4d8ab6ff565297aaf9ec": {
     "views": [
      {
       "cell_index": 5
      }
     ]
    },
    "af70da3f79c44908adee02d84a0de594": {
     "views": [
      {
       "cell_index": 7
      }
     ]
    },
    "b0818ad83f354a80a0bfd5d334c9d441": {
     "views": [
      {
       "cell_index": 7
      }
     ]
    },
    "b20e6c757efc49a1a7c565bd26f5d7ae": {
     "views": [
      {
       "cell_index": 7
      }
     ]
    },
    "b24a3f50f6e549329406b3c0f1b02fcf": {
     "views": [
      {
       "cell_index": 5
      }
     ]
    },
    "b515e7fc2da9497dadcb9a35fc9b04f1": {
     "views": [
      {
       "cell_index": 7
      }
     ]
    },
    "ba4c6821926249378b836360038c968e": {
     "views": [
      {
       "cell_index": 7
      }
     ]
    },
    "bcdf4a0a268d4b7b9d20375b8d001bcb": {
     "views": [
      {
       "cell_index": 5
      }
     ]
    },
    "bcf82f1f345d46f4890ca84ce678d3e0": {
     "views": [
      {
       "cell_index": 9
      }
     ]
    },
    "bda88f36cf8040c4943ed869ee8ccb46": {
     "views": [
      {
       "cell_index": 9
      }
     ]
    },
    "bf88291782254408a89f738425f6aeec": {
     "views": [
      {
       "cell_index": 7
      }
     ]
    },
    "bfff8bf93d284648b75d3ad31fbe4373": {
     "views": [
      {
       "cell_index": 5
      }
     ]
    },
    "c02223781258420396d9a1351a773d31": {
     "views": [
      {
       "cell_index": 9
      }
     ]
    },
    "c031aa343f2440108d57177ea3513b94": {
     "views": [
      {
       "cell_index": 5
      }
     ]
    },
    "c056faf650ee4bff9707a564baa636fe": {
     "views": [
      {
       "cell_index": 9
      }
     ]
    },
    "c0de9548a9714d98b5751f7864236e7f": {
     "views": [
      {
       "cell_index": 9
      }
     ]
    },
    "c1ec1b58feac4cb4bfbf443843c85f83": {
     "views": [
      {
       "cell_index": 7
      }
     ]
    },
    "c2c7982268014f3096ae961e003ba0df": {
     "views": [
      {
       "cell_index": 7
      }
     ]
    },
    "c2de0e5528b346bd8d466519b2e67bfb": {
     "views": [
      {
       "cell_index": 7
      }
     ]
    },
    "c4bc78c87d984d5399c1df6398af0eb0": {
     "views": [
      {
       "cell_index": 7
      }
     ]
    },
    "c53a4174f90540c7a9f49a661c5f9b0a": {
     "views": [
      {
       "cell_index": 9
      }
     ]
    },
    "c55c36b82cd6446491781e60b5939698": {
     "views": [
      {
       "cell_index": 9
      }
     ]
    },
    "c596b1cb2d6b40f48812afa3228bdafe": {
     "views": [
      {
       "cell_index": 5
      }
     ]
    },
    "ca87e5eda984400b8515dd5bd3ca8556": {
     "views": [
      {
       "cell_index": 7
      }
     ]
    },
    "cbf9741071dd4fc3a5501e5688d189f7": {
     "views": [
      {
       "cell_index": 5
      }
     ]
    },
    "ce13cbfbd2df43c898ba8207ce6437e7": {
     "views": [
      {
       "cell_index": 5
      }
     ]
    },
    "ce2cc070af0a4e10a0c4ee78c7609fd0": {
     "views": [
      {
       "cell_index": 9
      }
     ]
    },
    "cf0f3dace3814b38a24b412214aa765f": {
     "views": [
      {
       "cell_index": 7
      }
     ]
    },
    "d1d9b7bc41d84e7c9ddf39dd808aeba8": {
     "views": [
      {
       "cell_index": 7
      }
     ]
    },
    "d2d7894eec284706845ac53aace6161a": {
     "views": [
      {
       "cell_index": 9
      }
     ]
    },
    "d38de8a224b3486c997d28815c8759f7": {
     "views": [
      {
       "cell_index": 5
      }
     ]
    },
    "d433b04ee364454ebed0f6e90ad7c7e5": {
     "views": [
      {
       "cell_index": 5
      }
     ]
    },
    "d462149dc96d4b2b84364e85d584b140": {
     "views": [
      {
       "cell_index": 9
      }
     ]
    },
    "d5c86751ff15416eb0cdaad6cc533d84": {
     "views": [
      {
       "cell_index": 5
      }
     ]
    },
    "d797bbdc6cdf4792b622000657a9d1c6": {
     "views": [
      {
       "cell_index": 9
      }
     ]
    },
    "d9d6f60f2f554339b67a7ca5e85d3a8e": {
     "views": [
      {
       "cell_index": 9
      }
     ]
    },
    "dc448d22019a48e48c787d7154a6a5c9": {
     "views": [
      {
       "cell_index": 5
      }
     ]
    },
    "df3c42624fac4585b186702689dbea5f": {
     "views": [
      {
       "cell_index": 7
      }
     ]
    },
    "df54ad64cfb64754b157c8e04c11c407": {
     "views": [
      {
       "cell_index": 7
      }
     ]
    },
    "e0437fbc86ec42df86ecd6eb6826925b": {
     "views": [
      {
       "cell_index": 9
      }
     ]
    },
    "e0b284be9bd74b8db6a5fae985a82ce0": {
     "views": [
      {
       "cell_index": 9
      }
     ]
    },
    "e858a342924f405191084e08c1e71649": {
     "views": [
      {
       "cell_index": 5
      }
     ]
    },
    "e960d67cb24b4a5a9fe4ed760f12db25": {
     "views": [
      {
       "cell_index": 9
      }
     ]
    },
    "ec5b8e7b57ff4adb9cf7077b01a94036": {
     "views": [
      {
       "cell_index": 5
      }
     ]
    },
    "ecb6231a72cb4d659892a9022610ebc3": {
     "views": [
      {
       "cell_index": 5
      }
     ]
    },
    "eeb28cf1e9d643ec8ed2f664efdb9d20": {
     "views": [
      {
       "cell_index": 7
      }
     ]
    },
    "ef7dbb51ac834719af5d1d15a2d4a41a": {
     "views": [
      {
       "cell_index": 5
      }
     ]
    },
    "efb1ef49feea49f295a0462356785bd0": {
     "views": [
      {
       "cell_index": 7
      }
     ]
    },
    "f1b4891262b94f1b9828984409128ef0": {
     "views": [
      {
       "cell_index": 9
      }
     ]
    },
    "f31fdc1744d14c32b7f20410caa5681c": {
     "views": [
      {
       "cell_index": 5
      }
     ]
    },
    "f5377cb675a340728e0d5f267e8e8077": {
     "views": [
      {
       "cell_index": 5
      }
     ]
    },
    "f5f9a30c267642b8a3a89aeed7e8d4a9": {
     "views": [
      {
       "cell_index": 7
      }
     ]
    },
    "f6172686ac10438b9e7c1169739d6736": {
     "views": [
      {
       "cell_index": 9
      }
     ]
    },
    "f66d2c5543e141bf803c26009cd6e29c": {
     "views": [
      {
       "cell_index": 7
      }
     ]
    },
    "f9a4e5bd094540038eda2b409193821e": {
     "views": [
      {
       "cell_index": 7
      }
     ]
    },
    "fab78527373741b8950e04f401c909b1": {
     "views": [
      {
       "cell_index": 7
      }
     ]
    }
   },
   "version": "1.2.0"
  }
 },
 "nbformat": 4,
 "nbformat_minor": 1
}
