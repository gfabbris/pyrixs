{
 "cells": [
  {
   "cell_type": "code",
   "execution_count": 1,
   "metadata": {
    "collapsed": false,
    "scrolled": true
   },
   "outputs": [],
   "source": [
    "import numpy as np\n",
    "import pandas as pd\n",
    "\n",
    "import os, glob\n",
    "\n",
    "from collections import OrderedDict\n",
    "\n",
    "import matplotlib\n",
    "import matplotlib.pyplot as plt\n",
    "\n",
    "import ipywidgets as widgets\n",
    "from traitlets import dlink\n",
    "from IPython.display import display\n",
    "\n",
    "from pyrixs import process2d\n",
    "\n",
    "%matplotlib nbagg"
   ]
  },
  {
   "cell_type": "code",
   "execution_count": 2,
   "metadata": {
    "collapsed": true
   },
   "outputs": [],
   "source": [
    "global Image\n",
    "Image = OrderedDict({\n",
    "'photon_events' : np.array([]),\n",
    "'background' : np.array([]),\n",
    "'raw_image' : np.array([]),\n",
    "'name' : '',\n",
    "'curvature' : np.array([1.4400754935337945e-7, 0.007263554392365014, 500]),\n",
    "'image_meta' : '',\n",
    "'spectrum' : np.array([])\n",
    "})"
   ]
  },
  {
   "cell_type": "code",
   "execution_count": 3,
   "metadata": {
    "collapsed": false
   },
   "outputs": [],
   "source": [
    "######################################\n",
    "# Widgets\n",
    "######################################\n",
    "\n",
    "# Folder to search images for\n",
    "images_folder_widget = widgets.Text(\n",
    "    value='test_images/*.nxs',  \n",
    "    description='Search path',\n",
    "    width='500px',\n",
    ")\n",
    "\n",
    "# Folder to search background for\n",
    "bkg_folder_widget = widgets.Text(\n",
    "    value='test_images/*.nxs',  \n",
    "    description='Search path',\n",
    "    width='500px',\n",
    ")\n",
    "\n",
    "# Display and pick spectra\n",
    "select_images_widget = widgets.Select(\n",
    "            options=process2d.get_all_image_names(images_folder_widget.value),\n",
    "            description='Select images'\n",
    "            )\n",
    "\n",
    "# Display and pick bkg\n",
    "select_bkg_widget = widgets.Select(\n",
    "            options=process2d.get_all_image_names(bkg_folder_widget.value),\n",
    "            description='Select background'\n",
    "            )\n",
    "# Select with image to plot\n",
    "select_plot_widget = widgets.Select(\n",
    "            options=['Raw image', 'Background', 'Background removed Image'],\n",
    "            description='Select option'\n",
    "            )\n",
    "\n",
    "display_image_button = widgets.Button(\n",
    "    description='Plot',\n",
    ")\n",
    "\n",
    "# Initialize values for background removal\n",
    "threshold_widget = widgets.FloatText(description='Threshold', value=1e6)\n",
    "sig1_widget = widgets.FloatText(description='Sigma 1', value=100)\n",
    "sig2_widget = widgets.FloatText(description='Sigma 2', value=100)\n",
    "sig3_widget = widgets.FloatText(description='Sigma 3', value=100)\n",
    "\n",
    "# Select which background removal to use\n",
    "select_clean_widget = widgets.Select(\n",
    "            options=['Threshold', 'Standard Deviation'],\n",
    "            description='Select cleaning method'\n",
    "            )\n",
    "\n",
    "load_clean_button = widgets.Button(\n",
    "    description='Load and clean data',\n",
    ")\n",
    "\n",
    "\n",
    "rejected_pixel_widget = widgets.Textarea(description='Rejected pixels', value='Image: 0.00%\\nBackground: 0.00%')\n",
    "\n",
    "display_imagecurv_button = widgets.Button(\n",
    "    description='Plot',\n",
    ")\n",
    "\n",
    "x2_widget = widgets.FloatText(description='x^2', value=Image['curvature'][0])\n",
    "x1_widget = widgets.FloatText(description='x^1', value=Image['curvature'][1])\n",
    "x0_widget = widgets.FloatText(description='x^0', value=Image['curvature'][2])\n",
    "\n",
    "fit_curvature_button = widgets.Button(\n",
    "    description='Fit',\n",
    ")\n",
    "\n",
    "plot_resolution_button = widgets.Button(\n",
    "    description='Plot',\n",
    ")\n",
    "\n",
    "names = ['FWHM', 'center', 'amplitude', 'offset']\n",
    "values = [3., 100., 10, 0.]\n",
    "params_widget = widgets.HBox([widgets.FloatText(description=name, value=value, width='150px') \n",
    "                              for name, value in zip(names, values)])\n",
    "\n",
    "fit_resolution_button = widgets.Button(\n",
    "    description='Fit',\n",
    ")"
   ]
  },
  {
   "cell_type": "code",
   "execution_count": 4,
   "metadata": {
    "collapsed": false
   },
   "outputs": [],
   "source": [
    "###########################\n",
    "## Widget logic\n",
    "###########################\n",
    "def update_select_images_widget(change):\n",
    "    \"\"\"Refresh images for selection\"\"\"\n",
    "    select_images_widget.options = process2d.get_all_image_names(images_folder_widget.value)\n",
    "    \n",
    "images_folder_widget.on_submit(update_select_images_widget)\n",
    "\n",
    "def update_select_bkg_widget(change):\n",
    "    \"\"\"Refresh images for selection\"\"\"\n",
    "    select_bkg_widget.options = process2d.get_all_image_names(bkg_folder_widget.value)\n",
    "    \n",
    "bkg_folder_widget.on_submit(update_select_bkg_widget)\n",
    "\n",
    "def wrap_load_clean(change):\n",
    "        \n",
    "    Image['raw_image'] = process2d.load_photon_events(images_folder_widget.value,\n",
    "                                                      select_images_widget.value)\n",
    "    \n",
    "    Image['background'] = process2d.load_photon_events(bkg_folder_widget.value,\n",
    "                                                       select_bkg_widget.value)\n",
    "    \n",
    "    ###Each data file has three images, but background only one!!!! ###\n",
    "    Image['background'][:,2] *= 3.0\n",
    "    \n",
    "    if select_clean_widget.value == 'Threshold':\n",
    "        thHigh = threshold_widget.value\n",
    "        Image['raw_image'], im_pixels = process2d.clean_image_threshold(Image['raw_image'], thHigh)\n",
    "        Image['background'], bkg_pixels = process2d.clean_image_threshold(Image['background'], thHigh)\n",
    "        \n",
    "    elif select_clean_widget.value == 'Standard Deviation':\n",
    "        sig1 = sig1_widget.value\n",
    "        sig2 = sig2_widget.value\n",
    "        sig3 = sig3_widget.value\n",
    "        Image['raw_image'], im_pixels = process2d.clean_image_std(Image['raw_image'], [sig1,sig2,sig3], Image['curvature'])\n",
    "        Image['background'], bkg_pixels = process2d.clean_image_std(Image['background'], [sig1,sig2,sig3], Image['curvature'])\n",
    "    \n",
    "    Image['photon_events'] = np.copy(Image['raw_image'])\n",
    "    Image['photon_events'][:,2] -= Image['background'][:,2]\n",
    "    \n",
    "    rejected_pixel_widget.value = 'Image: {:.2f}%\\nBackground: {:.2f}%'.format(im_pixels*100.,bkg_pixels*100.)\n",
    "\n",
    "    Image['raw_image'] = Image['raw_image'][np.isfinite(Image['raw_image'][:,2]),:]\n",
    "    Image['background'] = Image['background'][np.isfinite(Image['background'][:,2]),:]\n",
    "    Image['photon_events'] = Image['photon_events'][np.isfinite(Image['photon_events'][:,2]),:]\n",
    "    \n",
    "load_clean_button.on_click(wrap_load_clean)\n",
    "\n",
    "def wrap_display_image(change):\n",
    "    \"\"\"Load and plot images and curvature\"\"\"\n",
    "    \n",
    "    fig1.clf()\n",
    "    plt.figure(fig1.number)\n",
    "    ax1 = plt.gca()\n",
    "    ax1.hold(False)\n",
    "    \n",
    "    if Image['raw_image'].shape == (0,):\n",
    "        raise ValueError('Image is not loaded!')\n",
    "    \n",
    "    if select_plot_widget.value == 'Raw image':\n",
    "        im_plot = np.copy(Image['raw_image'])\n",
    "    elif select_plot_widget.value == 'Background':\n",
    "        im_plot = np.copy(Image['background'])\n",
    "    elif select_plot_widget.value == 'Background removed Image':\n",
    "        im_plot = np.copy(Image['photon_events'])\n",
    "        \n",
    "    if select_images_widget.value[-3:] == 'nxs':\n",
    "        image_artist = process2d.plot_imshow(ax1, im_plot)\n",
    "    else:\n",
    "        image_artist = process2d.plot_scatter(ax1, im_plot)\n",
    "        \n",
    "display_image_button.on_click(wrap_display_image)\n",
    "\n",
    "def wrap_display_imagecurv(change):\n",
    "    \"\"\"Load and plot images and curvature\"\"\"\n",
    "    \n",
    "    fig2.clf()\n",
    "    plt.figure(fig2.number)\n",
    "    ax2 = plt.gca()\n",
    "    ax2.hold(False)\n",
    "    \n",
    "    if select_images_widget.value[-3:] == 'nxs':\n",
    "        image_artist = process2d.plot_imshow(ax2, Image['photon_events'])\n",
    "    else:\n",
    "        image_artist = process2d.plot_scatter(ax2, Image['photon_events'])\n",
    "        \n",
    "    process2d.plot_curvature(ax2, Image['curvature'], Image['photon_events'])\n",
    "\n",
    "display_imagecurv_button.on_click(wrap_display_imagecurv)\n",
    "\n",
    "def wrap_curvature(change):\n",
    "    \"\"\"Assign values in curvature widget to Images['curvature']\"\"\"\n",
    "    Image['curvature'] = np.array([x2_widget.value, x1_widget.value, x0_widget.value])\n",
    "\n",
    "x2_widget.observe(wrap_curvature)\n",
    "x1_widget.observe(wrap_curvature)\n",
    "x0_widget.observe(wrap_curvature)\n",
    "    \n",
    "def wrap_fit_curvature(change):\n",
    "    \"\"\"Fit the curvature and assign values into widgets\"\"\"\n",
    "    curvature = process2d.fit_curvature(Image['photon_events'], CONSTANT_OFFSET = x0_widget.value)\n",
    "    Image['curvature'] = curvature\n",
    "    x2_widget.value = curvature[0]\n",
    "    x1_widget.value = curvature[1]\n",
    "    #print(\"x^2 value {}\".format(curvature[0]))\n",
    "    #print(\"x^1 value {}\".format(curvature[1]))\n",
    "    #print(\"x^0 value {}\".format(curvature[2]))\n",
    "    wrap_curvature(None)\n",
    "    wrap_display_imagecurv(None)\n",
    "\n",
    "fit_curvature_button.on_click(wrap_fit_curvature)        \n",
    "        \n",
    "def wrap_plot_resolution(change):\n",
    "    \"\"\"Extract the spectrum and plot it on ax2\"\"\"\n",
    "    spectrum = process2d.extract(Image['photon_events'],\n",
    "                                Image['curvature'])\n",
    "    Image['spectrum'] = spectrum\n",
    "    process2d.plot_resolution(ax3, spectrum)\n",
    "\n",
    "plot_resolution_button.on_click(wrap_plot_resolution)\n",
    "\n",
    "def wrap_fit_resolution(change):\n",
    "    xmin, xmax, _, _ = ax3.axis()\n",
    "    resolution = process2d.fit_resolution(Image['spectrum'], xmin=xmin, xmax=xmax)\n",
    "    for widget, value in zip(params_widget.children, resolution):\n",
    "        widget.value = value\n",
    "    \n",
    "    try:\n",
    "        resolution_line.remove()\n",
    "    except NameError:\n",
    "        pass\n",
    "    resolution_line, *_ = process2d.plot_resolution_fit(ax3, Image['spectrum'], resolution,\n",
    "                                  xmin=xmin, xmax=xmax)\n",
    "\n",
    "fit_resolution_button.on_click(wrap_fit_resolution)"
   ]
  },
  {
   "cell_type": "markdown",
   "metadata": {},
   "source": [
    "## List and choose image"
   ]
  },
  {
   "cell_type": "code",
   "execution_count": 5,
   "metadata": {
    "collapsed": false,
    "scrolled": true
   },
   "outputs": [],
   "source": [
    "display(images_folder_widget, select_images_widget)"
   ]
  },
  {
   "cell_type": "markdown",
   "metadata": {},
   "source": [
    "## List and choose background"
   ]
  },
  {
   "cell_type": "code",
   "execution_count": 6,
   "metadata": {
    "collapsed": true
   },
   "outputs": [],
   "source": [
    "display(bkg_folder_widget, select_bkg_widget)"
   ]
  },
  {
   "cell_type": "markdown",
   "metadata": {},
   "source": [
    "## Clean and load image and background "
   ]
  },
  {
   "cell_type": "code",
   "execution_count": 7,
   "metadata": {
    "collapsed": false
   },
   "outputs": [],
   "source": [
    "display(widgets.HBox((select_clean_widget, widgets.VBox((threshold_widget,sig1_widget,sig2_widget,sig3_widget)),load_clean_button)))\n",
    "\n",
    "display(rejected_pixel_widget)"
   ]
  },
  {
   "cell_type": "markdown",
   "metadata": {},
   "source": [
    "## Plot image and background"
   ]
  },
  {
   "cell_type": "code",
   "execution_count": 8,
   "metadata": {
    "collapsed": false,
    "scrolled": false
   },
   "outputs": [
    {
     "data": {
      "application/javascript": [
       "/* Put everything inside the global mpl namespace */\n",
       "window.mpl = {};\n",
       "\n",
       "mpl.get_websocket_type = function() {\n",
       "    if (typeof(WebSocket) !== 'undefined') {\n",
       "        return WebSocket;\n",
       "    } else if (typeof(MozWebSocket) !== 'undefined') {\n",
       "        return MozWebSocket;\n",
       "    } else {\n",
       "        alert('Your browser does not have WebSocket support.' +\n",
       "              'Please try Chrome, Safari or Firefox ≥ 6. ' +\n",
       "              'Firefox 4 and 5 are also supported but you ' +\n",
       "              'have to enable WebSockets in about:config.');\n",
       "    };\n",
       "}\n",
       "\n",
       "mpl.figure = function(figure_id, websocket, ondownload, parent_element) {\n",
       "    this.id = figure_id;\n",
       "\n",
       "    this.ws = websocket;\n",
       "\n",
       "    this.supports_binary = (this.ws.binaryType != undefined);\n",
       "\n",
       "    if (!this.supports_binary) {\n",
       "        var warnings = document.getElementById(\"mpl-warnings\");\n",
       "        if (warnings) {\n",
       "            warnings.style.display = 'block';\n",
       "            warnings.textContent = (\n",
       "                \"This browser does not support binary websocket messages. \" +\n",
       "                    \"Performance may be slow.\");\n",
       "        }\n",
       "    }\n",
       "\n",
       "    this.imageObj = new Image();\n",
       "\n",
       "    this.context = undefined;\n",
       "    this.message = undefined;\n",
       "    this.canvas = undefined;\n",
       "    this.rubberband_canvas = undefined;\n",
       "    this.rubberband_context = undefined;\n",
       "    this.format_dropdown = undefined;\n",
       "\n",
       "    this.image_mode = 'full';\n",
       "\n",
       "    this.root = $('<div/>');\n",
       "    this._root_extra_style(this.root)\n",
       "    this.root.attr('style', 'display: inline-block');\n",
       "\n",
       "    $(parent_element).append(this.root);\n",
       "\n",
       "    this._init_header(this);\n",
       "    this._init_canvas(this);\n",
       "    this._init_toolbar(this);\n",
       "\n",
       "    var fig = this;\n",
       "\n",
       "    this.waiting = false;\n",
       "\n",
       "    this.ws.onopen =  function () {\n",
       "            fig.send_message(\"supports_binary\", {value: fig.supports_binary});\n",
       "            fig.send_message(\"send_image_mode\", {});\n",
       "            fig.send_message(\"refresh\", {});\n",
       "        }\n",
       "\n",
       "    this.imageObj.onload = function() {\n",
       "            if (fig.image_mode == 'full') {\n",
       "                // Full images could contain transparency (where diff images\n",
       "                // almost always do), so we need to clear the canvas so that\n",
       "                // there is no ghosting.\n",
       "                fig.context.clearRect(0, 0, fig.canvas.width, fig.canvas.height);\n",
       "            }\n",
       "            fig.context.drawImage(fig.imageObj, 0, 0);\n",
       "        };\n",
       "\n",
       "    this.imageObj.onunload = function() {\n",
       "        this.ws.close();\n",
       "    }\n",
       "\n",
       "    this.ws.onmessage = this._make_on_message_function(this);\n",
       "\n",
       "    this.ondownload = ondownload;\n",
       "}\n",
       "\n",
       "mpl.figure.prototype._init_header = function() {\n",
       "    var titlebar = $(\n",
       "        '<div class=\"ui-dialog-titlebar ui-widget-header ui-corner-all ' +\n",
       "        'ui-helper-clearfix\"/>');\n",
       "    var titletext = $(\n",
       "        '<div class=\"ui-dialog-title\" style=\"width: 100%; ' +\n",
       "        'text-align: center; padding: 3px;\"/>');\n",
       "    titlebar.append(titletext)\n",
       "    this.root.append(titlebar);\n",
       "    this.header = titletext[0];\n",
       "}\n",
       "\n",
       "\n",
       "\n",
       "mpl.figure.prototype._canvas_extra_style = function(canvas_div) {\n",
       "\n",
       "}\n",
       "\n",
       "\n",
       "mpl.figure.prototype._root_extra_style = function(canvas_div) {\n",
       "\n",
       "}\n",
       "\n",
       "mpl.figure.prototype._init_canvas = function() {\n",
       "    var fig = this;\n",
       "\n",
       "    var canvas_div = $('<div/>');\n",
       "\n",
       "    canvas_div.attr('style', 'position: relative; clear: both; outline: 0');\n",
       "\n",
       "    function canvas_keyboard_event(event) {\n",
       "        return fig.key_event(event, event['data']);\n",
       "    }\n",
       "\n",
       "    canvas_div.keydown('key_press', canvas_keyboard_event);\n",
       "    canvas_div.keyup('key_release', canvas_keyboard_event);\n",
       "    this.canvas_div = canvas_div\n",
       "    this._canvas_extra_style(canvas_div)\n",
       "    this.root.append(canvas_div);\n",
       "\n",
       "    var canvas = $('<canvas/>');\n",
       "    canvas.addClass('mpl-canvas');\n",
       "    canvas.attr('style', \"left: 0; top: 0; z-index: 0; outline: 0\")\n",
       "\n",
       "    this.canvas = canvas[0];\n",
       "    this.context = canvas[0].getContext(\"2d\");\n",
       "\n",
       "    var rubberband = $('<canvas/>');\n",
       "    rubberband.attr('style', \"position: absolute; left: 0; top: 0; z-index: 1;\")\n",
       "\n",
       "    var pass_mouse_events = true;\n",
       "\n",
       "    canvas_div.resizable({\n",
       "        start: function(event, ui) {\n",
       "            pass_mouse_events = false;\n",
       "        },\n",
       "        resize: function(event, ui) {\n",
       "            fig.request_resize(ui.size.width, ui.size.height);\n",
       "        },\n",
       "        stop: function(event, ui) {\n",
       "            pass_mouse_events = true;\n",
       "            fig.request_resize(ui.size.width, ui.size.height);\n",
       "        },\n",
       "    });\n",
       "\n",
       "    function mouse_event_fn(event) {\n",
       "        if (pass_mouse_events)\n",
       "            return fig.mouse_event(event, event['data']);\n",
       "    }\n",
       "\n",
       "    rubberband.mousedown('button_press', mouse_event_fn);\n",
       "    rubberband.mouseup('button_release', mouse_event_fn);\n",
       "    // Throttle sequential mouse events to 1 every 20ms.\n",
       "    rubberband.mousemove('motion_notify', mouse_event_fn);\n",
       "\n",
       "    rubberband.mouseenter('figure_enter', mouse_event_fn);\n",
       "    rubberband.mouseleave('figure_leave', mouse_event_fn);\n",
       "\n",
       "    canvas_div.on(\"wheel\", function (event) {\n",
       "        event = event.originalEvent;\n",
       "        event['data'] = 'scroll'\n",
       "        if (event.deltaY < 0) {\n",
       "            event.step = 1;\n",
       "        } else {\n",
       "            event.step = -1;\n",
       "        }\n",
       "        mouse_event_fn(event);\n",
       "    });\n",
       "\n",
       "    canvas_div.append(canvas);\n",
       "    canvas_div.append(rubberband);\n",
       "\n",
       "    this.rubberband = rubberband;\n",
       "    this.rubberband_canvas = rubberband[0];\n",
       "    this.rubberband_context = rubberband[0].getContext(\"2d\");\n",
       "    this.rubberband_context.strokeStyle = \"#000000\";\n",
       "\n",
       "    this._resize_canvas = function(width, height) {\n",
       "        // Keep the size of the canvas, canvas container, and rubber band\n",
       "        // canvas in synch.\n",
       "        canvas_div.css('width', width)\n",
       "        canvas_div.css('height', height)\n",
       "\n",
       "        canvas.attr('width', width);\n",
       "        canvas.attr('height', height);\n",
       "\n",
       "        rubberband.attr('width', width);\n",
       "        rubberband.attr('height', height);\n",
       "    }\n",
       "\n",
       "    // Set the figure to an initial 600x600px, this will subsequently be updated\n",
       "    // upon first draw.\n",
       "    this._resize_canvas(600, 600);\n",
       "\n",
       "    // Disable right mouse context menu.\n",
       "    $(this.rubberband_canvas).bind(\"contextmenu\",function(e){\n",
       "        return false;\n",
       "    });\n",
       "\n",
       "    function set_focus () {\n",
       "        canvas.focus();\n",
       "        canvas_div.focus();\n",
       "    }\n",
       "\n",
       "    window.setTimeout(set_focus, 100);\n",
       "}\n",
       "\n",
       "mpl.figure.prototype._init_toolbar = function() {\n",
       "    var fig = this;\n",
       "\n",
       "    var nav_element = $('<div/>')\n",
       "    nav_element.attr('style', 'width: 100%');\n",
       "    this.root.append(nav_element);\n",
       "\n",
       "    // Define a callback function for later on.\n",
       "    function toolbar_event(event) {\n",
       "        return fig.toolbar_button_onclick(event['data']);\n",
       "    }\n",
       "    function toolbar_mouse_event(event) {\n",
       "        return fig.toolbar_button_onmouseover(event['data']);\n",
       "    }\n",
       "\n",
       "    for(var toolbar_ind in mpl.toolbar_items) {\n",
       "        var name = mpl.toolbar_items[toolbar_ind][0];\n",
       "        var tooltip = mpl.toolbar_items[toolbar_ind][1];\n",
       "        var image = mpl.toolbar_items[toolbar_ind][2];\n",
       "        var method_name = mpl.toolbar_items[toolbar_ind][3];\n",
       "\n",
       "        if (!name) {\n",
       "            // put a spacer in here.\n",
       "            continue;\n",
       "        }\n",
       "        var button = $('<button/>');\n",
       "        button.addClass('ui-button ui-widget ui-state-default ui-corner-all ' +\n",
       "                        'ui-button-icon-only');\n",
       "        button.attr('role', 'button');\n",
       "        button.attr('aria-disabled', 'false');\n",
       "        button.click(method_name, toolbar_event);\n",
       "        button.mouseover(tooltip, toolbar_mouse_event);\n",
       "\n",
       "        var icon_img = $('<span/>');\n",
       "        icon_img.addClass('ui-button-icon-primary ui-icon');\n",
       "        icon_img.addClass(image);\n",
       "        icon_img.addClass('ui-corner-all');\n",
       "\n",
       "        var tooltip_span = $('<span/>');\n",
       "        tooltip_span.addClass('ui-button-text');\n",
       "        tooltip_span.html(tooltip);\n",
       "\n",
       "        button.append(icon_img);\n",
       "        button.append(tooltip_span);\n",
       "\n",
       "        nav_element.append(button);\n",
       "    }\n",
       "\n",
       "    var fmt_picker_span = $('<span/>');\n",
       "\n",
       "    var fmt_picker = $('<select/>');\n",
       "    fmt_picker.addClass('mpl-toolbar-option ui-widget ui-widget-content');\n",
       "    fmt_picker_span.append(fmt_picker);\n",
       "    nav_element.append(fmt_picker_span);\n",
       "    this.format_dropdown = fmt_picker[0];\n",
       "\n",
       "    for (var ind in mpl.extensions) {\n",
       "        var fmt = mpl.extensions[ind];\n",
       "        var option = $(\n",
       "            '<option/>', {selected: fmt === mpl.default_extension}).html(fmt);\n",
       "        fmt_picker.append(option)\n",
       "    }\n",
       "\n",
       "    // Add hover states to the ui-buttons\n",
       "    $( \".ui-button\" ).hover(\n",
       "        function() { $(this).addClass(\"ui-state-hover\");},\n",
       "        function() { $(this).removeClass(\"ui-state-hover\");}\n",
       "    );\n",
       "\n",
       "    var status_bar = $('<span class=\"mpl-message\"/>');\n",
       "    nav_element.append(status_bar);\n",
       "    this.message = status_bar[0];\n",
       "}\n",
       "\n",
       "mpl.figure.prototype.request_resize = function(x_pixels, y_pixels) {\n",
       "    // Request matplotlib to resize the figure. Matplotlib will then trigger a resize in the client,\n",
       "    // which will in turn request a refresh of the image.\n",
       "    this.send_message('resize', {'width': x_pixels, 'height': y_pixels});\n",
       "}\n",
       "\n",
       "mpl.figure.prototype.send_message = function(type, properties) {\n",
       "    properties['type'] = type;\n",
       "    properties['figure_id'] = this.id;\n",
       "    this.ws.send(JSON.stringify(properties));\n",
       "}\n",
       "\n",
       "mpl.figure.prototype.send_draw_message = function() {\n",
       "    if (!this.waiting) {\n",
       "        this.waiting = true;\n",
       "        this.ws.send(JSON.stringify({type: \"draw\", figure_id: this.id}));\n",
       "    }\n",
       "}\n",
       "\n",
       "\n",
       "mpl.figure.prototype.handle_save = function(fig, msg) {\n",
       "    var format_dropdown = fig.format_dropdown;\n",
       "    var format = format_dropdown.options[format_dropdown.selectedIndex].value;\n",
       "    fig.ondownload(fig, format);\n",
       "}\n",
       "\n",
       "\n",
       "mpl.figure.prototype.handle_resize = function(fig, msg) {\n",
       "    var size = msg['size'];\n",
       "    if (size[0] != fig.canvas.width || size[1] != fig.canvas.height) {\n",
       "        fig._resize_canvas(size[0], size[1]);\n",
       "        fig.send_message(\"refresh\", {});\n",
       "    };\n",
       "}\n",
       "\n",
       "mpl.figure.prototype.handle_rubberband = function(fig, msg) {\n",
       "    var x0 = msg['x0'];\n",
       "    var y0 = fig.canvas.height - msg['y0'];\n",
       "    var x1 = msg['x1'];\n",
       "    var y1 = fig.canvas.height - msg['y1'];\n",
       "    x0 = Math.floor(x0) + 0.5;\n",
       "    y0 = Math.floor(y0) + 0.5;\n",
       "    x1 = Math.floor(x1) + 0.5;\n",
       "    y1 = Math.floor(y1) + 0.5;\n",
       "    var min_x = Math.min(x0, x1);\n",
       "    var min_y = Math.min(y0, y1);\n",
       "    var width = Math.abs(x1 - x0);\n",
       "    var height = Math.abs(y1 - y0);\n",
       "\n",
       "    fig.rubberband_context.clearRect(\n",
       "        0, 0, fig.canvas.width, fig.canvas.height);\n",
       "\n",
       "    fig.rubberband_context.strokeRect(min_x, min_y, width, height);\n",
       "}\n",
       "\n",
       "mpl.figure.prototype.handle_figure_label = function(fig, msg) {\n",
       "    // Updates the figure title.\n",
       "    fig.header.textContent = msg['label'];\n",
       "}\n",
       "\n",
       "mpl.figure.prototype.handle_cursor = function(fig, msg) {\n",
       "    var cursor = msg['cursor'];\n",
       "    switch(cursor)\n",
       "    {\n",
       "    case 0:\n",
       "        cursor = 'pointer';\n",
       "        break;\n",
       "    case 1:\n",
       "        cursor = 'default';\n",
       "        break;\n",
       "    case 2:\n",
       "        cursor = 'crosshair';\n",
       "        break;\n",
       "    case 3:\n",
       "        cursor = 'move';\n",
       "        break;\n",
       "    }\n",
       "    fig.rubberband_canvas.style.cursor = cursor;\n",
       "}\n",
       "\n",
       "mpl.figure.prototype.handle_message = function(fig, msg) {\n",
       "    fig.message.textContent = msg['message'];\n",
       "}\n",
       "\n",
       "mpl.figure.prototype.handle_draw = function(fig, msg) {\n",
       "    // Request the server to send over a new figure.\n",
       "    fig.send_draw_message();\n",
       "}\n",
       "\n",
       "mpl.figure.prototype.handle_image_mode = function(fig, msg) {\n",
       "    fig.image_mode = msg['mode'];\n",
       "}\n",
       "\n",
       "mpl.figure.prototype.updated_canvas_event = function() {\n",
       "    // Called whenever the canvas gets updated.\n",
       "    this.send_message(\"ack\", {});\n",
       "}\n",
       "\n",
       "// A function to construct a web socket function for onmessage handling.\n",
       "// Called in the figure constructor.\n",
       "mpl.figure.prototype._make_on_message_function = function(fig) {\n",
       "    return function socket_on_message(evt) {\n",
       "        if (evt.data instanceof Blob) {\n",
       "            /* FIXME: We get \"Resource interpreted as Image but\n",
       "             * transferred with MIME type text/plain:\" errors on\n",
       "             * Chrome.  But how to set the MIME type?  It doesn't seem\n",
       "             * to be part of the websocket stream */\n",
       "            evt.data.type = \"image/png\";\n",
       "\n",
       "            /* Free the memory for the previous frames */\n",
       "            if (fig.imageObj.src) {\n",
       "                (window.URL || window.webkitURL).revokeObjectURL(\n",
       "                    fig.imageObj.src);\n",
       "            }\n",
       "\n",
       "            fig.imageObj.src = (window.URL || window.webkitURL).createObjectURL(\n",
       "                evt.data);\n",
       "            fig.updated_canvas_event();\n",
       "            fig.waiting = false;\n",
       "            return;\n",
       "        }\n",
       "        else if (typeof evt.data === 'string' && evt.data.slice(0, 21) == \"data:image/png;base64\") {\n",
       "            fig.imageObj.src = evt.data;\n",
       "            fig.updated_canvas_event();\n",
       "            fig.waiting = false;\n",
       "            return;\n",
       "        }\n",
       "\n",
       "        var msg = JSON.parse(evt.data);\n",
       "        var msg_type = msg['type'];\n",
       "\n",
       "        // Call the  \"handle_{type}\" callback, which takes\n",
       "        // the figure and JSON message as its only arguments.\n",
       "        try {\n",
       "            var callback = fig[\"handle_\" + msg_type];\n",
       "        } catch (e) {\n",
       "            console.log(\"No handler for the '\" + msg_type + \"' message type: \", msg);\n",
       "            return;\n",
       "        }\n",
       "\n",
       "        if (callback) {\n",
       "            try {\n",
       "                // console.log(\"Handling '\" + msg_type + \"' message: \", msg);\n",
       "                callback(fig, msg);\n",
       "            } catch (e) {\n",
       "                console.log(\"Exception inside the 'handler_\" + msg_type + \"' callback:\", e, e.stack, msg);\n",
       "            }\n",
       "        }\n",
       "    };\n",
       "}\n",
       "\n",
       "// from http://stackoverflow.com/questions/1114465/getting-mouse-location-in-canvas\n",
       "mpl.findpos = function(e) {\n",
       "    //this section is from http://www.quirksmode.org/js/events_properties.html\n",
       "    var targ;\n",
       "    if (!e)\n",
       "        e = window.event;\n",
       "    if (e.target)\n",
       "        targ = e.target;\n",
       "    else if (e.srcElement)\n",
       "        targ = e.srcElement;\n",
       "    if (targ.nodeType == 3) // defeat Safari bug\n",
       "        targ = targ.parentNode;\n",
       "\n",
       "    // jQuery normalizes the pageX and pageY\n",
       "    // pageX,Y are the mouse positions relative to the document\n",
       "    // offset() returns the position of the element relative to the document\n",
       "    var x = e.pageX - $(targ).offset().left;\n",
       "    var y = e.pageY - $(targ).offset().top;\n",
       "\n",
       "    return {\"x\": x, \"y\": y};\n",
       "};\n",
       "\n",
       "/*\n",
       " * return a copy of an object with only non-object keys\n",
       " * we need this to avoid circular references\n",
       " * http://stackoverflow.com/a/24161582/3208463\n",
       " */\n",
       "function simpleKeys (original) {\n",
       "  return Object.keys(original).reduce(function (obj, key) {\n",
       "    if (typeof original[key] !== 'object')\n",
       "        obj[key] = original[key]\n",
       "    return obj;\n",
       "  }, {});\n",
       "}\n",
       "\n",
       "mpl.figure.prototype.mouse_event = function(event, name) {\n",
       "    var canvas_pos = mpl.findpos(event)\n",
       "\n",
       "    if (name === 'button_press')\n",
       "    {\n",
       "        this.canvas.focus();\n",
       "        this.canvas_div.focus();\n",
       "    }\n",
       "\n",
       "    var x = canvas_pos.x;\n",
       "    var y = canvas_pos.y;\n",
       "\n",
       "    this.send_message(name, {x: x, y: y, button: event.button,\n",
       "                             step: event.step,\n",
       "                             guiEvent: simpleKeys(event)});\n",
       "\n",
       "    /* This prevents the web browser from automatically changing to\n",
       "     * the text insertion cursor when the button is pressed.  We want\n",
       "     * to control all of the cursor setting manually through the\n",
       "     * 'cursor' event from matplotlib */\n",
       "    event.preventDefault();\n",
       "    return false;\n",
       "}\n",
       "\n",
       "mpl.figure.prototype._key_event_extra = function(event, name) {\n",
       "    // Handle any extra behaviour associated with a key event\n",
       "}\n",
       "\n",
       "mpl.figure.prototype.key_event = function(event, name) {\n",
       "\n",
       "    // Prevent repeat events\n",
       "    if (name == 'key_press')\n",
       "    {\n",
       "        if (event.which === this._key)\n",
       "            return;\n",
       "        else\n",
       "            this._key = event.which;\n",
       "    }\n",
       "    if (name == 'key_release')\n",
       "        this._key = null;\n",
       "\n",
       "    var value = '';\n",
       "    if (event.ctrlKey && event.which != 17)\n",
       "        value += \"ctrl+\";\n",
       "    if (event.altKey && event.which != 18)\n",
       "        value += \"alt+\";\n",
       "    if (event.shiftKey && event.which != 16)\n",
       "        value += \"shift+\";\n",
       "\n",
       "    value += 'k';\n",
       "    value += event.which.toString();\n",
       "\n",
       "    this._key_event_extra(event, name);\n",
       "\n",
       "    this.send_message(name, {key: value,\n",
       "                             guiEvent: simpleKeys(event)});\n",
       "    return false;\n",
       "}\n",
       "\n",
       "mpl.figure.prototype.toolbar_button_onclick = function(name) {\n",
       "    if (name == 'download') {\n",
       "        this.handle_save(this, null);\n",
       "    } else {\n",
       "        this.send_message(\"toolbar_button\", {name: name});\n",
       "    }\n",
       "};\n",
       "\n",
       "mpl.figure.prototype.toolbar_button_onmouseover = function(tooltip) {\n",
       "    this.message.textContent = tooltip;\n",
       "};\n",
       "mpl.toolbar_items = [[\"Home\", \"Reset original view\", \"fa fa-home icon-home\", \"home\"], [\"Back\", \"Back to  previous view\", \"fa fa-arrow-left icon-arrow-left\", \"back\"], [\"Forward\", \"Forward to next view\", \"fa fa-arrow-right icon-arrow-right\", \"forward\"], [\"\", \"\", \"\", \"\"], [\"Pan\", \"Pan axes with left mouse, zoom with right\", \"fa fa-arrows icon-move\", \"pan\"], [\"Zoom\", \"Zoom to rectangle\", \"fa fa-square-o icon-check-empty\", \"zoom\"], [\"\", \"\", \"\", \"\"], [\"Download\", \"Download plot\", \"fa fa-floppy-o icon-save\", \"download\"]];\n",
       "\n",
       "mpl.extensions = [\"eps\", \"jpeg\", \"pdf\", \"png\", \"ps\", \"raw\", \"svg\", \"tif\"];\n",
       "\n",
       "mpl.default_extension = \"png\";var comm_websocket_adapter = function(comm) {\n",
       "    // Create a \"websocket\"-like object which calls the given IPython comm\n",
       "    // object with the appropriate methods. Currently this is a non binary\n",
       "    // socket, so there is still some room for performance tuning.\n",
       "    var ws = {};\n",
       "\n",
       "    ws.close = function() {\n",
       "        comm.close()\n",
       "    };\n",
       "    ws.send = function(m) {\n",
       "        //console.log('sending', m);\n",
       "        comm.send(m);\n",
       "    };\n",
       "    // Register the callback with on_msg.\n",
       "    comm.on_msg(function(msg) {\n",
       "        //console.log('receiving', msg['content']['data'], msg);\n",
       "        // Pass the mpl event to the overriden (by mpl) onmessage function.\n",
       "        ws.onmessage(msg['content']['data'])\n",
       "    });\n",
       "    return ws;\n",
       "}\n",
       "\n",
       "mpl.mpl_figure_comm = function(comm, msg) {\n",
       "    // This is the function which gets called when the mpl process\n",
       "    // starts-up an IPython Comm through the \"matplotlib\" channel.\n",
       "\n",
       "    var id = msg.content.data.id;\n",
       "    // Get hold of the div created by the display call when the Comm\n",
       "    // socket was opened in Python.\n",
       "    var element = $(\"#\" + id);\n",
       "    var ws_proxy = comm_websocket_adapter(comm)\n",
       "\n",
       "    function ondownload(figure, format) {\n",
       "        window.open(figure.imageObj.src);\n",
       "    }\n",
       "\n",
       "    var fig = new mpl.figure(id, ws_proxy,\n",
       "                           ondownload,\n",
       "                           element.get(0));\n",
       "\n",
       "    // Call onopen now - mpl needs it, as it is assuming we've passed it a real\n",
       "    // web socket which is closed, not our websocket->open comm proxy.\n",
       "    ws_proxy.onopen();\n",
       "\n",
       "    fig.parent_element = element.get(0);\n",
       "    fig.cell_info = mpl.find_output_cell(\"<div id='\" + id + \"'></div>\");\n",
       "    if (!fig.cell_info) {\n",
       "        console.error(\"Failed to find cell for figure\", id, fig);\n",
       "        return;\n",
       "    }\n",
       "\n",
       "    var output_index = fig.cell_info[2]\n",
       "    var cell = fig.cell_info[0];\n",
       "\n",
       "};\n",
       "\n",
       "mpl.figure.prototype.handle_close = function(fig, msg) {\n",
       "    fig.root.unbind('remove')\n",
       "\n",
       "    // Update the output cell to use the data from the current canvas.\n",
       "    fig.push_to_output();\n",
       "    var dataURL = fig.canvas.toDataURL();\n",
       "    // Re-enable the keyboard manager in IPython - without this line, in FF,\n",
       "    // the notebook keyboard shortcuts fail.\n",
       "    IPython.keyboard_manager.enable()\n",
       "    $(fig.parent_element).html('<img src=\"' + dataURL + '\">');\n",
       "    fig.close_ws(fig, msg);\n",
       "}\n",
       "\n",
       "mpl.figure.prototype.close_ws = function(fig, msg){\n",
       "    fig.send_message('closing', msg);\n",
       "    // fig.ws.close()\n",
       "}\n",
       "\n",
       "mpl.figure.prototype.push_to_output = function(remove_interactive) {\n",
       "    // Turn the data on the canvas into data in the output cell.\n",
       "    var dataURL = this.canvas.toDataURL();\n",
       "    this.cell_info[1]['text/html'] = '<img src=\"' + dataURL + '\">';\n",
       "}\n",
       "\n",
       "mpl.figure.prototype.updated_canvas_event = function() {\n",
       "    // Tell IPython that the notebook contents must change.\n",
       "    IPython.notebook.set_dirty(true);\n",
       "    this.send_message(\"ack\", {});\n",
       "    var fig = this;\n",
       "    // Wait a second, then push the new image to the DOM so\n",
       "    // that it is saved nicely (might be nice to debounce this).\n",
       "    setTimeout(function () { fig.push_to_output() }, 1000);\n",
       "}\n",
       "\n",
       "mpl.figure.prototype._init_toolbar = function() {\n",
       "    var fig = this;\n",
       "\n",
       "    var nav_element = $('<div/>')\n",
       "    nav_element.attr('style', 'width: 100%');\n",
       "    this.root.append(nav_element);\n",
       "\n",
       "    // Define a callback function for later on.\n",
       "    function toolbar_event(event) {\n",
       "        return fig.toolbar_button_onclick(event['data']);\n",
       "    }\n",
       "    function toolbar_mouse_event(event) {\n",
       "        return fig.toolbar_button_onmouseover(event['data']);\n",
       "    }\n",
       "\n",
       "    for(var toolbar_ind in mpl.toolbar_items){\n",
       "        var name = mpl.toolbar_items[toolbar_ind][0];\n",
       "        var tooltip = mpl.toolbar_items[toolbar_ind][1];\n",
       "        var image = mpl.toolbar_items[toolbar_ind][2];\n",
       "        var method_name = mpl.toolbar_items[toolbar_ind][3];\n",
       "\n",
       "        if (!name) { continue; };\n",
       "\n",
       "        var button = $('<button class=\"btn btn-default\" href=\"#\" title=\"' + name + '\"><i class=\"fa ' + image + ' fa-lg\"></i></button>');\n",
       "        button.click(method_name, toolbar_event);\n",
       "        button.mouseover(tooltip, toolbar_mouse_event);\n",
       "        nav_element.append(button);\n",
       "    }\n",
       "\n",
       "    // Add the status bar.\n",
       "    var status_bar = $('<span class=\"mpl-message\" style=\"text-align:right; float: right;\"/>');\n",
       "    nav_element.append(status_bar);\n",
       "    this.message = status_bar[0];\n",
       "\n",
       "    // Add the close button to the window.\n",
       "    var buttongrp = $('<div class=\"btn-group inline pull-right\"></div>');\n",
       "    var button = $('<button class=\"btn btn-mini btn-primary\" href=\"#\" title=\"Stop Interaction\"><i class=\"fa fa-power-off icon-remove icon-large\"></i></button>');\n",
       "    button.click(function (evt) { fig.handle_close(fig, {}); } );\n",
       "    button.mouseover('Stop Interaction', toolbar_mouse_event);\n",
       "    buttongrp.append(button);\n",
       "    var titlebar = this.root.find($('.ui-dialog-titlebar'));\n",
       "    titlebar.prepend(buttongrp);\n",
       "}\n",
       "\n",
       "mpl.figure.prototype._root_extra_style = function(el){\n",
       "    var fig = this\n",
       "    el.on(\"remove\", function(){\n",
       "\tfig.close_ws(fig, {});\n",
       "    });\n",
       "}\n",
       "\n",
       "mpl.figure.prototype._canvas_extra_style = function(el){\n",
       "    // this is important to make the div 'focusable\n",
       "    el.attr('tabindex', 0)\n",
       "    // reach out to IPython and tell the keyboard manager to turn it's self\n",
       "    // off when our div gets focus\n",
       "\n",
       "    // location in version 3\n",
       "    if (IPython.notebook.keyboard_manager) {\n",
       "        IPython.notebook.keyboard_manager.register_events(el);\n",
       "    }\n",
       "    else {\n",
       "        // location in version 2\n",
       "        IPython.keyboard_manager.register_events(el);\n",
       "    }\n",
       "\n",
       "}\n",
       "\n",
       "mpl.figure.prototype._key_event_extra = function(event, name) {\n",
       "    var manager = IPython.notebook.keyboard_manager;\n",
       "    if (!manager)\n",
       "        manager = IPython.keyboard_manager;\n",
       "\n",
       "    // Check for shift+enter\n",
       "    if (event.shiftKey && event.which == 13) {\n",
       "        this.canvas_div.blur();\n",
       "        // select the cell after this one\n",
       "        var index = IPython.notebook.find_cell_index(this.cell_info[0]);\n",
       "        IPython.notebook.select(index + 1);\n",
       "    }\n",
       "}\n",
       "\n",
       "mpl.figure.prototype.handle_save = function(fig, msg) {\n",
       "    fig.ondownload(fig, null);\n",
       "}\n",
       "\n",
       "\n",
       "mpl.find_output_cell = function(html_output) {\n",
       "    // Return the cell and output element which can be found *uniquely* in the notebook.\n",
       "    // Note - this is a bit hacky, but it is done because the \"notebook_saving.Notebook\"\n",
       "    // IPython event is triggered only after the cells have been serialised, which for\n",
       "    // our purposes (turning an active figure into a static one), is too late.\n",
       "    var cells = IPython.notebook.get_cells();\n",
       "    var ncells = cells.length;\n",
       "    for (var i=0; i<ncells; i++) {\n",
       "        var cell = cells[i];\n",
       "        if (cell.cell_type === 'code'){\n",
       "            for (var j=0; j<cell.output_area.outputs.length; j++) {\n",
       "                var data = cell.output_area.outputs[j];\n",
       "                if (data.data) {\n",
       "                    // IPython >= 3 moved mimebundle to data attribute of output\n",
       "                    data = data.data;\n",
       "                }\n",
       "                if (data['text/html'] == html_output) {\n",
       "                    return [cell, data, j];\n",
       "                }\n",
       "            }\n",
       "        }\n",
       "    }\n",
       "}\n",
       "\n",
       "// Register the function which deals with the matplotlib target/channel.\n",
       "// The kernel may be null if the page has been refreshed.\n",
       "if (IPython.notebook.kernel != null) {\n",
       "    IPython.notebook.kernel.comm_manager.register_target('matplotlib', mpl.mpl_figure_comm);\n",
       "}\n"
      ],
      "text/plain": [
       "<IPython.core.display.Javascript object>"
      ]
     },
     "metadata": {},
     "output_type": "display_data"
    },
    {
     "data": {
      "text/html": [
       "<img src=\"data:image/png;base64,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\">"
      ],
      "text/plain": [
       "<IPython.core.display.HTML object>"
      ]
     },
     "metadata": {},
     "output_type": "display_data"
    }
   ],
   "source": [
    "fig1, ax1 = plt.subplots()\n",
    "ax1.hold(False)\n",
    "\n",
    "display(widgets.HBox((select_plot_widget, display_image_button)))"
   ]
  },
  {
   "cell_type": "markdown",
   "metadata": {},
   "source": [
    "## Plot image"
   ]
  },
  {
   "cell_type": "code",
   "execution_count": 9,
   "metadata": {
    "collapsed": false,
    "scrolled": false
   },
   "outputs": [
    {
     "data": {
      "application/javascript": [
       "/* Put everything inside the global mpl namespace */\n",
       "window.mpl = {};\n",
       "\n",
       "mpl.get_websocket_type = function() {\n",
       "    if (typeof(WebSocket) !== 'undefined') {\n",
       "        return WebSocket;\n",
       "    } else if (typeof(MozWebSocket) !== 'undefined') {\n",
       "        return MozWebSocket;\n",
       "    } else {\n",
       "        alert('Your browser does not have WebSocket support.' +\n",
       "              'Please try Chrome, Safari or Firefox ≥ 6. ' +\n",
       "              'Firefox 4 and 5 are also supported but you ' +\n",
       "              'have to enable WebSockets in about:config.');\n",
       "    };\n",
       "}\n",
       "\n",
       "mpl.figure = function(figure_id, websocket, ondownload, parent_element) {\n",
       "    this.id = figure_id;\n",
       "\n",
       "    this.ws = websocket;\n",
       "\n",
       "    this.supports_binary = (this.ws.binaryType != undefined);\n",
       "\n",
       "    if (!this.supports_binary) {\n",
       "        var warnings = document.getElementById(\"mpl-warnings\");\n",
       "        if (warnings) {\n",
       "            warnings.style.display = 'block';\n",
       "            warnings.textContent = (\n",
       "                \"This browser does not support binary websocket messages. \" +\n",
       "                    \"Performance may be slow.\");\n",
       "        }\n",
       "    }\n",
       "\n",
       "    this.imageObj = new Image();\n",
       "\n",
       "    this.context = undefined;\n",
       "    this.message = undefined;\n",
       "    this.canvas = undefined;\n",
       "    this.rubberband_canvas = undefined;\n",
       "    this.rubberband_context = undefined;\n",
       "    this.format_dropdown = undefined;\n",
       "\n",
       "    this.image_mode = 'full';\n",
       "\n",
       "    this.root = $('<div/>');\n",
       "    this._root_extra_style(this.root)\n",
       "    this.root.attr('style', 'display: inline-block');\n",
       "\n",
       "    $(parent_element).append(this.root);\n",
       "\n",
       "    this._init_header(this);\n",
       "    this._init_canvas(this);\n",
       "    this._init_toolbar(this);\n",
       "\n",
       "    var fig = this;\n",
       "\n",
       "    this.waiting = false;\n",
       "\n",
       "    this.ws.onopen =  function () {\n",
       "            fig.send_message(\"supports_binary\", {value: fig.supports_binary});\n",
       "            fig.send_message(\"send_image_mode\", {});\n",
       "            fig.send_message(\"refresh\", {});\n",
       "        }\n",
       "\n",
       "    this.imageObj.onload = function() {\n",
       "            if (fig.image_mode == 'full') {\n",
       "                // Full images could contain transparency (where diff images\n",
       "                // almost always do), so we need to clear the canvas so that\n",
       "                // there is no ghosting.\n",
       "                fig.context.clearRect(0, 0, fig.canvas.width, fig.canvas.height);\n",
       "            }\n",
       "            fig.context.drawImage(fig.imageObj, 0, 0);\n",
       "        };\n",
       "\n",
       "    this.imageObj.onunload = function() {\n",
       "        this.ws.close();\n",
       "    }\n",
       "\n",
       "    this.ws.onmessage = this._make_on_message_function(this);\n",
       "\n",
       "    this.ondownload = ondownload;\n",
       "}\n",
       "\n",
       "mpl.figure.prototype._init_header = function() {\n",
       "    var titlebar = $(\n",
       "        '<div class=\"ui-dialog-titlebar ui-widget-header ui-corner-all ' +\n",
       "        'ui-helper-clearfix\"/>');\n",
       "    var titletext = $(\n",
       "        '<div class=\"ui-dialog-title\" style=\"width: 100%; ' +\n",
       "        'text-align: center; padding: 3px;\"/>');\n",
       "    titlebar.append(titletext)\n",
       "    this.root.append(titlebar);\n",
       "    this.header = titletext[0];\n",
       "}\n",
       "\n",
       "\n",
       "\n",
       "mpl.figure.prototype._canvas_extra_style = function(canvas_div) {\n",
       "\n",
       "}\n",
       "\n",
       "\n",
       "mpl.figure.prototype._root_extra_style = function(canvas_div) {\n",
       "\n",
       "}\n",
       "\n",
       "mpl.figure.prototype._init_canvas = function() {\n",
       "    var fig = this;\n",
       "\n",
       "    var canvas_div = $('<div/>');\n",
       "\n",
       "    canvas_div.attr('style', 'position: relative; clear: both; outline: 0');\n",
       "\n",
       "    function canvas_keyboard_event(event) {\n",
       "        return fig.key_event(event, event['data']);\n",
       "    }\n",
       "\n",
       "    canvas_div.keydown('key_press', canvas_keyboard_event);\n",
       "    canvas_div.keyup('key_release', canvas_keyboard_event);\n",
       "    this.canvas_div = canvas_div\n",
       "    this._canvas_extra_style(canvas_div)\n",
       "    this.root.append(canvas_div);\n",
       "\n",
       "    var canvas = $('<canvas/>');\n",
       "    canvas.addClass('mpl-canvas');\n",
       "    canvas.attr('style', \"left: 0; top: 0; z-index: 0; outline: 0\")\n",
       "\n",
       "    this.canvas = canvas[0];\n",
       "    this.context = canvas[0].getContext(\"2d\");\n",
       "\n",
       "    var rubberband = $('<canvas/>');\n",
       "    rubberband.attr('style', \"position: absolute; left: 0; top: 0; z-index: 1;\")\n",
       "\n",
       "    var pass_mouse_events = true;\n",
       "\n",
       "    canvas_div.resizable({\n",
       "        start: function(event, ui) {\n",
       "            pass_mouse_events = false;\n",
       "        },\n",
       "        resize: function(event, ui) {\n",
       "            fig.request_resize(ui.size.width, ui.size.height);\n",
       "        },\n",
       "        stop: function(event, ui) {\n",
       "            pass_mouse_events = true;\n",
       "            fig.request_resize(ui.size.width, ui.size.height);\n",
       "        },\n",
       "    });\n",
       "\n",
       "    function mouse_event_fn(event) {\n",
       "        if (pass_mouse_events)\n",
       "            return fig.mouse_event(event, event['data']);\n",
       "    }\n",
       "\n",
       "    rubberband.mousedown('button_press', mouse_event_fn);\n",
       "    rubberband.mouseup('button_release', mouse_event_fn);\n",
       "    // Throttle sequential mouse events to 1 every 20ms.\n",
       "    rubberband.mousemove('motion_notify', mouse_event_fn);\n",
       "\n",
       "    rubberband.mouseenter('figure_enter', mouse_event_fn);\n",
       "    rubberband.mouseleave('figure_leave', mouse_event_fn);\n",
       "\n",
       "    canvas_div.on(\"wheel\", function (event) {\n",
       "        event = event.originalEvent;\n",
       "        event['data'] = 'scroll'\n",
       "        if (event.deltaY < 0) {\n",
       "            event.step = 1;\n",
       "        } else {\n",
       "            event.step = -1;\n",
       "        }\n",
       "        mouse_event_fn(event);\n",
       "    });\n",
       "\n",
       "    canvas_div.append(canvas);\n",
       "    canvas_div.append(rubberband);\n",
       "\n",
       "    this.rubberband = rubberband;\n",
       "    this.rubberband_canvas = rubberband[0];\n",
       "    this.rubberband_context = rubberband[0].getContext(\"2d\");\n",
       "    this.rubberband_context.strokeStyle = \"#000000\";\n",
       "\n",
       "    this._resize_canvas = function(width, height) {\n",
       "        // Keep the size of the canvas, canvas container, and rubber band\n",
       "        // canvas in synch.\n",
       "        canvas_div.css('width', width)\n",
       "        canvas_div.css('height', height)\n",
       "\n",
       "        canvas.attr('width', width);\n",
       "        canvas.attr('height', height);\n",
       "\n",
       "        rubberband.attr('width', width);\n",
       "        rubberband.attr('height', height);\n",
       "    }\n",
       "\n",
       "    // Set the figure to an initial 600x600px, this will subsequently be updated\n",
       "    // upon first draw.\n",
       "    this._resize_canvas(600, 600);\n",
       "\n",
       "    // Disable right mouse context menu.\n",
       "    $(this.rubberband_canvas).bind(\"contextmenu\",function(e){\n",
       "        return false;\n",
       "    });\n",
       "\n",
       "    function set_focus () {\n",
       "        canvas.focus();\n",
       "        canvas_div.focus();\n",
       "    }\n",
       "\n",
       "    window.setTimeout(set_focus, 100);\n",
       "}\n",
       "\n",
       "mpl.figure.prototype._init_toolbar = function() {\n",
       "    var fig = this;\n",
       "\n",
       "    var nav_element = $('<div/>')\n",
       "    nav_element.attr('style', 'width: 100%');\n",
       "    this.root.append(nav_element);\n",
       "\n",
       "    // Define a callback function for later on.\n",
       "    function toolbar_event(event) {\n",
       "        return fig.toolbar_button_onclick(event['data']);\n",
       "    }\n",
       "    function toolbar_mouse_event(event) {\n",
       "        return fig.toolbar_button_onmouseover(event['data']);\n",
       "    }\n",
       "\n",
       "    for(var toolbar_ind in mpl.toolbar_items) {\n",
       "        var name = mpl.toolbar_items[toolbar_ind][0];\n",
       "        var tooltip = mpl.toolbar_items[toolbar_ind][1];\n",
       "        var image = mpl.toolbar_items[toolbar_ind][2];\n",
       "        var method_name = mpl.toolbar_items[toolbar_ind][3];\n",
       "\n",
       "        if (!name) {\n",
       "            // put a spacer in here.\n",
       "            continue;\n",
       "        }\n",
       "        var button = $('<button/>');\n",
       "        button.addClass('ui-button ui-widget ui-state-default ui-corner-all ' +\n",
       "                        'ui-button-icon-only');\n",
       "        button.attr('role', 'button');\n",
       "        button.attr('aria-disabled', 'false');\n",
       "        button.click(method_name, toolbar_event);\n",
       "        button.mouseover(tooltip, toolbar_mouse_event);\n",
       "\n",
       "        var icon_img = $('<span/>');\n",
       "        icon_img.addClass('ui-button-icon-primary ui-icon');\n",
       "        icon_img.addClass(image);\n",
       "        icon_img.addClass('ui-corner-all');\n",
       "\n",
       "        var tooltip_span = $('<span/>');\n",
       "        tooltip_span.addClass('ui-button-text');\n",
       "        tooltip_span.html(tooltip);\n",
       "\n",
       "        button.append(icon_img);\n",
       "        button.append(tooltip_span);\n",
       "\n",
       "        nav_element.append(button);\n",
       "    }\n",
       "\n",
       "    var fmt_picker_span = $('<span/>');\n",
       "\n",
       "    var fmt_picker = $('<select/>');\n",
       "    fmt_picker.addClass('mpl-toolbar-option ui-widget ui-widget-content');\n",
       "    fmt_picker_span.append(fmt_picker);\n",
       "    nav_element.append(fmt_picker_span);\n",
       "    this.format_dropdown = fmt_picker[0];\n",
       "\n",
       "    for (var ind in mpl.extensions) {\n",
       "        var fmt = mpl.extensions[ind];\n",
       "        var option = $(\n",
       "            '<option/>', {selected: fmt === mpl.default_extension}).html(fmt);\n",
       "        fmt_picker.append(option)\n",
       "    }\n",
       "\n",
       "    // Add hover states to the ui-buttons\n",
       "    $( \".ui-button\" ).hover(\n",
       "        function() { $(this).addClass(\"ui-state-hover\");},\n",
       "        function() { $(this).removeClass(\"ui-state-hover\");}\n",
       "    );\n",
       "\n",
       "    var status_bar = $('<span class=\"mpl-message\"/>');\n",
       "    nav_element.append(status_bar);\n",
       "    this.message = status_bar[0];\n",
       "}\n",
       "\n",
       "mpl.figure.prototype.request_resize = function(x_pixels, y_pixels) {\n",
       "    // Request matplotlib to resize the figure. Matplotlib will then trigger a resize in the client,\n",
       "    // which will in turn request a refresh of the image.\n",
       "    this.send_message('resize', {'width': x_pixels, 'height': y_pixels});\n",
       "}\n",
       "\n",
       "mpl.figure.prototype.send_message = function(type, properties) {\n",
       "    properties['type'] = type;\n",
       "    properties['figure_id'] = this.id;\n",
       "    this.ws.send(JSON.stringify(properties));\n",
       "}\n",
       "\n",
       "mpl.figure.prototype.send_draw_message = function() {\n",
       "    if (!this.waiting) {\n",
       "        this.waiting = true;\n",
       "        this.ws.send(JSON.stringify({type: \"draw\", figure_id: this.id}));\n",
       "    }\n",
       "}\n",
       "\n",
       "\n",
       "mpl.figure.prototype.handle_save = function(fig, msg) {\n",
       "    var format_dropdown = fig.format_dropdown;\n",
       "    var format = format_dropdown.options[format_dropdown.selectedIndex].value;\n",
       "    fig.ondownload(fig, format);\n",
       "}\n",
       "\n",
       "\n",
       "mpl.figure.prototype.handle_resize = function(fig, msg) {\n",
       "    var size = msg['size'];\n",
       "    if (size[0] != fig.canvas.width || size[1] != fig.canvas.height) {\n",
       "        fig._resize_canvas(size[0], size[1]);\n",
       "        fig.send_message(\"refresh\", {});\n",
       "    };\n",
       "}\n",
       "\n",
       "mpl.figure.prototype.handle_rubberband = function(fig, msg) {\n",
       "    var x0 = msg['x0'];\n",
       "    var y0 = fig.canvas.height - msg['y0'];\n",
       "    var x1 = msg['x1'];\n",
       "    var y1 = fig.canvas.height - msg['y1'];\n",
       "    x0 = Math.floor(x0) + 0.5;\n",
       "    y0 = Math.floor(y0) + 0.5;\n",
       "    x1 = Math.floor(x1) + 0.5;\n",
       "    y1 = Math.floor(y1) + 0.5;\n",
       "    var min_x = Math.min(x0, x1);\n",
       "    var min_y = Math.min(y0, y1);\n",
       "    var width = Math.abs(x1 - x0);\n",
       "    var height = Math.abs(y1 - y0);\n",
       "\n",
       "    fig.rubberband_context.clearRect(\n",
       "        0, 0, fig.canvas.width, fig.canvas.height);\n",
       "\n",
       "    fig.rubberband_context.strokeRect(min_x, min_y, width, height);\n",
       "}\n",
       "\n",
       "mpl.figure.prototype.handle_figure_label = function(fig, msg) {\n",
       "    // Updates the figure title.\n",
       "    fig.header.textContent = msg['label'];\n",
       "}\n",
       "\n",
       "mpl.figure.prototype.handle_cursor = function(fig, msg) {\n",
       "    var cursor = msg['cursor'];\n",
       "    switch(cursor)\n",
       "    {\n",
       "    case 0:\n",
       "        cursor = 'pointer';\n",
       "        break;\n",
       "    case 1:\n",
       "        cursor = 'default';\n",
       "        break;\n",
       "    case 2:\n",
       "        cursor = 'crosshair';\n",
       "        break;\n",
       "    case 3:\n",
       "        cursor = 'move';\n",
       "        break;\n",
       "    }\n",
       "    fig.rubberband_canvas.style.cursor = cursor;\n",
       "}\n",
       "\n",
       "mpl.figure.prototype.handle_message = function(fig, msg) {\n",
       "    fig.message.textContent = msg['message'];\n",
       "}\n",
       "\n",
       "mpl.figure.prototype.handle_draw = function(fig, msg) {\n",
       "    // Request the server to send over a new figure.\n",
       "    fig.send_draw_message();\n",
       "}\n",
       "\n",
       "mpl.figure.prototype.handle_image_mode = function(fig, msg) {\n",
       "    fig.image_mode = msg['mode'];\n",
       "}\n",
       "\n",
       "mpl.figure.prototype.updated_canvas_event = function() {\n",
       "    // Called whenever the canvas gets updated.\n",
       "    this.send_message(\"ack\", {});\n",
       "}\n",
       "\n",
       "// A function to construct a web socket function for onmessage handling.\n",
       "// Called in the figure constructor.\n",
       "mpl.figure.prototype._make_on_message_function = function(fig) {\n",
       "    return function socket_on_message(evt) {\n",
       "        if (evt.data instanceof Blob) {\n",
       "            /* FIXME: We get \"Resource interpreted as Image but\n",
       "             * transferred with MIME type text/plain:\" errors on\n",
       "             * Chrome.  But how to set the MIME type?  It doesn't seem\n",
       "             * to be part of the websocket stream */\n",
       "            evt.data.type = \"image/png\";\n",
       "\n",
       "            /* Free the memory for the previous frames */\n",
       "            if (fig.imageObj.src) {\n",
       "                (window.URL || window.webkitURL).revokeObjectURL(\n",
       "                    fig.imageObj.src);\n",
       "            }\n",
       "\n",
       "            fig.imageObj.src = (window.URL || window.webkitURL).createObjectURL(\n",
       "                evt.data);\n",
       "            fig.updated_canvas_event();\n",
       "            fig.waiting = false;\n",
       "            return;\n",
       "        }\n",
       "        else if (typeof evt.data === 'string' && evt.data.slice(0, 21) == \"data:image/png;base64\") {\n",
       "            fig.imageObj.src = evt.data;\n",
       "            fig.updated_canvas_event();\n",
       "            fig.waiting = false;\n",
       "            return;\n",
       "        }\n",
       "\n",
       "        var msg = JSON.parse(evt.data);\n",
       "        var msg_type = msg['type'];\n",
       "\n",
       "        // Call the  \"handle_{type}\" callback, which takes\n",
       "        // the figure and JSON message as its only arguments.\n",
       "        try {\n",
       "            var callback = fig[\"handle_\" + msg_type];\n",
       "        } catch (e) {\n",
       "            console.log(\"No handler for the '\" + msg_type + \"' message type: \", msg);\n",
       "            return;\n",
       "        }\n",
       "\n",
       "        if (callback) {\n",
       "            try {\n",
       "                // console.log(\"Handling '\" + msg_type + \"' message: \", msg);\n",
       "                callback(fig, msg);\n",
       "            } catch (e) {\n",
       "                console.log(\"Exception inside the 'handler_\" + msg_type + \"' callback:\", e, e.stack, msg);\n",
       "            }\n",
       "        }\n",
       "    };\n",
       "}\n",
       "\n",
       "// from http://stackoverflow.com/questions/1114465/getting-mouse-location-in-canvas\n",
       "mpl.findpos = function(e) {\n",
       "    //this section is from http://www.quirksmode.org/js/events_properties.html\n",
       "    var targ;\n",
       "    if (!e)\n",
       "        e = window.event;\n",
       "    if (e.target)\n",
       "        targ = e.target;\n",
       "    else if (e.srcElement)\n",
       "        targ = e.srcElement;\n",
       "    if (targ.nodeType == 3) // defeat Safari bug\n",
       "        targ = targ.parentNode;\n",
       "\n",
       "    // jQuery normalizes the pageX and pageY\n",
       "    // pageX,Y are the mouse positions relative to the document\n",
       "    // offset() returns the position of the element relative to the document\n",
       "    var x = e.pageX - $(targ).offset().left;\n",
       "    var y = e.pageY - $(targ).offset().top;\n",
       "\n",
       "    return {\"x\": x, \"y\": y};\n",
       "};\n",
       "\n",
       "/*\n",
       " * return a copy of an object with only non-object keys\n",
       " * we need this to avoid circular references\n",
       " * http://stackoverflow.com/a/24161582/3208463\n",
       " */\n",
       "function simpleKeys (original) {\n",
       "  return Object.keys(original).reduce(function (obj, key) {\n",
       "    if (typeof original[key] !== 'object')\n",
       "        obj[key] = original[key]\n",
       "    return obj;\n",
       "  }, {});\n",
       "}\n",
       "\n",
       "mpl.figure.prototype.mouse_event = function(event, name) {\n",
       "    var canvas_pos = mpl.findpos(event)\n",
       "\n",
       "    if (name === 'button_press')\n",
       "    {\n",
       "        this.canvas.focus();\n",
       "        this.canvas_div.focus();\n",
       "    }\n",
       "\n",
       "    var x = canvas_pos.x;\n",
       "    var y = canvas_pos.y;\n",
       "\n",
       "    this.send_message(name, {x: x, y: y, button: event.button,\n",
       "                             step: event.step,\n",
       "                             guiEvent: simpleKeys(event)});\n",
       "\n",
       "    /* This prevents the web browser from automatically changing to\n",
       "     * the text insertion cursor when the button is pressed.  We want\n",
       "     * to control all of the cursor setting manually through the\n",
       "     * 'cursor' event from matplotlib */\n",
       "    event.preventDefault();\n",
       "    return false;\n",
       "}\n",
       "\n",
       "mpl.figure.prototype._key_event_extra = function(event, name) {\n",
       "    // Handle any extra behaviour associated with a key event\n",
       "}\n",
       "\n",
       "mpl.figure.prototype.key_event = function(event, name) {\n",
       "\n",
       "    // Prevent repeat events\n",
       "    if (name == 'key_press')\n",
       "    {\n",
       "        if (event.which === this._key)\n",
       "            return;\n",
       "        else\n",
       "            this._key = event.which;\n",
       "    }\n",
       "    if (name == 'key_release')\n",
       "        this._key = null;\n",
       "\n",
       "    var value = '';\n",
       "    if (event.ctrlKey && event.which != 17)\n",
       "        value += \"ctrl+\";\n",
       "    if (event.altKey && event.which != 18)\n",
       "        value += \"alt+\";\n",
       "    if (event.shiftKey && event.which != 16)\n",
       "        value += \"shift+\";\n",
       "\n",
       "    value += 'k';\n",
       "    value += event.which.toString();\n",
       "\n",
       "    this._key_event_extra(event, name);\n",
       "\n",
       "    this.send_message(name, {key: value,\n",
       "                             guiEvent: simpleKeys(event)});\n",
       "    return false;\n",
       "}\n",
       "\n",
       "mpl.figure.prototype.toolbar_button_onclick = function(name) {\n",
       "    if (name == 'download') {\n",
       "        this.handle_save(this, null);\n",
       "    } else {\n",
       "        this.send_message(\"toolbar_button\", {name: name});\n",
       "    }\n",
       "};\n",
       "\n",
       "mpl.figure.prototype.toolbar_button_onmouseover = function(tooltip) {\n",
       "    this.message.textContent = tooltip;\n",
       "};\n",
       "mpl.toolbar_items = [[\"Home\", \"Reset original view\", \"fa fa-home icon-home\", \"home\"], [\"Back\", \"Back to  previous view\", \"fa fa-arrow-left icon-arrow-left\", \"back\"], [\"Forward\", \"Forward to next view\", \"fa fa-arrow-right icon-arrow-right\", \"forward\"], [\"\", \"\", \"\", \"\"], [\"Pan\", \"Pan axes with left mouse, zoom with right\", \"fa fa-arrows icon-move\", \"pan\"], [\"Zoom\", \"Zoom to rectangle\", \"fa fa-square-o icon-check-empty\", \"zoom\"], [\"\", \"\", \"\", \"\"], [\"Download\", \"Download plot\", \"fa fa-floppy-o icon-save\", \"download\"]];\n",
       "\n",
       "mpl.extensions = [\"eps\", \"jpeg\", \"pdf\", \"png\", \"ps\", \"raw\", \"svg\", \"tif\"];\n",
       "\n",
       "mpl.default_extension = \"png\";var comm_websocket_adapter = function(comm) {\n",
       "    // Create a \"websocket\"-like object which calls the given IPython comm\n",
       "    // object with the appropriate methods. Currently this is a non binary\n",
       "    // socket, so there is still some room for performance tuning.\n",
       "    var ws = {};\n",
       "\n",
       "    ws.close = function() {\n",
       "        comm.close()\n",
       "    };\n",
       "    ws.send = function(m) {\n",
       "        //console.log('sending', m);\n",
       "        comm.send(m);\n",
       "    };\n",
       "    // Register the callback with on_msg.\n",
       "    comm.on_msg(function(msg) {\n",
       "        //console.log('receiving', msg['content']['data'], msg);\n",
       "        // Pass the mpl event to the overriden (by mpl) onmessage function.\n",
       "        ws.onmessage(msg['content']['data'])\n",
       "    });\n",
       "    return ws;\n",
       "}\n",
       "\n",
       "mpl.mpl_figure_comm = function(comm, msg) {\n",
       "    // This is the function which gets called when the mpl process\n",
       "    // starts-up an IPython Comm through the \"matplotlib\" channel.\n",
       "\n",
       "    var id = msg.content.data.id;\n",
       "    // Get hold of the div created by the display call when the Comm\n",
       "    // socket was opened in Python.\n",
       "    var element = $(\"#\" + id);\n",
       "    var ws_proxy = comm_websocket_adapter(comm)\n",
       "\n",
       "    function ondownload(figure, format) {\n",
       "        window.open(figure.imageObj.src);\n",
       "    }\n",
       "\n",
       "    var fig = new mpl.figure(id, ws_proxy,\n",
       "                           ondownload,\n",
       "                           element.get(0));\n",
       "\n",
       "    // Call onopen now - mpl needs it, as it is assuming we've passed it a real\n",
       "    // web socket which is closed, not our websocket->open comm proxy.\n",
       "    ws_proxy.onopen();\n",
       "\n",
       "    fig.parent_element = element.get(0);\n",
       "    fig.cell_info = mpl.find_output_cell(\"<div id='\" + id + \"'></div>\");\n",
       "    if (!fig.cell_info) {\n",
       "        console.error(\"Failed to find cell for figure\", id, fig);\n",
       "        return;\n",
       "    }\n",
       "\n",
       "    var output_index = fig.cell_info[2]\n",
       "    var cell = fig.cell_info[0];\n",
       "\n",
       "};\n",
       "\n",
       "mpl.figure.prototype.handle_close = function(fig, msg) {\n",
       "    fig.root.unbind('remove')\n",
       "\n",
       "    // Update the output cell to use the data from the current canvas.\n",
       "    fig.push_to_output();\n",
       "    var dataURL = fig.canvas.toDataURL();\n",
       "    // Re-enable the keyboard manager in IPython - without this line, in FF,\n",
       "    // the notebook keyboard shortcuts fail.\n",
       "    IPython.keyboard_manager.enable()\n",
       "    $(fig.parent_element).html('<img src=\"' + dataURL + '\">');\n",
       "    fig.close_ws(fig, msg);\n",
       "}\n",
       "\n",
       "mpl.figure.prototype.close_ws = function(fig, msg){\n",
       "    fig.send_message('closing', msg);\n",
       "    // fig.ws.close()\n",
       "}\n",
       "\n",
       "mpl.figure.prototype.push_to_output = function(remove_interactive) {\n",
       "    // Turn the data on the canvas into data in the output cell.\n",
       "    var dataURL = this.canvas.toDataURL();\n",
       "    this.cell_info[1]['text/html'] = '<img src=\"' + dataURL + '\">';\n",
       "}\n",
       "\n",
       "mpl.figure.prototype.updated_canvas_event = function() {\n",
       "    // Tell IPython that the notebook contents must change.\n",
       "    IPython.notebook.set_dirty(true);\n",
       "    this.send_message(\"ack\", {});\n",
       "    var fig = this;\n",
       "    // Wait a second, then push the new image to the DOM so\n",
       "    // that it is saved nicely (might be nice to debounce this).\n",
       "    setTimeout(function () { fig.push_to_output() }, 1000);\n",
       "}\n",
       "\n",
       "mpl.figure.prototype._init_toolbar = function() {\n",
       "    var fig = this;\n",
       "\n",
       "    var nav_element = $('<div/>')\n",
       "    nav_element.attr('style', 'width: 100%');\n",
       "    this.root.append(nav_element);\n",
       "\n",
       "    // Define a callback function for later on.\n",
       "    function toolbar_event(event) {\n",
       "        return fig.toolbar_button_onclick(event['data']);\n",
       "    }\n",
       "    function toolbar_mouse_event(event) {\n",
       "        return fig.toolbar_button_onmouseover(event['data']);\n",
       "    }\n",
       "\n",
       "    for(var toolbar_ind in mpl.toolbar_items){\n",
       "        var name = mpl.toolbar_items[toolbar_ind][0];\n",
       "        var tooltip = mpl.toolbar_items[toolbar_ind][1];\n",
       "        var image = mpl.toolbar_items[toolbar_ind][2];\n",
       "        var method_name = mpl.toolbar_items[toolbar_ind][3];\n",
       "\n",
       "        if (!name) { continue; };\n",
       "\n",
       "        var button = $('<button class=\"btn btn-default\" href=\"#\" title=\"' + name + '\"><i class=\"fa ' + image + ' fa-lg\"></i></button>');\n",
       "        button.click(method_name, toolbar_event);\n",
       "        button.mouseover(tooltip, toolbar_mouse_event);\n",
       "        nav_element.append(button);\n",
       "    }\n",
       "\n",
       "    // Add the status bar.\n",
       "    var status_bar = $('<span class=\"mpl-message\" style=\"text-align:right; float: right;\"/>');\n",
       "    nav_element.append(status_bar);\n",
       "    this.message = status_bar[0];\n",
       "\n",
       "    // Add the close button to the window.\n",
       "    var buttongrp = $('<div class=\"btn-group inline pull-right\"></div>');\n",
       "    var button = $('<button class=\"btn btn-mini btn-primary\" href=\"#\" title=\"Stop Interaction\"><i class=\"fa fa-power-off icon-remove icon-large\"></i></button>');\n",
       "    button.click(function (evt) { fig.handle_close(fig, {}); } );\n",
       "    button.mouseover('Stop Interaction', toolbar_mouse_event);\n",
       "    buttongrp.append(button);\n",
       "    var titlebar = this.root.find($('.ui-dialog-titlebar'));\n",
       "    titlebar.prepend(buttongrp);\n",
       "}\n",
       "\n",
       "mpl.figure.prototype._root_extra_style = function(el){\n",
       "    var fig = this\n",
       "    el.on(\"remove\", function(){\n",
       "\tfig.close_ws(fig, {});\n",
       "    });\n",
       "}\n",
       "\n",
       "mpl.figure.prototype._canvas_extra_style = function(el){\n",
       "    // this is important to make the div 'focusable\n",
       "    el.attr('tabindex', 0)\n",
       "    // reach out to IPython and tell the keyboard manager to turn it's self\n",
       "    // off when our div gets focus\n",
       "\n",
       "    // location in version 3\n",
       "    if (IPython.notebook.keyboard_manager) {\n",
       "        IPython.notebook.keyboard_manager.register_events(el);\n",
       "    }\n",
       "    else {\n",
       "        // location in version 2\n",
       "        IPython.keyboard_manager.register_events(el);\n",
       "    }\n",
       "\n",
       "}\n",
       "\n",
       "mpl.figure.prototype._key_event_extra = function(event, name) {\n",
       "    var manager = IPython.notebook.keyboard_manager;\n",
       "    if (!manager)\n",
       "        manager = IPython.keyboard_manager;\n",
       "\n",
       "    // Check for shift+enter\n",
       "    if (event.shiftKey && event.which == 13) {\n",
       "        this.canvas_div.blur();\n",
       "        // select the cell after this one\n",
       "        var index = IPython.notebook.find_cell_index(this.cell_info[0]);\n",
       "        IPython.notebook.select(index + 1);\n",
       "    }\n",
       "}\n",
       "\n",
       "mpl.figure.prototype.handle_save = function(fig, msg) {\n",
       "    fig.ondownload(fig, null);\n",
       "}\n",
       "\n",
       "\n",
       "mpl.find_output_cell = function(html_output) {\n",
       "    // Return the cell and output element which can be found *uniquely* in the notebook.\n",
       "    // Note - this is a bit hacky, but it is done because the \"notebook_saving.Notebook\"\n",
       "    // IPython event is triggered only after the cells have been serialised, which for\n",
       "    // our purposes (turning an active figure into a static one), is too late.\n",
       "    var cells = IPython.notebook.get_cells();\n",
       "    var ncells = cells.length;\n",
       "    for (var i=0; i<ncells; i++) {\n",
       "        var cell = cells[i];\n",
       "        if (cell.cell_type === 'code'){\n",
       "            for (var j=0; j<cell.output_area.outputs.length; j++) {\n",
       "                var data = cell.output_area.outputs[j];\n",
       "                if (data.data) {\n",
       "                    // IPython >= 3 moved mimebundle to data attribute of output\n",
       "                    data = data.data;\n",
       "                }\n",
       "                if (data['text/html'] == html_output) {\n",
       "                    return [cell, data, j];\n",
       "                }\n",
       "            }\n",
       "        }\n",
       "    }\n",
       "}\n",
       "\n",
       "// Register the function which deals with the matplotlib target/channel.\n",
       "// The kernel may be null if the page has been refreshed.\n",
       "if (IPython.notebook.kernel != null) {\n",
       "    IPython.notebook.kernel.comm_manager.register_target('matplotlib', mpl.mpl_figure_comm);\n",
       "}\n"
      ],
      "text/plain": [
       "<IPython.core.display.Javascript object>"
      ]
     },
     "metadata": {},
     "output_type": "display_data"
    },
    {
     "data": {
      "text/html": [
       "<img src=\"data:image/png;base64,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\">"
      ],
      "text/plain": [
       "<IPython.core.display.HTML object>"
      ]
     },
     "metadata": {},
     "output_type": "display_data"
    },
    {
     "data": {
      "text/plain": [
       "None"
      ]
     },
     "metadata": {},
     "output_type": "display_data"
    }
   ],
   "source": [
    "fig2, ax2 = plt.subplots()\n",
    "ax2.hold(False)\n",
    "\n",
    "display(display(widgets.HBox((x2_widget, x1_widget, x0_widget), width='50%')),\n",
    "        widgets.HBox((display_imagecurv_button, fit_curvature_button)))"
   ]
  },
  {
   "cell_type": "markdown",
   "metadata": {
    "collapsed": true,
    "scrolled": true
   },
   "source": [
    "## Plot resolution"
   ]
  },
  {
   "cell_type": "code",
   "execution_count": 10,
   "metadata": {
    "collapsed": false,
    "scrolled": false
   },
   "outputs": [
    {
     "data": {
      "application/javascript": [
       "/* Put everything inside the global mpl namespace */\n",
       "window.mpl = {};\n",
       "\n",
       "mpl.get_websocket_type = function() {\n",
       "    if (typeof(WebSocket) !== 'undefined') {\n",
       "        return WebSocket;\n",
       "    } else if (typeof(MozWebSocket) !== 'undefined') {\n",
       "        return MozWebSocket;\n",
       "    } else {\n",
       "        alert('Your browser does not have WebSocket support.' +\n",
       "              'Please try Chrome, Safari or Firefox ≥ 6. ' +\n",
       "              'Firefox 4 and 5 are also supported but you ' +\n",
       "              'have to enable WebSockets in about:config.');\n",
       "    };\n",
       "}\n",
       "\n",
       "mpl.figure = function(figure_id, websocket, ondownload, parent_element) {\n",
       "    this.id = figure_id;\n",
       "\n",
       "    this.ws = websocket;\n",
       "\n",
       "    this.supports_binary = (this.ws.binaryType != undefined);\n",
       "\n",
       "    if (!this.supports_binary) {\n",
       "        var warnings = document.getElementById(\"mpl-warnings\");\n",
       "        if (warnings) {\n",
       "            warnings.style.display = 'block';\n",
       "            warnings.textContent = (\n",
       "                \"This browser does not support binary websocket messages. \" +\n",
       "                    \"Performance may be slow.\");\n",
       "        }\n",
       "    }\n",
       "\n",
       "    this.imageObj = new Image();\n",
       "\n",
       "    this.context = undefined;\n",
       "    this.message = undefined;\n",
       "    this.canvas = undefined;\n",
       "    this.rubberband_canvas = undefined;\n",
       "    this.rubberband_context = undefined;\n",
       "    this.format_dropdown = undefined;\n",
       "\n",
       "    this.image_mode = 'full';\n",
       "\n",
       "    this.root = $('<div/>');\n",
       "    this._root_extra_style(this.root)\n",
       "    this.root.attr('style', 'display: inline-block');\n",
       "\n",
       "    $(parent_element).append(this.root);\n",
       "\n",
       "    this._init_header(this);\n",
       "    this._init_canvas(this);\n",
       "    this._init_toolbar(this);\n",
       "\n",
       "    var fig = this;\n",
       "\n",
       "    this.waiting = false;\n",
       "\n",
       "    this.ws.onopen =  function () {\n",
       "            fig.send_message(\"supports_binary\", {value: fig.supports_binary});\n",
       "            fig.send_message(\"send_image_mode\", {});\n",
       "            fig.send_message(\"refresh\", {});\n",
       "        }\n",
       "\n",
       "    this.imageObj.onload = function() {\n",
       "            if (fig.image_mode == 'full') {\n",
       "                // Full images could contain transparency (where diff images\n",
       "                // almost always do), so we need to clear the canvas so that\n",
       "                // there is no ghosting.\n",
       "                fig.context.clearRect(0, 0, fig.canvas.width, fig.canvas.height);\n",
       "            }\n",
       "            fig.context.drawImage(fig.imageObj, 0, 0);\n",
       "        };\n",
       "\n",
       "    this.imageObj.onunload = function() {\n",
       "        this.ws.close();\n",
       "    }\n",
       "\n",
       "    this.ws.onmessage = this._make_on_message_function(this);\n",
       "\n",
       "    this.ondownload = ondownload;\n",
       "}\n",
       "\n",
       "mpl.figure.prototype._init_header = function() {\n",
       "    var titlebar = $(\n",
       "        '<div class=\"ui-dialog-titlebar ui-widget-header ui-corner-all ' +\n",
       "        'ui-helper-clearfix\"/>');\n",
       "    var titletext = $(\n",
       "        '<div class=\"ui-dialog-title\" style=\"width: 100%; ' +\n",
       "        'text-align: center; padding: 3px;\"/>');\n",
       "    titlebar.append(titletext)\n",
       "    this.root.append(titlebar);\n",
       "    this.header = titletext[0];\n",
       "}\n",
       "\n",
       "\n",
       "\n",
       "mpl.figure.prototype._canvas_extra_style = function(canvas_div) {\n",
       "\n",
       "}\n",
       "\n",
       "\n",
       "mpl.figure.prototype._root_extra_style = function(canvas_div) {\n",
       "\n",
       "}\n",
       "\n",
       "mpl.figure.prototype._init_canvas = function() {\n",
       "    var fig = this;\n",
       "\n",
       "    var canvas_div = $('<div/>');\n",
       "\n",
       "    canvas_div.attr('style', 'position: relative; clear: both; outline: 0');\n",
       "\n",
       "    function canvas_keyboard_event(event) {\n",
       "        return fig.key_event(event, event['data']);\n",
       "    }\n",
       "\n",
       "    canvas_div.keydown('key_press', canvas_keyboard_event);\n",
       "    canvas_div.keyup('key_release', canvas_keyboard_event);\n",
       "    this.canvas_div = canvas_div\n",
       "    this._canvas_extra_style(canvas_div)\n",
       "    this.root.append(canvas_div);\n",
       "\n",
       "    var canvas = $('<canvas/>');\n",
       "    canvas.addClass('mpl-canvas');\n",
       "    canvas.attr('style', \"left: 0; top: 0; z-index: 0; outline: 0\")\n",
       "\n",
       "    this.canvas = canvas[0];\n",
       "    this.context = canvas[0].getContext(\"2d\");\n",
       "\n",
       "    var rubberband = $('<canvas/>');\n",
       "    rubberband.attr('style', \"position: absolute; left: 0; top: 0; z-index: 1;\")\n",
       "\n",
       "    var pass_mouse_events = true;\n",
       "\n",
       "    canvas_div.resizable({\n",
       "        start: function(event, ui) {\n",
       "            pass_mouse_events = false;\n",
       "        },\n",
       "        resize: function(event, ui) {\n",
       "            fig.request_resize(ui.size.width, ui.size.height);\n",
       "        },\n",
       "        stop: function(event, ui) {\n",
       "            pass_mouse_events = true;\n",
       "            fig.request_resize(ui.size.width, ui.size.height);\n",
       "        },\n",
       "    });\n",
       "\n",
       "    function mouse_event_fn(event) {\n",
       "        if (pass_mouse_events)\n",
       "            return fig.mouse_event(event, event['data']);\n",
       "    }\n",
       "\n",
       "    rubberband.mousedown('button_press', mouse_event_fn);\n",
       "    rubberband.mouseup('button_release', mouse_event_fn);\n",
       "    // Throttle sequential mouse events to 1 every 20ms.\n",
       "    rubberband.mousemove('motion_notify', mouse_event_fn);\n",
       "\n",
       "    rubberband.mouseenter('figure_enter', mouse_event_fn);\n",
       "    rubberband.mouseleave('figure_leave', mouse_event_fn);\n",
       "\n",
       "    canvas_div.on(\"wheel\", function (event) {\n",
       "        event = event.originalEvent;\n",
       "        event['data'] = 'scroll'\n",
       "        if (event.deltaY < 0) {\n",
       "            event.step = 1;\n",
       "        } else {\n",
       "            event.step = -1;\n",
       "        }\n",
       "        mouse_event_fn(event);\n",
       "    });\n",
       "\n",
       "    canvas_div.append(canvas);\n",
       "    canvas_div.append(rubberband);\n",
       "\n",
       "    this.rubberband = rubberband;\n",
       "    this.rubberband_canvas = rubberband[0];\n",
       "    this.rubberband_context = rubberband[0].getContext(\"2d\");\n",
       "    this.rubberband_context.strokeStyle = \"#000000\";\n",
       "\n",
       "    this._resize_canvas = function(width, height) {\n",
       "        // Keep the size of the canvas, canvas container, and rubber band\n",
       "        // canvas in synch.\n",
       "        canvas_div.css('width', width)\n",
       "        canvas_div.css('height', height)\n",
       "\n",
       "        canvas.attr('width', width);\n",
       "        canvas.attr('height', height);\n",
       "\n",
       "        rubberband.attr('width', width);\n",
       "        rubberband.attr('height', height);\n",
       "    }\n",
       "\n",
       "    // Set the figure to an initial 600x600px, this will subsequently be updated\n",
       "    // upon first draw.\n",
       "    this._resize_canvas(600, 600);\n",
       "\n",
       "    // Disable right mouse context menu.\n",
       "    $(this.rubberband_canvas).bind(\"contextmenu\",function(e){\n",
       "        return false;\n",
       "    });\n",
       "\n",
       "    function set_focus () {\n",
       "        canvas.focus();\n",
       "        canvas_div.focus();\n",
       "    }\n",
       "\n",
       "    window.setTimeout(set_focus, 100);\n",
       "}\n",
       "\n",
       "mpl.figure.prototype._init_toolbar = function() {\n",
       "    var fig = this;\n",
       "\n",
       "    var nav_element = $('<div/>')\n",
       "    nav_element.attr('style', 'width: 100%');\n",
       "    this.root.append(nav_element);\n",
       "\n",
       "    // Define a callback function for later on.\n",
       "    function toolbar_event(event) {\n",
       "        return fig.toolbar_button_onclick(event['data']);\n",
       "    }\n",
       "    function toolbar_mouse_event(event) {\n",
       "        return fig.toolbar_button_onmouseover(event['data']);\n",
       "    }\n",
       "\n",
       "    for(var toolbar_ind in mpl.toolbar_items) {\n",
       "        var name = mpl.toolbar_items[toolbar_ind][0];\n",
       "        var tooltip = mpl.toolbar_items[toolbar_ind][1];\n",
       "        var image = mpl.toolbar_items[toolbar_ind][2];\n",
       "        var method_name = mpl.toolbar_items[toolbar_ind][3];\n",
       "\n",
       "        if (!name) {\n",
       "            // put a spacer in here.\n",
       "            continue;\n",
       "        }\n",
       "        var button = $('<button/>');\n",
       "        button.addClass('ui-button ui-widget ui-state-default ui-corner-all ' +\n",
       "                        'ui-button-icon-only');\n",
       "        button.attr('role', 'button');\n",
       "        button.attr('aria-disabled', 'false');\n",
       "        button.click(method_name, toolbar_event);\n",
       "        button.mouseover(tooltip, toolbar_mouse_event);\n",
       "\n",
       "        var icon_img = $('<span/>');\n",
       "        icon_img.addClass('ui-button-icon-primary ui-icon');\n",
       "        icon_img.addClass(image);\n",
       "        icon_img.addClass('ui-corner-all');\n",
       "\n",
       "        var tooltip_span = $('<span/>');\n",
       "        tooltip_span.addClass('ui-button-text');\n",
       "        tooltip_span.html(tooltip);\n",
       "\n",
       "        button.append(icon_img);\n",
       "        button.append(tooltip_span);\n",
       "\n",
       "        nav_element.append(button);\n",
       "    }\n",
       "\n",
       "    var fmt_picker_span = $('<span/>');\n",
       "\n",
       "    var fmt_picker = $('<select/>');\n",
       "    fmt_picker.addClass('mpl-toolbar-option ui-widget ui-widget-content');\n",
       "    fmt_picker_span.append(fmt_picker);\n",
       "    nav_element.append(fmt_picker_span);\n",
       "    this.format_dropdown = fmt_picker[0];\n",
       "\n",
       "    for (var ind in mpl.extensions) {\n",
       "        var fmt = mpl.extensions[ind];\n",
       "        var option = $(\n",
       "            '<option/>', {selected: fmt === mpl.default_extension}).html(fmt);\n",
       "        fmt_picker.append(option)\n",
       "    }\n",
       "\n",
       "    // Add hover states to the ui-buttons\n",
       "    $( \".ui-button\" ).hover(\n",
       "        function() { $(this).addClass(\"ui-state-hover\");},\n",
       "        function() { $(this).removeClass(\"ui-state-hover\");}\n",
       "    );\n",
       "\n",
       "    var status_bar = $('<span class=\"mpl-message\"/>');\n",
       "    nav_element.append(status_bar);\n",
       "    this.message = status_bar[0];\n",
       "}\n",
       "\n",
       "mpl.figure.prototype.request_resize = function(x_pixels, y_pixels) {\n",
       "    // Request matplotlib to resize the figure. Matplotlib will then trigger a resize in the client,\n",
       "    // which will in turn request a refresh of the image.\n",
       "    this.send_message('resize', {'width': x_pixels, 'height': y_pixels});\n",
       "}\n",
       "\n",
       "mpl.figure.prototype.send_message = function(type, properties) {\n",
       "    properties['type'] = type;\n",
       "    properties['figure_id'] = this.id;\n",
       "    this.ws.send(JSON.stringify(properties));\n",
       "}\n",
       "\n",
       "mpl.figure.prototype.send_draw_message = function() {\n",
       "    if (!this.waiting) {\n",
       "        this.waiting = true;\n",
       "        this.ws.send(JSON.stringify({type: \"draw\", figure_id: this.id}));\n",
       "    }\n",
       "}\n",
       "\n",
       "\n",
       "mpl.figure.prototype.handle_save = function(fig, msg) {\n",
       "    var format_dropdown = fig.format_dropdown;\n",
       "    var format = format_dropdown.options[format_dropdown.selectedIndex].value;\n",
       "    fig.ondownload(fig, format);\n",
       "}\n",
       "\n",
       "\n",
       "mpl.figure.prototype.handle_resize = function(fig, msg) {\n",
       "    var size = msg['size'];\n",
       "    if (size[0] != fig.canvas.width || size[1] != fig.canvas.height) {\n",
       "        fig._resize_canvas(size[0], size[1]);\n",
       "        fig.send_message(\"refresh\", {});\n",
       "    };\n",
       "}\n",
       "\n",
       "mpl.figure.prototype.handle_rubberband = function(fig, msg) {\n",
       "    var x0 = msg['x0'];\n",
       "    var y0 = fig.canvas.height - msg['y0'];\n",
       "    var x1 = msg['x1'];\n",
       "    var y1 = fig.canvas.height - msg['y1'];\n",
       "    x0 = Math.floor(x0) + 0.5;\n",
       "    y0 = Math.floor(y0) + 0.5;\n",
       "    x1 = Math.floor(x1) + 0.5;\n",
       "    y1 = Math.floor(y1) + 0.5;\n",
       "    var min_x = Math.min(x0, x1);\n",
       "    var min_y = Math.min(y0, y1);\n",
       "    var width = Math.abs(x1 - x0);\n",
       "    var height = Math.abs(y1 - y0);\n",
       "\n",
       "    fig.rubberband_context.clearRect(\n",
       "        0, 0, fig.canvas.width, fig.canvas.height);\n",
       "\n",
       "    fig.rubberband_context.strokeRect(min_x, min_y, width, height);\n",
       "}\n",
       "\n",
       "mpl.figure.prototype.handle_figure_label = function(fig, msg) {\n",
       "    // Updates the figure title.\n",
       "    fig.header.textContent = msg['label'];\n",
       "}\n",
       "\n",
       "mpl.figure.prototype.handle_cursor = function(fig, msg) {\n",
       "    var cursor = msg['cursor'];\n",
       "    switch(cursor)\n",
       "    {\n",
       "    case 0:\n",
       "        cursor = 'pointer';\n",
       "        break;\n",
       "    case 1:\n",
       "        cursor = 'default';\n",
       "        break;\n",
       "    case 2:\n",
       "        cursor = 'crosshair';\n",
       "        break;\n",
       "    case 3:\n",
       "        cursor = 'move';\n",
       "        break;\n",
       "    }\n",
       "    fig.rubberband_canvas.style.cursor = cursor;\n",
       "}\n",
       "\n",
       "mpl.figure.prototype.handle_message = function(fig, msg) {\n",
       "    fig.message.textContent = msg['message'];\n",
       "}\n",
       "\n",
       "mpl.figure.prototype.handle_draw = function(fig, msg) {\n",
       "    // Request the server to send over a new figure.\n",
       "    fig.send_draw_message();\n",
       "}\n",
       "\n",
       "mpl.figure.prototype.handle_image_mode = function(fig, msg) {\n",
       "    fig.image_mode = msg['mode'];\n",
       "}\n",
       "\n",
       "mpl.figure.prototype.updated_canvas_event = function() {\n",
       "    // Called whenever the canvas gets updated.\n",
       "    this.send_message(\"ack\", {});\n",
       "}\n",
       "\n",
       "// A function to construct a web socket function for onmessage handling.\n",
       "// Called in the figure constructor.\n",
       "mpl.figure.prototype._make_on_message_function = function(fig) {\n",
       "    return function socket_on_message(evt) {\n",
       "        if (evt.data instanceof Blob) {\n",
       "            /* FIXME: We get \"Resource interpreted as Image but\n",
       "             * transferred with MIME type text/plain:\" errors on\n",
       "             * Chrome.  But how to set the MIME type?  It doesn't seem\n",
       "             * to be part of the websocket stream */\n",
       "            evt.data.type = \"image/png\";\n",
       "\n",
       "            /* Free the memory for the previous frames */\n",
       "            if (fig.imageObj.src) {\n",
       "                (window.URL || window.webkitURL).revokeObjectURL(\n",
       "                    fig.imageObj.src);\n",
       "            }\n",
       "\n",
       "            fig.imageObj.src = (window.URL || window.webkitURL).createObjectURL(\n",
       "                evt.data);\n",
       "            fig.updated_canvas_event();\n",
       "            fig.waiting = false;\n",
       "            return;\n",
       "        }\n",
       "        else if (typeof evt.data === 'string' && evt.data.slice(0, 21) == \"data:image/png;base64\") {\n",
       "            fig.imageObj.src = evt.data;\n",
       "            fig.updated_canvas_event();\n",
       "            fig.waiting = false;\n",
       "            return;\n",
       "        }\n",
       "\n",
       "        var msg = JSON.parse(evt.data);\n",
       "        var msg_type = msg['type'];\n",
       "\n",
       "        // Call the  \"handle_{type}\" callback, which takes\n",
       "        // the figure and JSON message as its only arguments.\n",
       "        try {\n",
       "            var callback = fig[\"handle_\" + msg_type];\n",
       "        } catch (e) {\n",
       "            console.log(\"No handler for the '\" + msg_type + \"' message type: \", msg);\n",
       "            return;\n",
       "        }\n",
       "\n",
       "        if (callback) {\n",
       "            try {\n",
       "                // console.log(\"Handling '\" + msg_type + \"' message: \", msg);\n",
       "                callback(fig, msg);\n",
       "            } catch (e) {\n",
       "                console.log(\"Exception inside the 'handler_\" + msg_type + \"' callback:\", e, e.stack, msg);\n",
       "            }\n",
       "        }\n",
       "    };\n",
       "}\n",
       "\n",
       "// from http://stackoverflow.com/questions/1114465/getting-mouse-location-in-canvas\n",
       "mpl.findpos = function(e) {\n",
       "    //this section is from http://www.quirksmode.org/js/events_properties.html\n",
       "    var targ;\n",
       "    if (!e)\n",
       "        e = window.event;\n",
       "    if (e.target)\n",
       "        targ = e.target;\n",
       "    else if (e.srcElement)\n",
       "        targ = e.srcElement;\n",
       "    if (targ.nodeType == 3) // defeat Safari bug\n",
       "        targ = targ.parentNode;\n",
       "\n",
       "    // jQuery normalizes the pageX and pageY\n",
       "    // pageX,Y are the mouse positions relative to the document\n",
       "    // offset() returns the position of the element relative to the document\n",
       "    var x = e.pageX - $(targ).offset().left;\n",
       "    var y = e.pageY - $(targ).offset().top;\n",
       "\n",
       "    return {\"x\": x, \"y\": y};\n",
       "};\n",
       "\n",
       "/*\n",
       " * return a copy of an object with only non-object keys\n",
       " * we need this to avoid circular references\n",
       " * http://stackoverflow.com/a/24161582/3208463\n",
       " */\n",
       "function simpleKeys (original) {\n",
       "  return Object.keys(original).reduce(function (obj, key) {\n",
       "    if (typeof original[key] !== 'object')\n",
       "        obj[key] = original[key]\n",
       "    return obj;\n",
       "  }, {});\n",
       "}\n",
       "\n",
       "mpl.figure.prototype.mouse_event = function(event, name) {\n",
       "    var canvas_pos = mpl.findpos(event)\n",
       "\n",
       "    if (name === 'button_press')\n",
       "    {\n",
       "        this.canvas.focus();\n",
       "        this.canvas_div.focus();\n",
       "    }\n",
       "\n",
       "    var x = canvas_pos.x;\n",
       "    var y = canvas_pos.y;\n",
       "\n",
       "    this.send_message(name, {x: x, y: y, button: event.button,\n",
       "                             step: event.step,\n",
       "                             guiEvent: simpleKeys(event)});\n",
       "\n",
       "    /* This prevents the web browser from automatically changing to\n",
       "     * the text insertion cursor when the button is pressed.  We want\n",
       "     * to control all of the cursor setting manually through the\n",
       "     * 'cursor' event from matplotlib */\n",
       "    event.preventDefault();\n",
       "    return false;\n",
       "}\n",
       "\n",
       "mpl.figure.prototype._key_event_extra = function(event, name) {\n",
       "    // Handle any extra behaviour associated with a key event\n",
       "}\n",
       "\n",
       "mpl.figure.prototype.key_event = function(event, name) {\n",
       "\n",
       "    // Prevent repeat events\n",
       "    if (name == 'key_press')\n",
       "    {\n",
       "        if (event.which === this._key)\n",
       "            return;\n",
       "        else\n",
       "            this._key = event.which;\n",
       "    }\n",
       "    if (name == 'key_release')\n",
       "        this._key = null;\n",
       "\n",
       "    var value = '';\n",
       "    if (event.ctrlKey && event.which != 17)\n",
       "        value += \"ctrl+\";\n",
       "    if (event.altKey && event.which != 18)\n",
       "        value += \"alt+\";\n",
       "    if (event.shiftKey && event.which != 16)\n",
       "        value += \"shift+\";\n",
       "\n",
       "    value += 'k';\n",
       "    value += event.which.toString();\n",
       "\n",
       "    this._key_event_extra(event, name);\n",
       "\n",
       "    this.send_message(name, {key: value,\n",
       "                             guiEvent: simpleKeys(event)});\n",
       "    return false;\n",
       "}\n",
       "\n",
       "mpl.figure.prototype.toolbar_button_onclick = function(name) {\n",
       "    if (name == 'download') {\n",
       "        this.handle_save(this, null);\n",
       "    } else {\n",
       "        this.send_message(\"toolbar_button\", {name: name});\n",
       "    }\n",
       "};\n",
       "\n",
       "mpl.figure.prototype.toolbar_button_onmouseover = function(tooltip) {\n",
       "    this.message.textContent = tooltip;\n",
       "};\n",
       "mpl.toolbar_items = [[\"Home\", \"Reset original view\", \"fa fa-home icon-home\", \"home\"], [\"Back\", \"Back to  previous view\", \"fa fa-arrow-left icon-arrow-left\", \"back\"], [\"Forward\", \"Forward to next view\", \"fa fa-arrow-right icon-arrow-right\", \"forward\"], [\"\", \"\", \"\", \"\"], [\"Pan\", \"Pan axes with left mouse, zoom with right\", \"fa fa-arrows icon-move\", \"pan\"], [\"Zoom\", \"Zoom to rectangle\", \"fa fa-square-o icon-check-empty\", \"zoom\"], [\"\", \"\", \"\", \"\"], [\"Download\", \"Download plot\", \"fa fa-floppy-o icon-save\", \"download\"]];\n",
       "\n",
       "mpl.extensions = [\"eps\", \"jpeg\", \"pdf\", \"png\", \"ps\", \"raw\", \"svg\", \"tif\"];\n",
       "\n",
       "mpl.default_extension = \"png\";var comm_websocket_adapter = function(comm) {\n",
       "    // Create a \"websocket\"-like object which calls the given IPython comm\n",
       "    // object with the appropriate methods. Currently this is a non binary\n",
       "    // socket, so there is still some room for performance tuning.\n",
       "    var ws = {};\n",
       "\n",
       "    ws.close = function() {\n",
       "        comm.close()\n",
       "    };\n",
       "    ws.send = function(m) {\n",
       "        //console.log('sending', m);\n",
       "        comm.send(m);\n",
       "    };\n",
       "    // Register the callback with on_msg.\n",
       "    comm.on_msg(function(msg) {\n",
       "        //console.log('receiving', msg['content']['data'], msg);\n",
       "        // Pass the mpl event to the overriden (by mpl) onmessage function.\n",
       "        ws.onmessage(msg['content']['data'])\n",
       "    });\n",
       "    return ws;\n",
       "}\n",
       "\n",
       "mpl.mpl_figure_comm = function(comm, msg) {\n",
       "    // This is the function which gets called when the mpl process\n",
       "    // starts-up an IPython Comm through the \"matplotlib\" channel.\n",
       "\n",
       "    var id = msg.content.data.id;\n",
       "    // Get hold of the div created by the display call when the Comm\n",
       "    // socket was opened in Python.\n",
       "    var element = $(\"#\" + id);\n",
       "    var ws_proxy = comm_websocket_adapter(comm)\n",
       "\n",
       "    function ondownload(figure, format) {\n",
       "        window.open(figure.imageObj.src);\n",
       "    }\n",
       "\n",
       "    var fig = new mpl.figure(id, ws_proxy,\n",
       "                           ondownload,\n",
       "                           element.get(0));\n",
       "\n",
       "    // Call onopen now - mpl needs it, as it is assuming we've passed it a real\n",
       "    // web socket which is closed, not our websocket->open comm proxy.\n",
       "    ws_proxy.onopen();\n",
       "\n",
       "    fig.parent_element = element.get(0);\n",
       "    fig.cell_info = mpl.find_output_cell(\"<div id='\" + id + \"'></div>\");\n",
       "    if (!fig.cell_info) {\n",
       "        console.error(\"Failed to find cell for figure\", id, fig);\n",
       "        return;\n",
       "    }\n",
       "\n",
       "    var output_index = fig.cell_info[2]\n",
       "    var cell = fig.cell_info[0];\n",
       "\n",
       "};\n",
       "\n",
       "mpl.figure.prototype.handle_close = function(fig, msg) {\n",
       "    fig.root.unbind('remove')\n",
       "\n",
       "    // Update the output cell to use the data from the current canvas.\n",
       "    fig.push_to_output();\n",
       "    var dataURL = fig.canvas.toDataURL();\n",
       "    // Re-enable the keyboard manager in IPython - without this line, in FF,\n",
       "    // the notebook keyboard shortcuts fail.\n",
       "    IPython.keyboard_manager.enable()\n",
       "    $(fig.parent_element).html('<img src=\"' + dataURL + '\">');\n",
       "    fig.close_ws(fig, msg);\n",
       "}\n",
       "\n",
       "mpl.figure.prototype.close_ws = function(fig, msg){\n",
       "    fig.send_message('closing', msg);\n",
       "    // fig.ws.close()\n",
       "}\n",
       "\n",
       "mpl.figure.prototype.push_to_output = function(remove_interactive) {\n",
       "    // Turn the data on the canvas into data in the output cell.\n",
       "    var dataURL = this.canvas.toDataURL();\n",
       "    this.cell_info[1]['text/html'] = '<img src=\"' + dataURL + '\">';\n",
       "}\n",
       "\n",
       "mpl.figure.prototype.updated_canvas_event = function() {\n",
       "    // Tell IPython that the notebook contents must change.\n",
       "    IPython.notebook.set_dirty(true);\n",
       "    this.send_message(\"ack\", {});\n",
       "    var fig = this;\n",
       "    // Wait a second, then push the new image to the DOM so\n",
       "    // that it is saved nicely (might be nice to debounce this).\n",
       "    setTimeout(function () { fig.push_to_output() }, 1000);\n",
       "}\n",
       "\n",
       "mpl.figure.prototype._init_toolbar = function() {\n",
       "    var fig = this;\n",
       "\n",
       "    var nav_element = $('<div/>')\n",
       "    nav_element.attr('style', 'width: 100%');\n",
       "    this.root.append(nav_element);\n",
       "\n",
       "    // Define a callback function for later on.\n",
       "    function toolbar_event(event) {\n",
       "        return fig.toolbar_button_onclick(event['data']);\n",
       "    }\n",
       "    function toolbar_mouse_event(event) {\n",
       "        return fig.toolbar_button_onmouseover(event['data']);\n",
       "    }\n",
       "\n",
       "    for(var toolbar_ind in mpl.toolbar_items){\n",
       "        var name = mpl.toolbar_items[toolbar_ind][0];\n",
       "        var tooltip = mpl.toolbar_items[toolbar_ind][1];\n",
       "        var image = mpl.toolbar_items[toolbar_ind][2];\n",
       "        var method_name = mpl.toolbar_items[toolbar_ind][3];\n",
       "\n",
       "        if (!name) { continue; };\n",
       "\n",
       "        var button = $('<button class=\"btn btn-default\" href=\"#\" title=\"' + name + '\"><i class=\"fa ' + image + ' fa-lg\"></i></button>');\n",
       "        button.click(method_name, toolbar_event);\n",
       "        button.mouseover(tooltip, toolbar_mouse_event);\n",
       "        nav_element.append(button);\n",
       "    }\n",
       "\n",
       "    // Add the status bar.\n",
       "    var status_bar = $('<span class=\"mpl-message\" style=\"text-align:right; float: right;\"/>');\n",
       "    nav_element.append(status_bar);\n",
       "    this.message = status_bar[0];\n",
       "\n",
       "    // Add the close button to the window.\n",
       "    var buttongrp = $('<div class=\"btn-group inline pull-right\"></div>');\n",
       "    var button = $('<button class=\"btn btn-mini btn-primary\" href=\"#\" title=\"Stop Interaction\"><i class=\"fa fa-power-off icon-remove icon-large\"></i></button>');\n",
       "    button.click(function (evt) { fig.handle_close(fig, {}); } );\n",
       "    button.mouseover('Stop Interaction', toolbar_mouse_event);\n",
       "    buttongrp.append(button);\n",
       "    var titlebar = this.root.find($('.ui-dialog-titlebar'));\n",
       "    titlebar.prepend(buttongrp);\n",
       "}\n",
       "\n",
       "mpl.figure.prototype._root_extra_style = function(el){\n",
       "    var fig = this\n",
       "    el.on(\"remove\", function(){\n",
       "\tfig.close_ws(fig, {});\n",
       "    });\n",
       "}\n",
       "\n",
       "mpl.figure.prototype._canvas_extra_style = function(el){\n",
       "    // this is important to make the div 'focusable\n",
       "    el.attr('tabindex', 0)\n",
       "    // reach out to IPython and tell the keyboard manager to turn it's self\n",
       "    // off when our div gets focus\n",
       "\n",
       "    // location in version 3\n",
       "    if (IPython.notebook.keyboard_manager) {\n",
       "        IPython.notebook.keyboard_manager.register_events(el);\n",
       "    }\n",
       "    else {\n",
       "        // location in version 2\n",
       "        IPython.keyboard_manager.register_events(el);\n",
       "    }\n",
       "\n",
       "}\n",
       "\n",
       "mpl.figure.prototype._key_event_extra = function(event, name) {\n",
       "    var manager = IPython.notebook.keyboard_manager;\n",
       "    if (!manager)\n",
       "        manager = IPython.keyboard_manager;\n",
       "\n",
       "    // Check for shift+enter\n",
       "    if (event.shiftKey && event.which == 13) {\n",
       "        this.canvas_div.blur();\n",
       "        // select the cell after this one\n",
       "        var index = IPython.notebook.find_cell_index(this.cell_info[0]);\n",
       "        IPython.notebook.select(index + 1);\n",
       "    }\n",
       "}\n",
       "\n",
       "mpl.figure.prototype.handle_save = function(fig, msg) {\n",
       "    fig.ondownload(fig, null);\n",
       "}\n",
       "\n",
       "\n",
       "mpl.find_output_cell = function(html_output) {\n",
       "    // Return the cell and output element which can be found *uniquely* in the notebook.\n",
       "    // Note - this is a bit hacky, but it is done because the \"notebook_saving.Notebook\"\n",
       "    // IPython event is triggered only after the cells have been serialised, which for\n",
       "    // our purposes (turning an active figure into a static one), is too late.\n",
       "    var cells = IPython.notebook.get_cells();\n",
       "    var ncells = cells.length;\n",
       "    for (var i=0; i<ncells; i++) {\n",
       "        var cell = cells[i];\n",
       "        if (cell.cell_type === 'code'){\n",
       "            for (var j=0; j<cell.output_area.outputs.length; j++) {\n",
       "                var data = cell.output_area.outputs[j];\n",
       "                if (data.data) {\n",
       "                    // IPython >= 3 moved mimebundle to data attribute of output\n",
       "                    data = data.data;\n",
       "                }\n",
       "                if (data['text/html'] == html_output) {\n",
       "                    return [cell, data, j];\n",
       "                }\n",
       "            }\n",
       "        }\n",
       "    }\n",
       "}\n",
       "\n",
       "// Register the function which deals with the matplotlib target/channel.\n",
       "// The kernel may be null if the page has been refreshed.\n",
       "if (IPython.notebook.kernel != null) {\n",
       "    IPython.notebook.kernel.comm_manager.register_target('matplotlib', mpl.mpl_figure_comm);\n",
       "}\n"
      ],
      "text/plain": [
       "<IPython.core.display.Javascript object>"
      ]
     },
     "metadata": {},
     "output_type": "display_data"
    },
    {
     "data": {
      "text/html": [
       "<img src=\"data:image/png;base64,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\">"
      ],
      "text/plain": [
       "<IPython.core.display.HTML object>"
      ]
     },
     "metadata": {},
     "output_type": "display_data"
    }
   ],
   "source": [
    "fig3, ax3 = plt.subplots()\n",
    "ax3.hold(False)\n",
    "\n",
    "display(params_widget)\n",
    "display(widgets.HBox([plot_resolution_button, fit_resolution_button]))"
   ]
  },
  {
   "cell_type": "code",
   "execution_count": 11,
   "metadata": {
    "collapsed": false
   },
   "outputs": [
    {
     "data": {
      "application/javascript": [
       "IPython.OutputArea.auto_scroll_threshold = 9999;"
      ],
      "text/plain": [
       "<IPython.core.display.Javascript object>"
      ]
     },
     "metadata": {},
     "output_type": "display_data"
    }
   ],
   "source": [
    "%%javascript\n",
    "IPython.OutputArea.auto_scroll_threshold = 9999;"
   ]
  },
  {
   "cell_type": "code",
   "execution_count": 12,
   "metadata": {
    "collapsed": false
   },
   "outputs": [
    {
     "data": {
      "text/html": [
       "<script>\n",
       "code_show=true; \n",
       "function code_toggle() {\n",
       " if (code_show){\n",
       " $('div.input').hide();\n",
       " } else {\n",
       " $('div.input').show();\n",
       " }\n",
       " code_show = !code_show\n",
       "} \n",
       "$( document ).ready(code_toggle);\n",
       "</script>\n",
       "<form action=\"javascript:code_toggle()\"><input type=\"submit\" value=\"Click here to show/hide code.\"></form>"
      ],
      "text/plain": [
       "<IPython.core.display.HTML object>"
      ]
     },
     "execution_count": 12,
     "metadata": {},
     "output_type": "execute_result"
    }
   ],
   "source": [
    "from IPython.display import HTML\n",
    "\n",
    "HTML('''<script>\n",
    "code_show=true; \n",
    "function code_toggle() {\n",
    " if (code_show){\n",
    " $('div.input').hide();\n",
    " } else {\n",
    " $('div.input').show();\n",
    " }\n",
    " code_show = !code_show\n",
    "} \n",
    "$( document ).ready(code_toggle);\n",
    "</script>\n",
    "<form action=\"javascript:code_toggle()\"><input type=\"submit\" value=\"Click here to show/hide code.\"></form>''')"
   ]
  },
  {
   "cell_type": "code",
   "execution_count": null,
   "metadata": {
    "collapsed": true
   },
   "outputs": [],
   "source": []
  }
 ],
 "metadata": {
  "anaconda-cloud": {},
  "kernelspec": {
   "display_name": "Python [conda env:python3]",
   "language": "python",
   "name": "conda-env-python3-py"
  },
  "language_info": {
   "codemirror_mode": {
    "name": "ipython",
    "version": 3
   },
   "file_extension": ".py",
   "mimetype": "text/x-python",
   "name": "python",
   "nbconvert_exporter": "python",
   "pygments_lexer": "ipython3",
   "version": "3.5.2"
  },
  "widgets": {
   "state": {
    "0034e84fe7b6421586c8e5d62d61e907": {
     "views": [
      {
       "cell_index": 7
      }
     ]
    },
    "00918c5e37ed4e6bb892ed55e9254666": {
     "views": [
      {
       "cell_index": 9
      }
     ]
    },
    "02a719b52f2748d393b132228483063c": {
     "views": [
      {
       "cell_index": 9
      }
     ]
    },
    "03267f14673241059e80991cb4fc5b2a": {
     "views": [
      {
       "cell_index": 15
      }
     ]
    },
    "044c7615b8ba4d009c1eff601c3672b0": {
     "views": [
      {
       "cell_index": 14
      }
     ]
    },
    "05663f7a8fb04f6096c8af20d859c1ed": {
     "views": [
      {
       "cell_index": 13
      }
     ]
    },
    "0577c47a2113441e8213f1b99bfda822": {
     "views": [
      {
       "cell_index": 15
      }
     ]
    },
    "0758b09c4bdf43788e5fc84744e6dbbc": {
     "views": [
      {
       "cell_index": 7
      }
     ]
    },
    "080c1b47589245c2b51f69684b0d629f": {
     "views": [
      {
       "cell_index": 5
      }
     ]
    },
    "08cde9af6c1843df95f9f116cb741b70": {
     "views": [
      {
       "cell_index": 5
      }
     ]
    },
    "09e7ae1048fe466788f5dded42eb7075": {
     "views": [
      {
       "cell_index": 9
      }
     ]
    },
    "0b402cf29aa247aba0223c63ef36366d": {
     "views": [
      {
       "cell_index": 5
      }
     ]
    },
    "0bc4e327cb3e4f4880b208f3899d2688": {
     "views": [
      {
       "cell_index": 5
      }
     ]
    },
    "0c3c81d686084f9e81b1349a46257619": {
     "views": [
      {
       "cell_index": 13
      }
     ]
    },
    "0cbd5b1b9731452e961a75526c3d059e": {
     "views": [
      {
       "cell_index": 9
      }
     ]
    },
    "0e0cea622c2445e8825b76d1271b2808": {
     "views": [
      {
       "cell_index": 7
      }
     ]
    },
    "0e3c02dee16444e885f61f948b4a0791": {
     "views": [
      {
       "cell_index": 15
      }
     ]
    },
    "0f51aad7744142f38eb229fb5a025d2f": {
     "views": [
      {
       "cell_index": 15
      }
     ]
    },
    "0ff9eb66af1a4a51a20a7b9698bb0f75": {
     "views": [
      {
       "cell_index": 9
      }
     ]
    },
    "11ece93e44db4619afdee0c8be4c6ba7": {
     "views": [
      {
       "cell_index": 9
      }
     ]
    },
    "1340b00d382f40cb919af12dfb59911a": {
     "views": [
      {
       "cell_index": 9
      }
     ]
    },
    "13952fa27648443d9a65f592f1d25f4c": {
     "views": [
      {
       "cell_index": 15
      }
     ]
    },
    "1463805c61c44204af82454765f2a184": {
     "views": [
      {
       "cell_index": 15
      }
     ]
    },
    "17492673e0954dada1f0ddd7348d38c4": {
     "views": [
      {
       "cell_index": 5
      }
     ]
    },
    "1bf2fd0dd47b43ef8f2b6ac40f924be8": {
     "views": [
      {
       "cell_index": 5
      }
     ]
    },
    "1c08750b0c964d30b9965a6252b441a0": {
     "views": [
      {
       "cell_index": 5
      }
     ]
    },
    "1c530de146b94b0aa4dd7759a7c8775a": {
     "views": [
      {
       "cell_index": 15
      }
     ]
    },
    "1f89e573203f4269af7db5c9d08a0ab4": {
     "views": [
      {
       "cell_index": 13
      }
     ]
    },
    "2151f1d55cfd406d8c5c3c17eb2fe28d": {
     "views": [
      {
       "cell_index": 5
      }
     ]
    },
    "216568bcc7c54c669fd3b7fa2183da29": {
     "views": [
      {
       "cell_index": 7
      }
     ]
    },
    "21748e7cc78346f39606c17702c79981": {
     "views": [
      {
       "cell_index": 9
      }
     ]
    },
    "21d46bc2d9b34f88bd2c360e86fc361f": {
     "views": [
      {
       "cell_index": 9
      }
     ]
    },
    "220d258575f2474796dcd53580d3921a": {
     "views": [
      {
       "cell_index": 5
      }
     ]
    },
    "2342b15f41d548928cb2b133cc66ea1c": {
     "views": [
      {
       "cell_index": 9
      }
     ]
    },
    "244217e8d3614b16b834708b492d6ab6": {
     "views": [
      {
       "cell_index": 5
      }
     ]
    },
    "26c0687854c8472d81cad65704c04632": {
     "views": [
      {
       "cell_index": 15
      }
     ]
    },
    "271c519ee80d4ab585df3ecee2a3f3e6": {
     "views": [
      {
       "cell_index": 5
      }
     ]
    },
    "2ad4055f29554309a5a891c4918b3c37": {
     "views": [
      {
       "cell_index": 15
      }
     ]
    },
    "2af68d5fbc00450cb464b3dffa8f8d08": {
     "views": [
      {
       "cell_index": 15
      }
     ]
    },
    "2b4c66d642af4b2294b94496fb2cf693": {
     "views": [
      {
       "cell_index": 13
      }
     ]
    },
    "2b5448ffa52849919616b4efca3145c8": {
     "views": [
      {
       "cell_index": 9
      }
     ]
    },
    "2b6968e462184f7895541d0607f91b8d": {
     "views": [
      {
       "cell_index": 13
      }
     ]
    },
    "2bf8b32b6ee1409092d0e68a95e747b5": {
     "views": [
      {
       "cell_index": 5
      }
     ]
    },
    "2c45460dee21457dafaabeddcce99d27": {
     "views": [
      {
       "cell_index": 15
      }
     ]
    },
    "3081f105b4794fb28d2e974133e1a515": {
     "views": [
      {
       "cell_index": 14
      }
     ]
    },
    "32066dbf8eaa4231aeca5a7a57f7d714": {
     "views": [
      {
       "cell_index": 5
      }
     ]
    },
    "340335f0b07c490788eae709f0b7a768": {
     "views": [
      {
       "cell_index": 16
      }
     ]
    },
    "3566298e0d1e46799a89d815f8e1f0af": {
     "views": [
      {
       "cell_index": 9
      }
     ]
    },
    "364f65b8494c4cec8c18e334266d0c8f": {
     "views": [
      {
       "cell_index": 9
      }
     ]
    },
    "37483f7693cc4c60b4da6c9d42235dba": {
     "views": [
      {
       "cell_index": 7
      }
     ]
    },
    "375d834aca744226a43a34329c2f191b": {
     "views": [
      {
       "cell_index": 9
      }
     ]
    },
    "39908a4f9d9f4bca96cc88596a6b6876": {
     "views": [
      {
       "cell_index": 9
      }
     ]
    },
    "3991f2a1e21344199ef1f99601ebccee": {
     "views": [
      {
       "cell_index": 7
      }
     ]
    },
    "3beee1cf51bf4cf3bcc031e65415d168": {
     "views": [
      {
       "cell_index": 15
      }
     ]
    },
    "3c13729e529049cf9b444db27edbd172": {
     "views": [
      {
       "cell_index": 5
      }
     ]
    },
    "3e0a892210f64bceb95e5daf8b5f7822": {
     "views": [
      {
       "cell_index": 9
      }
     ]
    },
    "3e64fae4beb64742a8966c59da6ce6c3": {
     "views": [
      {
       "cell_index": 13
      }
     ]
    },
    "3f1c563ec7f94d2da5810cfc2abcdc23": {
     "views": [
      {
       "cell_index": 13
      }
     ]
    },
    "3f31df3bc7564574854cd8063c4bb187": {
     "views": [
      {
       "cell_index": 5
      }
     ]
    },
    "3f9bcc681293426cb598696474228e67": {
     "views": [
      {
       "cell_index": 5
      }
     ]
    },
    "3fadd4b076134650922b2df2686b6312": {
     "views": [
      {
       "cell_index": 9
      }
     ]
    },
    "422698c58ee84df39bd52f069d787c73": {
     "views": [
      {
       "cell_index": 5
      }
     ]
    },
    "43321f18204c48f6b2b9d509f4dd74b0": {
     "views": [
      {
       "cell_index": 15
      }
     ]
    },
    "434e190fd4bc4df7ae981abd2ba90c75": {
     "views": [
      {
       "cell_index": 13
      }
     ]
    },
    "4414ee0f37074ec98ba2e44d8a767352": {
     "views": [
      {
       "cell_index": 9
      }
     ]
    },
    "44e918542fc243e39dcf9c94b3cc9497": {
     "views": [
      {
       "cell_index": 5
      }
     ]
    },
    "453deeab72894b6989d32ed6efe34a6b": {
     "views": [
      {
       "cell_index": 13
      }
     ]
    },
    "459cb10aa25e44e787e5f968e595fba7": {
     "views": [
      {
       "cell_index": 13
      }
     ]
    },
    "45d962b19f2644b5beb8cb363bbfeed2": {
     "views": [
      {
       "cell_index": 13
      }
     ]
    },
    "462c7ad540984ba1a902cc492f20c54f": {
     "views": [
      {
       "cell_index": 7
      }
     ]
    },
    "479493ff61d343088c62703833af9826": {
     "views": [
      {
       "cell_index": 5
      }
     ]
    },
    "482407a3cb314240a5874c9874fa0e6a": {
     "views": [
      {
       "cell_index": 5
      }
     ]
    },
    "48bcbfd8cceb48819a2da1f8113d27dd": {
     "views": [
      {
       "cell_index": 7
      }
     ]
    },
    "4a8225a5d9254f71ad14fb29aefc4aea": {
     "views": [
      {
       "cell_index": 7
      }
     ]
    },
    "4a8ec87262c448dc842d7dec96f016ab": {
     "views": [
      {
       "cell_index": 13
      }
     ]
    },
    "4af48d685f334c5f9c2a5e85bfaa00db": {
     "views": [
      {
       "cell_index": 15
      }
     ]
    },
    "4c89b39a7fc3478388c44f6d5c94aa12": {
     "views": [
      {
       "cell_index": 15
      }
     ]
    },
    "4e914e7f0e2a40078d3a0e7a232bd315": {
     "views": [
      {
       "cell_index": 5
      }
     ]
    },
    "4e92c3f4b62349fb99d8d75eb9b90631": {
     "views": [
      {
       "cell_index": 5
      }
     ]
    },
    "4f39f44b76544a4f8619d7e3eeccf973": {
     "views": [
      {
       "cell_index": 9
      }
     ]
    },
    "4f48bc0d595d4529a9a805f41109f1a2": {
     "views": [
      {
       "cell_index": 5
      }
     ]
    },
    "4f796ad25d3f416190fda1fc4cebec30": {
     "views": [
      {
       "cell_index": 9
      }
     ]
    },
    "4fb35bce160b44d49891eae7c43a84af": {
     "views": [
      {
       "cell_index": 13
      }
     ]
    },
    "4ff60ab4845146228328e6f87ecfb5eb": {
     "views": [
      {
       "cell_index": 7
      }
     ]
    },
    "511c40fe932649df949a00c7edb151d1": {
     "views": [
      {
       "cell_index": 7
      }
     ]
    },
    "51bab773e2134693aed3281257181a40": {
     "views": [
      {
       "cell_index": 13
      }
     ]
    },
    "524a47a322344d62a53992a3f1e6de71": {
     "views": [
      {
       "cell_index": 15
      }
     ]
    },
    "528973340d3b4725be3b4c59cdb2349d": {
     "views": [
      {
       "cell_index": 7
      }
     ]
    },
    "53aacd2de4434ba0bab0fcaf3004cc74": {
     "views": [
      {
       "cell_index": 5
      }
     ]
    },
    "53e7dea8f7f74297b37e50127378c678": {
     "views": [
      {
       "cell_index": 7
      }
     ]
    },
    "54c689a73bd44dab8b8383c9489a61a8": {
     "views": [
      {
       "cell_index": 15
      }
     ]
    },
    "554e6c1fb1d94166ba0413ac075565b2": {
     "views": [
      {
       "cell_index": 7
      }
     ]
    },
    "5578f6bb0ef54c1484aa824d31888e3d": {
     "views": [
      {
       "cell_index": 13
      }
     ]
    },
    "55c10a0e087048b1adc9ceb20d3cb072": {
     "views": [
      {
       "cell_index": 5
      }
     ]
    },
    "56858866760c4620a64ee373b830deeb": {
     "views": [
      {
       "cell_index": 15
      }
     ]
    },
    "58fbe8e1ffc141319e381eb6ea5fdf06": {
     "views": [
      {
       "cell_index": 13
      }
     ]
    },
    "59e797e949bc496a9188cb443f6a0193": {
     "views": [
      {
       "cell_index": 13
      }
     ]
    },
    "5a73930b44f84a5da71592b497034171": {
     "views": [
      {
       "cell_index": 5
      }
     ]
    },
    "5c06bd68cd364f95830b11757e88956b": {
     "views": [
      {
       "cell_index": 15
      }
     ]
    },
    "5f839917c9ea4951b3e436a32b325a1b": {
     "views": [
      {
       "cell_index": 7
      }
     ]
    },
    "5fec89726f2a4a9484c359b47a3c8925": {
     "views": [
      {
       "cell_index": 13
      }
     ]
    },
    "60b05c716bff4aedb34e238e16eb5e3b": {
     "views": [
      {
       "cell_index": 13
      }
     ]
    },
    "6157d3ec339b45749831e781623eaaf0": {
     "views": [
      {
       "cell_index": 15
      }
     ]
    },
    "62a5af37ec344565848ba971c9840f4e": {
     "views": [
      {
       "cell_index": 15
      }
     ]
    },
    "62c156693a894d59a24a4e44dea6f709": {
     "views": [
      {
       "cell_index": 11
      }
     ]
    },
    "63715bc63e2d4acdbdda1d7bac8cc3b4": {
     "views": [
      {
       "cell_index": 13
      }
     ]
    },
    "643c344753c14ec1bfb866ecb73a3b55": {
     "views": [
      {
       "cell_index": 7
      }
     ]
    },
    "66b9dedd8cc743f3825c9c00bf2b14f0": {
     "views": [
      {
       "cell_index": 7
      }
     ]
    },
    "691ef9176c7b488dba5bc00370efb451": {
     "views": [
      {
       "cell_index": 7
      }
     ]
    },
    "69cca26f66b549b1bc037bf27d16d543": {
     "views": [
      {
       "cell_index": 9
      }
     ]
    },
    "69ceb900754b4f9d9640e180af4391a6": {
     "views": [
      {
       "cell_index": 15
      }
     ]
    },
    "6cd21193ed52404db4b1853c3042364f": {
     "views": [
      {
       "cell_index": 15
      }
     ]
    },
    "6d5e913b77b047d2828ff6fb47ab7903": {
     "views": [
      {
       "cell_index": 5
      }
     ]
    },
    "6f211f010b4e4bda8b48ac63bf210866": {
     "views": [
      {
       "cell_index": 9
      }
     ]
    },
    "6fbbb631652148be91108cf99069a28f": {
     "views": [
      {
       "cell_index": 7
      }
     ]
    },
    "6fe772957cc5496486431d37efe87a9a": {
     "views": [
      {
       "cell_index": 13
      }
     ]
    },
    "70b0874f77024267addac037724d5236": {
     "views": [
      {
       "cell_index": 13
      }
     ]
    },
    "70d2c8363acb4930892c76651615e228": {
     "views": [
      {
       "cell_index": 9
      }
     ]
    },
    "73795f613a6044838be7b5cfb7ae8905": {
     "views": [
      {
       "cell_index": 7
      }
     ]
    },
    "73c0762f11214b0bb4bb2a7329b97b9a": {
     "views": [
      {
       "cell_index": 7
      }
     ]
    },
    "7560fd8acf7c4619bb28d97646100616": {
     "views": [
      {
       "cell_index": 5
      }
     ]
    },
    "7583ad52e7bc419c88ba4117f3a8a9fe": {
     "views": [
      {
       "cell_index": 13
      }
     ]
    },
    "75c6f7b7fbdb451ca40c70771de22110": {
     "views": [
      {
       "cell_index": 15
      }
     ]
    },
    "78604324d32b4795bed2760dbb71e6a3": {
     "views": [
      {
       "cell_index": 15
      }
     ]
    },
    "787c461a609d40b3a21292a8901b8712": {
     "views": [
      {
       "cell_index": 7
      }
     ]
    },
    "791e52b91cf8477a88d283a9f6889918": {
     "views": [
      {
       "cell_index": 5
      }
     ]
    },
    "7b56cee1bc6a40fb9605dba4ca206f62": {
     "views": [
      {
       "cell_index": 5
      }
     ]
    },
    "7b7f1fa42cc349e5945165804daff4bd": {
     "views": [
      {
       "cell_index": 7
      }
     ]
    },
    "7ba36d08c6724127af60c7db6623666a": {
     "views": [
      {
       "cell_index": 5
      }
     ]
    },
    "7c93ce115c2845499b2e8c3f4ec751e5": {
     "views": [
      {
       "cell_index": 5
      }
     ]
    },
    "7cc7992f016b4fde86876a5a472509e6": {
     "views": [
      {
       "cell_index": 15
      }
     ]
    },
    "7d3608432f664561b9f2de06bee3581a": {
     "views": [
      {
       "cell_index": 9
      }
     ]
    },
    "7d837e5c453c4993b82f5371b827d2c1": {
     "views": [
      {
       "cell_index": 5
      }
     ]
    },
    "7d8d8bffb3b54e1597844e5f81b0e10b": {
     "views": [
      {
       "cell_index": 7
      }
     ]
    },
    "80450ce2908f4111bec514a316fec4f0": {
     "views": [
      {
       "cell_index": 7
      }
     ]
    },
    "805862c090f34b1baf24598abf38a3a5": {
     "views": [
      {
       "cell_index": 9
      }
     ]
    },
    "805aedfb8d2e42acaf88cd6b89fcbdd2": {
     "views": [
      {
       "cell_index": 9
      }
     ]
    },
    "821003228ab943efaa85c347a056beca": {
     "views": [
      {
       "cell_index": 7
      }
     ]
    },
    "83526044998345efb435c0acdfe195a3": {
     "views": [
      {
       "cell_index": 7
      }
     ]
    },
    "8446b8ae2ded42eb8a5434be4ee7d273": {
     "views": [
      {
       "cell_index": 13
      }
     ]
    },
    "86cc74065454451498ef80556d6ef23e": {
     "views": [
      {
       "cell_index": 7
      }
     ]
    },
    "86fc4e5f04834420bd3310f9bf50d128": {
     "views": [
      {
       "cell_index": 15
      }
     ]
    },
    "888b61654f8e4a418981526b2412a071": {
     "views": [
      {
       "cell_index": 15
      }
     ]
    },
    "88a55b506ecd4a0e920e499434e79e6b": {
     "views": [
      {
       "cell_index": 9
      }
     ]
    },
    "8b52023fea39452fbe67482fd53cfd03": {
     "views": [
      {
       "cell_index": 5
      }
     ]
    },
    "8d722493c663426aab5685cb7b4a4ded": {
     "views": [
      {
       "cell_index": 15
      }
     ]
    },
    "8e673e563dfd4135b958501fd3065625": {
     "views": [
      {
       "cell_index": 9
      }
     ]
    },
    "8f7895797fb94d0b8a9b11b0407c5095": {
     "views": [
      {
       "cell_index": 7
      }
     ]
    },
    "902d656baf2a4ca4ba88a03531fae741": {
     "views": [
      {
       "cell_index": 9
      }
     ]
    },
    "917f34cea6034989a41dc2d86b0e8721": {
     "views": [
      {
       "cell_index": 15
      }
     ]
    },
    "92443dfe0bf64627b598ac2099c0964b": {
     "views": [
      {
       "cell_index": 9
      }
     ]
    },
    "92fd22cd74b54b318e946304c69ee6ab": {
     "views": [
      {
       "cell_index": 7
      }
     ]
    },
    "94173a93936a4c3991cca45893041fab": {
     "views": [
      {
       "cell_index": 15
      }
     ]
    },
    "944ca7142210476b9c749ba94a7435d6": {
     "views": [
      {
       "cell_index": 9
      }
     ]
    },
    "94d4f68df92b40cf9e79a84011c1aa06": {
     "views": [
      {
       "cell_index": 7
      }
     ]
    },
    "9514eec0b81e40c696da45746760405b": {
     "views": [
      {
       "cell_index": 13
      }
     ]
    },
    "95aaa4fa219b45a699989f42388cde9c": {
     "views": [
      {
       "cell_index": 5
      }
     ]
    },
    "95e90a08d9994d49b6bb501f15846611": {
     "views": [
      {
       "cell_index": 5
      }
     ]
    },
    "961c9736ccb04a60a007743684685a19": {
     "views": [
      {
       "cell_index": 9
      }
     ]
    },
    "96a541e94b2d440eab4e7441fbf8ed39": {
     "views": [
      {
       "cell_index": 16
      }
     ]
    },
    "96b74e8432bf471590c3d4af0d8efacb": {
     "views": [
      {
       "cell_index": 9
      }
     ]
    },
    "96cdd89b71154c54a17ad41a71af9bf1": {
     "views": [
      {
       "cell_index": 9
      }
     ]
    },
    "9828a173b35d42e3ab5c5d143a047696": {
     "views": [
      {
       "cell_index": 7
      }
     ]
    },
    "98460bd6d7c74b749fc31b4a81b773c6": {
     "views": [
      {
       "cell_index": 13
      }
     ]
    },
    "9953a7e6f19b48548ab3e5a64bcd0375": {
     "views": [
      {
       "cell_index": 13
      }
     ]
    },
    "99bb2425c943465790ea633ec8423c1f": {
     "views": [
      {
       "cell_index": 13
      }
     ]
    },
    "9a674213bce24283b3b581f423b96e8a": {
     "views": [
      {
       "cell_index": 7
      }
     ]
    },
    "9a6d8070379a43a294562804db691fa2": {
     "views": [
      {
       "cell_index": 13
      }
     ]
    },
    "9bd03b4db2404aa68a64205b2eba3eda": {
     "views": [
      {
       "cell_index": 13
      }
     ]
    },
    "9c7981eb43214c0980e1128f9698304b": {
     "views": [
      {
       "cell_index": 13
      }
     ]
    },
    "9cc8468ceec44c51bd31eb52c68a726b": {
     "views": [
      {
       "cell_index": 13
      }
     ]
    },
    "9d7638cea1294c1aa084c95fe3738a37": {
     "views": [
      {
       "cell_index": 15
      }
     ]
    },
    "9e9adde21131453db2844a5a7768016d": {
     "views": [
      {
       "cell_index": 13
      }
     ]
    },
    "9f5ea07fc4a24d4ebf86d5e5620dca8f": {
     "views": [
      {
       "cell_index": 5
      }
     ]
    },
    "a1b83bfc391e4055b5fec43951bb30f7": {
     "views": [
      {
       "cell_index": 7
      }
     ]
    },
    "a261921dc977408e92e60eb351344ae4": {
     "views": [
      {
       "cell_index": 15
      }
     ]
    },
    "a2afe7f8fce24147b3e65ea76a9b080b": {
     "views": [
      {
       "cell_index": 9
      }
     ]
    },
    "a4771c67c8ca4609b0450b8169f9347c": {
     "views": [
      {
       "cell_index": 9
      }
     ]
    },
    "a5900962003e45358ca94f7c7efb3b17": {
     "views": [
      {
       "cell_index": 9
      }
     ]
    },
    "a6c820a0ab304888b76cf2d96707b2e5": {
     "views": [
      {
       "cell_index": 5
      }
     ]
    },
    "a84ee2d11bf84e7dae95afc779bd0ab8": {
     "views": [
      {
       "cell_index": 9
      }
     ]
    },
    "a89a925688634dfaafd5e419d77b057f": {
     "views": [
      {
       "cell_index": 7
      }
     ]
    },
    "a8fac9042daa4720806ff1c1a56ac9c8": {
     "views": [
      {
       "cell_index": 7
      }
     ]
    },
    "aa19ff905df4403a86f35b90ad81358c": {
     "views": [
      {
       "cell_index": 7
      }
     ]
    },
    "aa3e3aef34174a889f6f307f8d02b46d": {
     "views": [
      {
       "cell_index": 9
      }
     ]
    },
    "ab1f93f35dac488a9125c4e10fcb27af": {
     "views": [
      {
       "cell_index": 5
      }
     ]
    },
    "ab6e244a40e34d8c8b9f00b264d222ea": {
     "views": [
      {
       "cell_index": 14
      }
     ]
    },
    "ac52d96c26a94392b9d9b964db83e8ef": {
     "views": [
      {
       "cell_index": 9
      }
     ]
    },
    "ad52592aa8ab43faa95ee9402176bc23": {
     "views": [
      {
       "cell_index": 15
      }
     ]
    },
    "af4a1bf092874add9d846f16809babb1": {
     "views": [
      {
       "cell_index": 5
      }
     ]
    },
    "af4bd032bd834f9db163eba6863c3d50": {
     "views": [
      {
       "cell_index": 9
      }
     ]
    },
    "b1d701e7afef4348a509b7f00d5783d5": {
     "views": [
      {
       "cell_index": 15
      }
     ]
    },
    "b20495567c7a473cae1cc129017553c3": {
     "views": [
      {
       "cell_index": 7
      }
     ]
    },
    "b3f58a3ae60049d6b70488d5ccced883": {
     "views": [
      {
       "cell_index": 9
      }
     ]
    },
    "b401f04a2bd944d58c4556ef89417faa": {
     "views": [
      {
       "cell_index": 9
      }
     ]
    },
    "b4391307660a4ae280458c90440ed6f2": {
     "views": [
      {
       "cell_index": 7
      }
     ]
    },
    "b4e3ca79042f4265b945bdd4ef628f98": {
     "views": [
      {
       "cell_index": 9
      }
     ]
    },
    "b585b3bff89c4533a61e54345af66c20": {
     "views": [
      {
       "cell_index": 9
      }
     ]
    },
    "b703bc6f182e4c019b6dd381e40b2044": {
     "views": [
      {
       "cell_index": 7
      }
     ]
    },
    "b7428cd62072469390d972fe0fecff14": {
     "views": [
      {
       "cell_index": 9
      }
     ]
    },
    "b7a9853e33e14f8cb5b50a604127dc5f": {
     "views": [
      {
       "cell_index": 7
      }
     ]
    },
    "b7c1364493804976955b7dde9827fb6b": {
     "views": [
      {
       "cell_index": 9
      },
      {
       "cell_index": 9
      },
      {
       "cell_index": 9
      }
     ]
    },
    "b7c8e4989c32453cbeafde3fb389eae8": {
     "views": [
      {
       "cell_index": 7
      }
     ]
    },
    "b7f244bcaf504974a09e7e971d8dce80": {
     "views": [
      {
       "cell_index": 5
      }
     ]
    },
    "b8148149efbc4cc7b4506c90fd5ef9ce": {
     "views": [
      {
       "cell_index": 5
      }
     ]
    },
    "b8b5ef3e5bc74d288e51d29b959b345f": {
     "views": [
      {
       "cell_index": 9
      }
     ]
    },
    "b8da930009ae4b7c8a5889c52ea4ff1f": {
     "views": [
      {
       "cell_index": 9
      }
     ]
    },
    "ba8abaf0141b4d2b8868c82b48979cbc": {
     "views": [
      {
       "cell_index": 9
      }
     ]
    },
    "bad167d797c8403bbe5c24bb09a0e2c6": {
     "views": [
      {
       "cell_index": 9
      }
     ]
    },
    "bae3b1ddf3b64a06886dfc44248534b7": {
     "views": [
      {
       "cell_index": 9
      }
     ]
    },
    "bb5260ba130845dda19d2a99e8024f62": {
     "views": [
      {
       "cell_index": 13
      }
     ]
    },
    "bbbc532e4f6246faa27ec94f58c88312": {
     "views": [
      {
       "cell_index": 15
      }
     ]
    },
    "bc505ac9d505481eb1dcb77d113acc1d": {
     "views": [
      {
       "cell_index": 15
      }
     ]
    },
    "bcd055476e8e42f2beb751905b2d4286": {
     "views": [
      {
       "cell_index": 5
      }
     ]
    },
    "bd89fabdafa2400196a17442d637202c": {
     "views": [
      {
       "cell_index": 15
      }
     ]
    },
    "bed9b7dcf6fc4d54b05234f96f999449": {
     "views": [
      {
       "cell_index": 7
      }
     ]
    },
    "bf6eddde45de4201aec056e3f83046da": {
     "views": [
      {
       "cell_index": 9
      }
     ]
    },
    "c09979161a8f492da145ec94c2f0c8d5": {
     "views": [
      {
       "cell_index": 13
      }
     ]
    },
    "c0d43561aa4246e5992c75cff64d6e34": {
     "views": [
      {
       "cell_index": 7
      }
     ]
    },
    "c2204a211a1249f68b943bac59d79b30": {
     "views": [
      {
       "cell_index": 7
      }
     ]
    },
    "c54db26fecb048afaa0d288457f79b8a": {
     "views": [
      {
       "cell_index": 5
      }
     ]
    },
    "c57d307605de4fa5b7eebd2ac85c64c0": {
     "views": [
      {
       "cell_index": 5
      }
     ]
    },
    "c6736f901cc543a3a9d0b0b5a2a545ba": {
     "views": [
      {
       "cell_index": 5
      }
     ]
    },
    "c7035a86caab4121927aefbe79e239fe": {
     "views": [
      {
       "cell_index": 13
      }
     ]
    },
    "c83e7095e61d4d5380f729484da18242": {
     "views": [
      {
       "cell_index": 7
      }
     ]
    },
    "c98ad2bef4c54191a69aeafb25e78e12": {
     "views": [
      {
       "cell_index": 5
      }
     ]
    },
    "cbb6767939e44d27b882807ed6360c49": {
     "views": [
      {
       "cell_index": 15
      }
     ]
    },
    "cc750a2986004f63878fde9ec160e2e6": {
     "views": [
      {
       "cell_index": 14
      }
     ]
    },
    "ccfe9af9a2e44dab8d450acb6c076f79": {
     "views": [
      {
       "cell_index": 5
      }
     ]
    },
    "ce33273ec6924cc59275eda6c2532518": {
     "views": [
      {
       "cell_index": 5
      }
     ]
    },
    "ce3b38ea1ab44f26a182e56cbe3b17ab": {
     "views": [
      {
       "cell_index": 13
      }
     ]
    },
    "cfa11f0ef75f497ba754d0ffadbf8dec": {
     "views": [
      {
       "cell_index": 9
      }
     ]
    },
    "d063b703ca4d4d3da2cfd1d5373958aa": {
     "views": [
      {
       "cell_index": 7
      }
     ]
    },
    "d235ded7921343e6a7d07330dc3ac698": {
     "views": [
      {
       "cell_index": 5
      }
     ]
    },
    "d3d5592558f44d1e8eab67f2cc2a3c5a": {
     "views": [
      {
       "cell_index": 13
      }
     ]
    },
    "d42a675809874dfdb154634f83e1b855": {
     "views": [
      {
       "cell_index": 15
      }
     ]
    },
    "d4b7d634ab1540ad8b7436e891a75123": {
     "views": [
      {
       "cell_index": 9
      }
     ]
    },
    "d50afd38e4994f12a5b8aee2f88cbb33": {
     "views": [
      {
       "cell_index": 9
      }
     ]
    },
    "d52c8a9e9abb4a3d949b84f919cbda1b": {
     "views": [
      {
       "cell_index": 13
      }
     ]
    },
    "d54fde322e0140a49d158e5c3abd266c": {
     "views": [
      {
       "cell_index": 7
      }
     ]
    },
    "d5c456e44aca4394bb21dfbbe33288d0": {
     "views": [
      {
       "cell_index": 15
      }
     ]
    },
    "d74d7a6915dd4940bf37bdf20f7c3c4e": {
     "views": [
      {
       "cell_index": 15
      }
     ]
    },
    "d80db9d5db4d477fa1d85c004e9dc825": {
     "views": [
      {
       "cell_index": 13
      }
     ]
    },
    "d90c7285cccd4edf9218d628bcc1fcad": {
     "views": [
      {
       "cell_index": 5
      }
     ]
    },
    "dff02ea6dab04f6fa7ed2a7b0a8a1d33": {
     "views": [
      {
       "cell_index": 5
      }
     ]
    },
    "e09bda77939c4698bf7086acc849f14a": {
     "views": [
      {
       "cell_index": 7
      }
     ]
    },
    "e4823eff8fc64a1b881715e33cdb6ca0": {
     "views": [
      {
       "cell_index": 15
      }
     ]
    },
    "e4b0c96e939c46edb9c45bd7e63e14eb": {
     "views": [
      {
       "cell_index": 9
      }
     ]
    },
    "e7bebf96fd4f4d638832473f6d3383d1": {
     "views": [
      {
       "cell_index": 13
      }
     ]
    },
    "e9f3683bb1914f11b875573675e05cc6": {
     "views": [
      {
       "cell_index": 5
      }
     ]
    },
    "eaa1400000c84a859c6f622231283c2d": {
     "views": [
      {
       "cell_index": 13
      }
     ]
    },
    "eca00a7e6d384896ab8f2a4718ff846a": {
     "views": [
      {
       "cell_index": 7
      }
     ]
    },
    "ee47097beead4469855cdb9907982aaa": {
     "views": [
      {
       "cell_index": 5
      }
     ]
    },
    "ef29b0a4095f4546a1b5b1b86ab5992c": {
     "views": [
      {
       "cell_index": 16
      }
     ]
    },
    "ef8a9f5262f94f7bb26a18ca29124c42": {
     "views": [
      {
       "cell_index": 7
      }
     ]
    },
    "ef8ae544fea047ee82f17c6b07dac944": {
     "views": [
      {
       "cell_index": 9
      }
     ]
    },
    "f028f5ef3147491e83373593363d35cb": {
     "views": [
      {
       "cell_index": 13
      }
     ]
    },
    "f094730e64d6424bad647e9adbefefba": {
     "views": [
      {
       "cell_index": 5
      }
     ]
    },
    "f1b78f829648439391983df786abf2c9": {
     "views": [
      {
       "cell_index": 15
      }
     ]
    },
    "f1fc4c3cf28c4d919a3a2ed912bf2032": {
     "views": [
      {
       "cell_index": 7
      }
     ]
    },
    "f280a096136d43cf837cac5a3bcf342e": {
     "views": [
      {
       "cell_index": 7
      }
     ]
    },
    "f2a7980a633647f0a61efeb5267783b3": {
     "views": [
      {
       "cell_index": 7
      }
     ]
    },
    "f31064baf3824ce894c7c0f73fcf3a6f": {
     "views": [
      {
       "cell_index": 15
      }
     ]
    },
    "f31d0c92423845d6952b0eb73292e267": {
     "views": [
      {
       "cell_index": 13
      }
     ]
    },
    "f56cf24459c14583a908a4468b583b50": {
     "views": [
      {
       "cell_index": 7
      }
     ]
    },
    "f87f64fbbabd413bb313b4742a3c32c5": {
     "views": [
      {
       "cell_index": 5
      }
     ]
    },
    "f94d269e924645eb95db6d5082485fdb": {
     "views": [
      {
       "cell_index": 7
      }
     ]
    },
    "f9b810faa9d647d7989cbc2b53c39f4a": {
     "views": [
      {
       "cell_index": 9
      }
     ]
    },
    "fa1b23a4d96f45379c5683b946943680": {
     "views": [
      {
       "cell_index": 7
      }
     ]
    },
    "fba5fcf50f674d77a1dafe5bef37057b": {
     "views": [
      {
       "cell_index": 5
      }
     ]
    },
    "fbca599712404153b9bbffe10d20d5e9": {
     "views": [
      {
       "cell_index": 7
      }
     ]
    },
    "fe31585699554b63879bae13ee0b1794": {
     "views": [
      {
       "cell_index": 5
      }
     ]
    },
    "ff3b2b87666d4a6eb063c1149e3b4de8": {
     "views": [
      {
       "cell_index": 13
      }
     ]
    }
   },
   "version": "1.2.0"
  }
 },
 "nbformat": 4,
 "nbformat_minor": 1
}
