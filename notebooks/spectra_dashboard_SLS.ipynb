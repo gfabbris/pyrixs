{
 "cells": [
  {
   "cell_type": "markdown",
   "metadata": {
    "extensions": {
     "jupyter_dashboards": {
      "version": 1,
      "views": {
       "grid_default": {
        "col": 0,
        "height": 3,
        "hidden": false,
        "row": 0,
        "width": 2
       },
       "report_default": {
        "hidden": false
       }
      }
     }
    }
   },
   "source": [
    "# Spectra processor"
   ]
  },
  {
   "cell_type": "code",
   "execution_count": 39,
   "metadata": {
    "collapsed": true,
    "deletable": true,
    "editable": true,
    "extensions": {
     "jupyter_dashboards": {
      "version": 1,
      "views": {
       "grid_default": {
        "col": 4,
        "height": 4,
        "hidden": false,
        "row": 33,
        "width": 4
       },
       "report_default": {
        "hidden": true
       }
      }
     }
    },
    "scrolled": true
   },
   "outputs": [],
   "source": [
    "import numpy as np\n",
    "import pandas as pd\n",
    "\n",
    "import os, glob\n",
    "\n",
    "from collections import OrderedDict\n",
    "\n",
    "import matplotlib\n",
    "import matplotlib.pyplot as plt\n",
    "\n",
    "import ipywidgets as widgets\n",
    "from traitlets import dlink\n",
    "from IPython.display import display, clear_output\n",
    "\n",
    "import lmfit\n",
    "\n",
    "from pyrixs import process1d\n",
    "\n",
    "import h5py\n",
    "\n",
    "%matplotlib nbagg"
   ]
  },
  {
   "cell_type": "code",
   "execution_count": 40,
   "metadata": {
    "collapsed": true,
    "deletable": true,
    "editable": true,
    "extensions": {
     "jupyter_dashboards": {
      "version": 1,
      "views": {
       "grid_default": {
        "col": 8,
        "height": 4,
        "hidden": false,
        "row": 33,
        "width": 4
       },
       "report_default": {
        "hidden": true
       }
      }
     }
    },
    "scrolled": false
   },
   "outputs": [],
   "source": [
    "#global Data\n",
    "Data = OrderedDict({\n",
    "'raw_spectra' : pd.Series(np.array([])),\n",
    "'shifts' : pd.Series(np.array([])),\n",
    "'reference' : '',\n",
    "'aligned_spectra' : pd.Series(np.array([])),\n",
    "'raw_spectrum' : pd.Series(np.array([])),\n",
    "'calibrated_spectrum' : pd.Series(np.array([])),\n",
    "'meta': '',\n",
    "'save_filename': '',\n",
    "'fit_result' : None\n",
    "})\n",
    "\n",
    "#AXES = OrderedDict(ax1=None, ax2=None, ax3=None, ax4=None)\n",
    "\n",
    "figsize = (3.5,2.5)\n",
    "width = '100px'"
   ]
  },
  {
   "cell_type": "code",
   "execution_count": 41,
   "metadata": {
    "collapsed": true,
    "deletable": true,
    "editable": true,
    "extensions": {
     "jupyter_dashboards": {
      "version": 1,
      "views": {
       "grid_default": {
        "col": 0,
        "height": 4,
        "hidden": false,
        "row": 33,
        "width": 4
       },
       "report_default": {
        "hidden": true
       }
      }
     }
    },
    "scrolled": false
   },
   "outputs": [],
   "source": [
    "## SEPARATE FUNCTIONS DEFINED HERE ##\n",
    "def get_E_pol(search_path, filename):\n",
    "    \"\"\"Get Photon energy and polarization from SLS h5 file\"\"\"\n",
    "    with h5py.File(os.path.join(search_path, filename), mode='r') as h5file:\n",
    "        ein = np.mean(h5file['entry']['instrument']['NDAttributes']['PhotonEnergy'].value)\n",
    "        temp = np.mean(h5file['entry']['instrument']['NDAttributes']['SampleTemp'].value)\n",
    "        pol10 = np.mean(h5file['entry']['instrument']['NDAttributes']['PolarMode'].value)\n",
    "    if pol10 == 0:\n",
    "        pol = 'LH'\n",
    "    elif pol10 == 1:\n",
    "        pol = 'LV'\n",
    "    return ein, pol, temp\n",
    "\n",
    "\n",
    "def check_processed(search_path,filename):\n",
    "    \"\"\"Check if spectrum has been aligned before. If so load previously used parameters.\"\"\"\n",
    "    try:\n",
    "        processed_file = open(os.path.join(search_path, filename),'r').readlines()\n",
    "        message = 'It looks like these scans have been processed!\\n'\n",
    "        message += 'The parameters that were used will be loaded.\\n\\n'\n",
    "        message_widget.value += message\n",
    "        for line in processed_file:\n",
    "            if 'Align min' in line:\n",
    "                align_min_widget.value = float(line.split('=')[-1])\n",
    "            elif 'Align max' in line:\n",
    "                align_max_widget.value = float(line.split('=')[-1])\n",
    "            elif 'Zero energy pixel ' in line:\n",
    "                zero_energy_widget.value = float(line.split('=')[-1])\n",
    "                \n",
    "    except FileNotFoundError:\n",
    "        return\n",
    "    \n",
    "# unused, but keep for now. Delete later\n",
    "def test_files_exist(folder, filenames):\n",
    "    for filename in filenames:\n",
    "        filepath = os.path.join(folder, filename)\n",
    "        assert os.path.isfile(filepath), \"{} Does not exist\".format(filepath)"
   ]
  },
  {
   "cell_type": "code",
   "execution_count": 42,
   "metadata": {
    "collapsed": false,
    "deletable": true,
    "editable": true,
    "extensions": {
     "jupyter_dashboards": {
      "version": 1,
      "views": {
       "grid_default": {
        "col": 4,
        "height": 4,
        "hidden": false,
        "row": 37,
        "width": 4
       },
       "report_default": {
        "hidden": true
       }
      }
     }
    },
    "scrolled": false
   },
   "outputs": [],
   "source": [
    "## WIDGETS DEFINED HERE ##\n",
    "\n",
    "# widgets by the side of the plots \n",
    "scan_number_widget = widgets.Text(value='0609', layout=widgets.Layout(width=width))\n",
    "align_min_widget = widgets.FloatText(value=100, layout=widgets.Layout(width=width))\n",
    "align_max_widget = widgets.FloatText(value=3000, layout=widgets.Layout(width=width))\n",
    "zero_energy_widget = widgets.FloatText(value=900, layout=widgets.Layout(width=width))\n",
    "\n",
    "\n",
    "input_folder_widget = widgets.Text(\n",
    "    value='test_data/',  \n",
    "    description='Input folder',\n",
    ")\n",
    "\n",
    "output_folder_widget = widgets.Text(\n",
    "    value='TEST/',  \n",
    "    description='Output folder',\n",
    ")\n",
    "\n",
    "ee_pix_widget = widgets.FloatText(\n",
    "    value=0.00915,  \n",
    "    description='Energy per pixel',\n",
    ")\n",
    "\n",
    "\n",
    "display_shifts_widget =widgets.HTML(\n",
    "    value=\"\",\n",
    ")\n",
    "\n",
    "output_filename_widget = widgets.Text(\n",
    "    value='file_out_name',  \n",
    "    description='Output filename',\n",
    ")\n",
    "\n",
    "\n",
    "\n",
    "output_header_widget = widgets.Text(\n",
    "    value='description of sample and conditions',\n",
    "    description='Header',\n",
    ")\n",
    "\n",
    "load_plot_button = widgets.Button(description='Load')\n",
    "fit_button = widgets.Button(description='Fit')\n",
    "\n",
    "\n",
    "reset_shifts_button = widgets.Button(description = 'Reset shifts')\n",
    "\n",
    "plot_range_widget = widgets.IntRangeSlider(\n",
    "    value=[1, 3200],\n",
    "    min=0,\n",
    "    max=3500,\n",
    "    step=10,\n",
    "    description='Plot pixel limit',\n",
    "    disabled=False,\n",
    "    continuous_update=False,\n",
    "    orientation='horizontal',\n",
    "    readout=True,\n",
    "    readout_format='i',\n",
    "    slider_color='white',\n",
    "    color='black',\n",
    "    layout=widgets.Layout(width='50%')\n",
    ")\n",
    "\n",
    "message_widget = widgets.Textarea(desciption='Messages', value = '', width='2000px', height='2000px')"
   ]
  },
  {
   "cell_type": "code",
   "execution_count": 43,
   "metadata": {
    "collapsed": false,
    "deletable": true,
    "editable": true,
    "extensions": {
     "jupyter_dashboards": {
      "version": 1,
      "views": {
       "grid_default": {
        "col": 8,
        "height": 4,
        "hidden": false,
        "row": 37,
        "width": 4
       },
       "report_default": {
        "hidden": true
       }
      }
     }
    },
    "scrolled": false
   },
   "outputs": [],
   "source": [
    "## FUNCTIONS BOUND TO WIDGETS ##\n",
    "def wrap_load_plot(change):\n",
    "\n",
    "    Data['meta'] = '# ' + output_header_widget.value + '\\n'\n",
    "    scans = scan_number_widget.value.split()\n",
    "    filenames = ['Co_' + '{:04d}_d{}.h5'.format(int(scan), det) for det in [1,2,3] for scan in scans]\n",
    "    ein, pol, temp = get_E_pol(input_folder_widget.value, filenames[0])\n",
    "    Data['save_filename'] = output_filename_widget.value + '_{:0.2f}eV_{}.dat'.format(ein,pol)\n",
    "    \n",
    "    check_processed(output_folder_widget.value,Data['save_filename'])\n",
    "    \n",
    "    Data['raw_spectra'] = process1d.load_spectra(input_folder_widget.value, filenames)\n",
    "    \n",
    "    if len(Data['raw_spectra'].columns) != len(Data['shifts']):\n",
    "        Data['shifts'] = pd.Series(data=np.zeros(len(Data['raw_spectra'].columns)), index=Data['raw_spectra'].columns)\n",
    "    else: \n",
    "        Data['shifts'].index = pd.Index(filenames)\n",
    "    \n",
    "    Data['reference'] = Data['raw_spectra'].columns[0]\n",
    "    display_shifts_widget.value = pd.DataFrame(Data['shifts'], columns=['shifts']).to_html()\n",
    "    process_plot(Data)\n",
    "    \n",
    "    message = 'Loaded \\n' + '\\n'.join(filenames) + '\\n\\n'\n",
    "    message_widget.value += message\n",
    "\n",
    "load_plot_button.on_click(wrap_load_plot)\n",
    "\n",
    "def process_plot(Data):\n",
    "    \n",
    "    #clear_output()\n",
    "\n",
    "    Data['aligned_spectra'] = process1d.apply_shifts(Data['raw_spectra'].copy(), Data['shifts'])\n",
    "\n",
    "    raw_spectrum, _ = process1d.sum_spectra(Data['aligned_spectra'], Data['shifts'])\n",
    "    Data['calibrated_spectrum'] = process1d.calibrate_spectrum(raw_spectrum.copy(), zero_energy_widget.value, \n",
    "                                                               -1*ee_pix_widget.value)\n",
    "    \n",
    "    #fig = plt.figure(1, figsize=(9,9))\n",
    "    #fig1.clf(); fig2.clf(); fig3.clf(); fig4.clf()\n",
    "    for ax in AXES.values():\n",
    "        ax.cla()\n",
    "    \n",
    "    #ax1 = fig.add_subplot(221)\n",
    "    art1 = process1d.plot_spectra(AXES['ax1'], Data['raw_spectra'], align_min=align_min_widget.value, align_max=align_max_widget.value)\n",
    "    AXES['ax1'].axvline(x=zero_energy_widget.value, linestyle=':', color='k')\n",
    "    AXES['ax1'].set_xlim(plot_range_widget.value[0],plot_range_widget.value[1])\n",
    "    \n",
    "    #ax2 = fig.add_subplot(222)\n",
    "    art2 = process1d.plot_shifts(AXES['ax2'], Data['shifts'])\n",
    "    labels = [item.get_text() for item in ax2.get_xticklabels()]\n",
    "    AXES['ax2'].set_xticklabels(labels, rotation=20)\n",
    "    \n",
    "    #ax3 = fig.add_subplot(223)\n",
    "    art3 = process1d.plot_spectra(AXES['ax3'], Data['aligned_spectra'])\n",
    "    AXES['ax3'].set_xlim(plot_range_widget.value[0],plot_range_widget.value[1])\n",
    "    \n",
    "    #ax4 = fig.add_subplot(224)\n",
    "    art4 = process1d.plot_sum(AXES['ax4'], Data['calibrated_spectrum'])\n",
    "    AXES['ax4'].axvline(0, linestyle=':', color='k')\n",
    "    AXES['ax4'].set_xlim((plot_range_widget.value[1]-zero_energy_widget.value)*(-1)*ee_pix_widget.value,\n",
    "             (plot_range_widget.value[0]-zero_energy_widget.value)*(-1)*ee_pix_widget.value)\n",
    "    \n",
    "    AXES['ax1'].legend_.remove()\n",
    "    AXES['ax3'].legend_.remove()\n",
    "    \n",
    "    AXES.update(OrderedDict(ax1=ax1, ax2=ax2, ax3=ax3, ax4=ax4))\n",
    "\n",
    "def wrap_reset_shifts(change):\n",
    "    Data['shifts'] = pd.Series(data=np.zeros(len(Data['raw_spectra'].columns)), index=Data['raw_spectra'].columns)\n",
    "    display_shifts_widget.value = pd.DataFrame(Data['shifts'], columns=['shifts']).to_html()\n",
    "    process_plot(Data)\n",
    "    \n",
    "    message = \"Shifts are \\n\" + Data['shifts'].to_string() + \"\\n\\n\"\n",
    "    message_widget.value += message\n",
    "\n",
    "reset_shifts_button.on_click(wrap_reset_shifts)\n",
    "\n",
    "align_button = widgets.Button(description = 'Align')\n",
    "\n",
    "def wrap_align(change):\n",
    "\n",
    "    # Align spectra\n",
    "    Data['shifts'] = process1d.get_shifts(Data['raw_spectra'], Data['raw_spectra'][Data['reference']], \n",
    "                                  align_min=align_min_widget.value, align_max=align_max_widget.value, background=0.)\n",
    "    display_shifts_widget.value = pd.DataFrame(Data['shifts'], columns=['shifts']).to_html()\n",
    "    process_plot(Data)\n",
    "    \n",
    "    message = \"Shifts are \\n\" + Data['shifts'].to_string() + \"\\n\"\n",
    "    message_widget.value += message\n",
    "    \n",
    "\n",
    "align_button.on_click(wrap_align)\n",
    "\n",
    "save_data_button = widgets.Button(description = 'Save data')\n",
    "\n",
    "def wrap_fit(change):\n",
    "    \n",
    "    xmin, xmax, ymin, ymax = AXES['ax1'].axis()\n",
    "    spec = Data['raw_spectra'][Data['reference']]\n",
    "    cut_spec = spec[(spec.index >= xmin) & (spec.index <= xmax)]\n",
    "    \n",
    "    Data['fit_result'] = process1d.fit_elastic(cut_spec.index, cut_spec.values, xmin, xmax, ymin, ymax)\n",
    "    \n",
    "    zero_energy_widget.value = Data['fit_result'].best_values['center']\n",
    "    \n",
    "    process_plot(Data)\n",
    "    AXES['ax1'].plot(cut_spec.index, Data['fit_result'].best_fit, 'rx-')\n",
    "    \n",
    "    message = \"Fit result: \\n\"\n",
    "    message += \"\\n\".join([\"{} = {:.4f}\".format(var, val) for var, val in Data['fit_result'].best_values.items()])\n",
    "    message += \"\\n\"\n",
    "    message_widget.value += message\n",
    "\n",
    "fit_button.on_click(wrap_fit)\n",
    "\n",
    "def wrap_save_data(change):\n",
    "    \n",
    "    Data['meta'] += '# Energy per pixel = {:0.1f} meV\\n'.format(ee_pix_widget.value*1000.)\n",
    "    Data['meta'] += '# Zero energy pixel = {:0.2f}\\n'.format(zero_energy_widget.value)\n",
    "    Data['meta'] += '# Align min = {:0.2f}\\n'.format(align_min_widget.value)\n",
    "    Data['meta'] += '# Align max = {:0.2f}\\n'.format(align_max_widget.value)\n",
    "    \n",
    "    process_meta = ''.join('# {}\\t {} \\n'.format(name, shift) \n",
    "                           for name, shift in Data['shifts'].iteritems())\n",
    "\n",
    "        \n",
    "    Data['meta'] += process_meta + '# Energy (eV) Intensity\\n'\n",
    "    \n",
    "    save_filepath = os.path.join(output_folder_widget.value, Data['save_filename'])\n",
    "    process1d.save_spectrum(save_filepath, Data['calibrated_spectrum'], Data['meta'])\n",
    "    message = \"Wrote to {}\".format(save_filepath) + '\\n'\n",
    "    message_widget.value += message\n",
    "\n",
    "save_data_button.on_click(wrap_save_data)"
   ]
  },
  {
   "cell_type": "code",
   "execution_count": 44,
   "metadata": {
    "collapsed": false,
    "extensions": {
     "jupyter_dashboards": {
      "version": 1,
      "views": {
       "grid_default": {
        "col": 0,
        "height": 2,
        "hidden": false,
        "row": 29,
        "width": 5
       },
       "report_default": {
        "hidden": false
       }
      }
     }
    }
   },
   "outputs": [
    {
     "data": {
      "application/vnd.jupyter.widget-view+json": {
       "model_id": "e605f16a0986477ea4449c11392afb15"
      }
     },
     "metadata": {},
     "output_type": "display_data"
    }
   ],
   "source": [
    "input_folder_widget\n"
   ]
  },
  {
   "cell_type": "code",
   "execution_count": 45,
   "metadata": {
    "collapsed": false,
    "extensions": {
     "jupyter_dashboards": {
      "version": 1,
      "views": {
       "grid_default": {
        "col": 5,
        "height": 2,
        "hidden": false,
        "row": 31,
        "width": 5
       },
       "report_default": {
        "hidden": false
       }
      }
     }
    }
   },
   "outputs": [
    {
     "data": {
      "application/vnd.jupyter.widget-view+json": {
       "model_id": "13b7a4c242cc4a448c1ebd6e331568ae"
      }
     },
     "metadata": {},
     "output_type": "display_data"
    }
   ],
   "source": [
    "output_header_widget"
   ]
  },
  {
   "cell_type": "code",
   "execution_count": 46,
   "metadata": {
    "collapsed": false,
    "extensions": {
     "jupyter_dashboards": {
      "version": 1,
      "views": {
       "grid_default": {
        "col": 0,
        "height": 2,
        "hidden": false,
        "row": 31,
        "width": 5
       },
       "report_default": {
        "hidden": false
       }
      }
     }
    }
   },
   "outputs": [
    {
     "data": {
      "application/vnd.jupyter.widget-view+json": {
       "model_id": "cf5fb25b24534507b0920a9edd756698"
      }
     },
     "metadata": {},
     "output_type": "display_data"
    }
   ],
   "source": [
    "output_filename_widget"
   ]
  },
  {
   "cell_type": "code",
   "execution_count": 47,
   "metadata": {
    "collapsed": false,
    "extensions": {
     "jupyter_dashboards": {
      "version": 1,
      "views": {
       "grid_default": {
        "col": 0,
        "height": 12,
        "hidden": false,
        "row": 13,
        "width": 2
       },
       "report_default": {
        "hidden": false
       }
      }
     }
    }
   },
   "outputs": [
    {
     "data": {
      "application/vnd.jupyter.widget-view+json": {
       "model_id": "19da6da05a1d4343868018043aac6028"
      }
     },
     "metadata": {},
     "output_type": "display_data"
    }
   ],
   "source": [
    "widgets.VBox([widgets.Label('Scans'), scan_number_widget, \n",
    "              widgets.Label('Zero energy'), zero_energy_widget,\n",
    "              widgets.Label('Align max'), align_max_widget,\n",
    "              widgets.Label('Align min'), align_min_widget])"
   ]
  },
  {
   "cell_type": "code",
   "execution_count": 48,
   "metadata": {
    "collapsed": false,
    "extensions": {
     "jupyter_dashboards": {
      "version": 1,
      "views": {
       "grid_default": {
        "col": 5,
        "height": 2,
        "hidden": false,
        "row": 29,
        "width": 5
       },
       "report_default": {
        "hidden": false
       }
      }
     }
    }
   },
   "outputs": [
    {
     "data": {
      "application/vnd.jupyter.widget-view+json": {
       "model_id": "a732ed8d6f2a4f1f8070bc314734f8d5"
      }
     },
     "metadata": {},
     "output_type": "display_data"
    }
   ],
   "source": [
    "ee_pix_widget"
   ]
  },
  {
   "cell_type": "code",
   "execution_count": 49,
   "metadata": {
    "collapsed": false,
    "extensions": {
     "jupyter_dashboards": {
      "version": 1,
      "views": {
       "grid_default": {
        "col": 0,
        "height": 2,
        "hidden": false,
        "row": 27,
        "width": 10
       },
       "report_default": {
        "hidden": false
       }
      }
     }
    }
   },
   "outputs": [
    {
     "data": {
      "application/vnd.jupyter.widget-view+json": {
       "model_id": "0953d93b1f03467797161d29cf6a098b"
      }
     },
     "metadata": {},
     "output_type": "display_data"
    }
   ],
   "source": [
    "plot_range_widget"
   ]
  },
  {
   "cell_type": "code",
   "execution_count": 50,
   "metadata": {
    "collapsed": false,
    "deletable": true,
    "editable": true,
    "extensions": {
     "jupyter_dashboards": {
      "version": 1,
      "views": {
       "grid_default": {
        "col": 0,
        "height": 10,
        "hidden": false,
        "row": 3,
        "width": 2
       },
       "report_default": {
        "hidden": false
       }
      }
     }
    },
    "scrolled": false
   },
   "outputs": [
    {
     "data": {
      "application/vnd.jupyter.widget-view+json": {
       "model_id": "879c4828e28b4a9aa8ed9901ff5f8ff4"
      }
     },
     "metadata": {},
     "output_type": "display_data"
    }
   ],
   "source": [
    "#display(widgets.HBox((, , )))\n",
    "#display(widgets.HBox((,)))\n",
    "#display(widgets.HBox((,,)))\n",
    "#display(widgets.HBox((,)))\n",
    "display(widgets.VBox((load_plot_button, reset_shifts_button, fit_button, align_button, save_data_button)))"
   ]
  },
  {
   "cell_type": "code",
   "execution_count": 51,
   "metadata": {
    "collapsed": false,
    "extensions": {
     "jupyter_dashboards": {
      "version": 1,
      "views": {
       "grid_default": {
        "col": 2,
        "height": 13,
        "hidden": false,
        "row": 0,
        "width": 4
       },
       "report_default": {
        "hidden": false
       }
      }
     }
    }
   },
   "outputs": [
    {
     "data": {
      "application/javascript": [
       "/* Put everything inside the global mpl namespace */\n",
       "window.mpl = {};\n",
       "\n",
       "\n",
       "mpl.get_websocket_type = function() {\n",
       "    if (typeof(WebSocket) !== 'undefined') {\n",
       "        return WebSocket;\n",
       "    } else if (typeof(MozWebSocket) !== 'undefined') {\n",
       "        return MozWebSocket;\n",
       "    } else {\n",
       "        alert('Your browser does not have WebSocket support.' +\n",
       "              'Please try Chrome, Safari or Firefox ≥ 6. ' +\n",
       "              'Firefox 4 and 5 are also supported but you ' +\n",
       "              'have to enable WebSockets in about:config.');\n",
       "    };\n",
       "}\n",
       "\n",
       "mpl.figure = function(figure_id, websocket, ondownload, parent_element) {\n",
       "    this.id = figure_id;\n",
       "\n",
       "    this.ws = websocket;\n",
       "\n",
       "    this.supports_binary = (this.ws.binaryType != undefined);\n",
       "\n",
       "    if (!this.supports_binary) {\n",
       "        var warnings = document.getElementById(\"mpl-warnings\");\n",
       "        if (warnings) {\n",
       "            warnings.style.display = 'block';\n",
       "            warnings.textContent = (\n",
       "                \"This browser does not support binary websocket messages. \" +\n",
       "                    \"Performance may be slow.\");\n",
       "        }\n",
       "    }\n",
       "\n",
       "    this.imageObj = new Image();\n",
       "\n",
       "    this.context = undefined;\n",
       "    this.message = undefined;\n",
       "    this.canvas = undefined;\n",
       "    this.rubberband_canvas = undefined;\n",
       "    this.rubberband_context = undefined;\n",
       "    this.format_dropdown = undefined;\n",
       "\n",
       "    this.image_mode = 'full';\n",
       "\n",
       "    this.root = $('<div/>');\n",
       "    this._root_extra_style(this.root)\n",
       "    this.root.attr('style', 'display: inline-block');\n",
       "\n",
       "    $(parent_element).append(this.root);\n",
       "\n",
       "    this._init_header(this);\n",
       "    this._init_canvas(this);\n",
       "    this._init_toolbar(this);\n",
       "\n",
       "    var fig = this;\n",
       "\n",
       "    this.waiting = false;\n",
       "\n",
       "    this.ws.onopen =  function () {\n",
       "            fig.send_message(\"supports_binary\", {value: fig.supports_binary});\n",
       "            fig.send_message(\"send_image_mode\", {});\n",
       "            if (mpl.ratio != 1) {\n",
       "                fig.send_message(\"set_dpi_ratio\", {'dpi_ratio': mpl.ratio});\n",
       "            }\n",
       "            fig.send_message(\"refresh\", {});\n",
       "        }\n",
       "\n",
       "    this.imageObj.onload = function() {\n",
       "            if (fig.image_mode == 'full') {\n",
       "                // Full images could contain transparency (where diff images\n",
       "                // almost always do), so we need to clear the canvas so that\n",
       "                // there is no ghosting.\n",
       "                fig.context.clearRect(0, 0, fig.canvas.width, fig.canvas.height);\n",
       "            }\n",
       "            fig.context.drawImage(fig.imageObj, 0, 0);\n",
       "        };\n",
       "\n",
       "    this.imageObj.onunload = function() {\n",
       "        this.ws.close();\n",
       "    }\n",
       "\n",
       "    this.ws.onmessage = this._make_on_message_function(this);\n",
       "\n",
       "    this.ondownload = ondownload;\n",
       "}\n",
       "\n",
       "mpl.figure.prototype._init_header = function() {\n",
       "    var titlebar = $(\n",
       "        '<div class=\"ui-dialog-titlebar ui-widget-header ui-corner-all ' +\n",
       "        'ui-helper-clearfix\"/>');\n",
       "    var titletext = $(\n",
       "        '<div class=\"ui-dialog-title\" style=\"width: 100%; ' +\n",
       "        'text-align: center; padding: 3px;\"/>');\n",
       "    titlebar.append(titletext)\n",
       "    this.root.append(titlebar);\n",
       "    this.header = titletext[0];\n",
       "}\n",
       "\n",
       "\n",
       "\n",
       "mpl.figure.prototype._canvas_extra_style = function(canvas_div) {\n",
       "\n",
       "}\n",
       "\n",
       "\n",
       "mpl.figure.prototype._root_extra_style = function(canvas_div) {\n",
       "\n",
       "}\n",
       "\n",
       "mpl.figure.prototype._init_canvas = function() {\n",
       "    var fig = this;\n",
       "\n",
       "    var canvas_div = $('<div/>');\n",
       "\n",
       "    canvas_div.attr('style', 'position: relative; clear: both; outline: 0');\n",
       "\n",
       "    function canvas_keyboard_event(event) {\n",
       "        return fig.key_event(event, event['data']);\n",
       "    }\n",
       "\n",
       "    canvas_div.keydown('key_press', canvas_keyboard_event);\n",
       "    canvas_div.keyup('key_release', canvas_keyboard_event);\n",
       "    this.canvas_div = canvas_div\n",
       "    this._canvas_extra_style(canvas_div)\n",
       "    this.root.append(canvas_div);\n",
       "\n",
       "    var canvas = $('<canvas/>');\n",
       "    canvas.addClass('mpl-canvas');\n",
       "    canvas.attr('style', \"left: 0; top: 0; z-index: 0; outline: 0\")\n",
       "\n",
       "    this.canvas = canvas[0];\n",
       "    this.context = canvas[0].getContext(\"2d\");\n",
       "\n",
       "    var backingStore = this.context.backingStorePixelRatio ||\n",
       "\tthis.context.webkitBackingStorePixelRatio ||\n",
       "\tthis.context.mozBackingStorePixelRatio ||\n",
       "\tthis.context.msBackingStorePixelRatio ||\n",
       "\tthis.context.oBackingStorePixelRatio ||\n",
       "\tthis.context.backingStorePixelRatio || 1;\n",
       "\n",
       "    mpl.ratio = (window.devicePixelRatio || 1) / backingStore;\n",
       "\n",
       "    var rubberband = $('<canvas/>');\n",
       "    rubberband.attr('style', \"position: absolute; left: 0; top: 0; z-index: 1;\")\n",
       "\n",
       "    var pass_mouse_events = true;\n",
       "\n",
       "    canvas_div.resizable({\n",
       "        start: function(event, ui) {\n",
       "            pass_mouse_events = false;\n",
       "        },\n",
       "        resize: function(event, ui) {\n",
       "            fig.request_resize(ui.size.width, ui.size.height);\n",
       "        },\n",
       "        stop: function(event, ui) {\n",
       "            pass_mouse_events = true;\n",
       "            fig.request_resize(ui.size.width, ui.size.height);\n",
       "        },\n",
       "    });\n",
       "\n",
       "    function mouse_event_fn(event) {\n",
       "        if (pass_mouse_events)\n",
       "            return fig.mouse_event(event, event['data']);\n",
       "    }\n",
       "\n",
       "    rubberband.mousedown('button_press', mouse_event_fn);\n",
       "    rubberband.mouseup('button_release', mouse_event_fn);\n",
       "    // Throttle sequential mouse events to 1 every 20ms.\n",
       "    rubberband.mousemove('motion_notify', mouse_event_fn);\n",
       "\n",
       "    rubberband.mouseenter('figure_enter', mouse_event_fn);\n",
       "    rubberband.mouseleave('figure_leave', mouse_event_fn);\n",
       "\n",
       "    canvas_div.on(\"wheel\", function (event) {\n",
       "        event = event.originalEvent;\n",
       "        event['data'] = 'scroll'\n",
       "        if (event.deltaY < 0) {\n",
       "            event.step = 1;\n",
       "        } else {\n",
       "            event.step = -1;\n",
       "        }\n",
       "        mouse_event_fn(event);\n",
       "    });\n",
       "\n",
       "    canvas_div.append(canvas);\n",
       "    canvas_div.append(rubberband);\n",
       "\n",
       "    this.rubberband = rubberband;\n",
       "    this.rubberband_canvas = rubberband[0];\n",
       "    this.rubberband_context = rubberband[0].getContext(\"2d\");\n",
       "    this.rubberband_context.strokeStyle = \"#000000\";\n",
       "\n",
       "    this._resize_canvas = function(width, height) {\n",
       "        // Keep the size of the canvas, canvas container, and rubber band\n",
       "        // canvas in synch.\n",
       "        canvas_div.css('width', width)\n",
       "        canvas_div.css('height', height)\n",
       "\n",
       "        canvas.attr('width', width * mpl.ratio);\n",
       "        canvas.attr('height', height * mpl.ratio);\n",
       "        canvas.attr('style', 'width: ' + width + 'px; height: ' + height + 'px;');\n",
       "\n",
       "        rubberband.attr('width', width);\n",
       "        rubberband.attr('height', height);\n",
       "    }\n",
       "\n",
       "    // Set the figure to an initial 600x600px, this will subsequently be updated\n",
       "    // upon first draw.\n",
       "    this._resize_canvas(600, 600);\n",
       "\n",
       "    // Disable right mouse context menu.\n",
       "    $(this.rubberband_canvas).bind(\"contextmenu\",function(e){\n",
       "        return false;\n",
       "    });\n",
       "\n",
       "    function set_focus () {\n",
       "        canvas.focus();\n",
       "        canvas_div.focus();\n",
       "    }\n",
       "\n",
       "    window.setTimeout(set_focus, 100);\n",
       "}\n",
       "\n",
       "mpl.figure.prototype._init_toolbar = function() {\n",
       "    var fig = this;\n",
       "\n",
       "    var nav_element = $('<div/>')\n",
       "    nav_element.attr('style', 'width: 100%');\n",
       "    this.root.append(nav_element);\n",
       "\n",
       "    // Define a callback function for later on.\n",
       "    function toolbar_event(event) {\n",
       "        return fig.toolbar_button_onclick(event['data']);\n",
       "    }\n",
       "    function toolbar_mouse_event(event) {\n",
       "        return fig.toolbar_button_onmouseover(event['data']);\n",
       "    }\n",
       "\n",
       "    for(var toolbar_ind in mpl.toolbar_items) {\n",
       "        var name = mpl.toolbar_items[toolbar_ind][0];\n",
       "        var tooltip = mpl.toolbar_items[toolbar_ind][1];\n",
       "        var image = mpl.toolbar_items[toolbar_ind][2];\n",
       "        var method_name = mpl.toolbar_items[toolbar_ind][3];\n",
       "\n",
       "        if (!name) {\n",
       "            // put a spacer in here.\n",
       "            continue;\n",
       "        }\n",
       "        var button = $('<button/>');\n",
       "        button.addClass('ui-button ui-widget ui-state-default ui-corner-all ' +\n",
       "                        'ui-button-icon-only');\n",
       "        button.attr('role', 'button');\n",
       "        button.attr('aria-disabled', 'false');\n",
       "        button.click(method_name, toolbar_event);\n",
       "        button.mouseover(tooltip, toolbar_mouse_event);\n",
       "\n",
       "        var icon_img = $('<span/>');\n",
       "        icon_img.addClass('ui-button-icon-primary ui-icon');\n",
       "        icon_img.addClass(image);\n",
       "        icon_img.addClass('ui-corner-all');\n",
       "\n",
       "        var tooltip_span = $('<span/>');\n",
       "        tooltip_span.addClass('ui-button-text');\n",
       "        tooltip_span.html(tooltip);\n",
       "\n",
       "        button.append(icon_img);\n",
       "        button.append(tooltip_span);\n",
       "\n",
       "        nav_element.append(button);\n",
       "    }\n",
       "\n",
       "    var fmt_picker_span = $('<span/>');\n",
       "\n",
       "    var fmt_picker = $('<select/>');\n",
       "    fmt_picker.addClass('mpl-toolbar-option ui-widget ui-widget-content');\n",
       "    fmt_picker_span.append(fmt_picker);\n",
       "    nav_element.append(fmt_picker_span);\n",
       "    this.format_dropdown = fmt_picker[0];\n",
       "\n",
       "    for (var ind in mpl.extensions) {\n",
       "        var fmt = mpl.extensions[ind];\n",
       "        var option = $(\n",
       "            '<option/>', {selected: fmt === mpl.default_extension}).html(fmt);\n",
       "        fmt_picker.append(option)\n",
       "    }\n",
       "\n",
       "    // Add hover states to the ui-buttons\n",
       "    $( \".ui-button\" ).hover(\n",
       "        function() { $(this).addClass(\"ui-state-hover\");},\n",
       "        function() { $(this).removeClass(\"ui-state-hover\");}\n",
       "    );\n",
       "\n",
       "    var status_bar = $('<span class=\"mpl-message\"/>');\n",
       "    nav_element.append(status_bar);\n",
       "    this.message = status_bar[0];\n",
       "}\n",
       "\n",
       "mpl.figure.prototype.request_resize = function(x_pixels, y_pixels) {\n",
       "    // Request matplotlib to resize the figure. Matplotlib will then trigger a resize in the client,\n",
       "    // which will in turn request a refresh of the image.\n",
       "    this.send_message('resize', {'width': x_pixels, 'height': y_pixels});\n",
       "}\n",
       "\n",
       "mpl.figure.prototype.send_message = function(type, properties) {\n",
       "    properties['type'] = type;\n",
       "    properties['figure_id'] = this.id;\n",
       "    this.ws.send(JSON.stringify(properties));\n",
       "}\n",
       "\n",
       "mpl.figure.prototype.send_draw_message = function() {\n",
       "    if (!this.waiting) {\n",
       "        this.waiting = true;\n",
       "        this.ws.send(JSON.stringify({type: \"draw\", figure_id: this.id}));\n",
       "    }\n",
       "}\n",
       "\n",
       "\n",
       "mpl.figure.prototype.handle_save = function(fig, msg) {\n",
       "    var format_dropdown = fig.format_dropdown;\n",
       "    var format = format_dropdown.options[format_dropdown.selectedIndex].value;\n",
       "    fig.ondownload(fig, format);\n",
       "}\n",
       "\n",
       "\n",
       "mpl.figure.prototype.handle_resize = function(fig, msg) {\n",
       "    var size = msg['size'];\n",
       "    if (size[0] != fig.canvas.width || size[1] != fig.canvas.height) {\n",
       "        fig._resize_canvas(size[0], size[1]);\n",
       "        fig.send_message(\"refresh\", {});\n",
       "    };\n",
       "}\n",
       "\n",
       "mpl.figure.prototype.handle_rubberband = function(fig, msg) {\n",
       "    var x0 = msg['x0'] / mpl.ratio;\n",
       "    var y0 = (fig.canvas.height - msg['y0']) / mpl.ratio;\n",
       "    var x1 = msg['x1'] / mpl.ratio;\n",
       "    var y1 = (fig.canvas.height - msg['y1']) / mpl.ratio;\n",
       "    x0 = Math.floor(x0) + 0.5;\n",
       "    y0 = Math.floor(y0) + 0.5;\n",
       "    x1 = Math.floor(x1) + 0.5;\n",
       "    y1 = Math.floor(y1) + 0.5;\n",
       "    var min_x = Math.min(x0, x1);\n",
       "    var min_y = Math.min(y0, y1);\n",
       "    var width = Math.abs(x1 - x0);\n",
       "    var height = Math.abs(y1 - y0);\n",
       "\n",
       "    fig.rubberband_context.clearRect(\n",
       "        0, 0, fig.canvas.width, fig.canvas.height);\n",
       "\n",
       "    fig.rubberband_context.strokeRect(min_x, min_y, width, height);\n",
       "}\n",
       "\n",
       "mpl.figure.prototype.handle_figure_label = function(fig, msg) {\n",
       "    // Updates the figure title.\n",
       "    fig.header.textContent = msg['label'];\n",
       "}\n",
       "\n",
       "mpl.figure.prototype.handle_cursor = function(fig, msg) {\n",
       "    var cursor = msg['cursor'];\n",
       "    switch(cursor)\n",
       "    {\n",
       "    case 0:\n",
       "        cursor = 'pointer';\n",
       "        break;\n",
       "    case 1:\n",
       "        cursor = 'default';\n",
       "        break;\n",
       "    case 2:\n",
       "        cursor = 'crosshair';\n",
       "        break;\n",
       "    case 3:\n",
       "        cursor = 'move';\n",
       "        break;\n",
       "    }\n",
       "    fig.rubberband_canvas.style.cursor = cursor;\n",
       "}\n",
       "\n",
       "mpl.figure.prototype.handle_message = function(fig, msg) {\n",
       "    fig.message.textContent = msg['message'];\n",
       "}\n",
       "\n",
       "mpl.figure.prototype.handle_draw = function(fig, msg) {\n",
       "    // Request the server to send over a new figure.\n",
       "    fig.send_draw_message();\n",
       "}\n",
       "\n",
       "mpl.figure.prototype.handle_image_mode = function(fig, msg) {\n",
       "    fig.image_mode = msg['mode'];\n",
       "}\n",
       "\n",
       "mpl.figure.prototype.updated_canvas_event = function() {\n",
       "    // Called whenever the canvas gets updated.\n",
       "    this.send_message(\"ack\", {});\n",
       "}\n",
       "\n",
       "// A function to construct a web socket function for onmessage handling.\n",
       "// Called in the figure constructor.\n",
       "mpl.figure.prototype._make_on_message_function = function(fig) {\n",
       "    return function socket_on_message(evt) {\n",
       "        if (evt.data instanceof Blob) {\n",
       "            /* FIXME: We get \"Resource interpreted as Image but\n",
       "             * transferred with MIME type text/plain:\" errors on\n",
       "             * Chrome.  But how to set the MIME type?  It doesn't seem\n",
       "             * to be part of the websocket stream */\n",
       "            evt.data.type = \"image/png\";\n",
       "\n",
       "            /* Free the memory for the previous frames */\n",
       "            if (fig.imageObj.src) {\n",
       "                (window.URL || window.webkitURL).revokeObjectURL(\n",
       "                    fig.imageObj.src);\n",
       "            }\n",
       "\n",
       "            fig.imageObj.src = (window.URL || window.webkitURL).createObjectURL(\n",
       "                evt.data);\n",
       "            fig.updated_canvas_event();\n",
       "            fig.waiting = false;\n",
       "            return;\n",
       "        }\n",
       "        else if (typeof evt.data === 'string' && evt.data.slice(0, 21) == \"data:image/png;base64\") {\n",
       "            fig.imageObj.src = evt.data;\n",
       "            fig.updated_canvas_event();\n",
       "            fig.waiting = false;\n",
       "            return;\n",
       "        }\n",
       "\n",
       "        var msg = JSON.parse(evt.data);\n",
       "        var msg_type = msg['type'];\n",
       "\n",
       "        // Call the  \"handle_{type}\" callback, which takes\n",
       "        // the figure and JSON message as its only arguments.\n",
       "        try {\n",
       "            var callback = fig[\"handle_\" + msg_type];\n",
       "        } catch (e) {\n",
       "            console.log(\"No handler for the '\" + msg_type + \"' message type: \", msg);\n",
       "            return;\n",
       "        }\n",
       "\n",
       "        if (callback) {\n",
       "            try {\n",
       "                // console.log(\"Handling '\" + msg_type + \"' message: \", msg);\n",
       "                callback(fig, msg);\n",
       "            } catch (e) {\n",
       "                console.log(\"Exception inside the 'handler_\" + msg_type + \"' callback:\", e, e.stack, msg);\n",
       "            }\n",
       "        }\n",
       "    };\n",
       "}\n",
       "\n",
       "// from http://stackoverflow.com/questions/1114465/getting-mouse-location-in-canvas\n",
       "mpl.findpos = function(e) {\n",
       "    //this section is from http://www.quirksmode.org/js/events_properties.html\n",
       "    var targ;\n",
       "    if (!e)\n",
       "        e = window.event;\n",
       "    if (e.target)\n",
       "        targ = e.target;\n",
       "    else if (e.srcElement)\n",
       "        targ = e.srcElement;\n",
       "    if (targ.nodeType == 3) // defeat Safari bug\n",
       "        targ = targ.parentNode;\n",
       "\n",
       "    // jQuery normalizes the pageX and pageY\n",
       "    // pageX,Y are the mouse positions relative to the document\n",
       "    // offset() returns the position of the element relative to the document\n",
       "    var x = e.pageX - $(targ).offset().left;\n",
       "    var y = e.pageY - $(targ).offset().top;\n",
       "\n",
       "    return {\"x\": x, \"y\": y};\n",
       "};\n",
       "\n",
       "/*\n",
       " * return a copy of an object with only non-object keys\n",
       " * we need this to avoid circular references\n",
       " * http://stackoverflow.com/a/24161582/3208463\n",
       " */\n",
       "function simpleKeys (original) {\n",
       "  return Object.keys(original).reduce(function (obj, key) {\n",
       "    if (typeof original[key] !== 'object')\n",
       "        obj[key] = original[key]\n",
       "    return obj;\n",
       "  }, {});\n",
       "}\n",
       "\n",
       "mpl.figure.prototype.mouse_event = function(event, name) {\n",
       "    var canvas_pos = mpl.findpos(event)\n",
       "\n",
       "    if (name === 'button_press')\n",
       "    {\n",
       "        this.canvas.focus();\n",
       "        this.canvas_div.focus();\n",
       "    }\n",
       "\n",
       "    var x = canvas_pos.x * mpl.ratio;\n",
       "    var y = canvas_pos.y * mpl.ratio;\n",
       "\n",
       "    this.send_message(name, {x: x, y: y, button: event.button,\n",
       "                             step: event.step,\n",
       "                             guiEvent: simpleKeys(event)});\n",
       "\n",
       "    /* This prevents the web browser from automatically changing to\n",
       "     * the text insertion cursor when the button is pressed.  We want\n",
       "     * to control all of the cursor setting manually through the\n",
       "     * 'cursor' event from matplotlib */\n",
       "    event.preventDefault();\n",
       "    return false;\n",
       "}\n",
       "\n",
       "mpl.figure.prototype._key_event_extra = function(event, name) {\n",
       "    // Handle any extra behaviour associated with a key event\n",
       "}\n",
       "\n",
       "mpl.figure.prototype.key_event = function(event, name) {\n",
       "\n",
       "    // Prevent repeat events\n",
       "    if (name == 'key_press')\n",
       "    {\n",
       "        if (event.which === this._key)\n",
       "            return;\n",
       "        else\n",
       "            this._key = event.which;\n",
       "    }\n",
       "    if (name == 'key_release')\n",
       "        this._key = null;\n",
       "\n",
       "    var value = '';\n",
       "    if (event.ctrlKey && event.which != 17)\n",
       "        value += \"ctrl+\";\n",
       "    if (event.altKey && event.which != 18)\n",
       "        value += \"alt+\";\n",
       "    if (event.shiftKey && event.which != 16)\n",
       "        value += \"shift+\";\n",
       "\n",
       "    value += 'k';\n",
       "    value += event.which.toString();\n",
       "\n",
       "    this._key_event_extra(event, name);\n",
       "\n",
       "    this.send_message(name, {key: value,\n",
       "                             guiEvent: simpleKeys(event)});\n",
       "    return false;\n",
       "}\n",
       "\n",
       "mpl.figure.prototype.toolbar_button_onclick = function(name) {\n",
       "    if (name == 'download') {\n",
       "        this.handle_save(this, null);\n",
       "    } else {\n",
       "        this.send_message(\"toolbar_button\", {name: name});\n",
       "    }\n",
       "};\n",
       "\n",
       "mpl.figure.prototype.toolbar_button_onmouseover = function(tooltip) {\n",
       "    this.message.textContent = tooltip;\n",
       "};\n",
       "mpl.toolbar_items = [[\"Home\", \"Reset original view\", \"fa fa-home icon-home\", \"home\"], [\"Back\", \"Back to  previous view\", \"fa fa-arrow-left icon-arrow-left\", \"back\"], [\"Forward\", \"Forward to next view\", \"fa fa-arrow-right icon-arrow-right\", \"forward\"], [\"\", \"\", \"\", \"\"], [\"Pan\", \"Pan axes with left mouse, zoom with right\", \"fa fa-arrows icon-move\", \"pan\"], [\"Zoom\", \"Zoom to rectangle\", \"fa fa-square-o icon-check-empty\", \"zoom\"], [\"\", \"\", \"\", \"\"], [\"Download\", \"Download plot\", \"fa fa-floppy-o icon-save\", \"download\"]];\n",
       "\n",
       "mpl.extensions = [\"eps\", \"jpeg\", \"pdf\", \"png\", \"ps\", \"raw\", \"svg\", \"tif\"];\n",
       "\n",
       "mpl.default_extension = \"png\";var comm_websocket_adapter = function(comm) {\n",
       "    // Create a \"websocket\"-like object which calls the given IPython comm\n",
       "    // object with the appropriate methods. Currently this is a non binary\n",
       "    // socket, so there is still some room for performance tuning.\n",
       "    var ws = {};\n",
       "\n",
       "    ws.close = function() {\n",
       "        comm.close()\n",
       "    };\n",
       "    ws.send = function(m) {\n",
       "        //console.log('sending', m);\n",
       "        comm.send(m);\n",
       "    };\n",
       "    // Register the callback with on_msg.\n",
       "    comm.on_msg(function(msg) {\n",
       "        //console.log('receiving', msg['content']['data'], msg);\n",
       "        // Pass the mpl event to the overriden (by mpl) onmessage function.\n",
       "        ws.onmessage(msg['content']['data'])\n",
       "    });\n",
       "    return ws;\n",
       "}\n",
       "\n",
       "mpl.mpl_figure_comm = function(comm, msg) {\n",
       "    // This is the function which gets called when the mpl process\n",
       "    // starts-up an IPython Comm through the \"matplotlib\" channel.\n",
       "\n",
       "    var id = msg.content.data.id;\n",
       "    // Get hold of the div created by the display call when the Comm\n",
       "    // socket was opened in Python.\n",
       "    var element = $(\"#\" + id);\n",
       "    var ws_proxy = comm_websocket_adapter(comm)\n",
       "\n",
       "    function ondownload(figure, format) {\n",
       "        window.open(figure.imageObj.src);\n",
       "    }\n",
       "\n",
       "    var fig = new mpl.figure(id, ws_proxy,\n",
       "                           ondownload,\n",
       "                           element.get(0));\n",
       "\n",
       "    // Call onopen now - mpl needs it, as it is assuming we've passed it a real\n",
       "    // web socket which is closed, not our websocket->open comm proxy.\n",
       "    ws_proxy.onopen();\n",
       "\n",
       "    fig.parent_element = element.get(0);\n",
       "    fig.cell_info = mpl.find_output_cell(\"<div id='\" + id + \"'></div>\");\n",
       "    if (!fig.cell_info) {\n",
       "        console.error(\"Failed to find cell for figure\", id, fig);\n",
       "        return;\n",
       "    }\n",
       "\n",
       "    var output_index = fig.cell_info[2]\n",
       "    var cell = fig.cell_info[0];\n",
       "\n",
       "};\n",
       "\n",
       "mpl.figure.prototype.handle_close = function(fig, msg) {\n",
       "    var width = fig.canvas.width/mpl.ratio\n",
       "    fig.root.unbind('remove')\n",
       "\n",
       "    // Update the output cell to use the data from the current canvas.\n",
       "    fig.push_to_output();\n",
       "    var dataURL = fig.canvas.toDataURL();\n",
       "    // Re-enable the keyboard manager in IPython - without this line, in FF,\n",
       "    // the notebook keyboard shortcuts fail.\n",
       "    IPython.keyboard_manager.enable()\n",
       "    $(fig.parent_element).html('<img src=\"' + dataURL + '\" width=\"' + width + '\">');\n",
       "    fig.close_ws(fig, msg);\n",
       "}\n",
       "\n",
       "mpl.figure.prototype.close_ws = function(fig, msg){\n",
       "    fig.send_message('closing', msg);\n",
       "    // fig.ws.close()\n",
       "}\n",
       "\n",
       "mpl.figure.prototype.push_to_output = function(remove_interactive) {\n",
       "    // Turn the data on the canvas into data in the output cell.\n",
       "    var width = this.canvas.width/mpl.ratio\n",
       "    var dataURL = this.canvas.toDataURL();\n",
       "    this.cell_info[1]['text/html'] = '<img src=\"' + dataURL + '\" width=\"' + width + '\">';\n",
       "}\n",
       "\n",
       "mpl.figure.prototype.updated_canvas_event = function() {\n",
       "    // Tell IPython that the notebook contents must change.\n",
       "    IPython.notebook.set_dirty(true);\n",
       "    this.send_message(\"ack\", {});\n",
       "    var fig = this;\n",
       "    // Wait a second, then push the new image to the DOM so\n",
       "    // that it is saved nicely (might be nice to debounce this).\n",
       "    setTimeout(function () { fig.push_to_output() }, 1000);\n",
       "}\n",
       "\n",
       "mpl.figure.prototype._init_toolbar = function() {\n",
       "    var fig = this;\n",
       "\n",
       "    var nav_element = $('<div/>')\n",
       "    nav_element.attr('style', 'width: 100%');\n",
       "    this.root.append(nav_element);\n",
       "\n",
       "    // Define a callback function for later on.\n",
       "    function toolbar_event(event) {\n",
       "        return fig.toolbar_button_onclick(event['data']);\n",
       "    }\n",
       "    function toolbar_mouse_event(event) {\n",
       "        return fig.toolbar_button_onmouseover(event['data']);\n",
       "    }\n",
       "\n",
       "    for(var toolbar_ind in mpl.toolbar_items){\n",
       "        var name = mpl.toolbar_items[toolbar_ind][0];\n",
       "        var tooltip = mpl.toolbar_items[toolbar_ind][1];\n",
       "        var image = mpl.toolbar_items[toolbar_ind][2];\n",
       "        var method_name = mpl.toolbar_items[toolbar_ind][3];\n",
       "\n",
       "        if (!name) { continue; };\n",
       "\n",
       "        var button = $('<button class=\"btn btn-default\" href=\"#\" title=\"' + name + '\"><i class=\"fa ' + image + ' fa-lg\"></i></button>');\n",
       "        button.click(method_name, toolbar_event);\n",
       "        button.mouseover(tooltip, toolbar_mouse_event);\n",
       "        nav_element.append(button);\n",
       "    }\n",
       "\n",
       "    // Add the status bar.\n",
       "    var status_bar = $('<span class=\"mpl-message\" style=\"text-align:right; float: right;\"/>');\n",
       "    nav_element.append(status_bar);\n",
       "    this.message = status_bar[0];\n",
       "\n",
       "    // Add the close button to the window.\n",
       "    var buttongrp = $('<div class=\"btn-group inline pull-right\"></div>');\n",
       "    var button = $('<button class=\"btn btn-mini btn-primary\" href=\"#\" title=\"Stop Interaction\"><i class=\"fa fa-power-off icon-remove icon-large\"></i></button>');\n",
       "    button.click(function (evt) { fig.handle_close(fig, {}); } );\n",
       "    button.mouseover('Stop Interaction', toolbar_mouse_event);\n",
       "    buttongrp.append(button);\n",
       "    var titlebar = this.root.find($('.ui-dialog-titlebar'));\n",
       "    titlebar.prepend(buttongrp);\n",
       "}\n",
       "\n",
       "mpl.figure.prototype._root_extra_style = function(el){\n",
       "    var fig = this\n",
       "    el.on(\"remove\", function(){\n",
       "\tfig.close_ws(fig, {});\n",
       "    });\n",
       "}\n",
       "\n",
       "mpl.figure.prototype._canvas_extra_style = function(el){\n",
       "    // this is important to make the div 'focusable\n",
       "    el.attr('tabindex', 0)\n",
       "    // reach out to IPython and tell the keyboard manager to turn it's self\n",
       "    // off when our div gets focus\n",
       "\n",
       "    // location in version 3\n",
       "    if (IPython.notebook.keyboard_manager) {\n",
       "        IPython.notebook.keyboard_manager.register_events(el);\n",
       "    }\n",
       "    else {\n",
       "        // location in version 2\n",
       "        IPython.keyboard_manager.register_events(el);\n",
       "    }\n",
       "\n",
       "}\n",
       "\n",
       "mpl.figure.prototype._key_event_extra = function(event, name) {\n",
       "    var manager = IPython.notebook.keyboard_manager;\n",
       "    if (!manager)\n",
       "        manager = IPython.keyboard_manager;\n",
       "\n",
       "    // Check for shift+enter\n",
       "    if (event.shiftKey && event.which == 13) {\n",
       "        this.canvas_div.blur();\n",
       "        // select the cell after this one\n",
       "        var index = IPython.notebook.find_cell_index(this.cell_info[0]);\n",
       "        IPython.notebook.select(index + 1);\n",
       "    }\n",
       "}\n",
       "\n",
       "mpl.figure.prototype.handle_save = function(fig, msg) {\n",
       "    fig.ondownload(fig, null);\n",
       "}\n",
       "\n",
       "\n",
       "mpl.find_output_cell = function(html_output) {\n",
       "    // Return the cell and output element which can be found *uniquely* in the notebook.\n",
       "    // Note - this is a bit hacky, but it is done because the \"notebook_saving.Notebook\"\n",
       "    // IPython event is triggered only after the cells have been serialised, which for\n",
       "    // our purposes (turning an active figure into a static one), is too late.\n",
       "    var cells = IPython.notebook.get_cells();\n",
       "    var ncells = cells.length;\n",
       "    for (var i=0; i<ncells; i++) {\n",
       "        var cell = cells[i];\n",
       "        if (cell.cell_type === 'code'){\n",
       "            for (var j=0; j<cell.output_area.outputs.length; j++) {\n",
       "                var data = cell.output_area.outputs[j];\n",
       "                if (data.data) {\n",
       "                    // IPython >= 3 moved mimebundle to data attribute of output\n",
       "                    data = data.data;\n",
       "                }\n",
       "                if (data['text/html'] == html_output) {\n",
       "                    return [cell, data, j];\n",
       "                }\n",
       "            }\n",
       "        }\n",
       "    }\n",
       "}\n",
       "\n",
       "// Register the function which deals with the matplotlib target/channel.\n",
       "// The kernel may be null if the page has been refreshed.\n",
       "if (IPython.notebook.kernel != null) {\n",
       "    IPython.notebook.kernel.comm_manager.register_target('matplotlib', mpl.mpl_figure_comm);\n",
       "}\n"
      ],
      "text/plain": [
       "<IPython.core.display.Javascript object>"
      ]
     },
     "metadata": {},
     "output_type": "display_data"
    },
    {
     "data": {
      "text/html": [
       "<img src=\"data:image/png;base64,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\" width=\"349.44445370156114\">"
      ],
      "text/plain": [
       "<IPython.core.display.HTML object>"
      ]
     },
     "metadata": {},
     "output_type": "display_data"
    }
   ],
   "source": [
    "fig1, ax1 = plt.subplots(figsize=figsize)"
   ]
  },
  {
   "cell_type": "code",
   "execution_count": 52,
   "metadata": {
    "collapsed": false,
    "extensions": {
     "jupyter_dashboards": {
      "version": 1,
      "views": {
       "grid_default": {
        "col": 6,
        "height": 13,
        "hidden": false,
        "row": 0,
        "width": 4
       },
       "report_default": {
        "hidden": false
       }
      }
     }
    }
   },
   "outputs": [
    {
     "data": {
      "application/javascript": [
       "/* Put everything inside the global mpl namespace */\n",
       "window.mpl = {};\n",
       "\n",
       "\n",
       "mpl.get_websocket_type = function() {\n",
       "    if (typeof(WebSocket) !== 'undefined') {\n",
       "        return WebSocket;\n",
       "    } else if (typeof(MozWebSocket) !== 'undefined') {\n",
       "        return MozWebSocket;\n",
       "    } else {\n",
       "        alert('Your browser does not have WebSocket support.' +\n",
       "              'Please try Chrome, Safari or Firefox ≥ 6. ' +\n",
       "              'Firefox 4 and 5 are also supported but you ' +\n",
       "              'have to enable WebSockets in about:config.');\n",
       "    };\n",
       "}\n",
       "\n",
       "mpl.figure = function(figure_id, websocket, ondownload, parent_element) {\n",
       "    this.id = figure_id;\n",
       "\n",
       "    this.ws = websocket;\n",
       "\n",
       "    this.supports_binary = (this.ws.binaryType != undefined);\n",
       "\n",
       "    if (!this.supports_binary) {\n",
       "        var warnings = document.getElementById(\"mpl-warnings\");\n",
       "        if (warnings) {\n",
       "            warnings.style.display = 'block';\n",
       "            warnings.textContent = (\n",
       "                \"This browser does not support binary websocket messages. \" +\n",
       "                    \"Performance may be slow.\");\n",
       "        }\n",
       "    }\n",
       "\n",
       "    this.imageObj = new Image();\n",
       "\n",
       "    this.context = undefined;\n",
       "    this.message = undefined;\n",
       "    this.canvas = undefined;\n",
       "    this.rubberband_canvas = undefined;\n",
       "    this.rubberband_context = undefined;\n",
       "    this.format_dropdown = undefined;\n",
       "\n",
       "    this.image_mode = 'full';\n",
       "\n",
       "    this.root = $('<div/>');\n",
       "    this._root_extra_style(this.root)\n",
       "    this.root.attr('style', 'display: inline-block');\n",
       "\n",
       "    $(parent_element).append(this.root);\n",
       "\n",
       "    this._init_header(this);\n",
       "    this._init_canvas(this);\n",
       "    this._init_toolbar(this);\n",
       "\n",
       "    var fig = this;\n",
       "\n",
       "    this.waiting = false;\n",
       "\n",
       "    this.ws.onopen =  function () {\n",
       "            fig.send_message(\"supports_binary\", {value: fig.supports_binary});\n",
       "            fig.send_message(\"send_image_mode\", {});\n",
       "            if (mpl.ratio != 1) {\n",
       "                fig.send_message(\"set_dpi_ratio\", {'dpi_ratio': mpl.ratio});\n",
       "            }\n",
       "            fig.send_message(\"refresh\", {});\n",
       "        }\n",
       "\n",
       "    this.imageObj.onload = function() {\n",
       "            if (fig.image_mode == 'full') {\n",
       "                // Full images could contain transparency (where diff images\n",
       "                // almost always do), so we need to clear the canvas so that\n",
       "                // there is no ghosting.\n",
       "                fig.context.clearRect(0, 0, fig.canvas.width, fig.canvas.height);\n",
       "            }\n",
       "            fig.context.drawImage(fig.imageObj, 0, 0);\n",
       "        };\n",
       "\n",
       "    this.imageObj.onunload = function() {\n",
       "        this.ws.close();\n",
       "    }\n",
       "\n",
       "    this.ws.onmessage = this._make_on_message_function(this);\n",
       "\n",
       "    this.ondownload = ondownload;\n",
       "}\n",
       "\n",
       "mpl.figure.prototype._init_header = function() {\n",
       "    var titlebar = $(\n",
       "        '<div class=\"ui-dialog-titlebar ui-widget-header ui-corner-all ' +\n",
       "        'ui-helper-clearfix\"/>');\n",
       "    var titletext = $(\n",
       "        '<div class=\"ui-dialog-title\" style=\"width: 100%; ' +\n",
       "        'text-align: center; padding: 3px;\"/>');\n",
       "    titlebar.append(titletext)\n",
       "    this.root.append(titlebar);\n",
       "    this.header = titletext[0];\n",
       "}\n",
       "\n",
       "\n",
       "\n",
       "mpl.figure.prototype._canvas_extra_style = function(canvas_div) {\n",
       "\n",
       "}\n",
       "\n",
       "\n",
       "mpl.figure.prototype._root_extra_style = function(canvas_div) {\n",
       "\n",
       "}\n",
       "\n",
       "mpl.figure.prototype._init_canvas = function() {\n",
       "    var fig = this;\n",
       "\n",
       "    var canvas_div = $('<div/>');\n",
       "\n",
       "    canvas_div.attr('style', 'position: relative; clear: both; outline: 0');\n",
       "\n",
       "    function canvas_keyboard_event(event) {\n",
       "        return fig.key_event(event, event['data']);\n",
       "    }\n",
       "\n",
       "    canvas_div.keydown('key_press', canvas_keyboard_event);\n",
       "    canvas_div.keyup('key_release', canvas_keyboard_event);\n",
       "    this.canvas_div = canvas_div\n",
       "    this._canvas_extra_style(canvas_div)\n",
       "    this.root.append(canvas_div);\n",
       "\n",
       "    var canvas = $('<canvas/>');\n",
       "    canvas.addClass('mpl-canvas');\n",
       "    canvas.attr('style', \"left: 0; top: 0; z-index: 0; outline: 0\")\n",
       "\n",
       "    this.canvas = canvas[0];\n",
       "    this.context = canvas[0].getContext(\"2d\");\n",
       "\n",
       "    var backingStore = this.context.backingStorePixelRatio ||\n",
       "\tthis.context.webkitBackingStorePixelRatio ||\n",
       "\tthis.context.mozBackingStorePixelRatio ||\n",
       "\tthis.context.msBackingStorePixelRatio ||\n",
       "\tthis.context.oBackingStorePixelRatio ||\n",
       "\tthis.context.backingStorePixelRatio || 1;\n",
       "\n",
       "    mpl.ratio = (window.devicePixelRatio || 1) / backingStore;\n",
       "\n",
       "    var rubberband = $('<canvas/>');\n",
       "    rubberband.attr('style', \"position: absolute; left: 0; top: 0; z-index: 1;\")\n",
       "\n",
       "    var pass_mouse_events = true;\n",
       "\n",
       "    canvas_div.resizable({\n",
       "        start: function(event, ui) {\n",
       "            pass_mouse_events = false;\n",
       "        },\n",
       "        resize: function(event, ui) {\n",
       "            fig.request_resize(ui.size.width, ui.size.height);\n",
       "        },\n",
       "        stop: function(event, ui) {\n",
       "            pass_mouse_events = true;\n",
       "            fig.request_resize(ui.size.width, ui.size.height);\n",
       "        },\n",
       "    });\n",
       "\n",
       "    function mouse_event_fn(event) {\n",
       "        if (pass_mouse_events)\n",
       "            return fig.mouse_event(event, event['data']);\n",
       "    }\n",
       "\n",
       "    rubberband.mousedown('button_press', mouse_event_fn);\n",
       "    rubberband.mouseup('button_release', mouse_event_fn);\n",
       "    // Throttle sequential mouse events to 1 every 20ms.\n",
       "    rubberband.mousemove('motion_notify', mouse_event_fn);\n",
       "\n",
       "    rubberband.mouseenter('figure_enter', mouse_event_fn);\n",
       "    rubberband.mouseleave('figure_leave', mouse_event_fn);\n",
       "\n",
       "    canvas_div.on(\"wheel\", function (event) {\n",
       "        event = event.originalEvent;\n",
       "        event['data'] = 'scroll'\n",
       "        if (event.deltaY < 0) {\n",
       "            event.step = 1;\n",
       "        } else {\n",
       "            event.step = -1;\n",
       "        }\n",
       "        mouse_event_fn(event);\n",
       "    });\n",
       "\n",
       "    canvas_div.append(canvas);\n",
       "    canvas_div.append(rubberband);\n",
       "\n",
       "    this.rubberband = rubberband;\n",
       "    this.rubberband_canvas = rubberband[0];\n",
       "    this.rubberband_context = rubberband[0].getContext(\"2d\");\n",
       "    this.rubberband_context.strokeStyle = \"#000000\";\n",
       "\n",
       "    this._resize_canvas = function(width, height) {\n",
       "        // Keep the size of the canvas, canvas container, and rubber band\n",
       "        // canvas in synch.\n",
       "        canvas_div.css('width', width)\n",
       "        canvas_div.css('height', height)\n",
       "\n",
       "        canvas.attr('width', width * mpl.ratio);\n",
       "        canvas.attr('height', height * mpl.ratio);\n",
       "        canvas.attr('style', 'width: ' + width + 'px; height: ' + height + 'px;');\n",
       "\n",
       "        rubberband.attr('width', width);\n",
       "        rubberband.attr('height', height);\n",
       "    }\n",
       "\n",
       "    // Set the figure to an initial 600x600px, this will subsequently be updated\n",
       "    // upon first draw.\n",
       "    this._resize_canvas(600, 600);\n",
       "\n",
       "    // Disable right mouse context menu.\n",
       "    $(this.rubberband_canvas).bind(\"contextmenu\",function(e){\n",
       "        return false;\n",
       "    });\n",
       "\n",
       "    function set_focus () {\n",
       "        canvas.focus();\n",
       "        canvas_div.focus();\n",
       "    }\n",
       "\n",
       "    window.setTimeout(set_focus, 100);\n",
       "}\n",
       "\n",
       "mpl.figure.prototype._init_toolbar = function() {\n",
       "    var fig = this;\n",
       "\n",
       "    var nav_element = $('<div/>')\n",
       "    nav_element.attr('style', 'width: 100%');\n",
       "    this.root.append(nav_element);\n",
       "\n",
       "    // Define a callback function for later on.\n",
       "    function toolbar_event(event) {\n",
       "        return fig.toolbar_button_onclick(event['data']);\n",
       "    }\n",
       "    function toolbar_mouse_event(event) {\n",
       "        return fig.toolbar_button_onmouseover(event['data']);\n",
       "    }\n",
       "\n",
       "    for(var toolbar_ind in mpl.toolbar_items) {\n",
       "        var name = mpl.toolbar_items[toolbar_ind][0];\n",
       "        var tooltip = mpl.toolbar_items[toolbar_ind][1];\n",
       "        var image = mpl.toolbar_items[toolbar_ind][2];\n",
       "        var method_name = mpl.toolbar_items[toolbar_ind][3];\n",
       "\n",
       "        if (!name) {\n",
       "            // put a spacer in here.\n",
       "            continue;\n",
       "        }\n",
       "        var button = $('<button/>');\n",
       "        button.addClass('ui-button ui-widget ui-state-default ui-corner-all ' +\n",
       "                        'ui-button-icon-only');\n",
       "        button.attr('role', 'button');\n",
       "        button.attr('aria-disabled', 'false');\n",
       "        button.click(method_name, toolbar_event);\n",
       "        button.mouseover(tooltip, toolbar_mouse_event);\n",
       "\n",
       "        var icon_img = $('<span/>');\n",
       "        icon_img.addClass('ui-button-icon-primary ui-icon');\n",
       "        icon_img.addClass(image);\n",
       "        icon_img.addClass('ui-corner-all');\n",
       "\n",
       "        var tooltip_span = $('<span/>');\n",
       "        tooltip_span.addClass('ui-button-text');\n",
       "        tooltip_span.html(tooltip);\n",
       "\n",
       "        button.append(icon_img);\n",
       "        button.append(tooltip_span);\n",
       "\n",
       "        nav_element.append(button);\n",
       "    }\n",
       "\n",
       "    var fmt_picker_span = $('<span/>');\n",
       "\n",
       "    var fmt_picker = $('<select/>');\n",
       "    fmt_picker.addClass('mpl-toolbar-option ui-widget ui-widget-content');\n",
       "    fmt_picker_span.append(fmt_picker);\n",
       "    nav_element.append(fmt_picker_span);\n",
       "    this.format_dropdown = fmt_picker[0];\n",
       "\n",
       "    for (var ind in mpl.extensions) {\n",
       "        var fmt = mpl.extensions[ind];\n",
       "        var option = $(\n",
       "            '<option/>', {selected: fmt === mpl.default_extension}).html(fmt);\n",
       "        fmt_picker.append(option)\n",
       "    }\n",
       "\n",
       "    // Add hover states to the ui-buttons\n",
       "    $( \".ui-button\" ).hover(\n",
       "        function() { $(this).addClass(\"ui-state-hover\");},\n",
       "        function() { $(this).removeClass(\"ui-state-hover\");}\n",
       "    );\n",
       "\n",
       "    var status_bar = $('<span class=\"mpl-message\"/>');\n",
       "    nav_element.append(status_bar);\n",
       "    this.message = status_bar[0];\n",
       "}\n",
       "\n",
       "mpl.figure.prototype.request_resize = function(x_pixels, y_pixels) {\n",
       "    // Request matplotlib to resize the figure. Matplotlib will then trigger a resize in the client,\n",
       "    // which will in turn request a refresh of the image.\n",
       "    this.send_message('resize', {'width': x_pixels, 'height': y_pixels});\n",
       "}\n",
       "\n",
       "mpl.figure.prototype.send_message = function(type, properties) {\n",
       "    properties['type'] = type;\n",
       "    properties['figure_id'] = this.id;\n",
       "    this.ws.send(JSON.stringify(properties));\n",
       "}\n",
       "\n",
       "mpl.figure.prototype.send_draw_message = function() {\n",
       "    if (!this.waiting) {\n",
       "        this.waiting = true;\n",
       "        this.ws.send(JSON.stringify({type: \"draw\", figure_id: this.id}));\n",
       "    }\n",
       "}\n",
       "\n",
       "\n",
       "mpl.figure.prototype.handle_save = function(fig, msg) {\n",
       "    var format_dropdown = fig.format_dropdown;\n",
       "    var format = format_dropdown.options[format_dropdown.selectedIndex].value;\n",
       "    fig.ondownload(fig, format);\n",
       "}\n",
       "\n",
       "\n",
       "mpl.figure.prototype.handle_resize = function(fig, msg) {\n",
       "    var size = msg['size'];\n",
       "    if (size[0] != fig.canvas.width || size[1] != fig.canvas.height) {\n",
       "        fig._resize_canvas(size[0], size[1]);\n",
       "        fig.send_message(\"refresh\", {});\n",
       "    };\n",
       "}\n",
       "\n",
       "mpl.figure.prototype.handle_rubberband = function(fig, msg) {\n",
       "    var x0 = msg['x0'] / mpl.ratio;\n",
       "    var y0 = (fig.canvas.height - msg['y0']) / mpl.ratio;\n",
       "    var x1 = msg['x1'] / mpl.ratio;\n",
       "    var y1 = (fig.canvas.height - msg['y1']) / mpl.ratio;\n",
       "    x0 = Math.floor(x0) + 0.5;\n",
       "    y0 = Math.floor(y0) + 0.5;\n",
       "    x1 = Math.floor(x1) + 0.5;\n",
       "    y1 = Math.floor(y1) + 0.5;\n",
       "    var min_x = Math.min(x0, x1);\n",
       "    var min_y = Math.min(y0, y1);\n",
       "    var width = Math.abs(x1 - x0);\n",
       "    var height = Math.abs(y1 - y0);\n",
       "\n",
       "    fig.rubberband_context.clearRect(\n",
       "        0, 0, fig.canvas.width, fig.canvas.height);\n",
       "\n",
       "    fig.rubberband_context.strokeRect(min_x, min_y, width, height);\n",
       "}\n",
       "\n",
       "mpl.figure.prototype.handle_figure_label = function(fig, msg) {\n",
       "    // Updates the figure title.\n",
       "    fig.header.textContent = msg['label'];\n",
       "}\n",
       "\n",
       "mpl.figure.prototype.handle_cursor = function(fig, msg) {\n",
       "    var cursor = msg['cursor'];\n",
       "    switch(cursor)\n",
       "    {\n",
       "    case 0:\n",
       "        cursor = 'pointer';\n",
       "        break;\n",
       "    case 1:\n",
       "        cursor = 'default';\n",
       "        break;\n",
       "    case 2:\n",
       "        cursor = 'crosshair';\n",
       "        break;\n",
       "    case 3:\n",
       "        cursor = 'move';\n",
       "        break;\n",
       "    }\n",
       "    fig.rubberband_canvas.style.cursor = cursor;\n",
       "}\n",
       "\n",
       "mpl.figure.prototype.handle_message = function(fig, msg) {\n",
       "    fig.message.textContent = msg['message'];\n",
       "}\n",
       "\n",
       "mpl.figure.prototype.handle_draw = function(fig, msg) {\n",
       "    // Request the server to send over a new figure.\n",
       "    fig.send_draw_message();\n",
       "}\n",
       "\n",
       "mpl.figure.prototype.handle_image_mode = function(fig, msg) {\n",
       "    fig.image_mode = msg['mode'];\n",
       "}\n",
       "\n",
       "mpl.figure.prototype.updated_canvas_event = function() {\n",
       "    // Called whenever the canvas gets updated.\n",
       "    this.send_message(\"ack\", {});\n",
       "}\n",
       "\n",
       "// A function to construct a web socket function for onmessage handling.\n",
       "// Called in the figure constructor.\n",
       "mpl.figure.prototype._make_on_message_function = function(fig) {\n",
       "    return function socket_on_message(evt) {\n",
       "        if (evt.data instanceof Blob) {\n",
       "            /* FIXME: We get \"Resource interpreted as Image but\n",
       "             * transferred with MIME type text/plain:\" errors on\n",
       "             * Chrome.  But how to set the MIME type?  It doesn't seem\n",
       "             * to be part of the websocket stream */\n",
       "            evt.data.type = \"image/png\";\n",
       "\n",
       "            /* Free the memory for the previous frames */\n",
       "            if (fig.imageObj.src) {\n",
       "                (window.URL || window.webkitURL).revokeObjectURL(\n",
       "                    fig.imageObj.src);\n",
       "            }\n",
       "\n",
       "            fig.imageObj.src = (window.URL || window.webkitURL).createObjectURL(\n",
       "                evt.data);\n",
       "            fig.updated_canvas_event();\n",
       "            fig.waiting = false;\n",
       "            return;\n",
       "        }\n",
       "        else if (typeof evt.data === 'string' && evt.data.slice(0, 21) == \"data:image/png;base64\") {\n",
       "            fig.imageObj.src = evt.data;\n",
       "            fig.updated_canvas_event();\n",
       "            fig.waiting = false;\n",
       "            return;\n",
       "        }\n",
       "\n",
       "        var msg = JSON.parse(evt.data);\n",
       "        var msg_type = msg['type'];\n",
       "\n",
       "        // Call the  \"handle_{type}\" callback, which takes\n",
       "        // the figure and JSON message as its only arguments.\n",
       "        try {\n",
       "            var callback = fig[\"handle_\" + msg_type];\n",
       "        } catch (e) {\n",
       "            console.log(\"No handler for the '\" + msg_type + \"' message type: \", msg);\n",
       "            return;\n",
       "        }\n",
       "\n",
       "        if (callback) {\n",
       "            try {\n",
       "                // console.log(\"Handling '\" + msg_type + \"' message: \", msg);\n",
       "                callback(fig, msg);\n",
       "            } catch (e) {\n",
       "                console.log(\"Exception inside the 'handler_\" + msg_type + \"' callback:\", e, e.stack, msg);\n",
       "            }\n",
       "        }\n",
       "    };\n",
       "}\n",
       "\n",
       "// from http://stackoverflow.com/questions/1114465/getting-mouse-location-in-canvas\n",
       "mpl.findpos = function(e) {\n",
       "    //this section is from http://www.quirksmode.org/js/events_properties.html\n",
       "    var targ;\n",
       "    if (!e)\n",
       "        e = window.event;\n",
       "    if (e.target)\n",
       "        targ = e.target;\n",
       "    else if (e.srcElement)\n",
       "        targ = e.srcElement;\n",
       "    if (targ.nodeType == 3) // defeat Safari bug\n",
       "        targ = targ.parentNode;\n",
       "\n",
       "    // jQuery normalizes the pageX and pageY\n",
       "    // pageX,Y are the mouse positions relative to the document\n",
       "    // offset() returns the position of the element relative to the document\n",
       "    var x = e.pageX - $(targ).offset().left;\n",
       "    var y = e.pageY - $(targ).offset().top;\n",
       "\n",
       "    return {\"x\": x, \"y\": y};\n",
       "};\n",
       "\n",
       "/*\n",
       " * return a copy of an object with only non-object keys\n",
       " * we need this to avoid circular references\n",
       " * http://stackoverflow.com/a/24161582/3208463\n",
       " */\n",
       "function simpleKeys (original) {\n",
       "  return Object.keys(original).reduce(function (obj, key) {\n",
       "    if (typeof original[key] !== 'object')\n",
       "        obj[key] = original[key]\n",
       "    return obj;\n",
       "  }, {});\n",
       "}\n",
       "\n",
       "mpl.figure.prototype.mouse_event = function(event, name) {\n",
       "    var canvas_pos = mpl.findpos(event)\n",
       "\n",
       "    if (name === 'button_press')\n",
       "    {\n",
       "        this.canvas.focus();\n",
       "        this.canvas_div.focus();\n",
       "    }\n",
       "\n",
       "    var x = canvas_pos.x * mpl.ratio;\n",
       "    var y = canvas_pos.y * mpl.ratio;\n",
       "\n",
       "    this.send_message(name, {x: x, y: y, button: event.button,\n",
       "                             step: event.step,\n",
       "                             guiEvent: simpleKeys(event)});\n",
       "\n",
       "    /* This prevents the web browser from automatically changing to\n",
       "     * the text insertion cursor when the button is pressed.  We want\n",
       "     * to control all of the cursor setting manually through the\n",
       "     * 'cursor' event from matplotlib */\n",
       "    event.preventDefault();\n",
       "    return false;\n",
       "}\n",
       "\n",
       "mpl.figure.prototype._key_event_extra = function(event, name) {\n",
       "    // Handle any extra behaviour associated with a key event\n",
       "}\n",
       "\n",
       "mpl.figure.prototype.key_event = function(event, name) {\n",
       "\n",
       "    // Prevent repeat events\n",
       "    if (name == 'key_press')\n",
       "    {\n",
       "        if (event.which === this._key)\n",
       "            return;\n",
       "        else\n",
       "            this._key = event.which;\n",
       "    }\n",
       "    if (name == 'key_release')\n",
       "        this._key = null;\n",
       "\n",
       "    var value = '';\n",
       "    if (event.ctrlKey && event.which != 17)\n",
       "        value += \"ctrl+\";\n",
       "    if (event.altKey && event.which != 18)\n",
       "        value += \"alt+\";\n",
       "    if (event.shiftKey && event.which != 16)\n",
       "        value += \"shift+\";\n",
       "\n",
       "    value += 'k';\n",
       "    value += event.which.toString();\n",
       "\n",
       "    this._key_event_extra(event, name);\n",
       "\n",
       "    this.send_message(name, {key: value,\n",
       "                             guiEvent: simpleKeys(event)});\n",
       "    return false;\n",
       "}\n",
       "\n",
       "mpl.figure.prototype.toolbar_button_onclick = function(name) {\n",
       "    if (name == 'download') {\n",
       "        this.handle_save(this, null);\n",
       "    } else {\n",
       "        this.send_message(\"toolbar_button\", {name: name});\n",
       "    }\n",
       "};\n",
       "\n",
       "mpl.figure.prototype.toolbar_button_onmouseover = function(tooltip) {\n",
       "    this.message.textContent = tooltip;\n",
       "};\n",
       "mpl.toolbar_items = [[\"Home\", \"Reset original view\", \"fa fa-home icon-home\", \"home\"], [\"Back\", \"Back to  previous view\", \"fa fa-arrow-left icon-arrow-left\", \"back\"], [\"Forward\", \"Forward to next view\", \"fa fa-arrow-right icon-arrow-right\", \"forward\"], [\"\", \"\", \"\", \"\"], [\"Pan\", \"Pan axes with left mouse, zoom with right\", \"fa fa-arrows icon-move\", \"pan\"], [\"Zoom\", \"Zoom to rectangle\", \"fa fa-square-o icon-check-empty\", \"zoom\"], [\"\", \"\", \"\", \"\"], [\"Download\", \"Download plot\", \"fa fa-floppy-o icon-save\", \"download\"]];\n",
       "\n",
       "mpl.extensions = [\"eps\", \"jpeg\", \"pdf\", \"png\", \"ps\", \"raw\", \"svg\", \"tif\"];\n",
       "\n",
       "mpl.default_extension = \"png\";var comm_websocket_adapter = function(comm) {\n",
       "    // Create a \"websocket\"-like object which calls the given IPython comm\n",
       "    // object with the appropriate methods. Currently this is a non binary\n",
       "    // socket, so there is still some room for performance tuning.\n",
       "    var ws = {};\n",
       "\n",
       "    ws.close = function() {\n",
       "        comm.close()\n",
       "    };\n",
       "    ws.send = function(m) {\n",
       "        //console.log('sending', m);\n",
       "        comm.send(m);\n",
       "    };\n",
       "    // Register the callback with on_msg.\n",
       "    comm.on_msg(function(msg) {\n",
       "        //console.log('receiving', msg['content']['data'], msg);\n",
       "        // Pass the mpl event to the overriden (by mpl) onmessage function.\n",
       "        ws.onmessage(msg['content']['data'])\n",
       "    });\n",
       "    return ws;\n",
       "}\n",
       "\n",
       "mpl.mpl_figure_comm = function(comm, msg) {\n",
       "    // This is the function which gets called when the mpl process\n",
       "    // starts-up an IPython Comm through the \"matplotlib\" channel.\n",
       "\n",
       "    var id = msg.content.data.id;\n",
       "    // Get hold of the div created by the display call when the Comm\n",
       "    // socket was opened in Python.\n",
       "    var element = $(\"#\" + id);\n",
       "    var ws_proxy = comm_websocket_adapter(comm)\n",
       "\n",
       "    function ondownload(figure, format) {\n",
       "        window.open(figure.imageObj.src);\n",
       "    }\n",
       "\n",
       "    var fig = new mpl.figure(id, ws_proxy,\n",
       "                           ondownload,\n",
       "                           element.get(0));\n",
       "\n",
       "    // Call onopen now - mpl needs it, as it is assuming we've passed it a real\n",
       "    // web socket which is closed, not our websocket->open comm proxy.\n",
       "    ws_proxy.onopen();\n",
       "\n",
       "    fig.parent_element = element.get(0);\n",
       "    fig.cell_info = mpl.find_output_cell(\"<div id='\" + id + \"'></div>\");\n",
       "    if (!fig.cell_info) {\n",
       "        console.error(\"Failed to find cell for figure\", id, fig);\n",
       "        return;\n",
       "    }\n",
       "\n",
       "    var output_index = fig.cell_info[2]\n",
       "    var cell = fig.cell_info[0];\n",
       "\n",
       "};\n",
       "\n",
       "mpl.figure.prototype.handle_close = function(fig, msg) {\n",
       "    var width = fig.canvas.width/mpl.ratio\n",
       "    fig.root.unbind('remove')\n",
       "\n",
       "    // Update the output cell to use the data from the current canvas.\n",
       "    fig.push_to_output();\n",
       "    var dataURL = fig.canvas.toDataURL();\n",
       "    // Re-enable the keyboard manager in IPython - without this line, in FF,\n",
       "    // the notebook keyboard shortcuts fail.\n",
       "    IPython.keyboard_manager.enable()\n",
       "    $(fig.parent_element).html('<img src=\"' + dataURL + '\" width=\"' + width + '\">');\n",
       "    fig.close_ws(fig, msg);\n",
       "}\n",
       "\n",
       "mpl.figure.prototype.close_ws = function(fig, msg){\n",
       "    fig.send_message('closing', msg);\n",
       "    // fig.ws.close()\n",
       "}\n",
       "\n",
       "mpl.figure.prototype.push_to_output = function(remove_interactive) {\n",
       "    // Turn the data on the canvas into data in the output cell.\n",
       "    var width = this.canvas.width/mpl.ratio\n",
       "    var dataURL = this.canvas.toDataURL();\n",
       "    this.cell_info[1]['text/html'] = '<img src=\"' + dataURL + '\" width=\"' + width + '\">';\n",
       "}\n",
       "\n",
       "mpl.figure.prototype.updated_canvas_event = function() {\n",
       "    // Tell IPython that the notebook contents must change.\n",
       "    IPython.notebook.set_dirty(true);\n",
       "    this.send_message(\"ack\", {});\n",
       "    var fig = this;\n",
       "    // Wait a second, then push the new image to the DOM so\n",
       "    // that it is saved nicely (might be nice to debounce this).\n",
       "    setTimeout(function () { fig.push_to_output() }, 1000);\n",
       "}\n",
       "\n",
       "mpl.figure.prototype._init_toolbar = function() {\n",
       "    var fig = this;\n",
       "\n",
       "    var nav_element = $('<div/>')\n",
       "    nav_element.attr('style', 'width: 100%');\n",
       "    this.root.append(nav_element);\n",
       "\n",
       "    // Define a callback function for later on.\n",
       "    function toolbar_event(event) {\n",
       "        return fig.toolbar_button_onclick(event['data']);\n",
       "    }\n",
       "    function toolbar_mouse_event(event) {\n",
       "        return fig.toolbar_button_onmouseover(event['data']);\n",
       "    }\n",
       "\n",
       "    for(var toolbar_ind in mpl.toolbar_items){\n",
       "        var name = mpl.toolbar_items[toolbar_ind][0];\n",
       "        var tooltip = mpl.toolbar_items[toolbar_ind][1];\n",
       "        var image = mpl.toolbar_items[toolbar_ind][2];\n",
       "        var method_name = mpl.toolbar_items[toolbar_ind][3];\n",
       "\n",
       "        if (!name) { continue; };\n",
       "\n",
       "        var button = $('<button class=\"btn btn-default\" href=\"#\" title=\"' + name + '\"><i class=\"fa ' + image + ' fa-lg\"></i></button>');\n",
       "        button.click(method_name, toolbar_event);\n",
       "        button.mouseover(tooltip, toolbar_mouse_event);\n",
       "        nav_element.append(button);\n",
       "    }\n",
       "\n",
       "    // Add the status bar.\n",
       "    var status_bar = $('<span class=\"mpl-message\" style=\"text-align:right; float: right;\"/>');\n",
       "    nav_element.append(status_bar);\n",
       "    this.message = status_bar[0];\n",
       "\n",
       "    // Add the close button to the window.\n",
       "    var buttongrp = $('<div class=\"btn-group inline pull-right\"></div>');\n",
       "    var button = $('<button class=\"btn btn-mini btn-primary\" href=\"#\" title=\"Stop Interaction\"><i class=\"fa fa-power-off icon-remove icon-large\"></i></button>');\n",
       "    button.click(function (evt) { fig.handle_close(fig, {}); } );\n",
       "    button.mouseover('Stop Interaction', toolbar_mouse_event);\n",
       "    buttongrp.append(button);\n",
       "    var titlebar = this.root.find($('.ui-dialog-titlebar'));\n",
       "    titlebar.prepend(buttongrp);\n",
       "}\n",
       "\n",
       "mpl.figure.prototype._root_extra_style = function(el){\n",
       "    var fig = this\n",
       "    el.on(\"remove\", function(){\n",
       "\tfig.close_ws(fig, {});\n",
       "    });\n",
       "}\n",
       "\n",
       "mpl.figure.prototype._canvas_extra_style = function(el){\n",
       "    // this is important to make the div 'focusable\n",
       "    el.attr('tabindex', 0)\n",
       "    // reach out to IPython and tell the keyboard manager to turn it's self\n",
       "    // off when our div gets focus\n",
       "\n",
       "    // location in version 3\n",
       "    if (IPython.notebook.keyboard_manager) {\n",
       "        IPython.notebook.keyboard_manager.register_events(el);\n",
       "    }\n",
       "    else {\n",
       "        // location in version 2\n",
       "        IPython.keyboard_manager.register_events(el);\n",
       "    }\n",
       "\n",
       "}\n",
       "\n",
       "mpl.figure.prototype._key_event_extra = function(event, name) {\n",
       "    var manager = IPython.notebook.keyboard_manager;\n",
       "    if (!manager)\n",
       "        manager = IPython.keyboard_manager;\n",
       "\n",
       "    // Check for shift+enter\n",
       "    if (event.shiftKey && event.which == 13) {\n",
       "        this.canvas_div.blur();\n",
       "        // select the cell after this one\n",
       "        var index = IPython.notebook.find_cell_index(this.cell_info[0]);\n",
       "        IPython.notebook.select(index + 1);\n",
       "    }\n",
       "}\n",
       "\n",
       "mpl.figure.prototype.handle_save = function(fig, msg) {\n",
       "    fig.ondownload(fig, null);\n",
       "}\n",
       "\n",
       "\n",
       "mpl.find_output_cell = function(html_output) {\n",
       "    // Return the cell and output element which can be found *uniquely* in the notebook.\n",
       "    // Note - this is a bit hacky, but it is done because the \"notebook_saving.Notebook\"\n",
       "    // IPython event is triggered only after the cells have been serialised, which for\n",
       "    // our purposes (turning an active figure into a static one), is too late.\n",
       "    var cells = IPython.notebook.get_cells();\n",
       "    var ncells = cells.length;\n",
       "    for (var i=0; i<ncells; i++) {\n",
       "        var cell = cells[i];\n",
       "        if (cell.cell_type === 'code'){\n",
       "            for (var j=0; j<cell.output_area.outputs.length; j++) {\n",
       "                var data = cell.output_area.outputs[j];\n",
       "                if (data.data) {\n",
       "                    // IPython >= 3 moved mimebundle to data attribute of output\n",
       "                    data = data.data;\n",
       "                }\n",
       "                if (data['text/html'] == html_output) {\n",
       "                    return [cell, data, j];\n",
       "                }\n",
       "            }\n",
       "        }\n",
       "    }\n",
       "}\n",
       "\n",
       "// Register the function which deals with the matplotlib target/channel.\n",
       "// The kernel may be null if the page has been refreshed.\n",
       "if (IPython.notebook.kernel != null) {\n",
       "    IPython.notebook.kernel.comm_manager.register_target('matplotlib', mpl.mpl_figure_comm);\n",
       "}\n"
      ],
      "text/plain": [
       "<IPython.core.display.Javascript object>"
      ]
     },
     "metadata": {},
     "output_type": "display_data"
    },
    {
     "data": {
      "text/html": [
       "<img src=\"data:image/png;base64,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\" width=\"349.44445370156114\">"
      ],
      "text/plain": [
       "<IPython.core.display.HTML object>"
      ]
     },
     "metadata": {},
     "output_type": "display_data"
    }
   ],
   "source": [
    "fig2, ax2 = plt.subplots(figsize=figsize)"
   ]
  },
  {
   "cell_type": "code",
   "execution_count": 53,
   "metadata": {
    "collapsed": false,
    "extensions": {
     "jupyter_dashboards": {
      "version": 1,
      "views": {
       "grid_default": {
        "col": 2,
        "height": 12,
        "hidden": false,
        "row": 13,
        "width": 4
       },
       "report_default": {
        "hidden": false
       }
      }
     }
    }
   },
   "outputs": [
    {
     "data": {
      "application/javascript": [
       "/* Put everything inside the global mpl namespace */\n",
       "window.mpl = {};\n",
       "\n",
       "\n",
       "mpl.get_websocket_type = function() {\n",
       "    if (typeof(WebSocket) !== 'undefined') {\n",
       "        return WebSocket;\n",
       "    } else if (typeof(MozWebSocket) !== 'undefined') {\n",
       "        return MozWebSocket;\n",
       "    } else {\n",
       "        alert('Your browser does not have WebSocket support.' +\n",
       "              'Please try Chrome, Safari or Firefox ≥ 6. ' +\n",
       "              'Firefox 4 and 5 are also supported but you ' +\n",
       "              'have to enable WebSockets in about:config.');\n",
       "    };\n",
       "}\n",
       "\n",
       "mpl.figure = function(figure_id, websocket, ondownload, parent_element) {\n",
       "    this.id = figure_id;\n",
       "\n",
       "    this.ws = websocket;\n",
       "\n",
       "    this.supports_binary = (this.ws.binaryType != undefined);\n",
       "\n",
       "    if (!this.supports_binary) {\n",
       "        var warnings = document.getElementById(\"mpl-warnings\");\n",
       "        if (warnings) {\n",
       "            warnings.style.display = 'block';\n",
       "            warnings.textContent = (\n",
       "                \"This browser does not support binary websocket messages. \" +\n",
       "                    \"Performance may be slow.\");\n",
       "        }\n",
       "    }\n",
       "\n",
       "    this.imageObj = new Image();\n",
       "\n",
       "    this.context = undefined;\n",
       "    this.message = undefined;\n",
       "    this.canvas = undefined;\n",
       "    this.rubberband_canvas = undefined;\n",
       "    this.rubberband_context = undefined;\n",
       "    this.format_dropdown = undefined;\n",
       "\n",
       "    this.image_mode = 'full';\n",
       "\n",
       "    this.root = $('<div/>');\n",
       "    this._root_extra_style(this.root)\n",
       "    this.root.attr('style', 'display: inline-block');\n",
       "\n",
       "    $(parent_element).append(this.root);\n",
       "\n",
       "    this._init_header(this);\n",
       "    this._init_canvas(this);\n",
       "    this._init_toolbar(this);\n",
       "\n",
       "    var fig = this;\n",
       "\n",
       "    this.waiting = false;\n",
       "\n",
       "    this.ws.onopen =  function () {\n",
       "            fig.send_message(\"supports_binary\", {value: fig.supports_binary});\n",
       "            fig.send_message(\"send_image_mode\", {});\n",
       "            if (mpl.ratio != 1) {\n",
       "                fig.send_message(\"set_dpi_ratio\", {'dpi_ratio': mpl.ratio});\n",
       "            }\n",
       "            fig.send_message(\"refresh\", {});\n",
       "        }\n",
       "\n",
       "    this.imageObj.onload = function() {\n",
       "            if (fig.image_mode == 'full') {\n",
       "                // Full images could contain transparency (where diff images\n",
       "                // almost always do), so we need to clear the canvas so that\n",
       "                // there is no ghosting.\n",
       "                fig.context.clearRect(0, 0, fig.canvas.width, fig.canvas.height);\n",
       "            }\n",
       "            fig.context.drawImage(fig.imageObj, 0, 0);\n",
       "        };\n",
       "\n",
       "    this.imageObj.onunload = function() {\n",
       "        this.ws.close();\n",
       "    }\n",
       "\n",
       "    this.ws.onmessage = this._make_on_message_function(this);\n",
       "\n",
       "    this.ondownload = ondownload;\n",
       "}\n",
       "\n",
       "mpl.figure.prototype._init_header = function() {\n",
       "    var titlebar = $(\n",
       "        '<div class=\"ui-dialog-titlebar ui-widget-header ui-corner-all ' +\n",
       "        'ui-helper-clearfix\"/>');\n",
       "    var titletext = $(\n",
       "        '<div class=\"ui-dialog-title\" style=\"width: 100%; ' +\n",
       "        'text-align: center; padding: 3px;\"/>');\n",
       "    titlebar.append(titletext)\n",
       "    this.root.append(titlebar);\n",
       "    this.header = titletext[0];\n",
       "}\n",
       "\n",
       "\n",
       "\n",
       "mpl.figure.prototype._canvas_extra_style = function(canvas_div) {\n",
       "\n",
       "}\n",
       "\n",
       "\n",
       "mpl.figure.prototype._root_extra_style = function(canvas_div) {\n",
       "\n",
       "}\n",
       "\n",
       "mpl.figure.prototype._init_canvas = function() {\n",
       "    var fig = this;\n",
       "\n",
       "    var canvas_div = $('<div/>');\n",
       "\n",
       "    canvas_div.attr('style', 'position: relative; clear: both; outline: 0');\n",
       "\n",
       "    function canvas_keyboard_event(event) {\n",
       "        return fig.key_event(event, event['data']);\n",
       "    }\n",
       "\n",
       "    canvas_div.keydown('key_press', canvas_keyboard_event);\n",
       "    canvas_div.keyup('key_release', canvas_keyboard_event);\n",
       "    this.canvas_div = canvas_div\n",
       "    this._canvas_extra_style(canvas_div)\n",
       "    this.root.append(canvas_div);\n",
       "\n",
       "    var canvas = $('<canvas/>');\n",
       "    canvas.addClass('mpl-canvas');\n",
       "    canvas.attr('style', \"left: 0; top: 0; z-index: 0; outline: 0\")\n",
       "\n",
       "    this.canvas = canvas[0];\n",
       "    this.context = canvas[0].getContext(\"2d\");\n",
       "\n",
       "    var backingStore = this.context.backingStorePixelRatio ||\n",
       "\tthis.context.webkitBackingStorePixelRatio ||\n",
       "\tthis.context.mozBackingStorePixelRatio ||\n",
       "\tthis.context.msBackingStorePixelRatio ||\n",
       "\tthis.context.oBackingStorePixelRatio ||\n",
       "\tthis.context.backingStorePixelRatio || 1;\n",
       "\n",
       "    mpl.ratio = (window.devicePixelRatio || 1) / backingStore;\n",
       "\n",
       "    var rubberband = $('<canvas/>');\n",
       "    rubberband.attr('style', \"position: absolute; left: 0; top: 0; z-index: 1;\")\n",
       "\n",
       "    var pass_mouse_events = true;\n",
       "\n",
       "    canvas_div.resizable({\n",
       "        start: function(event, ui) {\n",
       "            pass_mouse_events = false;\n",
       "        },\n",
       "        resize: function(event, ui) {\n",
       "            fig.request_resize(ui.size.width, ui.size.height);\n",
       "        },\n",
       "        stop: function(event, ui) {\n",
       "            pass_mouse_events = true;\n",
       "            fig.request_resize(ui.size.width, ui.size.height);\n",
       "        },\n",
       "    });\n",
       "\n",
       "    function mouse_event_fn(event) {\n",
       "        if (pass_mouse_events)\n",
       "            return fig.mouse_event(event, event['data']);\n",
       "    }\n",
       "\n",
       "    rubberband.mousedown('button_press', mouse_event_fn);\n",
       "    rubberband.mouseup('button_release', mouse_event_fn);\n",
       "    // Throttle sequential mouse events to 1 every 20ms.\n",
       "    rubberband.mousemove('motion_notify', mouse_event_fn);\n",
       "\n",
       "    rubberband.mouseenter('figure_enter', mouse_event_fn);\n",
       "    rubberband.mouseleave('figure_leave', mouse_event_fn);\n",
       "\n",
       "    canvas_div.on(\"wheel\", function (event) {\n",
       "        event = event.originalEvent;\n",
       "        event['data'] = 'scroll'\n",
       "        if (event.deltaY < 0) {\n",
       "            event.step = 1;\n",
       "        } else {\n",
       "            event.step = -1;\n",
       "        }\n",
       "        mouse_event_fn(event);\n",
       "    });\n",
       "\n",
       "    canvas_div.append(canvas);\n",
       "    canvas_div.append(rubberband);\n",
       "\n",
       "    this.rubberband = rubberband;\n",
       "    this.rubberband_canvas = rubberband[0];\n",
       "    this.rubberband_context = rubberband[0].getContext(\"2d\");\n",
       "    this.rubberband_context.strokeStyle = \"#000000\";\n",
       "\n",
       "    this._resize_canvas = function(width, height) {\n",
       "        // Keep the size of the canvas, canvas container, and rubber band\n",
       "        // canvas in synch.\n",
       "        canvas_div.css('width', width)\n",
       "        canvas_div.css('height', height)\n",
       "\n",
       "        canvas.attr('width', width * mpl.ratio);\n",
       "        canvas.attr('height', height * mpl.ratio);\n",
       "        canvas.attr('style', 'width: ' + width + 'px; height: ' + height + 'px;');\n",
       "\n",
       "        rubberband.attr('width', width);\n",
       "        rubberband.attr('height', height);\n",
       "    }\n",
       "\n",
       "    // Set the figure to an initial 600x600px, this will subsequently be updated\n",
       "    // upon first draw.\n",
       "    this._resize_canvas(600, 600);\n",
       "\n",
       "    // Disable right mouse context menu.\n",
       "    $(this.rubberband_canvas).bind(\"contextmenu\",function(e){\n",
       "        return false;\n",
       "    });\n",
       "\n",
       "    function set_focus () {\n",
       "        canvas.focus();\n",
       "        canvas_div.focus();\n",
       "    }\n",
       "\n",
       "    window.setTimeout(set_focus, 100);\n",
       "}\n",
       "\n",
       "mpl.figure.prototype._init_toolbar = function() {\n",
       "    var fig = this;\n",
       "\n",
       "    var nav_element = $('<div/>')\n",
       "    nav_element.attr('style', 'width: 100%');\n",
       "    this.root.append(nav_element);\n",
       "\n",
       "    // Define a callback function for later on.\n",
       "    function toolbar_event(event) {\n",
       "        return fig.toolbar_button_onclick(event['data']);\n",
       "    }\n",
       "    function toolbar_mouse_event(event) {\n",
       "        return fig.toolbar_button_onmouseover(event['data']);\n",
       "    }\n",
       "\n",
       "    for(var toolbar_ind in mpl.toolbar_items) {\n",
       "        var name = mpl.toolbar_items[toolbar_ind][0];\n",
       "        var tooltip = mpl.toolbar_items[toolbar_ind][1];\n",
       "        var image = mpl.toolbar_items[toolbar_ind][2];\n",
       "        var method_name = mpl.toolbar_items[toolbar_ind][3];\n",
       "\n",
       "        if (!name) {\n",
       "            // put a spacer in here.\n",
       "            continue;\n",
       "        }\n",
       "        var button = $('<button/>');\n",
       "        button.addClass('ui-button ui-widget ui-state-default ui-corner-all ' +\n",
       "                        'ui-button-icon-only');\n",
       "        button.attr('role', 'button');\n",
       "        button.attr('aria-disabled', 'false');\n",
       "        button.click(method_name, toolbar_event);\n",
       "        button.mouseover(tooltip, toolbar_mouse_event);\n",
       "\n",
       "        var icon_img = $('<span/>');\n",
       "        icon_img.addClass('ui-button-icon-primary ui-icon');\n",
       "        icon_img.addClass(image);\n",
       "        icon_img.addClass('ui-corner-all');\n",
       "\n",
       "        var tooltip_span = $('<span/>');\n",
       "        tooltip_span.addClass('ui-button-text');\n",
       "        tooltip_span.html(tooltip);\n",
       "\n",
       "        button.append(icon_img);\n",
       "        button.append(tooltip_span);\n",
       "\n",
       "        nav_element.append(button);\n",
       "    }\n",
       "\n",
       "    var fmt_picker_span = $('<span/>');\n",
       "\n",
       "    var fmt_picker = $('<select/>');\n",
       "    fmt_picker.addClass('mpl-toolbar-option ui-widget ui-widget-content');\n",
       "    fmt_picker_span.append(fmt_picker);\n",
       "    nav_element.append(fmt_picker_span);\n",
       "    this.format_dropdown = fmt_picker[0];\n",
       "\n",
       "    for (var ind in mpl.extensions) {\n",
       "        var fmt = mpl.extensions[ind];\n",
       "        var option = $(\n",
       "            '<option/>', {selected: fmt === mpl.default_extension}).html(fmt);\n",
       "        fmt_picker.append(option)\n",
       "    }\n",
       "\n",
       "    // Add hover states to the ui-buttons\n",
       "    $( \".ui-button\" ).hover(\n",
       "        function() { $(this).addClass(\"ui-state-hover\");},\n",
       "        function() { $(this).removeClass(\"ui-state-hover\");}\n",
       "    );\n",
       "\n",
       "    var status_bar = $('<span class=\"mpl-message\"/>');\n",
       "    nav_element.append(status_bar);\n",
       "    this.message = status_bar[0];\n",
       "}\n",
       "\n",
       "mpl.figure.prototype.request_resize = function(x_pixels, y_pixels) {\n",
       "    // Request matplotlib to resize the figure. Matplotlib will then trigger a resize in the client,\n",
       "    // which will in turn request a refresh of the image.\n",
       "    this.send_message('resize', {'width': x_pixels, 'height': y_pixels});\n",
       "}\n",
       "\n",
       "mpl.figure.prototype.send_message = function(type, properties) {\n",
       "    properties['type'] = type;\n",
       "    properties['figure_id'] = this.id;\n",
       "    this.ws.send(JSON.stringify(properties));\n",
       "}\n",
       "\n",
       "mpl.figure.prototype.send_draw_message = function() {\n",
       "    if (!this.waiting) {\n",
       "        this.waiting = true;\n",
       "        this.ws.send(JSON.stringify({type: \"draw\", figure_id: this.id}));\n",
       "    }\n",
       "}\n",
       "\n",
       "\n",
       "mpl.figure.prototype.handle_save = function(fig, msg) {\n",
       "    var format_dropdown = fig.format_dropdown;\n",
       "    var format = format_dropdown.options[format_dropdown.selectedIndex].value;\n",
       "    fig.ondownload(fig, format);\n",
       "}\n",
       "\n",
       "\n",
       "mpl.figure.prototype.handle_resize = function(fig, msg) {\n",
       "    var size = msg['size'];\n",
       "    if (size[0] != fig.canvas.width || size[1] != fig.canvas.height) {\n",
       "        fig._resize_canvas(size[0], size[1]);\n",
       "        fig.send_message(\"refresh\", {});\n",
       "    };\n",
       "}\n",
       "\n",
       "mpl.figure.prototype.handle_rubberband = function(fig, msg) {\n",
       "    var x0 = msg['x0'] / mpl.ratio;\n",
       "    var y0 = (fig.canvas.height - msg['y0']) / mpl.ratio;\n",
       "    var x1 = msg['x1'] / mpl.ratio;\n",
       "    var y1 = (fig.canvas.height - msg['y1']) / mpl.ratio;\n",
       "    x0 = Math.floor(x0) + 0.5;\n",
       "    y0 = Math.floor(y0) + 0.5;\n",
       "    x1 = Math.floor(x1) + 0.5;\n",
       "    y1 = Math.floor(y1) + 0.5;\n",
       "    var min_x = Math.min(x0, x1);\n",
       "    var min_y = Math.min(y0, y1);\n",
       "    var width = Math.abs(x1 - x0);\n",
       "    var height = Math.abs(y1 - y0);\n",
       "\n",
       "    fig.rubberband_context.clearRect(\n",
       "        0, 0, fig.canvas.width, fig.canvas.height);\n",
       "\n",
       "    fig.rubberband_context.strokeRect(min_x, min_y, width, height);\n",
       "}\n",
       "\n",
       "mpl.figure.prototype.handle_figure_label = function(fig, msg) {\n",
       "    // Updates the figure title.\n",
       "    fig.header.textContent = msg['label'];\n",
       "}\n",
       "\n",
       "mpl.figure.prototype.handle_cursor = function(fig, msg) {\n",
       "    var cursor = msg['cursor'];\n",
       "    switch(cursor)\n",
       "    {\n",
       "    case 0:\n",
       "        cursor = 'pointer';\n",
       "        break;\n",
       "    case 1:\n",
       "        cursor = 'default';\n",
       "        break;\n",
       "    case 2:\n",
       "        cursor = 'crosshair';\n",
       "        break;\n",
       "    case 3:\n",
       "        cursor = 'move';\n",
       "        break;\n",
       "    }\n",
       "    fig.rubberband_canvas.style.cursor = cursor;\n",
       "}\n",
       "\n",
       "mpl.figure.prototype.handle_message = function(fig, msg) {\n",
       "    fig.message.textContent = msg['message'];\n",
       "}\n",
       "\n",
       "mpl.figure.prototype.handle_draw = function(fig, msg) {\n",
       "    // Request the server to send over a new figure.\n",
       "    fig.send_draw_message();\n",
       "}\n",
       "\n",
       "mpl.figure.prototype.handle_image_mode = function(fig, msg) {\n",
       "    fig.image_mode = msg['mode'];\n",
       "}\n",
       "\n",
       "mpl.figure.prototype.updated_canvas_event = function() {\n",
       "    // Called whenever the canvas gets updated.\n",
       "    this.send_message(\"ack\", {});\n",
       "}\n",
       "\n",
       "// A function to construct a web socket function for onmessage handling.\n",
       "// Called in the figure constructor.\n",
       "mpl.figure.prototype._make_on_message_function = function(fig) {\n",
       "    return function socket_on_message(evt) {\n",
       "        if (evt.data instanceof Blob) {\n",
       "            /* FIXME: We get \"Resource interpreted as Image but\n",
       "             * transferred with MIME type text/plain:\" errors on\n",
       "             * Chrome.  But how to set the MIME type?  It doesn't seem\n",
       "             * to be part of the websocket stream */\n",
       "            evt.data.type = \"image/png\";\n",
       "\n",
       "            /* Free the memory for the previous frames */\n",
       "            if (fig.imageObj.src) {\n",
       "                (window.URL || window.webkitURL).revokeObjectURL(\n",
       "                    fig.imageObj.src);\n",
       "            }\n",
       "\n",
       "            fig.imageObj.src = (window.URL || window.webkitURL).createObjectURL(\n",
       "                evt.data);\n",
       "            fig.updated_canvas_event();\n",
       "            fig.waiting = false;\n",
       "            return;\n",
       "        }\n",
       "        else if (typeof evt.data === 'string' && evt.data.slice(0, 21) == \"data:image/png;base64\") {\n",
       "            fig.imageObj.src = evt.data;\n",
       "            fig.updated_canvas_event();\n",
       "            fig.waiting = false;\n",
       "            return;\n",
       "        }\n",
       "\n",
       "        var msg = JSON.parse(evt.data);\n",
       "        var msg_type = msg['type'];\n",
       "\n",
       "        // Call the  \"handle_{type}\" callback, which takes\n",
       "        // the figure and JSON message as its only arguments.\n",
       "        try {\n",
       "            var callback = fig[\"handle_\" + msg_type];\n",
       "        } catch (e) {\n",
       "            console.log(\"No handler for the '\" + msg_type + \"' message type: \", msg);\n",
       "            return;\n",
       "        }\n",
       "\n",
       "        if (callback) {\n",
       "            try {\n",
       "                // console.log(\"Handling '\" + msg_type + \"' message: \", msg);\n",
       "                callback(fig, msg);\n",
       "            } catch (e) {\n",
       "                console.log(\"Exception inside the 'handler_\" + msg_type + \"' callback:\", e, e.stack, msg);\n",
       "            }\n",
       "        }\n",
       "    };\n",
       "}\n",
       "\n",
       "// from http://stackoverflow.com/questions/1114465/getting-mouse-location-in-canvas\n",
       "mpl.findpos = function(e) {\n",
       "    //this section is from http://www.quirksmode.org/js/events_properties.html\n",
       "    var targ;\n",
       "    if (!e)\n",
       "        e = window.event;\n",
       "    if (e.target)\n",
       "        targ = e.target;\n",
       "    else if (e.srcElement)\n",
       "        targ = e.srcElement;\n",
       "    if (targ.nodeType == 3) // defeat Safari bug\n",
       "        targ = targ.parentNode;\n",
       "\n",
       "    // jQuery normalizes the pageX and pageY\n",
       "    // pageX,Y are the mouse positions relative to the document\n",
       "    // offset() returns the position of the element relative to the document\n",
       "    var x = e.pageX - $(targ).offset().left;\n",
       "    var y = e.pageY - $(targ).offset().top;\n",
       "\n",
       "    return {\"x\": x, \"y\": y};\n",
       "};\n",
       "\n",
       "/*\n",
       " * return a copy of an object with only non-object keys\n",
       " * we need this to avoid circular references\n",
       " * http://stackoverflow.com/a/24161582/3208463\n",
       " */\n",
       "function simpleKeys (original) {\n",
       "  return Object.keys(original).reduce(function (obj, key) {\n",
       "    if (typeof original[key] !== 'object')\n",
       "        obj[key] = original[key]\n",
       "    return obj;\n",
       "  }, {});\n",
       "}\n",
       "\n",
       "mpl.figure.prototype.mouse_event = function(event, name) {\n",
       "    var canvas_pos = mpl.findpos(event)\n",
       "\n",
       "    if (name === 'button_press')\n",
       "    {\n",
       "        this.canvas.focus();\n",
       "        this.canvas_div.focus();\n",
       "    }\n",
       "\n",
       "    var x = canvas_pos.x * mpl.ratio;\n",
       "    var y = canvas_pos.y * mpl.ratio;\n",
       "\n",
       "    this.send_message(name, {x: x, y: y, button: event.button,\n",
       "                             step: event.step,\n",
       "                             guiEvent: simpleKeys(event)});\n",
       "\n",
       "    /* This prevents the web browser from automatically changing to\n",
       "     * the text insertion cursor when the button is pressed.  We want\n",
       "     * to control all of the cursor setting manually through the\n",
       "     * 'cursor' event from matplotlib */\n",
       "    event.preventDefault();\n",
       "    return false;\n",
       "}\n",
       "\n",
       "mpl.figure.prototype._key_event_extra = function(event, name) {\n",
       "    // Handle any extra behaviour associated with a key event\n",
       "}\n",
       "\n",
       "mpl.figure.prototype.key_event = function(event, name) {\n",
       "\n",
       "    // Prevent repeat events\n",
       "    if (name == 'key_press')\n",
       "    {\n",
       "        if (event.which === this._key)\n",
       "            return;\n",
       "        else\n",
       "            this._key = event.which;\n",
       "    }\n",
       "    if (name == 'key_release')\n",
       "        this._key = null;\n",
       "\n",
       "    var value = '';\n",
       "    if (event.ctrlKey && event.which != 17)\n",
       "        value += \"ctrl+\";\n",
       "    if (event.altKey && event.which != 18)\n",
       "        value += \"alt+\";\n",
       "    if (event.shiftKey && event.which != 16)\n",
       "        value += \"shift+\";\n",
       "\n",
       "    value += 'k';\n",
       "    value += event.which.toString();\n",
       "\n",
       "    this._key_event_extra(event, name);\n",
       "\n",
       "    this.send_message(name, {key: value,\n",
       "                             guiEvent: simpleKeys(event)});\n",
       "    return false;\n",
       "}\n",
       "\n",
       "mpl.figure.prototype.toolbar_button_onclick = function(name) {\n",
       "    if (name == 'download') {\n",
       "        this.handle_save(this, null);\n",
       "    } else {\n",
       "        this.send_message(\"toolbar_button\", {name: name});\n",
       "    }\n",
       "};\n",
       "\n",
       "mpl.figure.prototype.toolbar_button_onmouseover = function(tooltip) {\n",
       "    this.message.textContent = tooltip;\n",
       "};\n",
       "mpl.toolbar_items = [[\"Home\", \"Reset original view\", \"fa fa-home icon-home\", \"home\"], [\"Back\", \"Back to  previous view\", \"fa fa-arrow-left icon-arrow-left\", \"back\"], [\"Forward\", \"Forward to next view\", \"fa fa-arrow-right icon-arrow-right\", \"forward\"], [\"\", \"\", \"\", \"\"], [\"Pan\", \"Pan axes with left mouse, zoom with right\", \"fa fa-arrows icon-move\", \"pan\"], [\"Zoom\", \"Zoom to rectangle\", \"fa fa-square-o icon-check-empty\", \"zoom\"], [\"\", \"\", \"\", \"\"], [\"Download\", \"Download plot\", \"fa fa-floppy-o icon-save\", \"download\"]];\n",
       "\n",
       "mpl.extensions = [\"eps\", \"jpeg\", \"pdf\", \"png\", \"ps\", \"raw\", \"svg\", \"tif\"];\n",
       "\n",
       "mpl.default_extension = \"png\";var comm_websocket_adapter = function(comm) {\n",
       "    // Create a \"websocket\"-like object which calls the given IPython comm\n",
       "    // object with the appropriate methods. Currently this is a non binary\n",
       "    // socket, so there is still some room for performance tuning.\n",
       "    var ws = {};\n",
       "\n",
       "    ws.close = function() {\n",
       "        comm.close()\n",
       "    };\n",
       "    ws.send = function(m) {\n",
       "        //console.log('sending', m);\n",
       "        comm.send(m);\n",
       "    };\n",
       "    // Register the callback with on_msg.\n",
       "    comm.on_msg(function(msg) {\n",
       "        //console.log('receiving', msg['content']['data'], msg);\n",
       "        // Pass the mpl event to the overriden (by mpl) onmessage function.\n",
       "        ws.onmessage(msg['content']['data'])\n",
       "    });\n",
       "    return ws;\n",
       "}\n",
       "\n",
       "mpl.mpl_figure_comm = function(comm, msg) {\n",
       "    // This is the function which gets called when the mpl process\n",
       "    // starts-up an IPython Comm through the \"matplotlib\" channel.\n",
       "\n",
       "    var id = msg.content.data.id;\n",
       "    // Get hold of the div created by the display call when the Comm\n",
       "    // socket was opened in Python.\n",
       "    var element = $(\"#\" + id);\n",
       "    var ws_proxy = comm_websocket_adapter(comm)\n",
       "\n",
       "    function ondownload(figure, format) {\n",
       "        window.open(figure.imageObj.src);\n",
       "    }\n",
       "\n",
       "    var fig = new mpl.figure(id, ws_proxy,\n",
       "                           ondownload,\n",
       "                           element.get(0));\n",
       "\n",
       "    // Call onopen now - mpl needs it, as it is assuming we've passed it a real\n",
       "    // web socket which is closed, not our websocket->open comm proxy.\n",
       "    ws_proxy.onopen();\n",
       "\n",
       "    fig.parent_element = element.get(0);\n",
       "    fig.cell_info = mpl.find_output_cell(\"<div id='\" + id + \"'></div>\");\n",
       "    if (!fig.cell_info) {\n",
       "        console.error(\"Failed to find cell for figure\", id, fig);\n",
       "        return;\n",
       "    }\n",
       "\n",
       "    var output_index = fig.cell_info[2]\n",
       "    var cell = fig.cell_info[0];\n",
       "\n",
       "};\n",
       "\n",
       "mpl.figure.prototype.handle_close = function(fig, msg) {\n",
       "    var width = fig.canvas.width/mpl.ratio\n",
       "    fig.root.unbind('remove')\n",
       "\n",
       "    // Update the output cell to use the data from the current canvas.\n",
       "    fig.push_to_output();\n",
       "    var dataURL = fig.canvas.toDataURL();\n",
       "    // Re-enable the keyboard manager in IPython - without this line, in FF,\n",
       "    // the notebook keyboard shortcuts fail.\n",
       "    IPython.keyboard_manager.enable()\n",
       "    $(fig.parent_element).html('<img src=\"' + dataURL + '\" width=\"' + width + '\">');\n",
       "    fig.close_ws(fig, msg);\n",
       "}\n",
       "\n",
       "mpl.figure.prototype.close_ws = function(fig, msg){\n",
       "    fig.send_message('closing', msg);\n",
       "    // fig.ws.close()\n",
       "}\n",
       "\n",
       "mpl.figure.prototype.push_to_output = function(remove_interactive) {\n",
       "    // Turn the data on the canvas into data in the output cell.\n",
       "    var width = this.canvas.width/mpl.ratio\n",
       "    var dataURL = this.canvas.toDataURL();\n",
       "    this.cell_info[1]['text/html'] = '<img src=\"' + dataURL + '\" width=\"' + width + '\">';\n",
       "}\n",
       "\n",
       "mpl.figure.prototype.updated_canvas_event = function() {\n",
       "    // Tell IPython that the notebook contents must change.\n",
       "    IPython.notebook.set_dirty(true);\n",
       "    this.send_message(\"ack\", {});\n",
       "    var fig = this;\n",
       "    // Wait a second, then push the new image to the DOM so\n",
       "    // that it is saved nicely (might be nice to debounce this).\n",
       "    setTimeout(function () { fig.push_to_output() }, 1000);\n",
       "}\n",
       "\n",
       "mpl.figure.prototype._init_toolbar = function() {\n",
       "    var fig = this;\n",
       "\n",
       "    var nav_element = $('<div/>')\n",
       "    nav_element.attr('style', 'width: 100%');\n",
       "    this.root.append(nav_element);\n",
       "\n",
       "    // Define a callback function for later on.\n",
       "    function toolbar_event(event) {\n",
       "        return fig.toolbar_button_onclick(event['data']);\n",
       "    }\n",
       "    function toolbar_mouse_event(event) {\n",
       "        return fig.toolbar_button_onmouseover(event['data']);\n",
       "    }\n",
       "\n",
       "    for(var toolbar_ind in mpl.toolbar_items){\n",
       "        var name = mpl.toolbar_items[toolbar_ind][0];\n",
       "        var tooltip = mpl.toolbar_items[toolbar_ind][1];\n",
       "        var image = mpl.toolbar_items[toolbar_ind][2];\n",
       "        var method_name = mpl.toolbar_items[toolbar_ind][3];\n",
       "\n",
       "        if (!name) { continue; };\n",
       "\n",
       "        var button = $('<button class=\"btn btn-default\" href=\"#\" title=\"' + name + '\"><i class=\"fa ' + image + ' fa-lg\"></i></button>');\n",
       "        button.click(method_name, toolbar_event);\n",
       "        button.mouseover(tooltip, toolbar_mouse_event);\n",
       "        nav_element.append(button);\n",
       "    }\n",
       "\n",
       "    // Add the status bar.\n",
       "    var status_bar = $('<span class=\"mpl-message\" style=\"text-align:right; float: right;\"/>');\n",
       "    nav_element.append(status_bar);\n",
       "    this.message = status_bar[0];\n",
       "\n",
       "    // Add the close button to the window.\n",
       "    var buttongrp = $('<div class=\"btn-group inline pull-right\"></div>');\n",
       "    var button = $('<button class=\"btn btn-mini btn-primary\" href=\"#\" title=\"Stop Interaction\"><i class=\"fa fa-power-off icon-remove icon-large\"></i></button>');\n",
       "    button.click(function (evt) { fig.handle_close(fig, {}); } );\n",
       "    button.mouseover('Stop Interaction', toolbar_mouse_event);\n",
       "    buttongrp.append(button);\n",
       "    var titlebar = this.root.find($('.ui-dialog-titlebar'));\n",
       "    titlebar.prepend(buttongrp);\n",
       "}\n",
       "\n",
       "mpl.figure.prototype._root_extra_style = function(el){\n",
       "    var fig = this\n",
       "    el.on(\"remove\", function(){\n",
       "\tfig.close_ws(fig, {});\n",
       "    });\n",
       "}\n",
       "\n",
       "mpl.figure.prototype._canvas_extra_style = function(el){\n",
       "    // this is important to make the div 'focusable\n",
       "    el.attr('tabindex', 0)\n",
       "    // reach out to IPython and tell the keyboard manager to turn it's self\n",
       "    // off when our div gets focus\n",
       "\n",
       "    // location in version 3\n",
       "    if (IPython.notebook.keyboard_manager) {\n",
       "        IPython.notebook.keyboard_manager.register_events(el);\n",
       "    }\n",
       "    else {\n",
       "        // location in version 2\n",
       "        IPython.keyboard_manager.register_events(el);\n",
       "    }\n",
       "\n",
       "}\n",
       "\n",
       "mpl.figure.prototype._key_event_extra = function(event, name) {\n",
       "    var manager = IPython.notebook.keyboard_manager;\n",
       "    if (!manager)\n",
       "        manager = IPython.keyboard_manager;\n",
       "\n",
       "    // Check for shift+enter\n",
       "    if (event.shiftKey && event.which == 13) {\n",
       "        this.canvas_div.blur();\n",
       "        // select the cell after this one\n",
       "        var index = IPython.notebook.find_cell_index(this.cell_info[0]);\n",
       "        IPython.notebook.select(index + 1);\n",
       "    }\n",
       "}\n",
       "\n",
       "mpl.figure.prototype.handle_save = function(fig, msg) {\n",
       "    fig.ondownload(fig, null);\n",
       "}\n",
       "\n",
       "\n",
       "mpl.find_output_cell = function(html_output) {\n",
       "    // Return the cell and output element which can be found *uniquely* in the notebook.\n",
       "    // Note - this is a bit hacky, but it is done because the \"notebook_saving.Notebook\"\n",
       "    // IPython event is triggered only after the cells have been serialised, which for\n",
       "    // our purposes (turning an active figure into a static one), is too late.\n",
       "    var cells = IPython.notebook.get_cells();\n",
       "    var ncells = cells.length;\n",
       "    for (var i=0; i<ncells; i++) {\n",
       "        var cell = cells[i];\n",
       "        if (cell.cell_type === 'code'){\n",
       "            for (var j=0; j<cell.output_area.outputs.length; j++) {\n",
       "                var data = cell.output_area.outputs[j];\n",
       "                if (data.data) {\n",
       "                    // IPython >= 3 moved mimebundle to data attribute of output\n",
       "                    data = data.data;\n",
       "                }\n",
       "                if (data['text/html'] == html_output) {\n",
       "                    return [cell, data, j];\n",
       "                }\n",
       "            }\n",
       "        }\n",
       "    }\n",
       "}\n",
       "\n",
       "// Register the function which deals with the matplotlib target/channel.\n",
       "// The kernel may be null if the page has been refreshed.\n",
       "if (IPython.notebook.kernel != null) {\n",
       "    IPython.notebook.kernel.comm_manager.register_target('matplotlib', mpl.mpl_figure_comm);\n",
       "}\n"
      ],
      "text/plain": [
       "<IPython.core.display.Javascript object>"
      ]
     },
     "metadata": {},
     "output_type": "display_data"
    },
    {
     "data": {
      "text/html": [
       "<img src=\"data:image/png;base64,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\" width=\"349.44445370156114\">"
      ],
      "text/plain": [
       "<IPython.core.display.HTML object>"
      ]
     },
     "metadata": {},
     "output_type": "display_data"
    }
   ],
   "source": [
    "fig3, ax3 = plt.subplots(figsize=figsize)"
   ]
  },
  {
   "cell_type": "code",
   "execution_count": 54,
   "metadata": {
    "collapsed": false,
    "extensions": {
     "jupyter_dashboards": {
      "version": 1,
      "views": {
       "grid_default": {
        "col": 6,
        "height": 12,
        "hidden": false,
        "row": 13,
        "width": 4
       },
       "report_default": {
        "hidden": false
       }
      }
     }
    }
   },
   "outputs": [
    {
     "data": {
      "application/javascript": [
       "/* Put everything inside the global mpl namespace */\n",
       "window.mpl = {};\n",
       "\n",
       "\n",
       "mpl.get_websocket_type = function() {\n",
       "    if (typeof(WebSocket) !== 'undefined') {\n",
       "        return WebSocket;\n",
       "    } else if (typeof(MozWebSocket) !== 'undefined') {\n",
       "        return MozWebSocket;\n",
       "    } else {\n",
       "        alert('Your browser does not have WebSocket support.' +\n",
       "              'Please try Chrome, Safari or Firefox ≥ 6. ' +\n",
       "              'Firefox 4 and 5 are also supported but you ' +\n",
       "              'have to enable WebSockets in about:config.');\n",
       "    };\n",
       "}\n",
       "\n",
       "mpl.figure = function(figure_id, websocket, ondownload, parent_element) {\n",
       "    this.id = figure_id;\n",
       "\n",
       "    this.ws = websocket;\n",
       "\n",
       "    this.supports_binary = (this.ws.binaryType != undefined);\n",
       "\n",
       "    if (!this.supports_binary) {\n",
       "        var warnings = document.getElementById(\"mpl-warnings\");\n",
       "        if (warnings) {\n",
       "            warnings.style.display = 'block';\n",
       "            warnings.textContent = (\n",
       "                \"This browser does not support binary websocket messages. \" +\n",
       "                    \"Performance may be slow.\");\n",
       "        }\n",
       "    }\n",
       "\n",
       "    this.imageObj = new Image();\n",
       "\n",
       "    this.context = undefined;\n",
       "    this.message = undefined;\n",
       "    this.canvas = undefined;\n",
       "    this.rubberband_canvas = undefined;\n",
       "    this.rubberband_context = undefined;\n",
       "    this.format_dropdown = undefined;\n",
       "\n",
       "    this.image_mode = 'full';\n",
       "\n",
       "    this.root = $('<div/>');\n",
       "    this._root_extra_style(this.root)\n",
       "    this.root.attr('style', 'display: inline-block');\n",
       "\n",
       "    $(parent_element).append(this.root);\n",
       "\n",
       "    this._init_header(this);\n",
       "    this._init_canvas(this);\n",
       "    this._init_toolbar(this);\n",
       "\n",
       "    var fig = this;\n",
       "\n",
       "    this.waiting = false;\n",
       "\n",
       "    this.ws.onopen =  function () {\n",
       "            fig.send_message(\"supports_binary\", {value: fig.supports_binary});\n",
       "            fig.send_message(\"send_image_mode\", {});\n",
       "            if (mpl.ratio != 1) {\n",
       "                fig.send_message(\"set_dpi_ratio\", {'dpi_ratio': mpl.ratio});\n",
       "            }\n",
       "            fig.send_message(\"refresh\", {});\n",
       "        }\n",
       "\n",
       "    this.imageObj.onload = function() {\n",
       "            if (fig.image_mode == 'full') {\n",
       "                // Full images could contain transparency (where diff images\n",
       "                // almost always do), so we need to clear the canvas so that\n",
       "                // there is no ghosting.\n",
       "                fig.context.clearRect(0, 0, fig.canvas.width, fig.canvas.height);\n",
       "            }\n",
       "            fig.context.drawImage(fig.imageObj, 0, 0);\n",
       "        };\n",
       "\n",
       "    this.imageObj.onunload = function() {\n",
       "        this.ws.close();\n",
       "    }\n",
       "\n",
       "    this.ws.onmessage = this._make_on_message_function(this);\n",
       "\n",
       "    this.ondownload = ondownload;\n",
       "}\n",
       "\n",
       "mpl.figure.prototype._init_header = function() {\n",
       "    var titlebar = $(\n",
       "        '<div class=\"ui-dialog-titlebar ui-widget-header ui-corner-all ' +\n",
       "        'ui-helper-clearfix\"/>');\n",
       "    var titletext = $(\n",
       "        '<div class=\"ui-dialog-title\" style=\"width: 100%; ' +\n",
       "        'text-align: center; padding: 3px;\"/>');\n",
       "    titlebar.append(titletext)\n",
       "    this.root.append(titlebar);\n",
       "    this.header = titletext[0];\n",
       "}\n",
       "\n",
       "\n",
       "\n",
       "mpl.figure.prototype._canvas_extra_style = function(canvas_div) {\n",
       "\n",
       "}\n",
       "\n",
       "\n",
       "mpl.figure.prototype._root_extra_style = function(canvas_div) {\n",
       "\n",
       "}\n",
       "\n",
       "mpl.figure.prototype._init_canvas = function() {\n",
       "    var fig = this;\n",
       "\n",
       "    var canvas_div = $('<div/>');\n",
       "\n",
       "    canvas_div.attr('style', 'position: relative; clear: both; outline: 0');\n",
       "\n",
       "    function canvas_keyboard_event(event) {\n",
       "        return fig.key_event(event, event['data']);\n",
       "    }\n",
       "\n",
       "    canvas_div.keydown('key_press', canvas_keyboard_event);\n",
       "    canvas_div.keyup('key_release', canvas_keyboard_event);\n",
       "    this.canvas_div = canvas_div\n",
       "    this._canvas_extra_style(canvas_div)\n",
       "    this.root.append(canvas_div);\n",
       "\n",
       "    var canvas = $('<canvas/>');\n",
       "    canvas.addClass('mpl-canvas');\n",
       "    canvas.attr('style', \"left: 0; top: 0; z-index: 0; outline: 0\")\n",
       "\n",
       "    this.canvas = canvas[0];\n",
       "    this.context = canvas[0].getContext(\"2d\");\n",
       "\n",
       "    var backingStore = this.context.backingStorePixelRatio ||\n",
       "\tthis.context.webkitBackingStorePixelRatio ||\n",
       "\tthis.context.mozBackingStorePixelRatio ||\n",
       "\tthis.context.msBackingStorePixelRatio ||\n",
       "\tthis.context.oBackingStorePixelRatio ||\n",
       "\tthis.context.backingStorePixelRatio || 1;\n",
       "\n",
       "    mpl.ratio = (window.devicePixelRatio || 1) / backingStore;\n",
       "\n",
       "    var rubberband = $('<canvas/>');\n",
       "    rubberband.attr('style', \"position: absolute; left: 0; top: 0; z-index: 1;\")\n",
       "\n",
       "    var pass_mouse_events = true;\n",
       "\n",
       "    canvas_div.resizable({\n",
       "        start: function(event, ui) {\n",
       "            pass_mouse_events = false;\n",
       "        },\n",
       "        resize: function(event, ui) {\n",
       "            fig.request_resize(ui.size.width, ui.size.height);\n",
       "        },\n",
       "        stop: function(event, ui) {\n",
       "            pass_mouse_events = true;\n",
       "            fig.request_resize(ui.size.width, ui.size.height);\n",
       "        },\n",
       "    });\n",
       "\n",
       "    function mouse_event_fn(event) {\n",
       "        if (pass_mouse_events)\n",
       "            return fig.mouse_event(event, event['data']);\n",
       "    }\n",
       "\n",
       "    rubberband.mousedown('button_press', mouse_event_fn);\n",
       "    rubberband.mouseup('button_release', mouse_event_fn);\n",
       "    // Throttle sequential mouse events to 1 every 20ms.\n",
       "    rubberband.mousemove('motion_notify', mouse_event_fn);\n",
       "\n",
       "    rubberband.mouseenter('figure_enter', mouse_event_fn);\n",
       "    rubberband.mouseleave('figure_leave', mouse_event_fn);\n",
       "\n",
       "    canvas_div.on(\"wheel\", function (event) {\n",
       "        event = event.originalEvent;\n",
       "        event['data'] = 'scroll'\n",
       "        if (event.deltaY < 0) {\n",
       "            event.step = 1;\n",
       "        } else {\n",
       "            event.step = -1;\n",
       "        }\n",
       "        mouse_event_fn(event);\n",
       "    });\n",
       "\n",
       "    canvas_div.append(canvas);\n",
       "    canvas_div.append(rubberband);\n",
       "\n",
       "    this.rubberband = rubberband;\n",
       "    this.rubberband_canvas = rubberband[0];\n",
       "    this.rubberband_context = rubberband[0].getContext(\"2d\");\n",
       "    this.rubberband_context.strokeStyle = \"#000000\";\n",
       "\n",
       "    this._resize_canvas = function(width, height) {\n",
       "        // Keep the size of the canvas, canvas container, and rubber band\n",
       "        // canvas in synch.\n",
       "        canvas_div.css('width', width)\n",
       "        canvas_div.css('height', height)\n",
       "\n",
       "        canvas.attr('width', width * mpl.ratio);\n",
       "        canvas.attr('height', height * mpl.ratio);\n",
       "        canvas.attr('style', 'width: ' + width + 'px; height: ' + height + 'px;');\n",
       "\n",
       "        rubberband.attr('width', width);\n",
       "        rubberband.attr('height', height);\n",
       "    }\n",
       "\n",
       "    // Set the figure to an initial 600x600px, this will subsequently be updated\n",
       "    // upon first draw.\n",
       "    this._resize_canvas(600, 600);\n",
       "\n",
       "    // Disable right mouse context menu.\n",
       "    $(this.rubberband_canvas).bind(\"contextmenu\",function(e){\n",
       "        return false;\n",
       "    });\n",
       "\n",
       "    function set_focus () {\n",
       "        canvas.focus();\n",
       "        canvas_div.focus();\n",
       "    }\n",
       "\n",
       "    window.setTimeout(set_focus, 100);\n",
       "}\n",
       "\n",
       "mpl.figure.prototype._init_toolbar = function() {\n",
       "    var fig = this;\n",
       "\n",
       "    var nav_element = $('<div/>')\n",
       "    nav_element.attr('style', 'width: 100%');\n",
       "    this.root.append(nav_element);\n",
       "\n",
       "    // Define a callback function for later on.\n",
       "    function toolbar_event(event) {\n",
       "        return fig.toolbar_button_onclick(event['data']);\n",
       "    }\n",
       "    function toolbar_mouse_event(event) {\n",
       "        return fig.toolbar_button_onmouseover(event['data']);\n",
       "    }\n",
       "\n",
       "    for(var toolbar_ind in mpl.toolbar_items) {\n",
       "        var name = mpl.toolbar_items[toolbar_ind][0];\n",
       "        var tooltip = mpl.toolbar_items[toolbar_ind][1];\n",
       "        var image = mpl.toolbar_items[toolbar_ind][2];\n",
       "        var method_name = mpl.toolbar_items[toolbar_ind][3];\n",
       "\n",
       "        if (!name) {\n",
       "            // put a spacer in here.\n",
       "            continue;\n",
       "        }\n",
       "        var button = $('<button/>');\n",
       "        button.addClass('ui-button ui-widget ui-state-default ui-corner-all ' +\n",
       "                        'ui-button-icon-only');\n",
       "        button.attr('role', 'button');\n",
       "        button.attr('aria-disabled', 'false');\n",
       "        button.click(method_name, toolbar_event);\n",
       "        button.mouseover(tooltip, toolbar_mouse_event);\n",
       "\n",
       "        var icon_img = $('<span/>');\n",
       "        icon_img.addClass('ui-button-icon-primary ui-icon');\n",
       "        icon_img.addClass(image);\n",
       "        icon_img.addClass('ui-corner-all');\n",
       "\n",
       "        var tooltip_span = $('<span/>');\n",
       "        tooltip_span.addClass('ui-button-text');\n",
       "        tooltip_span.html(tooltip);\n",
       "\n",
       "        button.append(icon_img);\n",
       "        button.append(tooltip_span);\n",
       "\n",
       "        nav_element.append(button);\n",
       "    }\n",
       "\n",
       "    var fmt_picker_span = $('<span/>');\n",
       "\n",
       "    var fmt_picker = $('<select/>');\n",
       "    fmt_picker.addClass('mpl-toolbar-option ui-widget ui-widget-content');\n",
       "    fmt_picker_span.append(fmt_picker);\n",
       "    nav_element.append(fmt_picker_span);\n",
       "    this.format_dropdown = fmt_picker[0];\n",
       "\n",
       "    for (var ind in mpl.extensions) {\n",
       "        var fmt = mpl.extensions[ind];\n",
       "        var option = $(\n",
       "            '<option/>', {selected: fmt === mpl.default_extension}).html(fmt);\n",
       "        fmt_picker.append(option)\n",
       "    }\n",
       "\n",
       "    // Add hover states to the ui-buttons\n",
       "    $( \".ui-button\" ).hover(\n",
       "        function() { $(this).addClass(\"ui-state-hover\");},\n",
       "        function() { $(this).removeClass(\"ui-state-hover\");}\n",
       "    );\n",
       "\n",
       "    var status_bar = $('<span class=\"mpl-message\"/>');\n",
       "    nav_element.append(status_bar);\n",
       "    this.message = status_bar[0];\n",
       "}\n",
       "\n",
       "mpl.figure.prototype.request_resize = function(x_pixels, y_pixels) {\n",
       "    // Request matplotlib to resize the figure. Matplotlib will then trigger a resize in the client,\n",
       "    // which will in turn request a refresh of the image.\n",
       "    this.send_message('resize', {'width': x_pixels, 'height': y_pixels});\n",
       "}\n",
       "\n",
       "mpl.figure.prototype.send_message = function(type, properties) {\n",
       "    properties['type'] = type;\n",
       "    properties['figure_id'] = this.id;\n",
       "    this.ws.send(JSON.stringify(properties));\n",
       "}\n",
       "\n",
       "mpl.figure.prototype.send_draw_message = function() {\n",
       "    if (!this.waiting) {\n",
       "        this.waiting = true;\n",
       "        this.ws.send(JSON.stringify({type: \"draw\", figure_id: this.id}));\n",
       "    }\n",
       "}\n",
       "\n",
       "\n",
       "mpl.figure.prototype.handle_save = function(fig, msg) {\n",
       "    var format_dropdown = fig.format_dropdown;\n",
       "    var format = format_dropdown.options[format_dropdown.selectedIndex].value;\n",
       "    fig.ondownload(fig, format);\n",
       "}\n",
       "\n",
       "\n",
       "mpl.figure.prototype.handle_resize = function(fig, msg) {\n",
       "    var size = msg['size'];\n",
       "    if (size[0] != fig.canvas.width || size[1] != fig.canvas.height) {\n",
       "        fig._resize_canvas(size[0], size[1]);\n",
       "        fig.send_message(\"refresh\", {});\n",
       "    };\n",
       "}\n",
       "\n",
       "mpl.figure.prototype.handle_rubberband = function(fig, msg) {\n",
       "    var x0 = msg['x0'] / mpl.ratio;\n",
       "    var y0 = (fig.canvas.height - msg['y0']) / mpl.ratio;\n",
       "    var x1 = msg['x1'] / mpl.ratio;\n",
       "    var y1 = (fig.canvas.height - msg['y1']) / mpl.ratio;\n",
       "    x0 = Math.floor(x0) + 0.5;\n",
       "    y0 = Math.floor(y0) + 0.5;\n",
       "    x1 = Math.floor(x1) + 0.5;\n",
       "    y1 = Math.floor(y1) + 0.5;\n",
       "    var min_x = Math.min(x0, x1);\n",
       "    var min_y = Math.min(y0, y1);\n",
       "    var width = Math.abs(x1 - x0);\n",
       "    var height = Math.abs(y1 - y0);\n",
       "\n",
       "    fig.rubberband_context.clearRect(\n",
       "        0, 0, fig.canvas.width, fig.canvas.height);\n",
       "\n",
       "    fig.rubberband_context.strokeRect(min_x, min_y, width, height);\n",
       "}\n",
       "\n",
       "mpl.figure.prototype.handle_figure_label = function(fig, msg) {\n",
       "    // Updates the figure title.\n",
       "    fig.header.textContent = msg['label'];\n",
       "}\n",
       "\n",
       "mpl.figure.prototype.handle_cursor = function(fig, msg) {\n",
       "    var cursor = msg['cursor'];\n",
       "    switch(cursor)\n",
       "    {\n",
       "    case 0:\n",
       "        cursor = 'pointer';\n",
       "        break;\n",
       "    case 1:\n",
       "        cursor = 'default';\n",
       "        break;\n",
       "    case 2:\n",
       "        cursor = 'crosshair';\n",
       "        break;\n",
       "    case 3:\n",
       "        cursor = 'move';\n",
       "        break;\n",
       "    }\n",
       "    fig.rubberband_canvas.style.cursor = cursor;\n",
       "}\n",
       "\n",
       "mpl.figure.prototype.handle_message = function(fig, msg) {\n",
       "    fig.message.textContent = msg['message'];\n",
       "}\n",
       "\n",
       "mpl.figure.prototype.handle_draw = function(fig, msg) {\n",
       "    // Request the server to send over a new figure.\n",
       "    fig.send_draw_message();\n",
       "}\n",
       "\n",
       "mpl.figure.prototype.handle_image_mode = function(fig, msg) {\n",
       "    fig.image_mode = msg['mode'];\n",
       "}\n",
       "\n",
       "mpl.figure.prototype.updated_canvas_event = function() {\n",
       "    // Called whenever the canvas gets updated.\n",
       "    this.send_message(\"ack\", {});\n",
       "}\n",
       "\n",
       "// A function to construct a web socket function for onmessage handling.\n",
       "// Called in the figure constructor.\n",
       "mpl.figure.prototype._make_on_message_function = function(fig) {\n",
       "    return function socket_on_message(evt) {\n",
       "        if (evt.data instanceof Blob) {\n",
       "            /* FIXME: We get \"Resource interpreted as Image but\n",
       "             * transferred with MIME type text/plain:\" errors on\n",
       "             * Chrome.  But how to set the MIME type?  It doesn't seem\n",
       "             * to be part of the websocket stream */\n",
       "            evt.data.type = \"image/png\";\n",
       "\n",
       "            /* Free the memory for the previous frames */\n",
       "            if (fig.imageObj.src) {\n",
       "                (window.URL || window.webkitURL).revokeObjectURL(\n",
       "                    fig.imageObj.src);\n",
       "            }\n",
       "\n",
       "            fig.imageObj.src = (window.URL || window.webkitURL).createObjectURL(\n",
       "                evt.data);\n",
       "            fig.updated_canvas_event();\n",
       "            fig.waiting = false;\n",
       "            return;\n",
       "        }\n",
       "        else if (typeof evt.data === 'string' && evt.data.slice(0, 21) == \"data:image/png;base64\") {\n",
       "            fig.imageObj.src = evt.data;\n",
       "            fig.updated_canvas_event();\n",
       "            fig.waiting = false;\n",
       "            return;\n",
       "        }\n",
       "\n",
       "        var msg = JSON.parse(evt.data);\n",
       "        var msg_type = msg['type'];\n",
       "\n",
       "        // Call the  \"handle_{type}\" callback, which takes\n",
       "        // the figure and JSON message as its only arguments.\n",
       "        try {\n",
       "            var callback = fig[\"handle_\" + msg_type];\n",
       "        } catch (e) {\n",
       "            console.log(\"No handler for the '\" + msg_type + \"' message type: \", msg);\n",
       "            return;\n",
       "        }\n",
       "\n",
       "        if (callback) {\n",
       "            try {\n",
       "                // console.log(\"Handling '\" + msg_type + \"' message: \", msg);\n",
       "                callback(fig, msg);\n",
       "            } catch (e) {\n",
       "                console.log(\"Exception inside the 'handler_\" + msg_type + \"' callback:\", e, e.stack, msg);\n",
       "            }\n",
       "        }\n",
       "    };\n",
       "}\n",
       "\n",
       "// from http://stackoverflow.com/questions/1114465/getting-mouse-location-in-canvas\n",
       "mpl.findpos = function(e) {\n",
       "    //this section is from http://www.quirksmode.org/js/events_properties.html\n",
       "    var targ;\n",
       "    if (!e)\n",
       "        e = window.event;\n",
       "    if (e.target)\n",
       "        targ = e.target;\n",
       "    else if (e.srcElement)\n",
       "        targ = e.srcElement;\n",
       "    if (targ.nodeType == 3) // defeat Safari bug\n",
       "        targ = targ.parentNode;\n",
       "\n",
       "    // jQuery normalizes the pageX and pageY\n",
       "    // pageX,Y are the mouse positions relative to the document\n",
       "    // offset() returns the position of the element relative to the document\n",
       "    var x = e.pageX - $(targ).offset().left;\n",
       "    var y = e.pageY - $(targ).offset().top;\n",
       "\n",
       "    return {\"x\": x, \"y\": y};\n",
       "};\n",
       "\n",
       "/*\n",
       " * return a copy of an object with only non-object keys\n",
       " * we need this to avoid circular references\n",
       " * http://stackoverflow.com/a/24161582/3208463\n",
       " */\n",
       "function simpleKeys (original) {\n",
       "  return Object.keys(original).reduce(function (obj, key) {\n",
       "    if (typeof original[key] !== 'object')\n",
       "        obj[key] = original[key]\n",
       "    return obj;\n",
       "  }, {});\n",
       "}\n",
       "\n",
       "mpl.figure.prototype.mouse_event = function(event, name) {\n",
       "    var canvas_pos = mpl.findpos(event)\n",
       "\n",
       "    if (name === 'button_press')\n",
       "    {\n",
       "        this.canvas.focus();\n",
       "        this.canvas_div.focus();\n",
       "    }\n",
       "\n",
       "    var x = canvas_pos.x * mpl.ratio;\n",
       "    var y = canvas_pos.y * mpl.ratio;\n",
       "\n",
       "    this.send_message(name, {x: x, y: y, button: event.button,\n",
       "                             step: event.step,\n",
       "                             guiEvent: simpleKeys(event)});\n",
       "\n",
       "    /* This prevents the web browser from automatically changing to\n",
       "     * the text insertion cursor when the button is pressed.  We want\n",
       "     * to control all of the cursor setting manually through the\n",
       "     * 'cursor' event from matplotlib */\n",
       "    event.preventDefault();\n",
       "    return false;\n",
       "}\n",
       "\n",
       "mpl.figure.prototype._key_event_extra = function(event, name) {\n",
       "    // Handle any extra behaviour associated with a key event\n",
       "}\n",
       "\n",
       "mpl.figure.prototype.key_event = function(event, name) {\n",
       "\n",
       "    // Prevent repeat events\n",
       "    if (name == 'key_press')\n",
       "    {\n",
       "        if (event.which === this._key)\n",
       "            return;\n",
       "        else\n",
       "            this._key = event.which;\n",
       "    }\n",
       "    if (name == 'key_release')\n",
       "        this._key = null;\n",
       "\n",
       "    var value = '';\n",
       "    if (event.ctrlKey && event.which != 17)\n",
       "        value += \"ctrl+\";\n",
       "    if (event.altKey && event.which != 18)\n",
       "        value += \"alt+\";\n",
       "    if (event.shiftKey && event.which != 16)\n",
       "        value += \"shift+\";\n",
       "\n",
       "    value += 'k';\n",
       "    value += event.which.toString();\n",
       "\n",
       "    this._key_event_extra(event, name);\n",
       "\n",
       "    this.send_message(name, {key: value,\n",
       "                             guiEvent: simpleKeys(event)});\n",
       "    return false;\n",
       "}\n",
       "\n",
       "mpl.figure.prototype.toolbar_button_onclick = function(name) {\n",
       "    if (name == 'download') {\n",
       "        this.handle_save(this, null);\n",
       "    } else {\n",
       "        this.send_message(\"toolbar_button\", {name: name});\n",
       "    }\n",
       "};\n",
       "\n",
       "mpl.figure.prototype.toolbar_button_onmouseover = function(tooltip) {\n",
       "    this.message.textContent = tooltip;\n",
       "};\n",
       "mpl.toolbar_items = [[\"Home\", \"Reset original view\", \"fa fa-home icon-home\", \"home\"], [\"Back\", \"Back to  previous view\", \"fa fa-arrow-left icon-arrow-left\", \"back\"], [\"Forward\", \"Forward to next view\", \"fa fa-arrow-right icon-arrow-right\", \"forward\"], [\"\", \"\", \"\", \"\"], [\"Pan\", \"Pan axes with left mouse, zoom with right\", \"fa fa-arrows icon-move\", \"pan\"], [\"Zoom\", \"Zoom to rectangle\", \"fa fa-square-o icon-check-empty\", \"zoom\"], [\"\", \"\", \"\", \"\"], [\"Download\", \"Download plot\", \"fa fa-floppy-o icon-save\", \"download\"]];\n",
       "\n",
       "mpl.extensions = [\"eps\", \"jpeg\", \"pdf\", \"png\", \"ps\", \"raw\", \"svg\", \"tif\"];\n",
       "\n",
       "mpl.default_extension = \"png\";var comm_websocket_adapter = function(comm) {\n",
       "    // Create a \"websocket\"-like object which calls the given IPython comm\n",
       "    // object with the appropriate methods. Currently this is a non binary\n",
       "    // socket, so there is still some room for performance tuning.\n",
       "    var ws = {};\n",
       "\n",
       "    ws.close = function() {\n",
       "        comm.close()\n",
       "    };\n",
       "    ws.send = function(m) {\n",
       "        //console.log('sending', m);\n",
       "        comm.send(m);\n",
       "    };\n",
       "    // Register the callback with on_msg.\n",
       "    comm.on_msg(function(msg) {\n",
       "        //console.log('receiving', msg['content']['data'], msg);\n",
       "        // Pass the mpl event to the overriden (by mpl) onmessage function.\n",
       "        ws.onmessage(msg['content']['data'])\n",
       "    });\n",
       "    return ws;\n",
       "}\n",
       "\n",
       "mpl.mpl_figure_comm = function(comm, msg) {\n",
       "    // This is the function which gets called when the mpl process\n",
       "    // starts-up an IPython Comm through the \"matplotlib\" channel.\n",
       "\n",
       "    var id = msg.content.data.id;\n",
       "    // Get hold of the div created by the display call when the Comm\n",
       "    // socket was opened in Python.\n",
       "    var element = $(\"#\" + id);\n",
       "    var ws_proxy = comm_websocket_adapter(comm)\n",
       "\n",
       "    function ondownload(figure, format) {\n",
       "        window.open(figure.imageObj.src);\n",
       "    }\n",
       "\n",
       "    var fig = new mpl.figure(id, ws_proxy,\n",
       "                           ondownload,\n",
       "                           element.get(0));\n",
       "\n",
       "    // Call onopen now - mpl needs it, as it is assuming we've passed it a real\n",
       "    // web socket which is closed, not our websocket->open comm proxy.\n",
       "    ws_proxy.onopen();\n",
       "\n",
       "    fig.parent_element = element.get(0);\n",
       "    fig.cell_info = mpl.find_output_cell(\"<div id='\" + id + \"'></div>\");\n",
       "    if (!fig.cell_info) {\n",
       "        console.error(\"Failed to find cell for figure\", id, fig);\n",
       "        return;\n",
       "    }\n",
       "\n",
       "    var output_index = fig.cell_info[2]\n",
       "    var cell = fig.cell_info[0];\n",
       "\n",
       "};\n",
       "\n",
       "mpl.figure.prototype.handle_close = function(fig, msg) {\n",
       "    var width = fig.canvas.width/mpl.ratio\n",
       "    fig.root.unbind('remove')\n",
       "\n",
       "    // Update the output cell to use the data from the current canvas.\n",
       "    fig.push_to_output();\n",
       "    var dataURL = fig.canvas.toDataURL();\n",
       "    // Re-enable the keyboard manager in IPython - without this line, in FF,\n",
       "    // the notebook keyboard shortcuts fail.\n",
       "    IPython.keyboard_manager.enable()\n",
       "    $(fig.parent_element).html('<img src=\"' + dataURL + '\" width=\"' + width + '\">');\n",
       "    fig.close_ws(fig, msg);\n",
       "}\n",
       "\n",
       "mpl.figure.prototype.close_ws = function(fig, msg){\n",
       "    fig.send_message('closing', msg);\n",
       "    // fig.ws.close()\n",
       "}\n",
       "\n",
       "mpl.figure.prototype.push_to_output = function(remove_interactive) {\n",
       "    // Turn the data on the canvas into data in the output cell.\n",
       "    var width = this.canvas.width/mpl.ratio\n",
       "    var dataURL = this.canvas.toDataURL();\n",
       "    this.cell_info[1]['text/html'] = '<img src=\"' + dataURL + '\" width=\"' + width + '\">';\n",
       "}\n",
       "\n",
       "mpl.figure.prototype.updated_canvas_event = function() {\n",
       "    // Tell IPython that the notebook contents must change.\n",
       "    IPython.notebook.set_dirty(true);\n",
       "    this.send_message(\"ack\", {});\n",
       "    var fig = this;\n",
       "    // Wait a second, then push the new image to the DOM so\n",
       "    // that it is saved nicely (might be nice to debounce this).\n",
       "    setTimeout(function () { fig.push_to_output() }, 1000);\n",
       "}\n",
       "\n",
       "mpl.figure.prototype._init_toolbar = function() {\n",
       "    var fig = this;\n",
       "\n",
       "    var nav_element = $('<div/>')\n",
       "    nav_element.attr('style', 'width: 100%');\n",
       "    this.root.append(nav_element);\n",
       "\n",
       "    // Define a callback function for later on.\n",
       "    function toolbar_event(event) {\n",
       "        return fig.toolbar_button_onclick(event['data']);\n",
       "    }\n",
       "    function toolbar_mouse_event(event) {\n",
       "        return fig.toolbar_button_onmouseover(event['data']);\n",
       "    }\n",
       "\n",
       "    for(var toolbar_ind in mpl.toolbar_items){\n",
       "        var name = mpl.toolbar_items[toolbar_ind][0];\n",
       "        var tooltip = mpl.toolbar_items[toolbar_ind][1];\n",
       "        var image = mpl.toolbar_items[toolbar_ind][2];\n",
       "        var method_name = mpl.toolbar_items[toolbar_ind][3];\n",
       "\n",
       "        if (!name) { continue; };\n",
       "\n",
       "        var button = $('<button class=\"btn btn-default\" href=\"#\" title=\"' + name + '\"><i class=\"fa ' + image + ' fa-lg\"></i></button>');\n",
       "        button.click(method_name, toolbar_event);\n",
       "        button.mouseover(tooltip, toolbar_mouse_event);\n",
       "        nav_element.append(button);\n",
       "    }\n",
       "\n",
       "    // Add the status bar.\n",
       "    var status_bar = $('<span class=\"mpl-message\" style=\"text-align:right; float: right;\"/>');\n",
       "    nav_element.append(status_bar);\n",
       "    this.message = status_bar[0];\n",
       "\n",
       "    // Add the close button to the window.\n",
       "    var buttongrp = $('<div class=\"btn-group inline pull-right\"></div>');\n",
       "    var button = $('<button class=\"btn btn-mini btn-primary\" href=\"#\" title=\"Stop Interaction\"><i class=\"fa fa-power-off icon-remove icon-large\"></i></button>');\n",
       "    button.click(function (evt) { fig.handle_close(fig, {}); } );\n",
       "    button.mouseover('Stop Interaction', toolbar_mouse_event);\n",
       "    buttongrp.append(button);\n",
       "    var titlebar = this.root.find($('.ui-dialog-titlebar'));\n",
       "    titlebar.prepend(buttongrp);\n",
       "}\n",
       "\n",
       "mpl.figure.prototype._root_extra_style = function(el){\n",
       "    var fig = this\n",
       "    el.on(\"remove\", function(){\n",
       "\tfig.close_ws(fig, {});\n",
       "    });\n",
       "}\n",
       "\n",
       "mpl.figure.prototype._canvas_extra_style = function(el){\n",
       "    // this is important to make the div 'focusable\n",
       "    el.attr('tabindex', 0)\n",
       "    // reach out to IPython and tell the keyboard manager to turn it's self\n",
       "    // off when our div gets focus\n",
       "\n",
       "    // location in version 3\n",
       "    if (IPython.notebook.keyboard_manager) {\n",
       "        IPython.notebook.keyboard_manager.register_events(el);\n",
       "    }\n",
       "    else {\n",
       "        // location in version 2\n",
       "        IPython.keyboard_manager.register_events(el);\n",
       "    }\n",
       "\n",
       "}\n",
       "\n",
       "mpl.figure.prototype._key_event_extra = function(event, name) {\n",
       "    var manager = IPython.notebook.keyboard_manager;\n",
       "    if (!manager)\n",
       "        manager = IPython.keyboard_manager;\n",
       "\n",
       "    // Check for shift+enter\n",
       "    if (event.shiftKey && event.which == 13) {\n",
       "        this.canvas_div.blur();\n",
       "        // select the cell after this one\n",
       "        var index = IPython.notebook.find_cell_index(this.cell_info[0]);\n",
       "        IPython.notebook.select(index + 1);\n",
       "    }\n",
       "}\n",
       "\n",
       "mpl.figure.prototype.handle_save = function(fig, msg) {\n",
       "    fig.ondownload(fig, null);\n",
       "}\n",
       "\n",
       "\n",
       "mpl.find_output_cell = function(html_output) {\n",
       "    // Return the cell and output element which can be found *uniquely* in the notebook.\n",
       "    // Note - this is a bit hacky, but it is done because the \"notebook_saving.Notebook\"\n",
       "    // IPython event is triggered only after the cells have been serialised, which for\n",
       "    // our purposes (turning an active figure into a static one), is too late.\n",
       "    var cells = IPython.notebook.get_cells();\n",
       "    var ncells = cells.length;\n",
       "    for (var i=0; i<ncells; i++) {\n",
       "        var cell = cells[i];\n",
       "        if (cell.cell_type === 'code'){\n",
       "            for (var j=0; j<cell.output_area.outputs.length; j++) {\n",
       "                var data = cell.output_area.outputs[j];\n",
       "                if (data.data) {\n",
       "                    // IPython >= 3 moved mimebundle to data attribute of output\n",
       "                    data = data.data;\n",
       "                }\n",
       "                if (data['text/html'] == html_output) {\n",
       "                    return [cell, data, j];\n",
       "                }\n",
       "            }\n",
       "        }\n",
       "    }\n",
       "}\n",
       "\n",
       "// Register the function which deals with the matplotlib target/channel.\n",
       "// The kernel may be null if the page has been refreshed.\n",
       "if (IPython.notebook.kernel != null) {\n",
       "    IPython.notebook.kernel.comm_manager.register_target('matplotlib', mpl.mpl_figure_comm);\n",
       "}\n"
      ],
      "text/plain": [
       "<IPython.core.display.Javascript object>"
      ]
     },
     "metadata": {},
     "output_type": "display_data"
    },
    {
     "data": {
      "text/html": [
       "<img src=\"data:image/png;base64,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\" width=\"349.44445370156114\">"
      ],
      "text/plain": [
       "<IPython.core.display.HTML object>"
      ]
     },
     "metadata": {},
     "output_type": "display_data"
    }
   ],
   "source": [
    "fig4, ax4 = plt.subplots(figsize=figsize)"
   ]
  },
  {
   "cell_type": "code",
   "execution_count": 55,
   "metadata": {
    "collapsed": true,
    "extensions": {
     "jupyter_dashboards": {
      "version": 1,
      "views": {
       "grid_default": {
        "hidden": true
       },
       "report_default": {}
      }
     }
    }
   },
   "outputs": [],
   "source": [
    "for fig in [fig1, fig2, fig3, fig4]:\n",
    "    fig.subplots_adjust(left=0.2, bottom=0.2)"
   ]
  },
  {
   "cell_type": "code",
   "execution_count": 56,
   "metadata": {
    "collapsed": false,
    "extensions": {
     "jupyter_dashboards": {
      "version": 1,
      "views": {
       "grid_default": {
        "col": 0,
        "height": 4,
        "hidden": false,
        "row": 37,
        "width": 4
       },
       "report_default": {
        "hidden": true
       }
      }
     }
    }
   },
   "outputs": [],
   "source": [
    "AXES = OrderedDict(ax1=ax1, ax2=ax2, ax3=ax3, ax4=ax4)"
   ]
  },
  {
   "cell_type": "code",
   "execution_count": 57,
   "metadata": {
    "collapsed": false,
    "deletable": true,
    "editable": true,
    "extensions": {
     "jupyter_dashboards": {
      "version": 1,
      "views": {
       "grid_default": {
        "col": 0,
        "height": 2,
        "hidden": false,
        "row": 25,
        "width": 10
       },
       "report_default": {
        "hidden": false
       }
      }
     }
    }
   },
   "outputs": [
    {
     "data": {
      "application/vnd.jupyter.widget-view+json": {
       "model_id": "3241cd5f0e284785a3e2dc75da8ec615"
      }
     },
     "metadata": {},
     "output_type": "display_data"
    }
   ],
   "source": [
    "message_widget"
   ]
  }
 ],
 "metadata": {
  "anaconda-cloud": {},
  "extensions": {
   "jupyter_dashboards": {
    "activeView": "grid_default",
    "version": 1,
    "views": {
     "grid_default": {
      "cellMargin": 10,
      "defaultCellHeight": 20,
      "maxColumns": 12,
      "name": "grid",
      "type": "grid"
     },
     "report_default": {
      "name": "report",
      "type": "report"
     }
    }
   }
  },
  "kernelspec": {
   "display_name": "Python 3",
   "language": "python",
   "name": "python3"
  },
  "language_info": {
   "codemirror_mode": {
    "name": "ipython",
    "version": 3
   },
   "file_extension": ".py",
   "mimetype": "text/x-python",
   "name": "python",
   "nbconvert_exporter": "python",
   "pygments_lexer": "ipython3",
   "version": "3.6.1"
  },
  "widgets": {
   "state": {
    "072bfd30733740398edd54e2c2165cbb": {
     "views": [
      {
       "cell_index": 11
      }
     ]
    },
    "0793123681d6437783ccdfe37f54fc63": {
     "views": [
      {
       "cell_index": 13
      }
     ]
    },
    "0a1f4028fc554878aff20ee0eb83470c": {
     "views": [
      {
       "cell_index": 9
      }
     ]
    },
    "0d39d0003dbe48ad81e81483c8cc67c4": {
     "views": [
      {
       "cell_index": 11
      }
     ]
    },
    "0e24ac5a30344da5b43c070a50a71477": {
     "views": [
      {
       "cell_index": 13
      }
     ]
    },
    "0e51ed610cef4ca49f6b3f1f207cb6df": {
     "views": [
      {
       "cell_index": 13
      }
     ]
    },
    "0ef17a7e30974192b00cccefb8924b7b": {
     "views": [
      {
       "cell_index": 13
      }
     ]
    },
    "145266230418484ea96fa9d3b4128623": {
     "views": [
      {
       "cell_index": 13
      }
     ]
    },
    "18a7f55d93884402b63d3472fc144e51": {
     "views": [
      {
       "cell_index": 5
      }
     ]
    },
    "24439e668f05443fbbc1602c843b9a88": {
     "views": [
      {
       "cell_index": 11
      }
     ]
    },
    "2467612db6894164a7e426f5819087dc": {
     "views": [
      {
       "cell_index": 11
      }
     ]
    },
    "2508ba11b2214f70b39330a0b77ac5b6": {
     "views": [
      {
       "cell_index": 9
      }
     ]
    },
    "253282e7222b4118828cb7767a8c71ec": {
     "views": [
      {
       "cell_index": 11
      }
     ]
    },
    "28e4749716d2426fa5c1580ebbe8d2be": {
     "views": [
      {
       "cell_index": 7
      }
     ]
    },
    "2991451571b64014b037b4f0488e5ae0": {
     "views": [
      {
       "cell_index": 11
      }
     ]
    },
    "2c1062f573fc487c89b6e8d9613dc482": {
     "views": [
      {
       "cell_index": 5
      }
     ]
    },
    "2ec61f20e0d045f1b6c2fc2aee65893d": {
     "views": [
      {
       "cell_index": 7
      }
     ]
    },
    "2f79bed956bf47deb19b683b868d17bd": {
     "views": [
      {
       "cell_index": 13
      }
     ]
    },
    "315a2cc2f84941e18a7b6094708e7e0b": {
     "views": [
      {
       "cell_index": 15
      }
     ]
    },
    "375105929e714f509b17b1810629237b": {
     "views": [
      {
       "cell_index": 15
      }
     ]
    },
    "43addfc9ce1348399416e2d0741acef2": {
     "views": [
      {
       "cell_index": 7
      }
     ]
    },
    "46fe2f73bb7243419262124cda7b8b32": {
     "views": [
      {
       "cell_index": 13
      }
     ]
    },
    "47df274aadde46a092c890bd428da28f": {
     "views": [
      {
       "cell_index": 5
      }
     ]
    },
    "49070fb467044ddd967043b0442c0d73": {
     "views": [
      {
       "cell_index": 5
      }
     ]
    },
    "4ebbdf87b2c94ffdb4eadf5fe8ba3e74": {
     "views": [
      {
       "cell_index": 13
      }
     ]
    },
    "4f90bc63f05c45cca672e054376706bd": {
     "views": [
      {
       "cell_index": 7
      }
     ]
    },
    "52830e9759864db88c41df0f6ff0cb9e": {
     "views": [
      {
       "cell_index": 7
      }
     ]
    },
    "55d5a833bf2947389069bf3719b00a95": {
     "views": [
      {
       "cell_index": 9
      },
      {
       "cell_index": 9
      }
     ]
    },
    "56a523424b154f66981b9bf9f71252ac": {
     "views": [
      {
       "cell_index": 13
      }
     ]
    },
    "57b102675c1743f9a7b13d78ca89bc9f": {
     "views": [
      {
       "cell_index": 15
      }
     ]
    },
    "5c3d8fd13866450bba11969f63118cbb": {
     "views": [
      {
       "cell_index": 7
      }
     ]
    },
    "5da527c5eab14d6caa1de6cee4d51b75": {
     "views": [
      {
       "cell_index": 5
      }
     ]
    },
    "60d2804264174a438d8b4d60eb5910ab": {
     "views": [
      {
       "cell_index": 15
      }
     ]
    },
    "62524d30d1dc476293483229a3c6dde9": {
     "views": [
      {
       "cell_index": 7
      }
     ]
    },
    "62dc47814b574356b4549a5377fbc1a7": {
     "views": [
      {
       "cell_index": 9
      }
     ]
    },
    "6305515d0be34e04b1ac00de6fb0829f": {
     "views": [
      {
       "cell_index": 9
      }
     ]
    },
    "6c395a3e8eb54280b4c42bfe63a6b879": {
     "views": [
      {
       "cell_index": 9
      }
     ]
    },
    "6ea0234ccfe24e67b2bd268010947ab1": {
     "views": [
      {
       "cell_index": 5
      }
     ]
    },
    "704b9c734ce24350a61b2eff9465eafe": {
     "views": [
      {
       "cell_index": 7
      }
     ]
    },
    "73d0b7e2b2ec44b8b95081be684840c2": {
     "views": [
      {
       "cell_index": 15
      }
     ]
    },
    "74d5f279cd1d447e9e662c52af3a31a1": {
     "views": [
      {
       "cell_index": 5
      }
     ]
    },
    "75b1e90c83c340d0aed738d7d999ef7a": {
     "views": [
      {
       "cell_index": 7
      }
     ]
    },
    "78e8c5db6db249078b371e98da3955cf": {
     "views": [
      {
       "cell_index": 15
      }
     ]
    },
    "7972b050f8114b928d8d460b3b4481ea": {
     "views": [
      {
       "cell_index": 13
      }
     ]
    },
    "798ccdc0ba724c298c83556f6d0e02f0": {
     "views": [
      {
       "cell_index": 13
      }
     ]
    },
    "79ab9ce45a3e4437b607f77ab8d17032": {
     "views": [
      {
       "cell_index": 5
      }
     ]
    },
    "7c26d3479cae4a8b906adebc238514f7": {
     "views": [
      {
       "cell_index": 7
      }
     ]
    },
    "81138056395745ec8f808c533abacf7a": {
     "views": [
      {
       "cell_index": 7
      }
     ]
    },
    "8251118f21f54e5bb6fe1ad2378823ad": {
     "views": [
      {
       "cell_index": 9
      }
     ]
    },
    "83d48138ddfb43f59075ab1e6011fa4c": {
     "views": [
      {
       "cell_index": 9
      },
      {
       "cell_index": 9
      }
     ]
    },
    "84d8aba2d297474b97f2663ad0ef4e6c": {
     "views": [
      {
       "cell_index": 5
      }
     ]
    },
    "85b6cc04f0924de0a723cb427daf3061": {
     "views": [
      {
       "cell_index": 7
      },
      {
       "cell_index": 7
      }
     ]
    },
    "876da6b70ef048a3ae149ad7c54d2341": {
     "views": [
      {
       "cell_index": 5
      }
     ]
    },
    "8b43f85af6964447a093dd191adc8e45": {
     "views": [
      {
       "cell_index": 13
      }
     ]
    },
    "8c6c7bf465b84f3882a11386bdda79eb": {
     "views": [
      {
       "cell_index": 13
      }
     ]
    },
    "8cb06536168548d2a81fd9db19a3d2ab": {
     "views": [
      {
       "cell_index": 5
      }
     ]
    },
    "9329e6d12cbf4b98bc4b73b44b1504f7": {
     "views": [
      {
       "cell_index": 15
      }
     ]
    },
    "947d88807a9643159e47aa95e598c8c0": {
     "views": [
      {
       "cell_index": 5
      },
      {
       "cell_index": 5
      }
     ]
    },
    "97dcde95ad7d406dbff4aa211fec3fb0": {
     "views": [
      {
       "cell_index": 5
      },
      {
       "cell_index": 7
      }
     ]
    },
    "9bf45338e8134500b5440b0e80873f93": {
     "views": [
      {
       "cell_index": 9
      },
      {
       "cell_index": 9
      },
      {
       "cell_index": 9
      }
     ]
    },
    "a43b4bc6dbba4bf8ae0c28cfad8351f6": {
     "views": [
      {
       "cell_index": 7
      }
     ]
    },
    "a6de0ef2cd2d4590a33f2def2046e3c2": {
     "views": [
      {
       "cell_index": 13
      }
     ]
    },
    "a7f0a66af9474ae1b290f7a0cd3b7193": {
     "views": [
      {
       "cell_index": 15
      }
     ]
    },
    "a9fc1ffe96674ea3abcb849c302e9430": {
     "views": [
      {
       "cell_index": 13
      }
     ]
    },
    "abfed95e42b24cba9f848dfbcf6e23ed": {
     "views": [
      {
       "cell_index": 11
      }
     ]
    },
    "adeedc8c420449bb9fe1153ccf33e976": {
     "views": [
      {
       "cell_index": 5
      }
     ]
    },
    "b00afb7bd01e486bbb4bc4ccdcba1cb8": {
     "views": [
      {
       "cell_index": 7
      }
     ]
    },
    "b3748a3712ad43c2b6ed1c67a5ebeb88": {
     "views": [
      {
       "cell_index": 7
      }
     ]
    },
    "b48b905cbd73479390d2f7c8c1e31cb4": {
     "views": [
      {
       "cell_index": 13
      }
     ]
    },
    "ba093135995d45f6ac824d888debfb99": {
     "views": [
      {
       "cell_index": 7
      }
     ]
    },
    "bb48841d0d7040eb8cc49f3a49f00f93": {
     "views": [
      {
       "cell_index": 7
      }
     ]
    },
    "bd3a06860c4748b6abaec76a5c8665a8": {
     "views": [
      {
       "cell_index": 15
      }
     ]
    },
    "bf4820f2b6944835963555c6933b7da5": {
     "views": [
      {
       "cell_index": 9
      }
     ]
    },
    "c0e94fe70c9d4afb913323fc66e83f17": {
     "views": [
      {
       "cell_index": 13
      }
     ]
    },
    "c3f6543368474aa8b230d11fd60a0dbb": {
     "views": [
      {
       "cell_index": 5
      }
     ]
    },
    "c5e81abf2ce2499da098efb13901d5c0": {
     "views": [
      {
       "cell_index": 7
      }
     ]
    },
    "c9b39c116d4e46e8a8f83200f26a036c": {
     "views": [
      {
       "cell_index": 5
      }
     ]
    },
    "cc5fae9507634c1ba64cc3afcced984a": {
     "views": [
      {
       "cell_index": 7
      }
     ]
    },
    "ceddeab51ad04e90b5dd6eefe3090af3": {
     "views": [
      {
       "cell_index": 5
      }
     ]
    },
    "d116b8ad5212410e8a09dc67ed9cb24e": {
     "views": [
      {
       "cell_index": 7
      }
     ]
    },
    "d4f852ce5ca745cc9e86e108299b531c": {
     "views": [
      {
       "cell_index": 15
      }
     ]
    },
    "d5c51513b24245d280de3294ff5fea45": {
     "views": [
      {
       "cell_index": 15
      }
     ]
    },
    "d9cd0839d97b4f4187a76919d6fcc6b2": {
     "views": [
      {
       "cell_index": 9
      }
     ]
    },
    "db19910c97394bcca0f298a3b2201c53": {
     "views": [
      {
       "cell_index": 5
      }
     ]
    },
    "de3a47b0d94e436b97bd5b9d37733db3": {
     "views": [
      {
       "cell_index": 11
      }
     ]
    },
    "e3ee9c119cbd47c0814d69d2e4276abc": {
     "views": [
      {
       "cell_index": 5
      }
     ]
    },
    "e6c446e766974ea5b34ea4ebaba5fdf6": {
     "views": [
      {
       "cell_index": 9
      }
     ]
    },
    "e973fa5688de40c5b0ae89bd7d2eb59b": {
     "views": [
      {
       "cell_index": 13
      }
     ]
    },
    "eb2628ae591b4ed8a452ea89aab430cc": {
     "views": [
      {
       "cell_index": 5
      }
     ]
    },
    "ebfbd6435b634b588ebebc0d8f4cdcdb": {
     "views": [
      {
       "cell_index": 5
      }
     ]
    },
    "ee1bb684c0f8410eb678142c8156f004": {
     "views": [
      {
       "cell_index": 11
      }
     ]
    },
    "f275a7f5665c402486089eb26b0e9c5f": {
     "views": [
      {
       "cell_index": 15
      }
     ]
    },
    "f375841d7b044d6ca1fa2c7d8cd589b3": {
     "views": [
      {
       "cell_index": 13
      }
     ]
    },
    "f5dee7eebe2e48a6b519a21c3886e5bc": {
     "views": [
      {
       "cell_index": 7
      }
     ]
    },
    "f8544638599d43ae87c0ef947b650f63": {
     "views": [
      {
       "cell_index": 11
      }
     ]
    },
    "f87b1243bb4d4e8fa729c32b9267a617": {
     "views": [
      {
       "cell_index": 5
      }
     ]
    }
   },
   "version": "1.2.0"
  }
 },
 "nbformat": 4,
 "nbformat_minor": 1
}
